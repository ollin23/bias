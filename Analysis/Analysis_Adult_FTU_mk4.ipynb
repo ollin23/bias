{
 "cells": [
  {
   "cell_type": "markdown",
   "id": "1b98ac08",
   "metadata": {},
   "source": [
    "# Adult Income FTU Model Bias Analysis\n",
    "mk4"
   ]
  },
  {
   "cell_type": "markdown",
   "id": "7cc56e38",
   "metadata": {},
   "source": [
    "### 1) Dependencies\n",
    "### 2) Custom Functions\n",
    "### 3) Import Data\n",
    "### 4) Bias Analysis"
   ]
  },
  {
   "cell_type": "markdown",
   "id": "2e4015b9",
   "metadata": {},
   "source": [
    "## Import Dependencies"
   ]
  },
  {
   "cell_type": "code",
   "execution_count": 1,
   "id": "b0a650b5",
   "metadata": {},
   "outputs": [],
   "source": [
    "# !pip install researchpy"
   ]
  },
  {
   "cell_type": "code",
   "execution_count": 2,
   "id": "e6fab239",
   "metadata": {},
   "outputs": [],
   "source": [
    "import pandas as pd\n",
    "import numpy as np\n",
    "import matplotlib.pyplot as plt\n",
    "import seaborn as sns"
   ]
  },
  {
   "cell_type": "code",
   "execution_count": 3,
   "id": "1b982d64",
   "metadata": {},
   "outputs": [],
   "source": [
    "import warnings\n",
    "import math\n",
    "import os"
   ]
  },
  {
   "cell_type": "code",
   "execution_count": 4,
   "id": "9e8f6b4b",
   "metadata": {},
   "outputs": [],
   "source": [
    "from dataclasses import dataclass\n",
    "from sklearn.metrics import confusion_matrix"
   ]
  },
  {
   "cell_type": "code",
   "execution_count": 5,
   "id": "aa3b4556",
   "metadata": {},
   "outputs": [],
   "source": [
    "warnings.filterwarnings('ignore')\n",
    "\n",
    "%matplotlib inline"
   ]
  },
  {
   "cell_type": "code",
   "execution_count": 6,
   "id": "6715839a",
   "metadata": {},
   "outputs": [],
   "source": [
    "pd.options.display.max_columns = 250\n",
    "pd.options.display.max_rows = 250"
   ]
  },
  {
   "cell_type": "markdown",
   "id": "842941e4",
   "metadata": {},
   "source": [
    "# Custom functions"
   ]
  },
  {
   "cell_type": "markdown",
   "id": "05beaca2",
   "metadata": {},
   "source": [
    "#### Custom Save"
   ]
  },
  {
   "cell_type": "code",
   "execution_count": 7,
   "id": "7599264c",
   "metadata": {},
   "outputs": [],
   "source": [
    "def custom_save(name, data, kind=1):\n",
    "    '''\n",
    "    name : string\n",
    "        designated filename\n",
    "    data : data or pytorch model\n",
    "        the data to save\n",
    "    kind : int\n",
    "        sentinel value - 1 if pytorch model, 0 otherwise\n",
    "    \n",
    "    custom_save stores the data passed into the function into a file with the provided name\n",
    "    '''\n",
    "    \n",
    "    if kind == 1:\n",
    "        ex = \".pth\"\n",
    "    else:\n",
    "        ex = \".parquet\"\n",
    "    \n",
    "    sentinel = True\n",
    "    i = 1\n",
    "\n",
    "    while sentinel:\n",
    "        dirlist = os.listdir()\n",
    "\n",
    "        if name not in dirlist:\n",
    "            if kind == 1:\n",
    "                torch.save(data, name)\n",
    "            else:\n",
    "                data.to_parquet(name)\n",
    "            print(f\"{name} has been saved.\")                \n",
    "            sentinel = False\n",
    "        if name in dirlist:\n",
    "            print(f\"{name} already exists.\", end=\" \")\n",
    "            temp, ext = name.split(ex)\n",
    "            if \"_v\" in temp:\n",
    "                temp, _ = temp.split(\"_v\")\n",
    "            name = f\"{temp}_v{i}{ex}\"\n",
    "            i = i + 1\n",
    "            print(f\"Changing file name to: {name}\")"
   ]
  },
  {
   "cell_type": "markdown",
   "id": "ee0a4c91",
   "metadata": {},
   "source": [
    "#### Dataclass for confusion matrix results"
   ]
  },
  {
   "cell_type": "code",
   "execution_count": 8,
   "id": "1675b590",
   "metadata": {},
   "outputs": [],
   "source": [
    "@dataclass\n",
    "class cmatrix:\n",
    "    name: str\n",
    "    TP: int\n",
    "    FP: int\n",
    "    TN: int\n",
    "    FN: int    \n",
    "    PPV: float\n",
    "    TPR: float\n",
    "    FDR: float\n",
    "    FPR: float\n",
    "    FOR: float\n",
    "    FNR: float\n",
    "    NPV: float\n",
    "    TNR: float"
   ]
  },
  {
   "cell_type": "markdown",
   "id": "67377e53",
   "metadata": {},
   "source": [
    "#### Helper function to generate dataclass _cmatrix_"
   ]
  },
  {
   "cell_type": "code",
   "execution_count": 9,
   "id": "3cbcc121",
   "metadata": {},
   "outputs": [],
   "source": [
    "def gen_dataclass(actual, pred, name):\n",
    "    [TN, FP, FN, TP] = confusion_matrix(actual, pred).ravel()\n",
    "    \n",
    "\n",
    "    PPV = TP / (TP + FP)  # positive predictive value\n",
    "    FDR = FP / (TP + FP)  # false discovery rate\n",
    "    \n",
    "    TPR = TP / (TP + FN)  # true positive rate\n",
    "    FNR = FN / (TP + FN)  # false negative rate\n",
    "    \n",
    "    TNR = TN / (TN + FP)  # true negative rate\n",
    "    FPR = FP / (TN + FP)  # false positive rate\n",
    "\n",
    "    FOR = FN / (TN + FN)  # false omission rate\n",
    "    NPV = TN / (TN + FN)  # negative predictive value\n",
    "\n",
    "    \n",
    "    return cmatrix(name, TP, FP, TN, FN, PPV, TPR, FDR, FPR, FOR, FNR, NPV, TNR)"
   ]
  },
  {
   "cell_type": "markdown",
   "id": "7564e947",
   "metadata": {},
   "source": [
    "#### Extract bias metrics"
   ]
  },
  {
   "cell_type": "code",
   "execution_count": 10,
   "id": "cfaba417",
   "metadata": {},
   "outputs": [],
   "source": [
    "def bias_metrics(df):\n",
    "    '''\n",
    "    - takes dataframe as input\n",
    "    - returns dataclass whose components are statistical measures from a confusion matrix\n",
    "    particular to relu, tanh, elu, and leaky relu dataframe series\n",
    "    '''\n",
    "    actual = df.target.values\n",
    "    relu = df.pred_relu.values\n",
    "    tanh = df.pred_tanh.values\n",
    "    elu = df.pred_elu.values\n",
    "    leaky = df.pred_leaky.values\n",
    "    \n",
    "    relu = gen_dataclass(actual, relu, \"relu\")\n",
    "    tanh = gen_dataclass(actual, tanh, \"tanh\")\n",
    "    elu = gen_dataclass(actual, elu, \"elu\")\n",
    "    leaky = gen_dataclass(actual, leaky, \"leaky\")\n",
    "    \n",
    "    return relu, tanh, elu, leaky"
   ]
  },
  {
   "cell_type": "markdown",
   "id": "51902b24",
   "metadata": {},
   "source": [
    "# Import Data"
   ]
  },
  {
   "cell_type": "code",
   "execution_count": 11,
   "id": "0e72e199",
   "metadata": {},
   "outputs": [],
   "source": [
    "data = pd.read_parquet(\"adult_results_mk5_FTU_v2.parquet\")\n",
    "\n",
    "source = \"Adult Income_FTU\"\n",
    "suffix = \"mk4\"\n",
    "name = f\"{source}_stats_{suffix}.parquet\"\n",
    "tag = [\"Ground\", \"Group A\", \"Group B\"]"
   ]
  },
  {
   "cell_type": "code",
   "execution_count": 12,
   "id": "b52edcff",
   "metadata": {},
   "outputs": [
    {
     "data": {
      "text/html": [
       "<div>\n",
       "<style scoped>\n",
       "    .dataframe tbody tr th:only-of-type {\n",
       "        vertical-align: middle;\n",
       "    }\n",
       "\n",
       "    .dataframe tbody tr th {\n",
       "        vertical-align: top;\n",
       "    }\n",
       "\n",
       "    .dataframe thead th {\n",
       "        text-align: right;\n",
       "    }\n",
       "</style>\n",
       "<table border=\"1\" class=\"dataframe\">\n",
       "  <thead>\n",
       "    <tr style=\"text-align: right;\">\n",
       "      <th></th>\n",
       "      <th>age</th>\n",
       "      <th>fnlwgt</th>\n",
       "      <th>education-num</th>\n",
       "      <th>capital-gain</th>\n",
       "      <th>capital-loss</th>\n",
       "      <th>hours-per-week</th>\n",
       "      <th>workclass_ ?</th>\n",
       "      <th>workclass_ Federal-gov</th>\n",
       "      <th>workclass_ Local-gov</th>\n",
       "      <th>workclass_ Never-worked</th>\n",
       "      <th>workclass_ Private</th>\n",
       "      <th>workclass_ Self-emp-inc</th>\n",
       "      <th>workclass_ Self-emp-not-inc</th>\n",
       "      <th>workclass_ State-gov</th>\n",
       "      <th>workclass_ Without-pay</th>\n",
       "      <th>education_ 10th</th>\n",
       "      <th>education_ 11th</th>\n",
       "      <th>education_ 12th</th>\n",
       "      <th>education_ 1st-4th</th>\n",
       "      <th>education_ 5th-6th</th>\n",
       "      <th>education_ 7th-8th</th>\n",
       "      <th>education_ 9th</th>\n",
       "      <th>education_ Assoc-acdm</th>\n",
       "      <th>education_ Assoc-voc</th>\n",
       "      <th>education_ Bachelors</th>\n",
       "      <th>education_ Doctorate</th>\n",
       "      <th>education_ HS-grad</th>\n",
       "      <th>education_ Masters</th>\n",
       "      <th>education_ Preschool</th>\n",
       "      <th>education_ Prof-school</th>\n",
       "      <th>education_ Some-college</th>\n",
       "      <th>marital-status_ Divorced</th>\n",
       "      <th>marital-status_ Married-AF-spouse</th>\n",
       "      <th>marital-status_ Married-civ-spouse</th>\n",
       "      <th>marital-status_ Married-spouse-absent</th>\n",
       "      <th>marital-status_ Never-married</th>\n",
       "      <th>marital-status_ Separated</th>\n",
       "      <th>marital-status_ Widowed</th>\n",
       "      <th>occupation_ ?</th>\n",
       "      <th>occupation_ Adm-clerical</th>\n",
       "      <th>occupation_ Armed-Forces</th>\n",
       "      <th>occupation_ Craft-repair</th>\n",
       "      <th>occupation_ Exec-managerial</th>\n",
       "      <th>occupation_ Farming-fishing</th>\n",
       "      <th>occupation_ Handlers-cleaners</th>\n",
       "      <th>occupation_ Machine-op-inspct</th>\n",
       "      <th>occupation_ Other-service</th>\n",
       "      <th>occupation_ Priv-house-serv</th>\n",
       "      <th>occupation_ Prof-specialty</th>\n",
       "      <th>occupation_ Protective-serv</th>\n",
       "      <th>occupation_ Sales</th>\n",
       "      <th>occupation_ Tech-support</th>\n",
       "      <th>occupation_ Transport-moving</th>\n",
       "      <th>relationship_ Husband</th>\n",
       "      <th>relationship_ Not-in-family</th>\n",
       "      <th>relationship_ Other-relative</th>\n",
       "      <th>relationship_ Own-child</th>\n",
       "      <th>relationship_ Unmarried</th>\n",
       "      <th>relationship_ Wife</th>\n",
       "      <th>race_ Amer-Indian-Eskimo</th>\n",
       "      <th>race_ Asian-Pac-Islander</th>\n",
       "      <th>race_ Black</th>\n",
       "      <th>race_ Other</th>\n",
       "      <th>race_ White</th>\n",
       "      <th>native-country_ ?</th>\n",
       "      <th>native-country_ Cambodia</th>\n",
       "      <th>native-country_ Canada</th>\n",
       "      <th>native-country_ China</th>\n",
       "      <th>native-country_ Columbia</th>\n",
       "      <th>native-country_ Cuba</th>\n",
       "      <th>native-country_ Dominican-Republic</th>\n",
       "      <th>native-country_ Ecuador</th>\n",
       "      <th>native-country_ El-Salvador</th>\n",
       "      <th>native-country_ England</th>\n",
       "      <th>native-country_ France</th>\n",
       "      <th>native-country_ Germany</th>\n",
       "      <th>native-country_ Greece</th>\n",
       "      <th>native-country_ Guatemala</th>\n",
       "      <th>native-country_ Haiti</th>\n",
       "      <th>native-country_ Holand-Netherlands</th>\n",
       "      <th>native-country_ Honduras</th>\n",
       "      <th>native-country_ Hong</th>\n",
       "      <th>native-country_ Hungary</th>\n",
       "      <th>native-country_ India</th>\n",
       "      <th>native-country_ Iran</th>\n",
       "      <th>native-country_ Ireland</th>\n",
       "      <th>native-country_ Italy</th>\n",
       "      <th>native-country_ Jamaica</th>\n",
       "      <th>native-country_ Japan</th>\n",
       "      <th>native-country_ Laos</th>\n",
       "      <th>native-country_ Mexico</th>\n",
       "      <th>native-country_ Nicaragua</th>\n",
       "      <th>native-country_ Outlying-US(Guam-USVI-etc)</th>\n",
       "      <th>native-country_ Peru</th>\n",
       "      <th>native-country_ Philippines</th>\n",
       "      <th>native-country_ Poland</th>\n",
       "      <th>native-country_ Portugal</th>\n",
       "      <th>native-country_ Puerto-Rico</th>\n",
       "      <th>native-country_ Scotland</th>\n",
       "      <th>native-country_ South</th>\n",
       "      <th>native-country_ Taiwan</th>\n",
       "      <th>native-country_ Thailand</th>\n",
       "      <th>native-country_ Trinadad&amp;Tobago</th>\n",
       "      <th>native-country_ United-States</th>\n",
       "      <th>native-country_ Vietnam</th>\n",
       "      <th>native-country_ Yugoslavia</th>\n",
       "      <th>gender</th>\n",
       "      <th>target</th>\n",
       "      <th>pred_relu</th>\n",
       "      <th>pred_tanh</th>\n",
       "      <th>pred_elu</th>\n",
       "      <th>pred_leaky</th>\n",
       "    </tr>\n",
       "  </thead>\n",
       "  <tbody>\n",
       "    <tr>\n",
       "      <th>0</th>\n",
       "      <td>25.0</td>\n",
       "      <td>226802.0</td>\n",
       "      <td>7.0</td>\n",
       "      <td>0.0</td>\n",
       "      <td>0.0</td>\n",
       "      <td>40.0</td>\n",
       "      <td>0.0</td>\n",
       "      <td>0.0</td>\n",
       "      <td>0.0</td>\n",
       "      <td>0.0</td>\n",
       "      <td>1.0</td>\n",
       "      <td>0.0</td>\n",
       "      <td>0.0</td>\n",
       "      <td>0.0</td>\n",
       "      <td>0.0</td>\n",
       "      <td>0.0</td>\n",
       "      <td>1.0</td>\n",
       "      <td>0.0</td>\n",
       "      <td>0.0</td>\n",
       "      <td>0.0</td>\n",
       "      <td>0.0</td>\n",
       "      <td>0.0</td>\n",
       "      <td>0.0</td>\n",
       "      <td>0.0</td>\n",
       "      <td>0.0</td>\n",
       "      <td>0.0</td>\n",
       "      <td>0.0</td>\n",
       "      <td>0.0</td>\n",
       "      <td>0.0</td>\n",
       "      <td>0.0</td>\n",
       "      <td>0.0</td>\n",
       "      <td>0.0</td>\n",
       "      <td>0.0</td>\n",
       "      <td>0.0</td>\n",
       "      <td>0.0</td>\n",
       "      <td>1.0</td>\n",
       "      <td>0.0</td>\n",
       "      <td>0.0</td>\n",
       "      <td>0.0</td>\n",
       "      <td>0.0</td>\n",
       "      <td>0.0</td>\n",
       "      <td>0.0</td>\n",
       "      <td>0.0</td>\n",
       "      <td>0.0</td>\n",
       "      <td>0.0</td>\n",
       "      <td>1.0</td>\n",
       "      <td>0.0</td>\n",
       "      <td>0.0</td>\n",
       "      <td>0.0</td>\n",
       "      <td>0.0</td>\n",
       "      <td>0.0</td>\n",
       "      <td>0.0</td>\n",
       "      <td>0.0</td>\n",
       "      <td>0.0</td>\n",
       "      <td>0.0</td>\n",
       "      <td>0.0</td>\n",
       "      <td>1.0</td>\n",
       "      <td>0.0</td>\n",
       "      <td>0.0</td>\n",
       "      <td>0.0</td>\n",
       "      <td>0.0</td>\n",
       "      <td>1.0</td>\n",
       "      <td>0.0</td>\n",
       "      <td>0.0</td>\n",
       "      <td>0.0</td>\n",
       "      <td>0.0</td>\n",
       "      <td>0.0</td>\n",
       "      <td>0.0</td>\n",
       "      <td>0.0</td>\n",
       "      <td>0.0</td>\n",
       "      <td>0.0</td>\n",
       "      <td>0.0</td>\n",
       "      <td>0.0</td>\n",
       "      <td>0.0</td>\n",
       "      <td>0.0</td>\n",
       "      <td>0.0</td>\n",
       "      <td>0.0</td>\n",
       "      <td>0.0</td>\n",
       "      <td>0.0</td>\n",
       "      <td>0.0</td>\n",
       "      <td>0.0</td>\n",
       "      <td>0.0</td>\n",
       "      <td>0.0</td>\n",
       "      <td>0.0</td>\n",
       "      <td>0.0</td>\n",
       "      <td>0.0</td>\n",
       "      <td>0.0</td>\n",
       "      <td>0.0</td>\n",
       "      <td>0.0</td>\n",
       "      <td>0.0</td>\n",
       "      <td>0.0</td>\n",
       "      <td>0.0</td>\n",
       "      <td>0.0</td>\n",
       "      <td>0.0</td>\n",
       "      <td>0.0</td>\n",
       "      <td>0.0</td>\n",
       "      <td>0.0</td>\n",
       "      <td>0.0</td>\n",
       "      <td>0.0</td>\n",
       "      <td>0.0</td>\n",
       "      <td>0.0</td>\n",
       "      <td>0.0</td>\n",
       "      <td>0.0</td>\n",
       "      <td>1.0</td>\n",
       "      <td>0.0</td>\n",
       "      <td>0.0</td>\n",
       "      <td>0</td>\n",
       "      <td>0</td>\n",
       "      <td>0</td>\n",
       "      <td>0</td>\n",
       "      <td>0</td>\n",
       "      <td>0</td>\n",
       "    </tr>\n",
       "    <tr>\n",
       "      <th>1</th>\n",
       "      <td>38.0</td>\n",
       "      <td>89814.0</td>\n",
       "      <td>9.0</td>\n",
       "      <td>0.0</td>\n",
       "      <td>0.0</td>\n",
       "      <td>50.0</td>\n",
       "      <td>0.0</td>\n",
       "      <td>0.0</td>\n",
       "      <td>0.0</td>\n",
       "      <td>0.0</td>\n",
       "      <td>1.0</td>\n",
       "      <td>0.0</td>\n",
       "      <td>0.0</td>\n",
       "      <td>0.0</td>\n",
       "      <td>0.0</td>\n",
       "      <td>0.0</td>\n",
       "      <td>0.0</td>\n",
       "      <td>0.0</td>\n",
       "      <td>0.0</td>\n",
       "      <td>0.0</td>\n",
       "      <td>0.0</td>\n",
       "      <td>0.0</td>\n",
       "      <td>0.0</td>\n",
       "      <td>0.0</td>\n",
       "      <td>0.0</td>\n",
       "      <td>0.0</td>\n",
       "      <td>1.0</td>\n",
       "      <td>0.0</td>\n",
       "      <td>0.0</td>\n",
       "      <td>0.0</td>\n",
       "      <td>0.0</td>\n",
       "      <td>0.0</td>\n",
       "      <td>0.0</td>\n",
       "      <td>1.0</td>\n",
       "      <td>0.0</td>\n",
       "      <td>0.0</td>\n",
       "      <td>0.0</td>\n",
       "      <td>0.0</td>\n",
       "      <td>0.0</td>\n",
       "      <td>0.0</td>\n",
       "      <td>0.0</td>\n",
       "      <td>0.0</td>\n",
       "      <td>0.0</td>\n",
       "      <td>1.0</td>\n",
       "      <td>0.0</td>\n",
       "      <td>0.0</td>\n",
       "      <td>0.0</td>\n",
       "      <td>0.0</td>\n",
       "      <td>0.0</td>\n",
       "      <td>0.0</td>\n",
       "      <td>0.0</td>\n",
       "      <td>0.0</td>\n",
       "      <td>0.0</td>\n",
       "      <td>1.0</td>\n",
       "      <td>0.0</td>\n",
       "      <td>0.0</td>\n",
       "      <td>0.0</td>\n",
       "      <td>0.0</td>\n",
       "      <td>0.0</td>\n",
       "      <td>0.0</td>\n",
       "      <td>0.0</td>\n",
       "      <td>0.0</td>\n",
       "      <td>0.0</td>\n",
       "      <td>1.0</td>\n",
       "      <td>0.0</td>\n",
       "      <td>0.0</td>\n",
       "      <td>0.0</td>\n",
       "      <td>0.0</td>\n",
       "      <td>0.0</td>\n",
       "      <td>0.0</td>\n",
       "      <td>0.0</td>\n",
       "      <td>0.0</td>\n",
       "      <td>0.0</td>\n",
       "      <td>0.0</td>\n",
       "      <td>0.0</td>\n",
       "      <td>0.0</td>\n",
       "      <td>0.0</td>\n",
       "      <td>0.0</td>\n",
       "      <td>0.0</td>\n",
       "      <td>0.0</td>\n",
       "      <td>0.0</td>\n",
       "      <td>0.0</td>\n",
       "      <td>0.0</td>\n",
       "      <td>0.0</td>\n",
       "      <td>0.0</td>\n",
       "      <td>0.0</td>\n",
       "      <td>0.0</td>\n",
       "      <td>0.0</td>\n",
       "      <td>0.0</td>\n",
       "      <td>0.0</td>\n",
       "      <td>0.0</td>\n",
       "      <td>0.0</td>\n",
       "      <td>0.0</td>\n",
       "      <td>0.0</td>\n",
       "      <td>0.0</td>\n",
       "      <td>0.0</td>\n",
       "      <td>0.0</td>\n",
       "      <td>0.0</td>\n",
       "      <td>0.0</td>\n",
       "      <td>0.0</td>\n",
       "      <td>0.0</td>\n",
       "      <td>0.0</td>\n",
       "      <td>0.0</td>\n",
       "      <td>1.0</td>\n",
       "      <td>0.0</td>\n",
       "      <td>0.0</td>\n",
       "      <td>0</td>\n",
       "      <td>0</td>\n",
       "      <td>0</td>\n",
       "      <td>0</td>\n",
       "      <td>0</td>\n",
       "      <td>0</td>\n",
       "    </tr>\n",
       "    <tr>\n",
       "      <th>2</th>\n",
       "      <td>28.0</td>\n",
       "      <td>336951.0</td>\n",
       "      <td>12.0</td>\n",
       "      <td>0.0</td>\n",
       "      <td>0.0</td>\n",
       "      <td>40.0</td>\n",
       "      <td>0.0</td>\n",
       "      <td>0.0</td>\n",
       "      <td>1.0</td>\n",
       "      <td>0.0</td>\n",
       "      <td>0.0</td>\n",
       "      <td>0.0</td>\n",
       "      <td>0.0</td>\n",
       "      <td>0.0</td>\n",
       "      <td>0.0</td>\n",
       "      <td>0.0</td>\n",
       "      <td>0.0</td>\n",
       "      <td>0.0</td>\n",
       "      <td>0.0</td>\n",
       "      <td>0.0</td>\n",
       "      <td>0.0</td>\n",
       "      <td>0.0</td>\n",
       "      <td>1.0</td>\n",
       "      <td>0.0</td>\n",
       "      <td>0.0</td>\n",
       "      <td>0.0</td>\n",
       "      <td>0.0</td>\n",
       "      <td>0.0</td>\n",
       "      <td>0.0</td>\n",
       "      <td>0.0</td>\n",
       "      <td>0.0</td>\n",
       "      <td>0.0</td>\n",
       "      <td>0.0</td>\n",
       "      <td>1.0</td>\n",
       "      <td>0.0</td>\n",
       "      <td>0.0</td>\n",
       "      <td>0.0</td>\n",
       "      <td>0.0</td>\n",
       "      <td>0.0</td>\n",
       "      <td>0.0</td>\n",
       "      <td>0.0</td>\n",
       "      <td>0.0</td>\n",
       "      <td>0.0</td>\n",
       "      <td>0.0</td>\n",
       "      <td>0.0</td>\n",
       "      <td>0.0</td>\n",
       "      <td>0.0</td>\n",
       "      <td>0.0</td>\n",
       "      <td>0.0</td>\n",
       "      <td>1.0</td>\n",
       "      <td>0.0</td>\n",
       "      <td>0.0</td>\n",
       "      <td>0.0</td>\n",
       "      <td>1.0</td>\n",
       "      <td>0.0</td>\n",
       "      <td>0.0</td>\n",
       "      <td>0.0</td>\n",
       "      <td>0.0</td>\n",
       "      <td>0.0</td>\n",
       "      <td>0.0</td>\n",
       "      <td>0.0</td>\n",
       "      <td>0.0</td>\n",
       "      <td>0.0</td>\n",
       "      <td>1.0</td>\n",
       "      <td>0.0</td>\n",
       "      <td>0.0</td>\n",
       "      <td>0.0</td>\n",
       "      <td>0.0</td>\n",
       "      <td>0.0</td>\n",
       "      <td>0.0</td>\n",
       "      <td>0.0</td>\n",
       "      <td>0.0</td>\n",
       "      <td>0.0</td>\n",
       "      <td>0.0</td>\n",
       "      <td>0.0</td>\n",
       "      <td>0.0</td>\n",
       "      <td>0.0</td>\n",
       "      <td>0.0</td>\n",
       "      <td>0.0</td>\n",
       "      <td>0.0</td>\n",
       "      <td>0.0</td>\n",
       "      <td>0.0</td>\n",
       "      <td>0.0</td>\n",
       "      <td>0.0</td>\n",
       "      <td>0.0</td>\n",
       "      <td>0.0</td>\n",
       "      <td>0.0</td>\n",
       "      <td>0.0</td>\n",
       "      <td>0.0</td>\n",
       "      <td>0.0</td>\n",
       "      <td>0.0</td>\n",
       "      <td>0.0</td>\n",
       "      <td>0.0</td>\n",
       "      <td>0.0</td>\n",
       "      <td>0.0</td>\n",
       "      <td>0.0</td>\n",
       "      <td>0.0</td>\n",
       "      <td>0.0</td>\n",
       "      <td>0.0</td>\n",
       "      <td>0.0</td>\n",
       "      <td>0.0</td>\n",
       "      <td>0.0</td>\n",
       "      <td>0.0</td>\n",
       "      <td>1.0</td>\n",
       "      <td>0.0</td>\n",
       "      <td>0.0</td>\n",
       "      <td>0</td>\n",
       "      <td>1</td>\n",
       "      <td>0</td>\n",
       "      <td>0</td>\n",
       "      <td>0</td>\n",
       "      <td>0</td>\n",
       "    </tr>\n",
       "    <tr>\n",
       "      <th>3</th>\n",
       "      <td>44.0</td>\n",
       "      <td>160323.0</td>\n",
       "      <td>10.0</td>\n",
       "      <td>7688.0</td>\n",
       "      <td>0.0</td>\n",
       "      <td>40.0</td>\n",
       "      <td>0.0</td>\n",
       "      <td>0.0</td>\n",
       "      <td>0.0</td>\n",
       "      <td>0.0</td>\n",
       "      <td>1.0</td>\n",
       "      <td>0.0</td>\n",
       "      <td>0.0</td>\n",
       "      <td>0.0</td>\n",
       "      <td>0.0</td>\n",
       "      <td>0.0</td>\n",
       "      <td>0.0</td>\n",
       "      <td>0.0</td>\n",
       "      <td>0.0</td>\n",
       "      <td>0.0</td>\n",
       "      <td>0.0</td>\n",
       "      <td>0.0</td>\n",
       "      <td>0.0</td>\n",
       "      <td>0.0</td>\n",
       "      <td>0.0</td>\n",
       "      <td>0.0</td>\n",
       "      <td>0.0</td>\n",
       "      <td>0.0</td>\n",
       "      <td>0.0</td>\n",
       "      <td>0.0</td>\n",
       "      <td>1.0</td>\n",
       "      <td>0.0</td>\n",
       "      <td>0.0</td>\n",
       "      <td>1.0</td>\n",
       "      <td>0.0</td>\n",
       "      <td>0.0</td>\n",
       "      <td>0.0</td>\n",
       "      <td>0.0</td>\n",
       "      <td>0.0</td>\n",
       "      <td>0.0</td>\n",
       "      <td>0.0</td>\n",
       "      <td>0.0</td>\n",
       "      <td>0.0</td>\n",
       "      <td>0.0</td>\n",
       "      <td>0.0</td>\n",
       "      <td>1.0</td>\n",
       "      <td>0.0</td>\n",
       "      <td>0.0</td>\n",
       "      <td>0.0</td>\n",
       "      <td>0.0</td>\n",
       "      <td>0.0</td>\n",
       "      <td>0.0</td>\n",
       "      <td>0.0</td>\n",
       "      <td>1.0</td>\n",
       "      <td>0.0</td>\n",
       "      <td>0.0</td>\n",
       "      <td>0.0</td>\n",
       "      <td>0.0</td>\n",
       "      <td>0.0</td>\n",
       "      <td>0.0</td>\n",
       "      <td>0.0</td>\n",
       "      <td>1.0</td>\n",
       "      <td>0.0</td>\n",
       "      <td>0.0</td>\n",
       "      <td>0.0</td>\n",
       "      <td>0.0</td>\n",
       "      <td>0.0</td>\n",
       "      <td>0.0</td>\n",
       "      <td>0.0</td>\n",
       "      <td>0.0</td>\n",
       "      <td>0.0</td>\n",
       "      <td>0.0</td>\n",
       "      <td>0.0</td>\n",
       "      <td>0.0</td>\n",
       "      <td>0.0</td>\n",
       "      <td>0.0</td>\n",
       "      <td>0.0</td>\n",
       "      <td>0.0</td>\n",
       "      <td>0.0</td>\n",
       "      <td>0.0</td>\n",
       "      <td>0.0</td>\n",
       "      <td>0.0</td>\n",
       "      <td>0.0</td>\n",
       "      <td>0.0</td>\n",
       "      <td>0.0</td>\n",
       "      <td>0.0</td>\n",
       "      <td>0.0</td>\n",
       "      <td>0.0</td>\n",
       "      <td>0.0</td>\n",
       "      <td>0.0</td>\n",
       "      <td>0.0</td>\n",
       "      <td>0.0</td>\n",
       "      <td>0.0</td>\n",
       "      <td>0.0</td>\n",
       "      <td>0.0</td>\n",
       "      <td>0.0</td>\n",
       "      <td>0.0</td>\n",
       "      <td>0.0</td>\n",
       "      <td>0.0</td>\n",
       "      <td>0.0</td>\n",
       "      <td>0.0</td>\n",
       "      <td>0.0</td>\n",
       "      <td>0.0</td>\n",
       "      <td>1.0</td>\n",
       "      <td>0.0</td>\n",
       "      <td>0.0</td>\n",
       "      <td>0</td>\n",
       "      <td>1</td>\n",
       "      <td>0</td>\n",
       "      <td>0</td>\n",
       "      <td>0</td>\n",
       "      <td>0</td>\n",
       "    </tr>\n",
       "    <tr>\n",
       "      <th>4</th>\n",
       "      <td>18.0</td>\n",
       "      <td>103497.0</td>\n",
       "      <td>10.0</td>\n",
       "      <td>0.0</td>\n",
       "      <td>0.0</td>\n",
       "      <td>30.0</td>\n",
       "      <td>1.0</td>\n",
       "      <td>0.0</td>\n",
       "      <td>0.0</td>\n",
       "      <td>0.0</td>\n",
       "      <td>0.0</td>\n",
       "      <td>0.0</td>\n",
       "      <td>0.0</td>\n",
       "      <td>0.0</td>\n",
       "      <td>0.0</td>\n",
       "      <td>0.0</td>\n",
       "      <td>0.0</td>\n",
       "      <td>0.0</td>\n",
       "      <td>0.0</td>\n",
       "      <td>0.0</td>\n",
       "      <td>0.0</td>\n",
       "      <td>0.0</td>\n",
       "      <td>0.0</td>\n",
       "      <td>0.0</td>\n",
       "      <td>0.0</td>\n",
       "      <td>0.0</td>\n",
       "      <td>0.0</td>\n",
       "      <td>0.0</td>\n",
       "      <td>0.0</td>\n",
       "      <td>0.0</td>\n",
       "      <td>1.0</td>\n",
       "      <td>0.0</td>\n",
       "      <td>0.0</td>\n",
       "      <td>0.0</td>\n",
       "      <td>0.0</td>\n",
       "      <td>1.0</td>\n",
       "      <td>0.0</td>\n",
       "      <td>0.0</td>\n",
       "      <td>1.0</td>\n",
       "      <td>0.0</td>\n",
       "      <td>0.0</td>\n",
       "      <td>0.0</td>\n",
       "      <td>0.0</td>\n",
       "      <td>0.0</td>\n",
       "      <td>0.0</td>\n",
       "      <td>0.0</td>\n",
       "      <td>0.0</td>\n",
       "      <td>0.0</td>\n",
       "      <td>0.0</td>\n",
       "      <td>0.0</td>\n",
       "      <td>0.0</td>\n",
       "      <td>0.0</td>\n",
       "      <td>0.0</td>\n",
       "      <td>0.0</td>\n",
       "      <td>0.0</td>\n",
       "      <td>0.0</td>\n",
       "      <td>1.0</td>\n",
       "      <td>0.0</td>\n",
       "      <td>0.0</td>\n",
       "      <td>0.0</td>\n",
       "      <td>0.0</td>\n",
       "      <td>0.0</td>\n",
       "      <td>0.0</td>\n",
       "      <td>1.0</td>\n",
       "      <td>0.0</td>\n",
       "      <td>0.0</td>\n",
       "      <td>0.0</td>\n",
       "      <td>0.0</td>\n",
       "      <td>0.0</td>\n",
       "      <td>0.0</td>\n",
       "      <td>0.0</td>\n",
       "      <td>0.0</td>\n",
       "      <td>0.0</td>\n",
       "      <td>0.0</td>\n",
       "      <td>0.0</td>\n",
       "      <td>0.0</td>\n",
       "      <td>0.0</td>\n",
       "      <td>0.0</td>\n",
       "      <td>0.0</td>\n",
       "      <td>0.0</td>\n",
       "      <td>0.0</td>\n",
       "      <td>0.0</td>\n",
       "      <td>0.0</td>\n",
       "      <td>0.0</td>\n",
       "      <td>0.0</td>\n",
       "      <td>0.0</td>\n",
       "      <td>0.0</td>\n",
       "      <td>0.0</td>\n",
       "      <td>0.0</td>\n",
       "      <td>0.0</td>\n",
       "      <td>0.0</td>\n",
       "      <td>0.0</td>\n",
       "      <td>0.0</td>\n",
       "      <td>0.0</td>\n",
       "      <td>0.0</td>\n",
       "      <td>0.0</td>\n",
       "      <td>0.0</td>\n",
       "      <td>0.0</td>\n",
       "      <td>0.0</td>\n",
       "      <td>0.0</td>\n",
       "      <td>0.0</td>\n",
       "      <td>0.0</td>\n",
       "      <td>0.0</td>\n",
       "      <td>1.0</td>\n",
       "      <td>0.0</td>\n",
       "      <td>0.0</td>\n",
       "      <td>1</td>\n",
       "      <td>0</td>\n",
       "      <td>0</td>\n",
       "      <td>0</td>\n",
       "      <td>0</td>\n",
       "      <td>0</td>\n",
       "    </tr>\n",
       "  </tbody>\n",
       "</table>\n",
       "</div>"
      ],
      "text/plain": [
       "    age    fnlwgt  education-num  capital-gain  capital-loss  hours-per-week  \\\n",
       "0  25.0  226802.0            7.0           0.0           0.0            40.0   \n",
       "1  38.0   89814.0            9.0           0.0           0.0            50.0   \n",
       "2  28.0  336951.0           12.0           0.0           0.0            40.0   \n",
       "3  44.0  160323.0           10.0        7688.0           0.0            40.0   \n",
       "4  18.0  103497.0           10.0           0.0           0.0            30.0   \n",
       "\n",
       "   workclass_ ?  workclass_ Federal-gov  workclass_ Local-gov  \\\n",
       "0           0.0                     0.0                   0.0   \n",
       "1           0.0                     0.0                   0.0   \n",
       "2           0.0                     0.0                   1.0   \n",
       "3           0.0                     0.0                   0.0   \n",
       "4           1.0                     0.0                   0.0   \n",
       "\n",
       "   workclass_ Never-worked  workclass_ Private  workclass_ Self-emp-inc  \\\n",
       "0                      0.0                 1.0                      0.0   \n",
       "1                      0.0                 1.0                      0.0   \n",
       "2                      0.0                 0.0                      0.0   \n",
       "3                      0.0                 1.0                      0.0   \n",
       "4                      0.0                 0.0                      0.0   \n",
       "\n",
       "   workclass_ Self-emp-not-inc  workclass_ State-gov  workclass_ Without-pay  \\\n",
       "0                          0.0                   0.0                     0.0   \n",
       "1                          0.0                   0.0                     0.0   \n",
       "2                          0.0                   0.0                     0.0   \n",
       "3                          0.0                   0.0                     0.0   \n",
       "4                          0.0                   0.0                     0.0   \n",
       "\n",
       "   education_ 10th  education_ 11th  education_ 12th  education_ 1st-4th  \\\n",
       "0              0.0              1.0              0.0                 0.0   \n",
       "1              0.0              0.0              0.0                 0.0   \n",
       "2              0.0              0.0              0.0                 0.0   \n",
       "3              0.0              0.0              0.0                 0.0   \n",
       "4              0.0              0.0              0.0                 0.0   \n",
       "\n",
       "   education_ 5th-6th  education_ 7th-8th  education_ 9th  \\\n",
       "0                 0.0                 0.0             0.0   \n",
       "1                 0.0                 0.0             0.0   \n",
       "2                 0.0                 0.0             0.0   \n",
       "3                 0.0                 0.0             0.0   \n",
       "4                 0.0                 0.0             0.0   \n",
       "\n",
       "   education_ Assoc-acdm  education_ Assoc-voc  education_ Bachelors  \\\n",
       "0                    0.0                   0.0                   0.0   \n",
       "1                    0.0                   0.0                   0.0   \n",
       "2                    1.0                   0.0                   0.0   \n",
       "3                    0.0                   0.0                   0.0   \n",
       "4                    0.0                   0.0                   0.0   \n",
       "\n",
       "   education_ Doctorate  education_ HS-grad  education_ Masters  \\\n",
       "0                   0.0                 0.0                 0.0   \n",
       "1                   0.0                 1.0                 0.0   \n",
       "2                   0.0                 0.0                 0.0   \n",
       "3                   0.0                 0.0                 0.0   \n",
       "4                   0.0                 0.0                 0.0   \n",
       "\n",
       "   education_ Preschool  education_ Prof-school  education_ Some-college  \\\n",
       "0                   0.0                     0.0                      0.0   \n",
       "1                   0.0                     0.0                      0.0   \n",
       "2                   0.0                     0.0                      0.0   \n",
       "3                   0.0                     0.0                      1.0   \n",
       "4                   0.0                     0.0                      1.0   \n",
       "\n",
       "   marital-status_ Divorced  marital-status_ Married-AF-spouse  \\\n",
       "0                       0.0                                0.0   \n",
       "1                       0.0                                0.0   \n",
       "2                       0.0                                0.0   \n",
       "3                       0.0                                0.0   \n",
       "4                       0.0                                0.0   \n",
       "\n",
       "   marital-status_ Married-civ-spouse  marital-status_ Married-spouse-absent  \\\n",
       "0                                 0.0                                    0.0   \n",
       "1                                 1.0                                    0.0   \n",
       "2                                 1.0                                    0.0   \n",
       "3                                 1.0                                    0.0   \n",
       "4                                 0.0                                    0.0   \n",
       "\n",
       "   marital-status_ Never-married  marital-status_ Separated  \\\n",
       "0                            1.0                        0.0   \n",
       "1                            0.0                        0.0   \n",
       "2                            0.0                        0.0   \n",
       "3                            0.0                        0.0   \n",
       "4                            1.0                        0.0   \n",
       "\n",
       "   marital-status_ Widowed  occupation_ ?  occupation_ Adm-clerical  \\\n",
       "0                      0.0            0.0                       0.0   \n",
       "1                      0.0            0.0                       0.0   \n",
       "2                      0.0            0.0                       0.0   \n",
       "3                      0.0            0.0                       0.0   \n",
       "4                      0.0            1.0                       0.0   \n",
       "\n",
       "   occupation_ Armed-Forces  occupation_ Craft-repair  \\\n",
       "0                       0.0                       0.0   \n",
       "1                       0.0                       0.0   \n",
       "2                       0.0                       0.0   \n",
       "3                       0.0                       0.0   \n",
       "4                       0.0                       0.0   \n",
       "\n",
       "   occupation_ Exec-managerial  occupation_ Farming-fishing  \\\n",
       "0                          0.0                          0.0   \n",
       "1                          0.0                          1.0   \n",
       "2                          0.0                          0.0   \n",
       "3                          0.0                          0.0   \n",
       "4                          0.0                          0.0   \n",
       "\n",
       "   occupation_ Handlers-cleaners  occupation_ Machine-op-inspct  \\\n",
       "0                            0.0                            1.0   \n",
       "1                            0.0                            0.0   \n",
       "2                            0.0                            0.0   \n",
       "3                            0.0                            1.0   \n",
       "4                            0.0                            0.0   \n",
       "\n",
       "   occupation_ Other-service  occupation_ Priv-house-serv  \\\n",
       "0                        0.0                          0.0   \n",
       "1                        0.0                          0.0   \n",
       "2                        0.0                          0.0   \n",
       "3                        0.0                          0.0   \n",
       "4                        0.0                          0.0   \n",
       "\n",
       "   occupation_ Prof-specialty  occupation_ Protective-serv  occupation_ Sales  \\\n",
       "0                         0.0                          0.0                0.0   \n",
       "1                         0.0                          0.0                0.0   \n",
       "2                         0.0                          1.0                0.0   \n",
       "3                         0.0                          0.0                0.0   \n",
       "4                         0.0                          0.0                0.0   \n",
       "\n",
       "   occupation_ Tech-support  occupation_ Transport-moving  \\\n",
       "0                       0.0                           0.0   \n",
       "1                       0.0                           0.0   \n",
       "2                       0.0                           0.0   \n",
       "3                       0.0                           0.0   \n",
       "4                       0.0                           0.0   \n",
       "\n",
       "   relationship_ Husband  relationship_ Not-in-family  \\\n",
       "0                    0.0                          0.0   \n",
       "1                    1.0                          0.0   \n",
       "2                    1.0                          0.0   \n",
       "3                    1.0                          0.0   \n",
       "4                    0.0                          0.0   \n",
       "\n",
       "   relationship_ Other-relative  relationship_ Own-child  \\\n",
       "0                           0.0                      1.0   \n",
       "1                           0.0                      0.0   \n",
       "2                           0.0                      0.0   \n",
       "3                           0.0                      0.0   \n",
       "4                           0.0                      1.0   \n",
       "\n",
       "   relationship_ Unmarried  relationship_ Wife  race_ Amer-Indian-Eskimo  \\\n",
       "0                      0.0                 0.0                       0.0   \n",
       "1                      0.0                 0.0                       0.0   \n",
       "2                      0.0                 0.0                       0.0   \n",
       "3                      0.0                 0.0                       0.0   \n",
       "4                      0.0                 0.0                       0.0   \n",
       "\n",
       "   race_ Asian-Pac-Islander  race_ Black  race_ Other  race_ White  \\\n",
       "0                       0.0          1.0          0.0          0.0   \n",
       "1                       0.0          0.0          0.0          1.0   \n",
       "2                       0.0          0.0          0.0          1.0   \n",
       "3                       0.0          1.0          0.0          0.0   \n",
       "4                       0.0          0.0          0.0          1.0   \n",
       "\n",
       "   native-country_ ?  native-country_ Cambodia  native-country_ Canada  \\\n",
       "0                0.0                       0.0                     0.0   \n",
       "1                0.0                       0.0                     0.0   \n",
       "2                0.0                       0.0                     0.0   \n",
       "3                0.0                       0.0                     0.0   \n",
       "4                0.0                       0.0                     0.0   \n",
       "\n",
       "   native-country_ China  native-country_ Columbia  native-country_ Cuba  \\\n",
       "0                    0.0                       0.0                   0.0   \n",
       "1                    0.0                       0.0                   0.0   \n",
       "2                    0.0                       0.0                   0.0   \n",
       "3                    0.0                       0.0                   0.0   \n",
       "4                    0.0                       0.0                   0.0   \n",
       "\n",
       "   native-country_ Dominican-Republic  native-country_ Ecuador  \\\n",
       "0                                 0.0                      0.0   \n",
       "1                                 0.0                      0.0   \n",
       "2                                 0.0                      0.0   \n",
       "3                                 0.0                      0.0   \n",
       "4                                 0.0                      0.0   \n",
       "\n",
       "   native-country_ El-Salvador  native-country_ England  \\\n",
       "0                          0.0                      0.0   \n",
       "1                          0.0                      0.0   \n",
       "2                          0.0                      0.0   \n",
       "3                          0.0                      0.0   \n",
       "4                          0.0                      0.0   \n",
       "\n",
       "   native-country_ France  native-country_ Germany  native-country_ Greece  \\\n",
       "0                     0.0                      0.0                     0.0   \n",
       "1                     0.0                      0.0                     0.0   \n",
       "2                     0.0                      0.0                     0.0   \n",
       "3                     0.0                      0.0                     0.0   \n",
       "4                     0.0                      0.0                     0.0   \n",
       "\n",
       "   native-country_ Guatemala  native-country_ Haiti  \\\n",
       "0                        0.0                    0.0   \n",
       "1                        0.0                    0.0   \n",
       "2                        0.0                    0.0   \n",
       "3                        0.0                    0.0   \n",
       "4                        0.0                    0.0   \n",
       "\n",
       "   native-country_ Holand-Netherlands  native-country_ Honduras  \\\n",
       "0                                 0.0                       0.0   \n",
       "1                                 0.0                       0.0   \n",
       "2                                 0.0                       0.0   \n",
       "3                                 0.0                       0.0   \n",
       "4                                 0.0                       0.0   \n",
       "\n",
       "   native-country_ Hong  native-country_ Hungary  native-country_ India  \\\n",
       "0                   0.0                      0.0                    0.0   \n",
       "1                   0.0                      0.0                    0.0   \n",
       "2                   0.0                      0.0                    0.0   \n",
       "3                   0.0                      0.0                    0.0   \n",
       "4                   0.0                      0.0                    0.0   \n",
       "\n",
       "   native-country_ Iran  native-country_ Ireland  native-country_ Italy  \\\n",
       "0                   0.0                      0.0                    0.0   \n",
       "1                   0.0                      0.0                    0.0   \n",
       "2                   0.0                      0.0                    0.0   \n",
       "3                   0.0                      0.0                    0.0   \n",
       "4                   0.0                      0.0                    0.0   \n",
       "\n",
       "   native-country_ Jamaica  native-country_ Japan  native-country_ Laos  \\\n",
       "0                      0.0                    0.0                   0.0   \n",
       "1                      0.0                    0.0                   0.0   \n",
       "2                      0.0                    0.0                   0.0   \n",
       "3                      0.0                    0.0                   0.0   \n",
       "4                      0.0                    0.0                   0.0   \n",
       "\n",
       "   native-country_ Mexico  native-country_ Nicaragua  \\\n",
       "0                     0.0                        0.0   \n",
       "1                     0.0                        0.0   \n",
       "2                     0.0                        0.0   \n",
       "3                     0.0                        0.0   \n",
       "4                     0.0                        0.0   \n",
       "\n",
       "   native-country_ Outlying-US(Guam-USVI-etc)  native-country_ Peru  \\\n",
       "0                                         0.0                   0.0   \n",
       "1                                         0.0                   0.0   \n",
       "2                                         0.0                   0.0   \n",
       "3                                         0.0                   0.0   \n",
       "4                                         0.0                   0.0   \n",
       "\n",
       "   native-country_ Philippines  native-country_ Poland  \\\n",
       "0                          0.0                     0.0   \n",
       "1                          0.0                     0.0   \n",
       "2                          0.0                     0.0   \n",
       "3                          0.0                     0.0   \n",
       "4                          0.0                     0.0   \n",
       "\n",
       "   native-country_ Portugal  native-country_ Puerto-Rico  \\\n",
       "0                       0.0                          0.0   \n",
       "1                       0.0                          0.0   \n",
       "2                       0.0                          0.0   \n",
       "3                       0.0                          0.0   \n",
       "4                       0.0                          0.0   \n",
       "\n",
       "   native-country_ Scotland  native-country_ South  native-country_ Taiwan  \\\n",
       "0                       0.0                    0.0                     0.0   \n",
       "1                       0.0                    0.0                     0.0   \n",
       "2                       0.0                    0.0                     0.0   \n",
       "3                       0.0                    0.0                     0.0   \n",
       "4                       0.0                    0.0                     0.0   \n",
       "\n",
       "   native-country_ Thailand  native-country_ Trinadad&Tobago  \\\n",
       "0                       0.0                              0.0   \n",
       "1                       0.0                              0.0   \n",
       "2                       0.0                              0.0   \n",
       "3                       0.0                              0.0   \n",
       "4                       0.0                              0.0   \n",
       "\n",
       "   native-country_ United-States  native-country_ Vietnam  \\\n",
       "0                            1.0                      0.0   \n",
       "1                            1.0                      0.0   \n",
       "2                            1.0                      0.0   \n",
       "3                            1.0                      0.0   \n",
       "4                            1.0                      0.0   \n",
       "\n",
       "   native-country_ Yugoslavia  gender  target  pred_relu  pred_tanh  pred_elu  \\\n",
       "0                         0.0       0       0          0          0         0   \n",
       "1                         0.0       0       0          0          0         0   \n",
       "2                         0.0       0       1          0          0         0   \n",
       "3                         0.0       0       1          0          0         0   \n",
       "4                         0.0       1       0          0          0         0   \n",
       "\n",
       "   pred_leaky  \n",
       "0           0  \n",
       "1           0  \n",
       "2           0  \n",
       "3           0  \n",
       "4           0  "
      ]
     },
     "execution_count": 12,
     "metadata": {},
     "output_type": "execute_result"
    }
   ],
   "source": [
    "data.head()"
   ]
  },
  {
   "cell_type": "code",
   "execution_count": 13,
   "id": "9021e4e4",
   "metadata": {},
   "outputs": [
    {
     "data": {
      "text/plain": [
       "['target', 'pred_relu', 'pred_tanh', 'pred_elu', 'pred_leaky']"
      ]
     },
     "execution_count": 13,
     "metadata": {},
     "output_type": "execute_result"
    }
   ],
   "source": [
    "features = list(data.columns[-5:])\n",
    "features"
   ]
  },
  {
   "cell_type": "markdown",
   "id": "047ff47b",
   "metadata": {},
   "source": [
    "#### Inspect Data"
   ]
  },
  {
   "cell_type": "markdown",
   "id": "2b781ddf",
   "metadata": {},
   "source": [
    "**Note:** The following confusion matrix should return a list of four (4) numbers, with zero (0) false negatives and false positives. Example: array([100, 0, 0, 10])"
   ]
  },
  {
   "cell_type": "code",
   "execution_count": 14,
   "id": "975e6d7d",
   "metadata": {},
   "outputs": [
    {
     "data": {
      "text/plain": [
       "array([12435,     0,     0,  3846])"
      ]
     },
     "execution_count": 14,
     "metadata": {},
     "output_type": "execute_result"
    }
   ],
   "source": [
    "confusion_matrix(data.target, data.target).ravel()"
   ]
  },
  {
   "cell_type": "code",
   "execution_count": 94,
   "id": "28aa2135",
   "metadata": {},
   "outputs": [
    {
     "name": "stdout",
     "output_type": "stream",
     "text": [
      " * Adult Income_FTU Confusion Matrix, Tabular *\n",
      "-----------------------------------------------\n",
      "Name\t    Total   TP     FP   TN     FN\n",
      "target    : 16281   3846     0  12435     0\n",
      "pred_relu : 16281    142    22  12413  3704\n",
      "pred_tanh : 16281   2309  1015  11420  1537\n",
      "pred_elu  : 16281   2271   959  11476  1575\n",
      "pred_leaky: 16281    136    15  12420  3710\n"
     ]
    }
   ],
   "source": [
    "l = 47\n",
    "title = f\" * {source} Confusion Matrix, Tabular *\"\n",
    "t = len(title)\n",
    "offset = l//2 - t//2\n",
    "\n",
    "print(\" \"*offset + title)\n",
    "print(\"-\"*l)\n",
    "print(\"Name\\t    Total   TP     FP   TN     FN\")\n",
    "for f in features:\n",
    "    total = data[f].shape[0]\n",
    "    try:\n",
    "        [tn, fp, fn, tp] = confusion_matrix(data.target, data[f]).ravel()\n",
    "    except Exception:\n",
    "        pass\n",
    "    print(f\"{f:10s}: {total:5.0f}  {tp:5.0f} {fp:5.0f} {tn:6.0f} {fn:5.0f}\")"
   ]
  },
  {
   "cell_type": "code",
   "execution_count": 16,
   "id": "c449a7fc",
   "metadata": {},
   "outputs": [
    {
     "data": {
      "image/png": "[encoded data removed]",
      "text/plain": [
       "<Figure size 432x288 with 2 Axes>"
      ]
     },
     "metadata": {},
     "output_type": "display_data"
    }
   ],
   "source": [
    "cm_relu = confusion_matrix(data.target, data.pred_relu)\n",
    "sns.set(font_scale=1.2)\n",
    "sns.heatmap(cm_relu, annot=True, cmap=\"coolwarm\", robust=True, fmt='g')\n",
    "plt.title(f\"{source}, Confusion Matrix - ReLU\")\n",
    "plt.show()"
   ]
  },
  {
   "cell_type": "code",
   "execution_count": 95,
   "id": "a99acd3f",
   "metadata": {},
   "outputs": [
    {
     "data": {
      "image/png": "[encoded data removed]",
      "text/plain": [
       "<Figure size 432x288 with 2 Axes>"
      ]
     },
     "metadata": {},
     "output_type": "display_data"
    }
   ],
   "source": [
    "cm_tanh = confusion_matrix(data.target, data.pred_tanh)\n",
    "sns.set(font_scale=1.2)\n",
    "sns.heatmap(cm_tanh, annot=True, cmap=\"Greens\", robust=True, fmt='g')\n",
    "plt.title(f\"{source} Confusion Matrix - Tanh\")\n",
    "plt.savefig(\"adult - FTU cm tanh.png\")\n",
    "plt.show()"
   ]
  },
  {
   "cell_type": "code",
   "execution_count": 96,
   "id": "38e1cec2",
   "metadata": {},
   "outputs": [
    {
     "data": {
      "image/png": "[encoded data removed]",
      "text/plain": [
       "<Figure size 432x288 with 2 Axes>"
      ]
     },
     "metadata": {},
     "output_type": "display_data"
    }
   ],
   "source": [
    "cm_elu = confusion_matrix(data.target, data.pred_elu)\n",
    "sns.set(font_scale=1.2)\n",
    "sns.heatmap(cm_elu, annot=True, cmap=\"Blues\", robust=True, fmt='g')\n",
    "plt.title(f\"{source} Confusion Matrix - ELU\")\n",
    "plt.savefig(\"adult - FTU cm elu.png\")\n",
    "plt.show()"
   ]
  },
  {
   "cell_type": "code",
   "execution_count": 97,
   "id": "f5316ac3",
   "metadata": {},
   "outputs": [
    {
     "data": {
      "image/png": "[encoded data removed]",
      "text/plain": [
       "<Figure size 432x288 with 2 Axes>"
      ]
     },
     "metadata": {},
     "output_type": "display_data"
    }
   ],
   "source": [
    "cm_leaky = confusion_matrix(data.target, data.pred_leaky)\n",
    "sns.set(font_scale=1.2)\n",
    "sns.heatmap(cm_leaky, annot=True, fmt='g')\n",
    "plt.title(f\"{source} Confusion Matrix - Leaky ReLU\")\n",
    "plt.savefig(\"adult - FTU cm leaky.png\")\n",
    "plt.show()"
   ]
  },
  {
   "cell_type": "markdown",
   "id": "6b4cd523",
   "metadata": {},
   "source": [
    "## Separate by protected feature"
   ]
  },
  {
   "cell_type": "code",
   "execution_count": 20,
   "id": "d70fef33",
   "metadata": {},
   "outputs": [],
   "source": [
    "# group A : protected attribute\n",
    "# group B : other\n",
    "GroupA = data[data[\"gender\"] == 1]\n",
    "GroupB = data[data[\"gender\"] == 0]\n",
    "attribute = [\"female\", \"male\"]\n",
    "protected_features = [\"gender\"]"
   ]
  },
  {
   "cell_type": "code",
   "execution_count": 21,
   "id": "8c3d21a6",
   "metadata": {},
   "outputs": [],
   "source": [
    "Aset = GroupA.iloc[:,-5:]\n",
    "Bset = GroupB.iloc[:,-5:]\n",
    "base = data.iloc[:,-5:]"
   ]
  },
  {
   "cell_type": "code",
   "execution_count": 22,
   "id": "610e1015",
   "metadata": {},
   "outputs": [
    {
     "data": {
      "text/plain": [
       "(5421, 112)"
      ]
     },
     "execution_count": 22,
     "metadata": {},
     "output_type": "execute_result"
    }
   ],
   "source": [
    "GroupA.shape"
   ]
  },
  {
   "cell_type": "code",
   "execution_count": 23,
   "id": "70addb86",
   "metadata": {},
   "outputs": [
    {
     "data": {
      "text/plain": [
       "(10860, 112)"
      ]
     },
     "execution_count": 23,
     "metadata": {},
     "output_type": "execute_result"
    }
   ],
   "source": [
    "GroupB.shape"
   ]
  },
  {
   "cell_type": "code",
   "execution_count": 24,
   "id": "cf7eaa9f",
   "metadata": {},
   "outputs": [
    {
     "data": {
      "text/plain": [
       "(16281, 112)"
      ]
     },
     "execution_count": 24,
     "metadata": {},
     "output_type": "execute_result"
    }
   ],
   "source": [
    "data.shape"
   ]
  },
  {
   "cell_type": "markdown",
   "id": "5075a378",
   "metadata": {},
   "source": [
    "##### Control stats, baseline"
   ]
  },
  {
   "cell_type": "code",
   "execution_count": 25,
   "id": "0edd8bfe",
   "metadata": {},
   "outputs": [],
   "source": [
    "Cr, Ct, Ce, Cl = bias_metrics(data)"
   ]
  },
  {
   "cell_type": "code",
   "execution_count": 26,
   "id": "aa4c57a0",
   "metadata": {},
   "outputs": [
    {
     "data": {
      "text/plain": [
       "0.6003640145605824"
      ]
     },
     "execution_count": 26,
     "metadata": {},
     "output_type": "execute_result"
    }
   ],
   "source": [
    "Ct.TPR"
   ]
  },
  {
   "cell_type": "markdown",
   "id": "d5f42ee4",
   "metadata": {},
   "source": [
    "##### Stats for Group A and Group B dataframes"
   ]
  },
  {
   "cell_type": "code",
   "execution_count": 27,
   "id": "f034d542",
   "metadata": {},
   "outputs": [],
   "source": [
    "Ar, At, Ae, Al = bias_metrics(GroupA)\n",
    "Br, Bt, Be, Bl = bias_metrics(GroupB)"
   ]
  },
  {
   "cell_type": "code",
   "execution_count": 28,
   "id": "70f59e62",
   "metadata": {},
   "outputs": [
    {
     "data": {
      "text/plain": [
       "0.511864406779661"
      ]
     },
     "execution_count": 28,
     "metadata": {},
     "output_type": "execute_result"
    }
   ],
   "source": [
    "At.TPR"
   ]
  },
  {
   "cell_type": "markdown",
   "id": "cee911ac",
   "metadata": {},
   "source": [
    "# Bias Testing"
   ]
  },
  {
   "cell_type": "markdown",
   "id": "d13291fe",
   "metadata": {},
   "source": [
    "#### Set α (alpha)"
   ]
  },
  {
   "cell_type": "code",
   "execution_count": 29,
   "id": "4e518e2d",
   "metadata": {},
   "outputs": [],
   "source": [
    "α = 0.01"
   ]
  },
  {
   "cell_type": "markdown",
   "id": "64c2749b",
   "metadata": {},
   "source": [
    "#### Predictive parity"
   ]
  },
  {
   "cell_type": "markdown",
   "id": "c46800c4",
   "metadata": {},
   "source": [
    "Compares precision (or positive predictive value, PPV) between group with protected attribute and without protected attribute. In this instance female group with male group"
   ]
  },
  {
   "cell_type": "code",
   "execution_count": 30,
   "id": "af0e192c",
   "metadata": {},
   "outputs": [],
   "source": [
    "ppCA = [\n",
    "    math.isclose(Cr.PPV, Ar.PPV, rel_tol=α),\n",
    "    math.isclose(Ct.PPV, At.PPV, rel_tol=α),\n",
    "    math.isclose(Ce.PPV, Ae.PPV, rel_tol=α),\n",
    "    math.isclose(Cl.PPV, Al.PPV, rel_tol=α)\n",
    "]"
   ]
  },
  {
   "cell_type": "code",
   "execution_count": 31,
   "id": "d9d91d5a",
   "metadata": {},
   "outputs": [],
   "source": [
    "ppCB = [\n",
    "    math.isclose(Cr.PPV, Br.PPV, rel_tol=α),\n",
    "    math.isclose(Ct.PPV, Bt.PPV, rel_tol=α),\n",
    "    math.isclose(Ce.PPV, Be.PPV, rel_tol=α),\n",
    "    math.isclose(Cl.PPV, Bl.PPV, rel_tol=α)\n",
    "]"
   ]
  },
  {
   "cell_type": "code",
   "execution_count": 32,
   "id": "be5d6545",
   "metadata": {},
   "outputs": [],
   "source": [
    "ppAB = [\n",
    "    math.isclose(Br.PPV, Ar.PPV, rel_tol=α),\n",
    "    math.isclose(Bt.PPV, At.PPV, rel_tol=α),\n",
    "    math.isclose(Be.PPV, Ae.PPV, rel_tol=α),\n",
    "    math.isclose(Bl.PPV, Al.PPV, rel_tol=α)  \n",
    "]"
   ]
  },
  {
   "cell_type": "code",
   "execution_count": 33,
   "id": "35b8ac1b",
   "metadata": {},
   "outputs": [
    {
     "name": "stdout",
     "output_type": "stream",
     "text": [
      "       * * * Predictive Parity, Adult Income_FTU * * *\n",
      "Name\tG & A\tG & B\tA & B\tGround     Group A   Group B    \n",
      "------------------------------------------------------------\n",
      "relu\tFalse\tTrue\tFalse\t0.86585    nan       0.86585   \n",
      "tanh\tFalse\tTrue\tFalse\t0.69465    0.67865   0.69712   \n",
      "elu\tTrue\tTrue\tTrue\t0.70310    0.70629   0.70261   \n",
      "leaky\tFalse\tTrue\tFalse\t0.90066    1.00000   0.89933   \n"
     ]
    }
   ],
   "source": [
    "title = f\"* * * Predictive Parity, {source} * * *\"\n",
    "t = len(title)\n",
    "l = 60\n",
    "offset = l//2 - t//2\n",
    "print(\" \"*offset + title)\n",
    "one = \"G & A\"\n",
    "two = \"G & B\"\n",
    "three = \"A & B\"\n",
    "print(f\"Name\\t{one}\\t{two}\\t{three}\\t{tag[0]:10s} {tag[1]:10s}{tag[2]:11s}\")\n",
    "print(\"-\"*l)\n",
    "print(f\"{Ar.name}\\t{ppCA[0]}\\t{ppCB[0]}\\t{ppAB[0]}\\t{Cr.PPV:<10.5f} {Ar.PPV:<10.5f}{Br.PPV:<10.5f}\")\n",
    "print(f\"{At.name}\\t{ppCA[1]}\\t{ppCB[1]}\\t{ppAB[1]}\\t{Ct.PPV:<10.5f} {At.PPV:<10.5f}{Bt.PPV:<10.5f}\")\n",
    "print(f\"{Ae.name}\\t{ppCA[2]}\\t{ppCB[2]}\\t{ppAB[2]}\\t{Ce.PPV:<10.5f} {Ae.PPV:<10.5f}{Be.PPV:<10.5f}\")\n",
    "print(f\"{Al.name}\\t{ppCA[3]}\\t{ppCB[3]}\\t{ppAB[3]}\\t{Cl.PPV:<10.5f} {Al.PPV:<10.5f}{Bl.PPV:<10.5f}\")"
   ]
  },
  {
   "cell_type": "code",
   "execution_count": 34,
   "id": "e257916a",
   "metadata": {},
   "outputs": [
    {
     "data": {
      "text/plain": [
       "cmatrix(name='relu', TP=142, FP=22, TN=12413, FN=3704, PPV=0.8658536585365854, TPR=0.03692147685907436, FDR=0.13414634146341464, FPR=0.001769199839163651, FOR=0.2298194453061984, FNR=0.9630785231409257, NPV=0.7701805546938015, TNR=0.9982308001608363)"
      ]
     },
     "execution_count": 34,
     "metadata": {},
     "output_type": "execute_result"
    }
   ],
   "source": [
    "Cr"
   ]
  },
  {
   "cell_type": "markdown",
   "id": "30cdc690",
   "metadata": {},
   "source": [
    "#### Predictive Equality"
   ]
  },
  {
   "cell_type": "markdown",
   "id": "6e09d694",
   "metadata": {},
   "source": [
    "Also called the False Positive Error Balance, this metric considers compares the false positive rates (FPR) between groups."
   ]
  },
  {
   "cell_type": "code",
   "execution_count": 35,
   "id": "3f0c7544",
   "metadata": {},
   "outputs": [],
   "source": [
    "peCA = [\n",
    "    math.isclose(Cr.FPR, Ar.FPR, rel_tol=α),\n",
    "    math.isclose(Ct.FPR, At.FPR, rel_tol=α),\n",
    "    math.isclose(Ce.FPR, Ae.FPR, rel_tol=α),\n",
    "    math.isclose(Cl.FPR, Al.FPR, rel_tol=α)\n",
    "]"
   ]
  },
  {
   "cell_type": "code",
   "execution_count": 36,
   "id": "31502426",
   "metadata": {},
   "outputs": [],
   "source": [
    "peCB = [\n",
    "    math.isclose(Cr.FPR, Br.FPR, rel_tol=α),\n",
    "    math.isclose(Ct.FPR, Bt.FPR, rel_tol=α),\n",
    "    math.isclose(Ce.FPR, Be.FPR, rel_tol=α),\n",
    "    math.isclose(Cl.FPR, Bl.FPR, rel_tol=α)\n",
    "]"
   ]
  },
  {
   "cell_type": "code",
   "execution_count": 37,
   "id": "69df0746",
   "metadata": {},
   "outputs": [],
   "source": [
    "peAB = [\n",
    "    math.isclose(Br.FPR, Ar.FPR, rel_tol=α),\n",
    "    math.isclose(Bt.FPR, At.FPR, rel_tol=α),\n",
    "    math.isclose(Be.FPR, Ae.FPR, rel_tol=α),\n",
    "    math.isclose(Bl.FPR, Al.FPR, rel_tol=α)  \n",
    "]"
   ]
  },
  {
   "cell_type": "code",
   "execution_count": 38,
   "id": "8f2720f9",
   "metadata": {},
   "outputs": [
    {
     "name": "stdout",
     "output_type": "stream",
     "text": [
      "      * * * Predictive Equality, Adult Income_FTU * * *\n",
      "Name\tG & A\tG & B\tA & B\tGround     Group A   Group B    \n",
      "------------------------------------------------------------\n",
      "relu\tFalse\tFalse\tFalse\t0.00177    0.00000   0.00289   \n",
      "tanh\tFalse\tFalse\tFalse\t0.08162    0.02960   0.11468   \n",
      "elu\tFalse\tFalse\tFalse\t0.07712    0.02608   0.10955   \n",
      "leaky\tFalse\tFalse\tFalse\t0.00121    0.00000   0.00197   \n"
     ]
    }
   ],
   "source": [
    "title = f\"* * * Predictive Equality, {source} * * *\"\n",
    "t = len(title)\n",
    "l = 60\n",
    "offset = l//2 - t//2\n",
    "print(\" \"*offset + title)\n",
    "one = \"G & A\"\n",
    "two = \"G & B\"\n",
    "three = \"A & B\"\n",
    "print(f\"Name\\t{one}\\t{two}\\t{three}\\t{tag[0]:10s} {tag[1]:10s}{tag[2]:11s}\")\n",
    "print(\"-\"*l)\n",
    "print(f\"{Ar.name}\\t{peCA[0]}\\t{peCB[0]}\\t{peAB[0]}\\t{Cr.FPR:<10.5f} {Ar.FPR:<10.5f}{Br.FPR:<10.5f}\")\n",
    "print(f\"{At.name}\\t{peCA[1]}\\t{peCB[1]}\\t{peAB[1]}\\t{Ct.FPR:<10.5f} {At.FPR:<10.5f}{Bt.FPR:<10.5f}\")\n",
    "print(f\"{Ae.name}\\t{peCA[2]}\\t{peCB[2]}\\t{peAB[2]}\\t{Ce.FPR:<10.5f} {Ae.FPR:<10.5f}{Be.FPR:<10.5f}\")\n",
    "print(f\"{Al.name}\\t{peCA[3]}\\t{peCB[3]}\\t{peAB[3]}\\t{Cl.FPR:<10.5f} {Al.FPR:<10.5f}{Bl.FPR:<10.5f}\")"
   ]
  },
  {
   "cell_type": "markdown",
   "id": "10289016",
   "metadata": {},
   "source": [
    "#### Equal opportunity"
   ]
  },
  {
   "cell_type": "markdown",
   "id": "f0cc4129",
   "metadata": {},
   "source": [
    "Equal Opportunity entails equal false negative rates (FNR) between groups. Mathematically, true postive rates (TPR) should also be equal."
   ]
  },
  {
   "cell_type": "code",
   "execution_count": 39,
   "id": "5bcbd5cc",
   "metadata": {},
   "outputs": [],
   "source": [
    "eoCA = [\n",
    "    math.isclose(Cr.FNR, Ar.FNR, rel_tol=α),\n",
    "    math.isclose(Ct.FNR, At.FNR, rel_tol=α),\n",
    "    math.isclose(Ce.FNR, Ae.FNR, rel_tol=α),\n",
    "    math.isclose(Cl.FNR, Al.FNR, rel_tol=α)\n",
    "]"
   ]
  },
  {
   "cell_type": "code",
   "execution_count": 40,
   "id": "9b2c864d",
   "metadata": {},
   "outputs": [],
   "source": [
    "eoCB = [\n",
    "    math.isclose(Cr.FNR, Br.FNR, rel_tol=α),\n",
    "    math.isclose(Ct.FNR, Bt.FNR, rel_tol=α),\n",
    "    math.isclose(Ce.FNR, Be.FNR, rel_tol=α),\n",
    "    math.isclose(Cl.FNR, Bl.FNR, rel_tol=α)\n",
    "]"
   ]
  },
  {
   "cell_type": "code",
   "execution_count": 41,
   "id": "fcf777b8",
   "metadata": {},
   "outputs": [],
   "source": [
    "eoAB = [\n",
    "    math.isclose(Br.FNR, Ar.FNR, rel_tol=α),\n",
    "    math.isclose(Bt.FNR, At.FNR, rel_tol=α),\n",
    "    math.isclose(Be.FNR, Ae.FNR, rel_tol=α),\n",
    "    math.isclose(Bl.FNR, Al.FNR, rel_tol=α)  \n",
    "]"
   ]
  },
  {
   "cell_type": "code",
   "execution_count": 42,
   "id": "76712304",
   "metadata": {
    "scrolled": true
   },
   "outputs": [
    {
     "name": "stdout",
     "output_type": "stream",
     "text": [
      "     * * * Equality Opportunity, Adult Income_FTU * * *\n",
      "Name\tG & A\tG & B\tA & B\tGround     Group A   Group B    \n",
      "------------------------------------------------------------\n",
      "relu\tFalse\tTrue\tFalse\t0.96308    1.00000   0.95639   \n",
      "tanh\tFalse\tFalse\tFalse\t0.39964    0.48814   0.38360   \n",
      "elu\tFalse\tFalse\tFalse\t0.40952    0.48644   0.39558   \n",
      "leaky\tFalse\tTrue\tFalse\t0.96464    0.99661   0.95885   \n"
     ]
    }
   ],
   "source": [
    "title = f\"* * * Equality Opportunity, {source} * * *\"\n",
    "t = len(title)\n",
    "l = 60\n",
    "offset = l//2 - t//2\n",
    "print(\" \"*offset + title)\n",
    "one = \"G & A\"\n",
    "two = \"G & B\"\n",
    "three = \"A & B\"\n",
    "print(f\"Name\\t{one}\\t{two}\\t{three}\\t{tag[0]:10s} {tag[1]:10s}{tag[2]:11s}\")\n",
    "print(\"-\"*l)\n",
    "print(f\"{Ar.name}\\t{eoCA[0]}\\t{eoCB[0]}\\t{eoAB[0]}\\t{Cr.FNR:<10.5f} {Ar.FNR:<10.5f}{Br.FNR:<10.5f}\")\n",
    "print(f\"{At.name}\\t{eoCA[1]}\\t{eoCB[1]}\\t{eoAB[1]}\\t{Ct.FNR:<10.5f} {At.FNR:<10.5f}{Bt.FNR:<10.5f}\")\n",
    "print(f\"{Ae.name}\\t{eoCA[2]}\\t{eoCB[2]}\\t{eoAB[2]}\\t{Ce.FNR:<10.5f} {Ae.FNR:<10.5f}{Be.FNR:<10.5f}\")\n",
    "print(f\"{Al.name}\\t{eoCA[3]}\\t{eoCB[3]}\\t{eoAB[3]}\\t{Cl.FNR:<10.5f} {Al.FNR:<10.5f}{Bl.FNR:<10.5f}\")"
   ]
  },
  {
   "cell_type": "markdown",
   "id": "49e78e84",
   "metadata": {},
   "source": [
    "#### Statistical Parity"
   ]
  },
  {
   "cell_type": "markdown",
   "id": "d418e9b9",
   "metadata": {},
   "source": [
    "Statistical Parity compares the accuracy of different groups."
   ]
  },
  {
   "cell_type": "code",
   "execution_count": 43,
   "id": "51ac8fef",
   "metadata": {},
   "outputs": [],
   "source": [
    "Ar_acc = (Ar.TP + Ar.TN) / (Ar.TP + Ar.TN + Ar.FP + Ar.FN)\n",
    "At_acc = (At.TP + At.TN) / (At.TP + At.TN + At.FP + At.FN)\n",
    "Ae_acc = (Ae.TP + Ae.TN) / (Ae.TP + Ae.TN + Ae.FP + Ae.FN)\n",
    "Al_acc = (Al.TP + Al.TN) / (Al.TP + Al.TN + Al.FP + Al.FN)"
   ]
  },
  {
   "cell_type": "code",
   "execution_count": 44,
   "id": "0a664c0d",
   "metadata": {},
   "outputs": [],
   "source": [
    "Br_acc = (Br.TP + Br.TN) / (Br.TP + Br.TN + Br.FP + Br.FN)\n",
    "Bt_acc = (Bt.TP + Bt.TN) / (Bt.TP + Bt.TN + Bt.FP + Bt.FN)\n",
    "Be_acc = (Be.TP + Be.TN) / (Be.TP + Be.TN + Be.FP + Be.FN)\n",
    "Bl_acc = (Bl.TP + Bl.TN) / (Bl.TP + Bl.TN + Bl.FP + Bl.FN)"
   ]
  },
  {
   "cell_type": "code",
   "execution_count": 45,
   "id": "f2d529e4",
   "metadata": {},
   "outputs": [],
   "source": [
    "Cr_acc = (Cr.TP + Cr.TN) / (Cr.TP + Cr.TN + Cr.FP + Cr.FN)\n",
    "Ct_acc = (Ct.TP + Ct.TN) / (Ct.TP + Ct.TN + Ct.FP + Ct.FN)\n",
    "Ce_acc = (Ce.TP + Ce.TN) / (Ce.TP + Ce.TN + Ce.FP + Ce.FN)\n",
    "Cl_acc = (Cl.TP + Cl.TN) / (Cl.TP + Cl.TN + Cl.FP + Cl.FN)"
   ]
  },
  {
   "cell_type": "code",
   "execution_count": 46,
   "id": "a0b76dd0",
   "metadata": {},
   "outputs": [],
   "source": [
    "spCA = [\n",
    "    math.isclose(Cr_acc, Ar_acc, rel_tol=α),\n",
    "    math.isclose(Ct_acc, At_acc, rel_tol=α),\n",
    "    math.isclose(Ce_acc, Ae_acc, rel_tol=α),\n",
    "    math.isclose(Cl_acc, Al_acc, rel_tol=α)  \n",
    "]"
   ]
  },
  {
   "cell_type": "code",
   "execution_count": 47,
   "id": "b1b803cd",
   "metadata": {},
   "outputs": [],
   "source": [
    "spCB = [\n",
    "    math.isclose(Cr_acc, Br_acc, rel_tol=α),\n",
    "    math.isclose(Ct_acc, Bt_acc, rel_tol=α),\n",
    "    math.isclose(Ce_acc, Be_acc, rel_tol=α),\n",
    "    math.isclose(Cl_acc, Bl_acc, rel_tol=α)  \n",
    "]"
   ]
  },
  {
   "cell_type": "code",
   "execution_count": 48,
   "id": "4f655acb",
   "metadata": {},
   "outputs": [],
   "source": [
    "spAB = [\n",
    "    math.isclose(Ar_acc, Br_acc, rel_tol=α),\n",
    "    math.isclose(At_acc, Bt_acc, rel_tol=α),\n",
    "    math.isclose(Ae_acc, Be_acc, rel_tol=α),\n",
    "    math.isclose(Al_acc, Bl_acc, rel_tol=α)  \n",
    "]"
   ]
  },
  {
   "cell_type": "code",
   "execution_count": 84,
   "id": "7a575ed2",
   "metadata": {},
   "outputs": [
    {
     "name": "stdout",
     "output_type": "stream",
     "text": [
      "      * * * Statistical Parity, Adult Income_FTU * * *\n",
      "Name\tG & A\tG & B\tA & B\tGround     Group A   Group B    \n",
      "------------------------------------------------------------\n",
      "relu\tFalse\tFalse\tFalse   0.77114\t   0.89116   0.71123\n",
      "tanh\tFalse\tFalse\tFalse   0.84325\t   0.92049   0.71123\n",
      "elu\tFalse\tFalse\tFalse   0.84436\t   0.92381   0.71123\n",
      "leaky\tFalse\tFalse\tFalse   0.77121\t   0.89153   0.71123\n"
     ]
    }
   ],
   "source": [
    "title = f\"* * * Statistical Parity, {source} * * *\"\n",
    "t = len(title)\n",
    "l = 60\n",
    "offset = l//2 - t//2\n",
    "print(\" \"*offset + title)\n",
    "one = \"Ground\"\n",
    "two = \"Group A\"\n",
    "three = \"Group B\"\n",
    "one = \"G & A\"\n",
    "two = \"G & B\"\n",
    "three = \"A & B\"\n",
    "print(f\"Name\\t{one}\\t{two}\\t{three}\\t{tag[0]:10s} {tag[1]:10s}{tag[2]:11s}\")\n",
    "\n",
    "print(\"-\"*l)\n",
    "print(f\"{Ar.name}\\t{spCA[0]}\\t{spCB[0]}\\t{spAB[0]}{Cr_acc:10.5f}\\t{Ar_acc:10.5f}{Br_acc:10.5f}\")\n",
    "print(f\"{At.name}\\t{spCA[1]}\\t{spCB[1]}\\t{spAB[1]}{Ct_acc:10.5f}\\t{At_acc:10.5f}{Br_acc:10.5f}\")\n",
    "print(f\"{Ae.name}\\t{spCA[2]}\\t{spCB[2]}\\t{spAB[2]}{Ce_acc:10.5f}\\t{Ae_acc:10.5f}{Br_acc:10.5f}\")\n",
    "print(f\"{Al.name}\\t{spCA[3]}\\t{spCB[3]}\\t{spAB[2]}{Cl_acc:10.5f}\\t{Al_acc:10.5f}{Br_acc:10.5f}\")"
   ]
  },
  {
   "cell_type": "code",
   "execution_count": 50,
   "id": "effce09e",
   "metadata": {},
   "outputs": [],
   "source": [
    "Cacc_vis = [Cr_acc, Ct_acc, Ce_acc, Cl_acc]\n",
    "Aacc_vis = [Ar_acc, At_acc, Ae_acc, Al_acc]\n",
    "Bacc_vis = [Br_acc, Bt_acc, Be_acc, Bl_acc]"
   ]
  },
  {
   "cell_type": "markdown",
   "id": "bfa15ecf",
   "metadata": {},
   "source": [
    "#### Compare Variances"
   ]
  },
  {
   "cell_type": "code",
   "execution_count": 51,
   "id": "3e2997ab",
   "metadata": {},
   "outputs": [
    {
     "data": {
      "text/plain": [
       "target        0.096991\n",
       "pred_relu     0.000000\n",
       "pred_tanh     0.075350\n",
       "pred_elu      0.072874\n",
       "pred_leaky    0.000369\n",
       "dtype: float64"
      ]
     },
     "execution_count": 51,
     "metadata": {},
     "output_type": "execute_result"
    }
   ],
   "source": [
    "np.var(Aset)"
   ]
  },
  {
   "cell_type": "code",
   "execution_count": 52,
   "id": "f904f519",
   "metadata": {},
   "outputs": [
    {
     "data": {
      "text/plain": [
       "target        0.209926\n",
       "pred_relu     0.014873\n",
       "pred_tanh     0.194823\n",
       "pred_elu      0.191397\n",
       "pred_leaky    0.013532\n",
       "dtype: float64"
      ]
     },
     "execution_count": 52,
     "metadata": {},
     "output_type": "execute_result"
    }
   ],
   "source": [
    "np.var(Bset)"
   ]
  },
  {
   "cell_type": "code",
   "execution_count": 53,
   "id": "c7897766",
   "metadata": {},
   "outputs": [
    {
     "data": {
      "text/plain": [
       "target        0.180423\n",
       "pred_relu     0.009972\n",
       "pred_tanh     0.162481\n",
       "pred_elu      0.159032\n",
       "pred_leaky    0.009189\n",
       "dtype: float64"
      ]
     },
     "execution_count": 53,
     "metadata": {},
     "output_type": "execute_result"
    }
   ],
   "source": [
    "np.var(base)"
   ]
  },
  {
   "cell_type": "code",
   "execution_count": 54,
   "id": "e089011d",
   "metadata": {},
   "outputs": [
    {
     "data": {
      "text/plain": [
       "target        False\n",
       "pred_relu     False\n",
       "pred_tanh     False\n",
       "pred_elu      False\n",
       "pred_leaky    False\n",
       "dtype: bool"
      ]
     },
     "execution_count": 54,
     "metadata": {},
     "output_type": "execute_result"
    }
   ],
   "source": [
    "np.var(base) == np.var(Aset)"
   ]
  },
  {
   "cell_type": "code",
   "execution_count": 55,
   "id": "cbcc1ea4",
   "metadata": {},
   "outputs": [
    {
     "data": {
      "text/plain": [
       "target        False\n",
       "pred_relu     False\n",
       "pred_tanh     False\n",
       "pred_elu      False\n",
       "pred_leaky    False\n",
       "dtype: bool"
      ]
     },
     "execution_count": 55,
     "metadata": {},
     "output_type": "execute_result"
    }
   ],
   "source": [
    "np.var(base) == np.var(Bset)"
   ]
  },
  {
   "cell_type": "code",
   "execution_count": 56,
   "id": "79de316e",
   "metadata": {},
   "outputs": [
    {
     "data": {
      "text/plain": [
       "target        False\n",
       "pred_relu     False\n",
       "pred_tanh     False\n",
       "pred_elu      False\n",
       "pred_leaky    False\n",
       "dtype: bool"
      ]
     },
     "execution_count": 56,
     "metadata": {},
     "output_type": "execute_result"
    }
   ],
   "source": [
    "np.var(Aset) == np.var(Bset)"
   ]
  },
  {
   "cell_type": "markdown",
   "id": "53ccfce8",
   "metadata": {},
   "source": [
    "# Hypothesis Testing"
   ]
  },
  {
   "cell_type": "code",
   "execution_count": 67,
   "id": "161d67ab",
   "metadata": {},
   "outputs": [],
   "source": [
    "import shap\n",
    "\n",
    "import Levenshtein as lev\n",
    "\n",
    "from pyjarowinkler import distance as dist\n",
    "from scipy.stats import binom, chisquare, kstest\n",
    "from statsmodels.stats.weightstats import ztest"
   ]
  },
  {
   "cell_type": "markdown",
   "id": "ff24ebf3",
   "metadata": {},
   "source": [
    "#### Hypothesis test function"
   ]
  },
  {
   "cell_type": "code",
   "execution_count": 68,
   "id": "6f00ba51",
   "metadata": {},
   "outputs": [],
   "source": [
    "def hypothesis_test(p, α=0.05):\n",
    "    if p >= α:\n",
    "        res = \"Fail to reject\"\n",
    "    if p < α:\n",
    "        res = \"Reject\"\n",
    "        \n",
    "    return res"
   ]
  },
  {
   "cell_type": "code",
   "execution_count": 69,
   "id": "7425280c",
   "metadata": {},
   "outputs": [],
   "source": [
    "fs = [\"Actual\", \"ReLU\", \"Tanh\", \"ELU\", \"Leaky ReLU\"]\n",
    "tag = [\"Ground\", \"Group A\", \"Group B\"]\n",
    "data_list =[base, Aset, Bset]"
   ]
  },
  {
   "cell_type": "markdown",
   "id": "f25ff430",
   "metadata": {},
   "source": [
    "### Z-tests"
   ]
  },
  {
   "cell_type": "code",
   "execution_count": 98,
   "id": "ab5bcbdb",
   "metadata": {
    "scrolled": true
   },
   "outputs": [
    {
     "name": "stdout",
     "output_type": "stream",
     "text": [
      "          * * * Adult Income_FTU Z-tests * * *\n",
      "      Groups\t     Z-score\t P-val \t   Results\n",
      "---------------------------------------------------------\n",
      "Ground  x Ground  :  0.00000\t 1.00000   Fail to reject\n",
      "Ground  x Group A : 20.33546\t 0.00000   Reject\n",
      "Ground  x Group B : -11.70586\t 0.00000   Reject\n",
      "\n",
      "Group A x Ground  : -20.33546\t 0.00000   Reject\n",
      "Group A x Group A :  0.00000\t 1.00000   Fail to reject\n",
      "Group A x Group B : -27.66328\t 0.00000   Reject\n",
      "\n",
      "Group B x Ground  : 11.70586\t 0.00000   Reject\n",
      "Group B x Group A : 27.66328\t 0.00000   Reject\n",
      "Group B x Group B :  0.00000\t 1.00000   Fail to reject\n",
      "\n"
     ]
    }
   ],
   "source": [
    "title = f\"* * * {source} Z-tests * * *\"\n",
    "t = len(title)\n",
    "l = 57\n",
    "offset = l//2 - t//2\n",
    "print(\" \"*offset + title)\n",
    "print(\"      Groups\\t     Z-score\\t P-val \\t   Results\")\n",
    "print(\"-\"*l)\n",
    "\n",
    "for n1, d1 in zip(tag, data_list):\n",
    "    for n2, d2 in zip(tag, data_list):\n",
    "        (z, p) = ztest(d1.target, d2.target)\n",
    "        print(f\"{n1:7s} x {n2:8s}: {z:>8.5f}\\t{p:>8.5f}   {hypothesis_test(p, α)}\")\n",
    "    print()"
   ]
  },
  {
   "cell_type": "markdown",
   "id": "e0a493fe",
   "metadata": {},
   "source": [
    "### Selection Rates and Impact"
   ]
  },
  {
   "cell_type": "code",
   "execution_count": 85,
   "id": "ada4542b",
   "metadata": {},
   "outputs": [],
   "source": [
    "CbSR = base.target.sum() / base.shape[0]\n",
    "CrSR = base.pred_relu.sum() / base.shape[0]\n",
    "CtSR = base.pred_tanh.sum() / base.shape[0]\n",
    "CeSR = base.pred_elu.sum() / base.shape[0]\n",
    "ClSR = base.pred_leaky.sum() / base.shape[0]\n",
    "\n",
    "baseSR =[CbSR, CrSR, CtSR, CeSR, ClSR]"
   ]
  },
  {
   "cell_type": "code",
   "execution_count": 86,
   "id": "f5b13912",
   "metadata": {},
   "outputs": [],
   "source": [
    "AbSR = Aset.target.sum() / Aset.shape[0]\n",
    "ArSR = Aset.pred_relu.sum() / Aset.shape[0]\n",
    "AtSR = Aset.pred_tanh.sum() / Aset.shape[0]\n",
    "AeSR = Aset.pred_elu.sum() / Aset.shape[0]\n",
    "AlSR = Aset.pred_leaky.sum() / Aset.shape[0]\n",
    "\n",
    "aSR =[AbSR, ArSR, AtSR, AeSR, AlSR]"
   ]
  },
  {
   "cell_type": "code",
   "execution_count": 87,
   "id": "113d23ee",
   "metadata": {},
   "outputs": [],
   "source": [
    "BbSR = Bset.target.sum() / Bset.shape[0]\n",
    "BrSR = Bset.pred_relu.sum() / Bset.shape[0]\n",
    "BtSR = Bset.pred_tanh.sum() / Bset.shape[0]\n",
    "BeSR = Bset.pred_elu.sum() / Bset.shape[0]\n",
    "BlSR = Bset.pred_leaky.sum() / Bset.shape[0]\n",
    "\n",
    "bSR =[BbSR, BrSR, BtSR, BeSR, BlSR]"
   ]
  },
  {
   "cell_type": "code",
   "execution_count": 88,
   "id": "e28abb69",
   "metadata": {},
   "outputs": [],
   "source": [
    "srCA = [\n",
    "    math.isclose(CbSR, AbSR, rel_tol=α),\n",
    "    math.isclose(CrSR, ArSR, rel_tol=α),\n",
    "    math.isclose(CtSR, AtSR, rel_tol=α),\n",
    "    math.isclose(CeSR, AtSR, rel_tol=α),\n",
    "    math.isclose(ClSR, AlSR, rel_tol=α)    \n",
    "]"
   ]
  },
  {
   "cell_type": "code",
   "execution_count": 89,
   "id": "e94f0e21",
   "metadata": {},
   "outputs": [],
   "source": [
    "srCB = [\n",
    "    math.isclose(CbSR, BbSR, rel_tol=α),\n",
    "    math.isclose(CrSR, BrSR, rel_tol=α),\n",
    "    math.isclose(CtSR, BtSR, rel_tol=α),\n",
    "    math.isclose(CeSR, BtSR, rel_tol=α),\n",
    "    math.isclose(ClSR, BlSR, rel_tol=α)    \n",
    "]"
   ]
  },
  {
   "cell_type": "code",
   "execution_count": 90,
   "id": "527af067",
   "metadata": {},
   "outputs": [],
   "source": [
    "srAB = [\n",
    "    math.isclose(BbSR, AbSR, rel_tol=α),\n",
    "    math.isclose(BrSR, ArSR, rel_tol=α),\n",
    "    math.isclose(BtSR, AtSR, rel_tol=α),\n",
    "    math.isclose(BeSR, AtSR, rel_tol=α),\n",
    "    math.isclose(BlSR, AlSR, rel_tol=α)    \n",
    "]"
   ]
  },
  {
   "cell_type": "code",
   "execution_count": 91,
   "id": "3dc857e8",
   "metadata": {},
   "outputs": [
    {
     "name": "stdout",
     "output_type": "stream",
     "text": [
      "       * * * Selection Rate and Impact, Adult Income_FTU * * *\n",
      "Name\t\tG & A\tG & B\tA & B\tGround     Group A   Group B    \n",
      "--------------------------------------------------------------------\n",
      "Actual\t\tFalse\tFalse\tFalse\t0.29982\t   0.10884   0.29982\n",
      "ReLU\t\tFalse\tFalse\tFalse\t0.01510\t   0.00000   0.01510\n",
      "Tanh\t\tFalse\tFalse\tFalse\t0.26510\t   0.08209   0.26510\n",
      "ELU\t\tFalse\tFalse\tFalse\t0.25792\t   0.07914   0.25792\n",
      "Leaky ReLU\tFalse\tFalse\tFalse\t0.01372\t   0.00037   0.01372\n"
     ]
    }
   ],
   "source": [
    "title = f\"* * * Selection Rate and Impact, {source} * * *\"\n",
    "t = len(title)\n",
    "l = 68\n",
    "offset = l//2 - t//2\n",
    "print(\" \"*offset + title)\n",
    "one = \"Ground\"\n",
    "two = \"Group A\"\n",
    "three = \"Group B\"\n",
    "one = \"G & A\"\n",
    "two = \"G & B\"\n",
    "three = \"A & B\"\n",
    "print(f\"Name\\t\\t{one}\\t{two}\\t{three}\\t{tag[0]:10s} {tag[1]:10s}{tag[2]:11s}\")\n",
    "\n",
    "print(\"-\"*l)\n",
    "for i in range(0,5):\n",
    "    if i != 4:\n",
    "        print(f\"{fs[i]}\\t\\t{srCA[i]}\\t{srCB[i]}\\t{srAB[i]}\\t{bSR[i]:0.5f}\\t{aSR[i]:10.5f}{bSR[i]:10.5f}\")\n",
    "    else:\n",
    "        print(f\"{fs[i]}\\t{srCA[i]}\\t{srCB[i]}\\t{srAB[i]}\\t{bSR[i]:0.5f}\\t{aSR[i]:10.5f}{bSR[i]:10.5f}\")"
   ]
  },
  {
   "cell_type": "markdown",
   "id": "d7c8c00c",
   "metadata": {},
   "source": [
    "## Similarity Metrics"
   ]
  },
  {
   "cell_type": "markdown",
   "id": "25cfa0d1",
   "metadata": {},
   "source": [
    "#### Convert to string"
   ]
  },
  {
   "cell_type": "code",
   "execution_count": 72,
   "id": "69bb1708",
   "metadata": {},
   "outputs": [],
   "source": [
    "Astr = [[\"\"] * Aset.shape[0]] * Aset.shape[1]\n",
    "Bstr = [[\"\"] * Bset.shape[0]] * Bset.shape[1]"
   ]
  },
  {
   "cell_type": "code",
   "execution_count": 73,
   "id": "10122c36",
   "metadata": {},
   "outputs": [],
   "source": [
    "for f in range(len(features)):\n",
    "    Astr[f] = ''.join(GroupA[features[f]].values.astype('int').astype('str'))\n",
    "    Bstr[f] = ''.join(GroupB[features[f]].values.astype('int').astype('str'))"
   ]
  },
  {
   "cell_type": "markdown",
   "id": "fd7481ec",
   "metadata": {},
   "source": [
    "#### Test defaults\n",
    "Levenshtein result should be 0"
   ]
  },
  {
   "cell_type": "code",
   "execution_count": 74,
   "id": "9cf4a6ed",
   "metadata": {},
   "outputs": [
    {
     "data": {
      "text/plain": [
       "0"
      ]
     },
     "execution_count": 74,
     "metadata": {},
     "output_type": "execute_result"
    }
   ],
   "source": [
    "lev.distance(Astr[1], Astr[1])"
   ]
  },
  {
   "cell_type": "markdown",
   "id": "533b646a",
   "metadata": {},
   "source": [
    "Jaro similarity result should be 1.0"
   ]
  },
  {
   "cell_type": "code",
   "execution_count": 75,
   "id": "2c591003",
   "metadata": {},
   "outputs": [
    {
     "data": {
      "text/plain": [
       "1.0"
      ]
     },
     "execution_count": 75,
     "metadata": {},
     "output_type": "execute_result"
    }
   ],
   "source": [
    "dist.get_jaro_distance(Astr[1], Astr[1])"
   ]
  },
  {
   "cell_type": "code",
   "execution_count": 76,
   "id": "77b377bc",
   "metadata": {},
   "outputs": [
    {
     "name": "stdout",
     "output_type": "stream",
     "text": [
      "target     : 0\n",
      "pred_relu  : 1\n",
      "pred_tanh  : 2\n",
      "pred_elu   : 3\n",
      "pred_leaky : 4\n"
     ]
    }
   ],
   "source": [
    "for i, f in enumerate(features):\n",
    "    print(f\"{f:10s} : {i}\")"
   ]
  },
  {
   "cell_type": "code",
   "execution_count": 92,
   "id": "6eae8fb5",
   "metadata": {},
   "outputs": [
    {
     "name": "stdout",
     "output_type": "stream",
     "text": [
      "        Similarity and Distance Metrics\n",
      "               Adult Income_FTU\n",
      "----------------------------------------------\n",
      "Function\tLev.\tJaro\t  Jaro-Winkler\n",
      "target    :\t5439\t0.80071\t  0.84000\n",
      "pred_relu :\t5439\t0.83306\t  0.90000\n",
      "pred_tanh :\t5439\t0.80815\t  0.88000\n",
      "pred_elu  :\t5439\t0.80920\t  0.89000\n",
      "pred_leaky:\t5439\t0.83293\t  0.90000\n"
     ]
    }
   ],
   "source": [
    "l = 46\n",
    "title = \"Similarity and Distance Metrics\"\n",
    "t = len(title)\n",
    "offset = l//2 - t//2\n",
    "print(\" \"*offset + title)\n",
    "\n",
    "title = f\"{source}\"\n",
    "t = len(title)\n",
    "offset = l//2 - t//2\n",
    "print(\" \"*offset + title)\n",
    "\n",
    "\n",
    "print(\"-\" * l)\n",
    "print(\"Function\\tLev.\\tJaro\\t  Jaro-Winkler\")\n",
    "for i, f in enumerate(features):\n",
    "    print(f\"{f:10s}:\\t{lev.distance(Astr[i], Bstr[i])}\\t\" \\\n",
    "          f\"{dist.get_jaro_distance(Astr[i], Bstr[i], winkler=False):7.5f}\\t\" \\\n",
    "          f\"{dist.get_jaro_distance(Astr[i], Bstr[i], winkler=True):9.5f}\")\n",
    "    "
   ]
  },
  {
   "cell_type": "markdown",
   "id": "0d2228f2",
   "metadata": {},
   "source": [
    "## Distribution Tests"
   ]
  },
  {
   "cell_type": "markdown",
   "id": "a0b5ac5d",
   "metadata": {},
   "source": [
    "Test results for shape of distribution"
   ]
  },
  {
   "cell_type": "code",
   "execution_count": 78,
   "id": "8b1d4e6d",
   "metadata": {},
   "outputs": [
    {
     "name": "stdout",
     "output_type": "stream",
     "text": [
      "Binom  - target    :       0.23623    0.00\n",
      "Norm   - target    :       0.50000    0.00\n",
      "Chi^2  - target    :       0.00000    1.00  same as actual\n",
      "\n",
      "Binom  - pred_relu :       0.98993    0.00  X\n",
      "Norm   - pred_relu :       0.50000    0.00\n",
      "Chi^2  - pred_relu :    3380.82893    0.00\n",
      "\n",
      "Binom  - pred_tanh :       0.20416    0.00\n",
      "Norm   - pred_tanh :       0.50000    0.00\n",
      "Chi^2  - pred_tanh :      38.00335    0.00\n",
      "\n",
      "Binom  - pred_elu  :       0.80161    0.00  X\n",
      "Norm   - pred_elu  :       0.50000    0.00\n",
      "Chi^2  - pred_elu  :      53.62578    0.00\n",
      "\n",
      "Binom  - pred_leaky:       0.99073    0.00  X\n",
      "Norm   - pred_leaky:       0.50000    0.00\n",
      "Chi^2  - pred_leaky:    3415.81811    0.00\n",
      "\n"
     ]
    }
   ],
   "source": [
    "for f in features:\n",
    "    test = data[f]\n",
    "\n",
    "    x = test.values\n",
    "    n = test.sum()\n",
    "    p = n / test.shape[0]\n",
    "\n",
    "    stat, pval = kstest(rvs=x, cdf=binom.cdf(x, n, p))\n",
    "    print(f\"Binom  - {test.name:10}:{stat:14.5f}{pval:8.2f}\", end=\"\")\n",
    "    if stat > 0.5:\n",
    "        print(\"  X\")\n",
    "    else:\n",
    "        print()\n",
    "\n",
    "    stat, pval = kstest(rvs=x, cdf='norm')\n",
    "    print(f\"Norm   - {test.name:10}:{stat:14.5f}{pval:8.2f}\", end=\"\")    \n",
    "    if stat > 0.5:\n",
    "        print(\"  X\")\n",
    "    else:\n",
    "        print()\n",
    "    \n",
    "    freqB = data.target.sum()\n",
    "    stat, pval = chisquare([n, freqB])\n",
    "    print(f\"Chi^2  - {test.name:10}:{stat:14.5f}{pval:8.2f}\", end=\"\")\n",
    "    if pval > stat:\n",
    "        print(\"  same as actual\\n\")\n",
    "    else:\n",
    "        print(\"\\n\")"
   ]
  },
  {
   "cell_type": "markdown",
   "id": "7a7422e9",
   "metadata": {},
   "source": [
    "# Descriptive Statistics"
   ]
  },
  {
   "cell_type": "code",
   "execution_count": 79,
   "id": "bf170cee",
   "metadata": {},
   "outputs": [],
   "source": [
    "def get_stats(df, src, func):\n",
    "    n = df.shape[0]\n",
    "    k = df.sum()\n",
    "    p = k / n\n",
    "    q = 1 - p\n",
    "    \n",
    "    mean, var, skew, kurt = binom.stats(n, p, moments=\"mvsk\")\n",
    "    std = np.std(df.values)\n",
    "    \n",
    "    return [src, func, float(mean), float(std), float(var), float(skew), float(kurt)]"
   ]
  },
  {
   "cell_type": "code",
   "execution_count": 80,
   "id": "241a0e15",
   "metadata": {},
   "outputs": [],
   "source": [
    "cols = [\"Source\", \"Function\", \"Mean\", \"STD\", \"Variance\", \"Skew\", \"Kurtosis\"]"
   ]
  },
  {
   "cell_type": "code",
   "execution_count": 81,
   "id": "20ab7247",
   "metadata": {},
   "outputs": [],
   "source": [
    "df = pd.DataFrame(columns=cols)\n",
    "\n",
    "for i, d in enumerate(data_list):\n",
    "    for j, f in enumerate(fs):\n",
    "        temp = get_stats(d[features[j]], tag[i], f)\n",
    "        tmp = pd.Series(temp, index=df.columns)\n",
    "        df = df.append(tmp, ignore_index=True)"
   ]
  },
  {
   "cell_type": "code",
   "execution_count": 99,
   "id": "a610c98d",
   "metadata": {
    "scrolled": false
   },
   "outputs": [
    {
     "name": "stdout",
     "output_type": "stream",
     "text": [
      "   * Adult Income_FTU Baseline Descriptive Statistics *\n",
      "----------------------------------------------------------\n"
     ]
    },
    {
     "data": {
      "text/html": [
       "<div>\n",
       "<style scoped>\n",
       "    .dataframe tbody tr th:only-of-type {\n",
       "        vertical-align: middle;\n",
       "    }\n",
       "\n",
       "    .dataframe tbody tr th {\n",
       "        vertical-align: top;\n",
       "    }\n",
       "\n",
       "    .dataframe thead th {\n",
       "        text-align: right;\n",
       "    }\n",
       "</style>\n",
       "<table border=\"1\" class=\"dataframe\">\n",
       "  <thead>\n",
       "    <tr style=\"text-align: right;\">\n",
       "      <th></th>\n",
       "      <th>Source</th>\n",
       "      <th>Function</th>\n",
       "      <th>Mean</th>\n",
       "      <th>STD</th>\n",
       "      <th>Variance</th>\n",
       "      <th>Skew</th>\n",
       "      <th>Kurtosis</th>\n",
       "    </tr>\n",
       "  </thead>\n",
       "  <tbody>\n",
       "    <tr>\n",
       "      <th>0</th>\n",
       "      <td>Ground</td>\n",
       "      <td>Actual</td>\n",
       "      <td>3846.0</td>\n",
       "      <td>0.424763</td>\n",
       "      <td>2937.473742</td>\n",
       "      <td>0.009734</td>\n",
       "      <td>-0.000028</td>\n",
       "    </tr>\n",
       "    <tr>\n",
       "      <th>1</th>\n",
       "      <td>Ground</td>\n",
       "      <td>ReLU</td>\n",
       "      <td>164.0</td>\n",
       "      <td>0.099858</td>\n",
       "      <td>162.348013</td>\n",
       "      <td>0.076902</td>\n",
       "      <td>0.005791</td>\n",
       "    </tr>\n",
       "    <tr>\n",
       "      <th>2</th>\n",
       "      <td>Ground</td>\n",
       "      <td>Tanh</td>\n",
       "      <td>3324.0</td>\n",
       "      <td>0.40309</td>\n",
       "      <td>2645.357656</td>\n",
       "      <td>0.011504</td>\n",
       "      <td>0.000009</td>\n",
       "    </tr>\n",
       "    <tr>\n",
       "      <th>3</th>\n",
       "      <td>Ground</td>\n",
       "      <td>ELU</td>\n",
       "      <td>3230.0</td>\n",
       "      <td>0.398788</td>\n",
       "      <td>2589.197838</td>\n",
       "      <td>0.011855</td>\n",
       "      <td>0.000018</td>\n",
       "    </tr>\n",
       "    <tr>\n",
       "      <th>4</th>\n",
       "      <td>Ground</td>\n",
       "      <td>Leaky ReLU</td>\n",
       "      <td>151.0</td>\n",
       "      <td>0.095857</td>\n",
       "      <td>149.599533</td>\n",
       "      <td>0.080242</td>\n",
       "      <td>0.006316</td>\n",
       "    </tr>\n",
       "    <tr>\n",
       "      <th>5</th>\n",
       "      <td>Group A</td>\n",
       "      <td>Actual</td>\n",
       "      <td>590.0</td>\n",
       "      <td>0.311433</td>\n",
       "      <td>525.786755</td>\n",
       "      <td>0.034118</td>\n",
       "      <td>0.000795</td>\n",
       "    </tr>\n",
       "    <tr>\n",
       "      <th>6</th>\n",
       "      <td>Group A</td>\n",
       "      <td>ReLU</td>\n",
       "      <td>0.0</td>\n",
       "      <td>0.0</td>\n",
       "      <td>0.0</td>\n",
       "      <td>inf</td>\n",
       "      <td>inf</td>\n",
       "    </tr>\n",
       "    <tr>\n",
       "      <th>7</th>\n",
       "      <td>Group A</td>\n",
       "      <td>Tanh</td>\n",
       "      <td>445.0</td>\n",
       "      <td>0.274499</td>\n",
       "      <td>408.470762</td>\n",
       "      <td>0.041356</td>\n",
       "      <td>0.001341</td>\n",
       "    </tr>\n",
       "    <tr>\n",
       "      <th>8</th>\n",
       "      <td>Group A</td>\n",
       "      <td>ELU</td>\n",
       "      <td>429.0</td>\n",
       "      <td>0.269952</td>\n",
       "      <td>395.05036</td>\n",
       "      <td>0.042349</td>\n",
       "      <td>0.001425</td>\n",
       "    </tr>\n",
       "    <tr>\n",
       "      <th>9</th>\n",
       "      <td>Group A</td>\n",
       "      <td>Leaky ReLU</td>\n",
       "      <td>2.0</td>\n",
       "      <td>0.019204</td>\n",
       "      <td>1.999262</td>\n",
       "      <td>0.706715</td>\n",
       "      <td>0.499078</td>\n",
       "    </tr>\n",
       "    <tr>\n",
       "      <th>10</th>\n",
       "      <td>Group B</td>\n",
       "      <td>Actual</td>\n",
       "      <td>3256.0</td>\n",
       "      <td>0.458177</td>\n",
       "      <td>2279.799632</td>\n",
       "      <td>0.008385</td>\n",
       "      <td>-0.000114</td>\n",
       "    </tr>\n",
       "    <tr>\n",
       "      <th>11</th>\n",
       "      <td>Group B</td>\n",
       "      <td>ReLU</td>\n",
       "      <td>164.0</td>\n",
       "      <td>0.121956</td>\n",
       "      <td>161.523389</td>\n",
       "      <td>0.076307</td>\n",
       "      <td>0.005639</td>\n",
       "    </tr>\n",
       "    <tr>\n",
       "      <th>12</th>\n",
       "      <td>Group B</td>\n",
       "      <td>Tanh</td>\n",
       "      <td>2879.0</td>\n",
       "      <td>0.441387</td>\n",
       "      <td>2115.773389</td>\n",
       "      <td>0.010214</td>\n",
       "      <td>-0.00008</td>\n",
       "    </tr>\n",
       "    <tr>\n",
       "      <th>13</th>\n",
       "      <td>Group B</td>\n",
       "      <td>ELU</td>\n",
       "      <td>2801.0</td>\n",
       "      <td>0.437489</td>\n",
       "      <td>2078.568969</td>\n",
       "      <td>0.01062</td>\n",
       "      <td>-0.000071</td>\n",
       "    </tr>\n",
       "    <tr>\n",
       "      <th>14</th>\n",
       "      <td>Group B</td>\n",
       "      <td>Leaky ReLU</td>\n",
       "      <td>149.0</td>\n",
       "      <td>0.116326</td>\n",
       "      <td>146.955709</td>\n",
       "      <td>0.080227</td>\n",
       "      <td>0.006252</td>\n",
       "    </tr>\n",
       "  </tbody>\n",
       "</table>\n",
       "</div>"
      ],
      "text/plain": [
       "     Source    Function    Mean       STD     Variance      Skew  Kurtosis\n",
       "0    Ground      Actual  3846.0  0.424763  2937.473742  0.009734 -0.000028\n",
       "1    Ground        ReLU   164.0  0.099858   162.348013  0.076902  0.005791\n",
       "2    Ground        Tanh  3324.0   0.40309  2645.357656  0.011504  0.000009\n",
       "3    Ground         ELU  3230.0  0.398788  2589.197838  0.011855  0.000018\n",
       "4    Ground  Leaky ReLU   151.0  0.095857   149.599533  0.080242  0.006316\n",
       "5   Group A      Actual   590.0  0.311433   525.786755  0.034118  0.000795\n",
       "6   Group A        ReLU     0.0       0.0          0.0       inf       inf\n",
       "7   Group A        Tanh   445.0  0.274499   408.470762  0.041356  0.001341\n",
       "8   Group A         ELU   429.0  0.269952    395.05036  0.042349  0.001425\n",
       "9   Group A  Leaky ReLU     2.0  0.019204     1.999262  0.706715  0.499078\n",
       "10  Group B      Actual  3256.0  0.458177  2279.799632  0.008385 -0.000114\n",
       "11  Group B        ReLU   164.0  0.121956   161.523389  0.076307  0.005639\n",
       "12  Group B        Tanh  2879.0  0.441387  2115.773389  0.010214  -0.00008\n",
       "13  Group B         ELU  2801.0  0.437489  2078.568969   0.01062 -0.000071\n",
       "14  Group B  Leaky ReLU   149.0  0.116326   146.955709  0.080227  0.006252"
      ]
     },
     "metadata": {},
     "output_type": "display_data"
    }
   ],
   "source": [
    "l = 56\n",
    "title = f\"* {source} Baseline Descriptive Statistics *\"\n",
    "t = len(title)\n",
    "offset = l//2 - t//2\n",
    "\n",
    "\n",
    "print(\" \"*offset, title)\n",
    "print(\"-\"*(l+2))\n",
    "display(df)"
   ]
  },
  {
   "cell_type": "markdown",
   "id": "56d3f7d5",
   "metadata": {},
   "source": [
    "### Save descriptive stats"
   ]
  },
  {
   "cell_type": "code",
   "execution_count": 83,
   "id": "3d8d8127",
   "metadata": {},
   "outputs": [
    {
     "name": "stdout",
     "output_type": "stream",
     "text": [
      "Adult Income_FTU_stats_mk4.parquet has been saved.\n"
     ]
    }
   ],
   "source": [
    "custom_save(name, df, 0)"
   ]
  },
  {
   "cell_type": "markdown",
   "id": "318aea27",
   "metadata": {},
   "source": [
    "# Appendix:  Examples of Similarity Metrics"
   ]
  },
  {
   "cell_type": "code",
   "execution_count": null,
   "id": "306c6496",
   "metadata": {},
   "outputs": [],
   "source": [
    "from itertools import permutations"
   ]
  },
  {
   "cell_type": "code",
   "execution_count": null,
   "id": "c3bed9f6",
   "metadata": {},
   "outputs": [],
   "source": [
    "x = 3\n",
    "perm_gen = \"0\" * x + \"1\"*x\n",
    "list(perm_gen)"
   ]
  },
  {
   "cell_type": "code",
   "execution_count": null,
   "id": "2e6fd6f5",
   "metadata": {},
   "outputs": [],
   "source": [
    "perm = permutations(list(perm_gen))\n",
    "words = []\n",
    "for i in list(perm):\n",
    "    if i not in words:\n",
    "        tmp = ''.join(str(e) for e in i)\n",
    "    if tmp not in words:\n",
    "        words.append(tmp)\n",
    "        print(f\"{i} : {tmp}\")"
   ]
  },
  {
   "cell_type": "code",
   "execution_count": null,
   "id": "bd165643",
   "metadata": {
    "scrolled": true
   },
   "outputs": [],
   "source": [
    "cache = []\n",
    "size = 8 + 2*len(words[0])\n",
    "lbls = [\"Permutation\", \"Lev\", \"Jaro\", \"Jaro-Winkler\"]\n",
    "print(f\"{lbls[0]:{size}s}\" +\\\n",
    "      f\"{lbls[1]:5s}\" +\\\n",
    "      f\"{lbls[2]:10s}\" +\\\n",
    "      f\"{lbls[3]}\")\n",
    "\n",
    "for first in words:\n",
    "    if first is not words[0]:\n",
    "        print()\n",
    "    for second in words:\n",
    "        temp = f\"{first} x {second}\"\n",
    "        temp2 = f\"{second} x {first}\"\n",
    "        if (temp not in cache) and (temp2 not in cache):\n",
    "            cache.append(temp)\n",
    "            levd = lev.distance(first,second)\n",
    "            jaro = dist.get_jaro_distance(first, second)\n",
    "            jw = dist.get_jaro_distance(first, second, winkler=False)\n",
    "            print(f\"{first} x {second} : {levd:3d}{jaro:11.5f}{jw:10.5f}\")"
   ]
  },
  {
   "cell_type": "code",
   "execution_count": null,
   "id": "611fb2b2",
   "metadata": {},
   "outputs": [],
   "source": []
  }
 ],
 "metadata": {
  "kernelspec": {
   "display_name": "Python 3 (ipykernel)",
   "language": "python",
   "name": "python3"
  },
  "language_info": {
   "codemirror_mode": {
    "name": "ipython",
    "version": 3
   },
   "file_extension": ".py",
   "mimetype": "text/x-python",
   "name": "python",
   "nbconvert_exporter": "python",
   "pygments_lexer": "ipython3",
   "version": "3.8.10"
  }
 },
 "nbformat": 4,
 "nbformat_minor": 5
}
