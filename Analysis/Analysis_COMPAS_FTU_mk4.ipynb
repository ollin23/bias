{
 "cells": [
  {
   "cell_type": "markdown",
   "id": "1b98ac08",
   "metadata": {},
   "source": [
    "# COMPAS FTU Model Bias Analysis\n",
    "mk4"
   ]
  },
  {
   "cell_type": "markdown",
   "id": "7cc56e38",
   "metadata": {},
   "source": [
    "### 1) Dependencies\n",
    "### 2) Custom Functions\n",
    "### 3) Import Data\n",
    "### 4) Bias Analysis"
   ]
  },
  {
   "cell_type": "markdown",
   "id": "2e4015b9",
   "metadata": {},
   "source": [
    "## Import Dependencies"
   ]
  },
  {
   "cell_type": "code",
   "execution_count": 1,
   "id": "b0a650b5",
   "metadata": {},
   "outputs": [],
   "source": [
    "# !pip install researchpy"
   ]
  },
  {
   "cell_type": "code",
   "execution_count": 2,
   "id": "e6fab239",
   "metadata": {},
   "outputs": [],
   "source": [
    "import pandas as pd\n",
    "import numpy as np\n",
    "import matplotlib.pyplot as plt\n",
    "import seaborn as sns"
   ]
  },
  {
   "cell_type": "code",
   "execution_count": 3,
   "id": "1b982d64",
   "metadata": {},
   "outputs": [],
   "source": [
    "import warnings\n",
    "import math\n",
    "import os"
   ]
  },
  {
   "cell_type": "code",
   "execution_count": 4,
   "id": "9e8f6b4b",
   "metadata": {},
   "outputs": [],
   "source": [
    "from dataclasses import dataclass\n",
    "from sklearn.metrics import confusion_matrix"
   ]
  },
  {
   "cell_type": "code",
   "execution_count": 5,
   "id": "aa3b4556",
   "metadata": {},
   "outputs": [],
   "source": [
    "warnings.filterwarnings('ignore')\n",
    "\n",
    "%matplotlib inline"
   ]
  },
  {
   "cell_type": "code",
   "execution_count": 6,
   "id": "6715839a",
   "metadata": {},
   "outputs": [],
   "source": [
    "pd.options.display.max_columns = 250\n",
    "pd.options.display.max_rows = 250"
   ]
  },
  {
   "cell_type": "markdown",
   "id": "842941e4",
   "metadata": {},
   "source": [
    "# Custom functions"
   ]
  },
  {
   "cell_type": "markdown",
   "id": "05beaca2",
   "metadata": {},
   "source": [
    "#### Custom Save"
   ]
  },
  {
   "cell_type": "code",
   "execution_count": 7,
   "id": "7599264c",
   "metadata": {},
   "outputs": [],
   "source": [
    "def custom_save(name, data, kind=1):\n",
    "    '''\n",
    "    name : string\n",
    "        designated filename\n",
    "    data : data or pytorch model\n",
    "        the data to save\n",
    "    kind : int\n",
    "        sentinel value - 1 if pytorch model, 0 otherwise\n",
    "    \n",
    "    custom_save stores the data passed into the function into a file with the provided name\n",
    "    '''\n",
    "    \n",
    "    if kind == 1:\n",
    "        ex = \".pth\"\n",
    "    else:\n",
    "        ex = \".parquet\"\n",
    "    \n",
    "    sentinel = True\n",
    "    i = 1\n",
    "\n",
    "    while sentinel:\n",
    "        dirlist = os.listdir()\n",
    "\n",
    "        if name not in dirlist:\n",
    "            if kind == 1:\n",
    "                torch.save(data, name)\n",
    "            else:\n",
    "                data.to_parquet(name)\n",
    "            print(f\"{name} has been saved.\")                \n",
    "            sentinel = False\n",
    "        if name in dirlist:\n",
    "            print(f\"{name} already exists.\", end=\" \")\n",
    "            temp, ext = name.split(ex)\n",
    "            if \"_v\" in temp:\n",
    "                temp, _ = temp.split(\"_v\")\n",
    "            name = f\"{temp}_v{i}{ex}\"\n",
    "            i = i + 1\n",
    "            print(f\"Changing file name to: {name}\")"
   ]
  },
  {
   "cell_type": "markdown",
   "id": "ee0a4c91",
   "metadata": {},
   "source": [
    "#### Dataclass for confusion matrix results"
   ]
  },
  {
   "cell_type": "code",
   "execution_count": 8,
   "id": "1675b590",
   "metadata": {},
   "outputs": [],
   "source": [
    "@dataclass\n",
    "class cmatrix:\n",
    "    name: str\n",
    "    TP: int\n",
    "    FP: int\n",
    "    TN: int\n",
    "    FN: int    \n",
    "    PPV: float\n",
    "    TPR: float\n",
    "    FDR: float\n",
    "    FPR: float\n",
    "    FOR: float\n",
    "    FNR: float\n",
    "    NPV: float\n",
    "    TNR: float"
   ]
  },
  {
   "cell_type": "markdown",
   "id": "67377e53",
   "metadata": {},
   "source": [
    "#### Helper function to generate dataclass _cmatrix_"
   ]
  },
  {
   "cell_type": "code",
   "execution_count": 9,
   "id": "3cbcc121",
   "metadata": {},
   "outputs": [],
   "source": [
    "def gen_dataclass(actual, pred, name):\n",
    "    [TN, FP, FN, TP] = confusion_matrix(actual, pred).ravel()\n",
    "    \n",
    "\n",
    "    PPV = TP / (TP + FP)  # positive predictive value\n",
    "    FDR = FP / (TP + FP)  # false discovery rate\n",
    "    \n",
    "    TPR = TP / (TP + FN)  # true positive rate\n",
    "    FNR = FN / (TP + FN)  # false negative rate\n",
    "    \n",
    "    TNR = TN / (TN + FP)  # true negative rate\n",
    "    FPR = FP / (TN + FP)  # false positive rate\n",
    "\n",
    "    FOR = FN / (TN + FN)  # false omission rate\n",
    "    NPV = TN / (TN + FN)  # negative predictive value\n",
    "\n",
    "    \n",
    "    return cmatrix(name, TP, FP, TN, FN, PPV, TPR, FDR, FPR, FOR, FNR, NPV, TNR)"
   ]
  },
  {
   "cell_type": "markdown",
   "id": "7564e947",
   "metadata": {},
   "source": [
    "#### Extract bias metrics"
   ]
  },
  {
   "cell_type": "code",
   "execution_count": 10,
   "id": "cfaba417",
   "metadata": {},
   "outputs": [],
   "source": [
    "def bias_metrics(df):\n",
    "    '''\n",
    "    - takes dataframe as input\n",
    "    - returns dataclass whose components are statistical measures from a confusion matrix\n",
    "    particular to relu, tanh, elu, and leaky relu dataframe series\n",
    "    '''\n",
    "    actual = df.target.values\n",
    "    relu = df.pred_relu.values\n",
    "    tanh = df.pred_tanh.values\n",
    "    elu = df.pred_elu.values\n",
    "    leaky = df.pred_leaky.values\n",
    "    \n",
    "    relu = gen_dataclass(actual, relu, \"relu\")\n",
    "    tanh = gen_dataclass(actual, tanh, \"tanh\")\n",
    "    elu = gen_dataclass(actual, elu, \"elu\")\n",
    "    leaky = gen_dataclass(actual, leaky, \"leaky\")\n",
    "    \n",
    "    return relu, tanh, elu, leaky"
   ]
  },
  {
   "cell_type": "markdown",
   "id": "51902b24",
   "metadata": {},
   "source": [
    "# Import Data"
   ]
  },
  {
   "cell_type": "code",
   "execution_count": 11,
   "id": "0e72e199",
   "metadata": {},
   "outputs": [],
   "source": [
    "data = pd.read_parquet(\"compas_results_mk2_FTU.parquet\")\n",
    "\n",
    "source = \"COMPAS_FTU\"\n",
    "suffix = \"mk4\"\n",
    "name = f\"{source}_stats_{suffix}.parquet\"\n",
    "tag = [\"Ground\", \"Group A\", \"Group B\"]"
   ]
  },
  {
   "cell_type": "code",
   "execution_count": 12,
   "id": "b52edcff",
   "metadata": {},
   "outputs": [
    {
     "data": {
      "text/html": [
       "<div>\n",
       "<style scoped>\n",
       "    .dataframe tbody tr th:only-of-type {\n",
       "        vertical-align: middle;\n",
       "    }\n",
       "\n",
       "    .dataframe tbody tr th {\n",
       "        vertical-align: top;\n",
       "    }\n",
       "\n",
       "    .dataframe thead th {\n",
       "        text-align: right;\n",
       "    }\n",
       "</style>\n",
       "<table border=\"1\" class=\"dataframe\">\n",
       "  <thead>\n",
       "    <tr style=\"text-align: right;\">\n",
       "      <th></th>\n",
       "      <th>age</th>\n",
       "      <th>juv_fel_count</th>\n",
       "      <th>decile_score</th>\n",
       "      <th>juv_misd_count</th>\n",
       "      <th>juv_other_count</th>\n",
       "      <th>priors_count</th>\n",
       "      <th>days_b_screening_arrest</th>\n",
       "      <th>c_days_from_compas</th>\n",
       "      <th>is_recid</th>\n",
       "      <th>is_violent_recid</th>\n",
       "      <th>decile_score.1</th>\n",
       "      <th>v_decile_score</th>\n",
       "      <th>priors_count.1</th>\n",
       "      <th>start</th>\n",
       "      <th>end</th>\n",
       "      <th>sex</th>\n",
       "      <th>age_cat_25to45</th>\n",
       "      <th>age_cat_over45</th>\n",
       "      <th>age_cat_under25</th>\n",
       "      <th>race_asian</th>\n",
       "      <th>c_charge_degree</th>\n",
       "      <th>score_text_High</th>\n",
       "      <th>score_text_Low</th>\n",
       "      <th>score_text_Medium</th>\n",
       "      <th>v_score_text_High</th>\n",
       "      <th>v_score_text_Low</th>\n",
       "      <th>v_score_text_Medium</th>\n",
       "      <th>event</th>\n",
       "      <th>black</th>\n",
       "      <th>white</th>\n",
       "      <th>hispanic</th>\n",
       "      <th>native</th>\n",
       "      <th>other</th>\n",
       "      <th>target</th>\n",
       "      <th>pred_relu</th>\n",
       "      <th>pred_tanh</th>\n",
       "      <th>pred_elu</th>\n",
       "      <th>pred_leaky</th>\n",
       "    </tr>\n",
       "  </thead>\n",
       "  <tbody>\n",
       "    <tr>\n",
       "      <th>0</th>\n",
       "      <td>25</td>\n",
       "      <td>0</td>\n",
       "      <td>5</td>\n",
       "      <td>0</td>\n",
       "      <td>1</td>\n",
       "      <td>4</td>\n",
       "      <td>-1</td>\n",
       "      <td>1</td>\n",
       "      <td>1</td>\n",
       "      <td>0</td>\n",
       "      <td>5</td>\n",
       "      <td>4</td>\n",
       "      <td>4</td>\n",
       "      <td>32</td>\n",
       "      <td>304</td>\n",
       "      <td>0</td>\n",
       "      <td>1</td>\n",
       "      <td>0</td>\n",
       "      <td>0</td>\n",
       "      <td>0</td>\n",
       "      <td>1</td>\n",
       "      <td>0</td>\n",
       "      <td>0</td>\n",
       "      <td>1</td>\n",
       "      <td>0</td>\n",
       "      <td>1</td>\n",
       "      <td>0</td>\n",
       "      <td>1</td>\n",
       "      <td>1</td>\n",
       "      <td>0</td>\n",
       "      <td>0</td>\n",
       "      <td>0</td>\n",
       "      <td>0</td>\n",
       "      <td>1</td>\n",
       "      <td>1</td>\n",
       "      <td>1</td>\n",
       "      <td>1</td>\n",
       "      <td>1</td>\n",
       "    </tr>\n",
       "    <tr>\n",
       "      <th>1</th>\n",
       "      <td>35</td>\n",
       "      <td>0</td>\n",
       "      <td>4</td>\n",
       "      <td>0</td>\n",
       "      <td>0</td>\n",
       "      <td>3</td>\n",
       "      <td>-1</td>\n",
       "      <td>0</td>\n",
       "      <td>1</td>\n",
       "      <td>0</td>\n",
       "      <td>4</td>\n",
       "      <td>4</td>\n",
       "      <td>3</td>\n",
       "      <td>9</td>\n",
       "      <td>462</td>\n",
       "      <td>0</td>\n",
       "      <td>1</td>\n",
       "      <td>0</td>\n",
       "      <td>0</td>\n",
       "      <td>0</td>\n",
       "      <td>0</td>\n",
       "      <td>0</td>\n",
       "      <td>1</td>\n",
       "      <td>0</td>\n",
       "      <td>0</td>\n",
       "      <td>1</td>\n",
       "      <td>0</td>\n",
       "      <td>1</td>\n",
       "      <td>0</td>\n",
       "      <td>1</td>\n",
       "      <td>0</td>\n",
       "      <td>0</td>\n",
       "      <td>0</td>\n",
       "      <td>1</td>\n",
       "      <td>1</td>\n",
       "      <td>1</td>\n",
       "      <td>1</td>\n",
       "      <td>1</td>\n",
       "    </tr>\n",
       "    <tr>\n",
       "      <th>2</th>\n",
       "      <td>32</td>\n",
       "      <td>0</td>\n",
       "      <td>4</td>\n",
       "      <td>0</td>\n",
       "      <td>0</td>\n",
       "      <td>1</td>\n",
       "      <td>0</td>\n",
       "      <td>0</td>\n",
       "      <td>0</td>\n",
       "      <td>0</td>\n",
       "      <td>4</td>\n",
       "      <td>3</td>\n",
       "      <td>1</td>\n",
       "      <td>0</td>\n",
       "      <td>1171</td>\n",
       "      <td>0</td>\n",
       "      <td>1</td>\n",
       "      <td>0</td>\n",
       "      <td>0</td>\n",
       "      <td>0</td>\n",
       "      <td>1</td>\n",
       "      <td>0</td>\n",
       "      <td>1</td>\n",
       "      <td>0</td>\n",
       "      <td>0</td>\n",
       "      <td>1</td>\n",
       "      <td>0</td>\n",
       "      <td>0</td>\n",
       "      <td>1</td>\n",
       "      <td>0</td>\n",
       "      <td>0</td>\n",
       "      <td>0</td>\n",
       "      <td>0</td>\n",
       "      <td>0</td>\n",
       "      <td>0</td>\n",
       "      <td>0</td>\n",
       "      <td>0</td>\n",
       "      <td>0</td>\n",
       "    </tr>\n",
       "    <tr>\n",
       "      <th>3</th>\n",
       "      <td>20</td>\n",
       "      <td>0</td>\n",
       "      <td>10</td>\n",
       "      <td>0</td>\n",
       "      <td>0</td>\n",
       "      <td>0</td>\n",
       "      <td>-1</td>\n",
       "      <td>1</td>\n",
       "      <td>1</td>\n",
       "      <td>1</td>\n",
       "      <td>10</td>\n",
       "      <td>10</td>\n",
       "      <td>0</td>\n",
       "      <td>3</td>\n",
       "      <td>20</td>\n",
       "      <td>0</td>\n",
       "      <td>0</td>\n",
       "      <td>0</td>\n",
       "      <td>1</td>\n",
       "      <td>0</td>\n",
       "      <td>0</td>\n",
       "      <td>1</td>\n",
       "      <td>0</td>\n",
       "      <td>0</td>\n",
       "      <td>1</td>\n",
       "      <td>0</td>\n",
       "      <td>0</td>\n",
       "      <td>1</td>\n",
       "      <td>1</td>\n",
       "      <td>0</td>\n",
       "      <td>0</td>\n",
       "      <td>0</td>\n",
       "      <td>0</td>\n",
       "      <td>1</td>\n",
       "      <td>1</td>\n",
       "      <td>1</td>\n",
       "      <td>1</td>\n",
       "      <td>1</td>\n",
       "    </tr>\n",
       "    <tr>\n",
       "      <th>4</th>\n",
       "      <td>50</td>\n",
       "      <td>0</td>\n",
       "      <td>8</td>\n",
       "      <td>0</td>\n",
       "      <td>2</td>\n",
       "      <td>24</td>\n",
       "      <td>0</td>\n",
       "      <td>1</td>\n",
       "      <td>1</td>\n",
       "      <td>1</td>\n",
       "      <td>8</td>\n",
       "      <td>8</td>\n",
       "      <td>24</td>\n",
       "      <td>32</td>\n",
       "      <td>87</td>\n",
       "      <td>0</td>\n",
       "      <td>0</td>\n",
       "      <td>1</td>\n",
       "      <td>0</td>\n",
       "      <td>0</td>\n",
       "      <td>0</td>\n",
       "      <td>1</td>\n",
       "      <td>0</td>\n",
       "      <td>0</td>\n",
       "      <td>1</td>\n",
       "      <td>0</td>\n",
       "      <td>0</td>\n",
       "      <td>0</td>\n",
       "      <td>1</td>\n",
       "      <td>0</td>\n",
       "      <td>0</td>\n",
       "      <td>0</td>\n",
       "      <td>0</td>\n",
       "      <td>1</td>\n",
       "      <td>1</td>\n",
       "      <td>1</td>\n",
       "      <td>1</td>\n",
       "      <td>1</td>\n",
       "    </tr>\n",
       "  </tbody>\n",
       "</table>\n",
       "</div>"
      ],
      "text/plain": [
       "   age  juv_fel_count  decile_score  juv_misd_count  juv_other_count  \\\n",
       "0   25              0             5               0                1   \n",
       "1   35              0             4               0                0   \n",
       "2   32              0             4               0                0   \n",
       "3   20              0            10               0                0   \n",
       "4   50              0             8               0                2   \n",
       "\n",
       "   priors_count  days_b_screening_arrest  c_days_from_compas  is_recid  \\\n",
       "0             4                       -1                   1         1   \n",
       "1             3                       -1                   0         1   \n",
       "2             1                        0                   0         0   \n",
       "3             0                       -1                   1         1   \n",
       "4            24                        0                   1         1   \n",
       "\n",
       "   is_violent_recid  decile_score.1  v_decile_score  priors_count.1  start  \\\n",
       "0                 0               5               4               4     32   \n",
       "1                 0               4               4               3      9   \n",
       "2                 0               4               3               1      0   \n",
       "3                 1              10              10               0      3   \n",
       "4                 1               8               8              24     32   \n",
       "\n",
       "    end  sex  age_cat_25to45  age_cat_over45  age_cat_under25  race_asian  \\\n",
       "0   304    0               1               0                0           0   \n",
       "1   462    0               1               0                0           0   \n",
       "2  1171    0               1               0                0           0   \n",
       "3    20    0               0               0                1           0   \n",
       "4    87    0               0               1                0           0   \n",
       "\n",
       "   c_charge_degree  score_text_High  score_text_Low  score_text_Medium  \\\n",
       "0                1                0               0                  1   \n",
       "1                0                0               1                  0   \n",
       "2                1                0               1                  0   \n",
       "3                0                1               0                  0   \n",
       "4                0                1               0                  0   \n",
       "\n",
       "   v_score_text_High  v_score_text_Low  v_score_text_Medium  event  black  \\\n",
       "0                  0                 1                    0      1      1   \n",
       "1                  0                 1                    0      1      0   \n",
       "2                  0                 1                    0      0      1   \n",
       "3                  1                 0                    0      1      1   \n",
       "4                  1                 0                    0      0      1   \n",
       "\n",
       "   white  hispanic  native  other  target  pred_relu  pred_tanh  pred_elu  \\\n",
       "0      0         0       0      0       1          1          1         1   \n",
       "1      1         0       0      0       1          1          1         1   \n",
       "2      0         0       0      0       0          0          0         0   \n",
       "3      0         0       0      0       1          1          1         1   \n",
       "4      0         0       0      0       1          1          1         1   \n",
       "\n",
       "   pred_leaky  \n",
       "0           1  \n",
       "1           1  \n",
       "2           0  \n",
       "3           1  \n",
       "4           1  "
      ]
     },
     "execution_count": 12,
     "metadata": {},
     "output_type": "execute_result"
    }
   ],
   "source": [
    "data.head()"
   ]
  },
  {
   "cell_type": "code",
   "execution_count": 13,
   "id": "9021e4e4",
   "metadata": {},
   "outputs": [
    {
     "data": {
      "text/plain": [
       "['target', 'pred_relu', 'pred_tanh', 'pred_elu', 'pred_leaky']"
      ]
     },
     "execution_count": 13,
     "metadata": {},
     "output_type": "execute_result"
    }
   ],
   "source": [
    "features = list(data.columns[-5:])\n",
    "features"
   ]
  },
  {
   "cell_type": "markdown",
   "id": "047ff47b",
   "metadata": {},
   "source": [
    "#### Inspect Data"
   ]
  },
  {
   "cell_type": "markdown",
   "id": "2b781ddf",
   "metadata": {},
   "source": [
    "**Note:** The following confusion matrix should return a list of four (4) numbers, with zero (0) false negatives and false positives. Example: array([100, 0, 0, 10])"
   ]
  },
  {
   "cell_type": "code",
   "execution_count": 14,
   "id": "975e6d7d",
   "metadata": {},
   "outputs": [
    {
     "data": {
      "text/plain": [
       "array([1114,    0,    0,  959])"
      ]
     },
     "execution_count": 14,
     "metadata": {},
     "output_type": "execute_result"
    }
   ],
   "source": [
    "confusion_matrix(data.target, data.target).ravel()"
   ]
  },
  {
   "cell_type": "code",
   "execution_count": 99,
   "id": "28aa2135",
   "metadata": {},
   "outputs": [
    {
     "name": "stdout",
     "output_type": "stream",
     "text": [
      "  * COMPAS_FTU Confusion Matrix, Tabular *\n",
      "-------------------------------------------\n",
      "Name\t    Total   TP     FP    TN     FN\n",
      "target    :  2073    959     0   1114     0\n",
      "pred_relu :  2073    910   116    998    49\n",
      "pred_tanh :  2073    909    72   1042    50\n",
      "pred_elu  :  2073    847    89   1025   112\n",
      "pred_leaky:  2073    917   111   1003    42\n"
     ]
    }
   ],
   "source": [
    "l = 43\n",
    "title = f\" * {source} Confusion Matrix, Tabular *\"\n",
    "t = len(title)\n",
    "offset = l//2 - t//2\n",
    "\n",
    "print(\" \"*offset + title)\n",
    "print(\"-\"*l)\n",
    "print(\"Name\\t    Total   TP     FP    TN     FN\")\n",
    "for f in features:\n",
    "    total = data[f].shape[0]\n",
    "    try:\n",
    "        [tn, fp, fn, tp] = confusion_matrix(data.target, data[f]).ravel()\n",
    "    except Exception:\n",
    "        pass\n",
    "    print(f\"{f:10s}: {total:5.0f}  {tp:5.0f} {fp:5.0f} {tn:6.0f} {fn:5.0f}\")"
   ]
  },
  {
   "cell_type": "code",
   "execution_count": 95,
   "id": "c449a7fc",
   "metadata": {},
   "outputs": [
    {
     "data": {
      "image/png": "[encoded data removed]",
      "text/plain": [
       "<Figure size 432x288 with 2 Axes>"
      ]
     },
     "metadata": {},
     "output_type": "display_data"
    }
   ],
   "source": [
    "cm_relu = confusion_matrix(data.target, data.pred_relu)\n",
    "sns.set(font_scale=1.2)\n",
    "sns.heatmap(cm_relu, annot=True, cmap=\"coolwarm\", robust=True, fmt='g')\n",
    "plt.title(f\"{source}, Confusion Matrix - ReLU\")\n",
    "plt.savefig(\"compas - FTU cm relu.png\")\n",
    "plt.show()"
   ]
  },
  {
   "cell_type": "code",
   "execution_count": 96,
   "id": "a99acd3f",
   "metadata": {},
   "outputs": [
    {
     "data": {
      "image/png": "[encoded data removed]",
      "text/plain": [
       "<Figure size 432x288 with 2 Axes>"
      ]
     },
     "metadata": {},
     "output_type": "display_data"
    }
   ],
   "source": [
    "cm_tanh = confusion_matrix(data.target, data.pred_tanh)\n",
    "sns.set(font_scale=1.2)\n",
    "sns.heatmap(cm_tanh, annot=True, cmap=\"Greens\", robust=True, fmt='g')\n",
    "plt.title(f\"{source} Confusion Matrix - Tanh\")\n",
    "plt.savefig(\"compas - FTU cm tanh.png\")\n",
    "plt.show()"
   ]
  },
  {
   "cell_type": "code",
   "execution_count": 97,
   "id": "38e1cec2",
   "metadata": {},
   "outputs": [
    {
     "data": {
      "image/png": "[encoded data removed]",
      "text/plain": [
       "<Figure size 432x288 with 2 Axes>"
      ]
     },
     "metadata": {},
     "output_type": "display_data"
    }
   ],
   "source": [
    "cm_elu = confusion_matrix(data.target, data.pred_elu)\n",
    "sns.set(font_scale=1.2)\n",
    "sns.heatmap(cm_elu, annot=True, cmap=\"Blues\", robust=True, fmt='g')\n",
    "plt.title(f\"{source} Confusion Matrix - ELU\")\n",
    "plt.savefig(\"compas - FTU cm elu.png\")\n",
    "plt.show()"
   ]
  },
  {
   "cell_type": "code",
   "execution_count": 98,
   "id": "f5316ac3",
   "metadata": {},
   "outputs": [
    {
     "data": {
      "image/png": "[encoded data removed]",
      "text/plain": [
       "<Figure size 432x288 with 2 Axes>"
      ]
     },
     "metadata": {},
     "output_type": "display_data"
    }
   ],
   "source": [
    "cm_leaky = confusion_matrix(data.target, data.pred_leaky)\n",
    "sns.set(font_scale=1.2)\n",
    "sns.heatmap(cm_leaky, annot=True, fmt='g')\n",
    "plt.title(f\"{source} Confusion Matrix - Leaky ReLU\")\n",
    "plt.savefig(\"compas - FTU cm leaky.png\")\n",
    "plt.show()"
   ]
  },
  {
   "cell_type": "markdown",
   "id": "6b4cd523",
   "metadata": {},
   "source": [
    "## Separate by protected feature"
   ]
  },
  {
   "cell_type": "code",
   "execution_count": 20,
   "id": "b5df236b",
   "metadata": {},
   "outputs": [
    {
     "data": {
      "text/plain": [
       "['age',\n",
       " 'juv_fel_count',\n",
       " 'decile_score',\n",
       " 'juv_misd_count',\n",
       " 'juv_other_count',\n",
       " 'priors_count',\n",
       " 'days_b_screening_arrest',\n",
       " 'c_days_from_compas',\n",
       " 'is_recid',\n",
       " 'is_violent_recid',\n",
       " 'decile_score.1',\n",
       " 'v_decile_score',\n",
       " 'priors_count.1',\n",
       " 'start',\n",
       " 'end',\n",
       " 'sex',\n",
       " 'age_cat_25to45',\n",
       " 'age_cat_over45',\n",
       " 'age_cat_under25',\n",
       " 'race_asian',\n",
       " 'c_charge_degree',\n",
       " 'score_text_High',\n",
       " 'score_text_Low',\n",
       " 'score_text_Medium',\n",
       " 'v_score_text_High',\n",
       " 'v_score_text_Low',\n",
       " 'v_score_text_Medium',\n",
       " 'event',\n",
       " 'black',\n",
       " 'white',\n",
       " 'hispanic',\n",
       " 'native',\n",
       " 'other',\n",
       " 'target',\n",
       " 'pred_relu',\n",
       " 'pred_tanh',\n",
       " 'pred_elu',\n",
       " 'pred_leaky']"
      ]
     },
     "execution_count": 20,
     "metadata": {},
     "output_type": "execute_result"
    }
   ],
   "source": [
    "list(data.columns)"
   ]
  },
  {
   "cell_type": "code",
   "execution_count": 21,
   "id": "d70fef33",
   "metadata": {},
   "outputs": [],
   "source": [
    "# group A : protected attribute\n",
    "# group B : other\n",
    "GroupA = data[data[\"black\"] == 1]\n",
    "GroupB = data[data[\"white\"] == 1]\n",
    "attribute = [\"black\", \"white\"]\n",
    "protected_features = [\"black\", \"white\"]"
   ]
  },
  {
   "cell_type": "code",
   "execution_count": 22,
   "id": "8c3d21a6",
   "metadata": {},
   "outputs": [],
   "source": [
    "Aset = GroupA.iloc[:,-5:]\n",
    "Bset = GroupB.iloc[:,-5:]\n",
    "base = data.iloc[:,-5:]"
   ]
  },
  {
   "cell_type": "code",
   "execution_count": 23,
   "id": "610e1015",
   "metadata": {},
   "outputs": [
    {
     "data": {
      "text/plain": [
       "(1075, 38)"
      ]
     },
     "execution_count": 23,
     "metadata": {},
     "output_type": "execute_result"
    }
   ],
   "source": [
    "GroupA.shape"
   ]
  },
  {
   "cell_type": "code",
   "execution_count": 24,
   "id": "70addb86",
   "metadata": {},
   "outputs": [
    {
     "data": {
      "text/plain": [
       "(697, 38)"
      ]
     },
     "execution_count": 24,
     "metadata": {},
     "output_type": "execute_result"
    }
   ],
   "source": [
    "GroupB.shape"
   ]
  },
  {
   "cell_type": "code",
   "execution_count": 25,
   "id": "cf7eaa9f",
   "metadata": {},
   "outputs": [
    {
     "data": {
      "text/plain": [
       "(2073, 38)"
      ]
     },
     "execution_count": 25,
     "metadata": {},
     "output_type": "execute_result"
    }
   ],
   "source": [
    "data.shape"
   ]
  },
  {
   "cell_type": "markdown",
   "id": "5075a378",
   "metadata": {},
   "source": [
    "##### Control stats, baseline"
   ]
  },
  {
   "cell_type": "code",
   "execution_count": 26,
   "id": "0edd8bfe",
   "metadata": {},
   "outputs": [],
   "source": [
    "Cr, Ct, Ce, Cl = bias_metrics(data)"
   ]
  },
  {
   "cell_type": "code",
   "execution_count": 27,
   "id": "aa4c57a0",
   "metadata": {},
   "outputs": [
    {
     "data": {
      "text/plain": [
       "0.9478623566214807"
      ]
     },
     "execution_count": 27,
     "metadata": {},
     "output_type": "execute_result"
    }
   ],
   "source": [
    "Ct.TPR"
   ]
  },
  {
   "cell_type": "markdown",
   "id": "d5f42ee4",
   "metadata": {},
   "source": [
    "##### Stats for Group A and Group B dataframes"
   ]
  },
  {
   "cell_type": "code",
   "execution_count": 28,
   "id": "f034d542",
   "metadata": {},
   "outputs": [],
   "source": [
    "Ar, At, Ae, Al = bias_metrics(GroupA)\n",
    "Br, Bt, Be, Bl = bias_metrics(GroupB)"
   ]
  },
  {
   "cell_type": "code",
   "execution_count": 29,
   "id": "70f59e62",
   "metadata": {},
   "outputs": [
    {
     "data": {
      "text/plain": [
       "0.9609236234458259"
      ]
     },
     "execution_count": 29,
     "metadata": {},
     "output_type": "execute_result"
    }
   ],
   "source": [
    "At.TPR"
   ]
  },
  {
   "cell_type": "markdown",
   "id": "cee911ac",
   "metadata": {},
   "source": [
    "# Bias Testing"
   ]
  },
  {
   "cell_type": "markdown",
   "id": "d13291fe",
   "metadata": {},
   "source": [
    "#### Set α (alpha)"
   ]
  },
  {
   "cell_type": "code",
   "execution_count": 30,
   "id": "4e518e2d",
   "metadata": {},
   "outputs": [],
   "source": [
    "α = 0.01"
   ]
  },
  {
   "cell_type": "markdown",
   "id": "64c2749b",
   "metadata": {},
   "source": [
    "#### Predictive parity"
   ]
  },
  {
   "cell_type": "markdown",
   "id": "c46800c4",
   "metadata": {},
   "source": [
    "Compares precision (or positive predictive value, PPV) between group with protected attribute and without protected attribute. In this instance female group with male group"
   ]
  },
  {
   "cell_type": "code",
   "execution_count": 31,
   "id": "af0e192c",
   "metadata": {},
   "outputs": [],
   "source": [
    "ppCA = [\n",
    "    math.isclose(Cr.PPV, Ar.PPV, rel_tol=α),\n",
    "    math.isclose(Ct.PPV, At.PPV, rel_tol=α),\n",
    "    math.isclose(Ce.PPV, Ae.PPV, rel_tol=α),\n",
    "    math.isclose(Cl.PPV, Al.PPV, rel_tol=α)\n",
    "]"
   ]
  },
  {
   "cell_type": "code",
   "execution_count": 32,
   "id": "d9d91d5a",
   "metadata": {},
   "outputs": [],
   "source": [
    "ppCB = [\n",
    "    math.isclose(Cr.PPV, Br.PPV, rel_tol=α),\n",
    "    math.isclose(Ct.PPV, Bt.PPV, rel_tol=α),\n",
    "    math.isclose(Ce.PPV, Be.PPV, rel_tol=α),\n",
    "    math.isclose(Cl.PPV, Bl.PPV, rel_tol=α)\n",
    "]"
   ]
  },
  {
   "cell_type": "code",
   "execution_count": 33,
   "id": "be5d6545",
   "metadata": {},
   "outputs": [],
   "source": [
    "ppAB = [\n",
    "    math.isclose(Br.PPV, Ar.PPV, rel_tol=α),\n",
    "    math.isclose(Bt.PPV, At.PPV, rel_tol=α),\n",
    "    math.isclose(Be.PPV, Ae.PPV, rel_tol=α),\n",
    "    math.isclose(Bl.PPV, Al.PPV, rel_tol=α)  \n",
    "]"
   ]
  },
  {
   "cell_type": "code",
   "execution_count": 34,
   "id": "35b8ac1b",
   "metadata": {},
   "outputs": [
    {
     "name": "stdout",
     "output_type": "stream",
     "text": [
      "          * * * Predictive Parity, COMPAS_FTU * * *\n",
      "Name\tG & A\tG & B\tA & B\tGround     Group A   Group B    \n",
      "------------------------------------------------------------\n",
      "relu\tTrue\tFalse\tFalse\t0.88694    0.87825   0.90572   \n",
      "tanh\tTrue\tFalse\tFalse\t0.92661    0.92479   0.94077   \n",
      "elu\tFalse\tFalse\tFalse\t0.90491    0.89175   0.93385   \n",
      "leaky\tFalse\tFalse\tFalse\t0.89202    0.88103   0.91216   \n"
     ]
    }
   ],
   "source": [
    "title = f\"* * * Predictive Parity, {source} * * *\"\n",
    "t = len(title)\n",
    "l = 60\n",
    "offset = l//2 - t//2\n",
    "print(\" \"*offset + title)\n",
    "one = \"G & A\"\n",
    "two = \"G & B\"\n",
    "three = \"A & B\"\n",
    "print(f\"Name\\t{one}\\t{two}\\t{three}\\t{tag[0]:10s} {tag[1]:10s}{tag[2]:11s}\")\n",
    "print(\"-\"*l)\n",
    "print(f\"{Ar.name}\\t{ppCA[0]}\\t{ppCB[0]}\\t{ppAB[0]}\\t{Cr.PPV:<10.5f} {Ar.PPV:<10.5f}{Br.PPV:<10.5f}\")\n",
    "print(f\"{At.name}\\t{ppCA[1]}\\t{ppCB[1]}\\t{ppAB[1]}\\t{Ct.PPV:<10.5f} {At.PPV:<10.5f}{Bt.PPV:<10.5f}\")\n",
    "print(f\"{Ae.name}\\t{ppCA[2]}\\t{ppCB[2]}\\t{ppAB[2]}\\t{Ce.PPV:<10.5f} {Ae.PPV:<10.5f}{Be.PPV:<10.5f}\")\n",
    "print(f\"{Al.name}\\t{ppCA[3]}\\t{ppCB[3]}\\t{ppAB[3]}\\t{Cl.PPV:<10.5f} {Al.PPV:<10.5f}{Bl.PPV:<10.5f}\")"
   ]
  },
  {
   "cell_type": "code",
   "execution_count": 35,
   "id": "e257916a",
   "metadata": {},
   "outputs": [
    {
     "data": {
      "text/plain": [
       "cmatrix(name='relu', TP=910, FP=116, TN=998, FN=49, PPV=0.8869395711500975, TPR=0.948905109489051, FDR=0.11306042884990253, FPR=0.10412926391382406, FOR=0.04680038204393505, FNR=0.051094890510948905, NPV=0.9531996179560649, TNR=0.895870736086176)"
      ]
     },
     "execution_count": 35,
     "metadata": {},
     "output_type": "execute_result"
    }
   ],
   "source": [
    "Cr"
   ]
  },
  {
   "cell_type": "markdown",
   "id": "30cdc690",
   "metadata": {},
   "source": [
    "#### Predictive Equality"
   ]
  },
  {
   "cell_type": "markdown",
   "id": "6e09d694",
   "metadata": {},
   "source": [
    "Also called the False Positive Error Balance, this metric considers compares the false positive rates (FPR) between groups."
   ]
  },
  {
   "cell_type": "code",
   "execution_count": 36,
   "id": "3f0c7544",
   "metadata": {},
   "outputs": [],
   "source": [
    "peCA = [\n",
    "    math.isclose(Cr.FPR, Ar.FPR, rel_tol=α),\n",
    "    math.isclose(Ct.FPR, At.FPR, rel_tol=α),\n",
    "    math.isclose(Ce.FPR, Ae.FPR, rel_tol=α),\n",
    "    math.isclose(Cl.FPR, Al.FPR, rel_tol=α)\n",
    "]"
   ]
  },
  {
   "cell_type": "code",
   "execution_count": 37,
   "id": "31502426",
   "metadata": {},
   "outputs": [],
   "source": [
    "peCB = [\n",
    "    math.isclose(Cr.FPR, Br.FPR, rel_tol=α),\n",
    "    math.isclose(Ct.FPR, Bt.FPR, rel_tol=α),\n",
    "    math.isclose(Ce.FPR, Be.FPR, rel_tol=α),\n",
    "    math.isclose(Cl.FPR, Bl.FPR, rel_tol=α)\n",
    "]"
   ]
  },
  {
   "cell_type": "code",
   "execution_count": 38,
   "id": "69df0746",
   "metadata": {},
   "outputs": [],
   "source": [
    "peAB = [\n",
    "    math.isclose(Br.FPR, Ar.FPR, rel_tol=α),\n",
    "    math.isclose(Bt.FPR, At.FPR, rel_tol=α),\n",
    "    math.isclose(Be.FPR, Ae.FPR, rel_tol=α),\n",
    "    math.isclose(Bl.FPR, Al.FPR, rel_tol=α)  \n",
    "]"
   ]
  },
  {
   "cell_type": "code",
   "execution_count": 39,
   "id": "8f2720f9",
   "metadata": {},
   "outputs": [
    {
     "name": "stdout",
     "output_type": "stream",
     "text": [
      "         * * * Predictive Equality, COMPAS_FTU * * *\n",
      "Name\tG & A\tG & B\tA & B\tGround     Group A   Group B    \n",
      "------------------------------------------------------------\n",
      "relu\tFalse\tFalse\tFalse\t0.10413    0.14648   0.06897   \n",
      "tanh\tFalse\tFalse\tFalse\t0.06463    0.08594   0.04187   \n",
      "elu\tFalse\tFalse\tFalse\t0.07989    0.12305   0.04187   \n",
      "leaky\tFalse\tFalse\tFalse\t0.09964    0.14453   0.06404   \n"
     ]
    }
   ],
   "source": [
    "title = f\"* * * Predictive Equality, {source} * * *\"\n",
    "t = len(title)\n",
    "l = 60\n",
    "offset = l//2 - t//2\n",
    "print(\" \"*offset + title)\n",
    "one = \"G & A\"\n",
    "two = \"G & B\"\n",
    "three = \"A & B\"\n",
    "print(f\"Name\\t{one}\\t{two}\\t{three}\\t{tag[0]:10s} {tag[1]:10s}{tag[2]:11s}\")\n",
    "print(\"-\"*l)\n",
    "print(f\"{Ar.name}\\t{peCA[0]}\\t{peCB[0]}\\t{peAB[0]}\\t{Cr.FPR:<10.5f} {Ar.FPR:<10.5f}{Br.FPR:<10.5f}\")\n",
    "print(f\"{At.name}\\t{peCA[1]}\\t{peCB[1]}\\t{peAB[1]}\\t{Ct.FPR:<10.5f} {At.FPR:<10.5f}{Bt.FPR:<10.5f}\")\n",
    "print(f\"{Ae.name}\\t{peCA[2]}\\t{peCB[2]}\\t{peAB[2]}\\t{Ce.FPR:<10.5f} {Ae.FPR:<10.5f}{Be.FPR:<10.5f}\")\n",
    "print(f\"{Al.name}\\t{peCA[3]}\\t{peCB[3]}\\t{peAB[3]}\\t{Cl.FPR:<10.5f} {Al.FPR:<10.5f}{Bl.FPR:<10.5f}\")"
   ]
  },
  {
   "cell_type": "markdown",
   "id": "10289016",
   "metadata": {},
   "source": [
    "#### Equal opportunity"
   ]
  },
  {
   "cell_type": "markdown",
   "id": "f0cc4129",
   "metadata": {},
   "source": [
    "Equal Opportunity entails equal false negative rates (FNR) between groups. Mathematically, true postive rates (TPR) should also be equal."
   ]
  },
  {
   "cell_type": "code",
   "execution_count": 40,
   "id": "5bcbd5cc",
   "metadata": {},
   "outputs": [],
   "source": [
    "eoCA = [\n",
    "    math.isclose(Cr.FNR, Ar.FNR, rel_tol=α),\n",
    "    math.isclose(Ct.FNR, At.FNR, rel_tol=α),\n",
    "    math.isclose(Ce.FNR, Ae.FNR, rel_tol=α),\n",
    "    math.isclose(Cl.FNR, Al.FNR, rel_tol=α)\n",
    "]"
   ]
  },
  {
   "cell_type": "code",
   "execution_count": 41,
   "id": "9b2c864d",
   "metadata": {},
   "outputs": [],
   "source": [
    "eoCB = [\n",
    "    math.isclose(Cr.FNR, Br.FNR, rel_tol=α),\n",
    "    math.isclose(Ct.FNR, Bt.FNR, rel_tol=α),\n",
    "    math.isclose(Ce.FNR, Be.FNR, rel_tol=α),\n",
    "    math.isclose(Cl.FNR, Bl.FNR, rel_tol=α)\n",
    "]"
   ]
  },
  {
   "cell_type": "code",
   "execution_count": 42,
   "id": "fcf777b8",
   "metadata": {},
   "outputs": [],
   "source": [
    "eoAB = [\n",
    "    math.isclose(Br.FNR, Ar.FNR, rel_tol=α),\n",
    "    math.isclose(Bt.FNR, At.FNR, rel_tol=α),\n",
    "    math.isclose(Be.FNR, Ae.FNR, rel_tol=α),\n",
    "    math.isclose(Bl.FNR, Al.FNR, rel_tol=α)  \n",
    "]"
   ]
  },
  {
   "cell_type": "code",
   "execution_count": 43,
   "id": "76712304",
   "metadata": {
    "scrolled": true
   },
   "outputs": [
    {
     "name": "stdout",
     "output_type": "stream",
     "text": [
      "        * * * Equality Opportunity, COMPAS_FTU * * *\n",
      "Name\tG & A\tG & B\tA & B\tGround     Group A   Group B    \n",
      "------------------------------------------------------------\n",
      "relu\tFalse\tFalse\tFalse\t0.05109    0.03908   0.07560   \n",
      "tanh\tFalse\tFalse\tFalse\t0.05214    0.03908   0.07216   \n",
      "elu\tFalse\tFalse\tFalse\t0.11679    0.07815   0.17526   \n",
      "leaky\tFalse\tFalse\tFalse\t0.04380    0.02664   0.07216   \n"
     ]
    }
   ],
   "source": [
    "title = f\"* * * Equality Opportunity, {source} * * *\"\n",
    "t = len(title)\n",
    "l = 60\n",
    "offset = l//2 - t//2\n",
    "print(\" \"*offset + title)\n",
    "one = \"G & A\"\n",
    "two = \"G & B\"\n",
    "three = \"A & B\"\n",
    "print(f\"Name\\t{one}\\t{two}\\t{three}\\t{tag[0]:10s} {tag[1]:10s}{tag[2]:11s}\")\n",
    "print(\"-\"*l)\n",
    "print(f\"{Ar.name}\\t{eoCA[0]}\\t{eoCB[0]}\\t{eoAB[0]}\\t{Cr.FNR:<10.5f} {Ar.FNR:<10.5f}{Br.FNR:<10.5f}\")\n",
    "print(f\"{At.name}\\t{eoCA[1]}\\t{eoCB[1]}\\t{eoAB[1]}\\t{Ct.FNR:<10.5f} {At.FNR:<10.5f}{Bt.FNR:<10.5f}\")\n",
    "print(f\"{Ae.name}\\t{eoCA[2]}\\t{eoCB[2]}\\t{eoAB[2]}\\t{Ce.FNR:<10.5f} {Ae.FNR:<10.5f}{Be.FNR:<10.5f}\")\n",
    "print(f\"{Al.name}\\t{eoCA[3]}\\t{eoCB[3]}\\t{eoAB[3]}\\t{Cl.FNR:<10.5f} {Al.FNR:<10.5f}{Bl.FNR:<10.5f}\")"
   ]
  },
  {
   "cell_type": "markdown",
   "id": "49e78e84",
   "metadata": {},
   "source": [
    "#### Statistical Parity"
   ]
  },
  {
   "cell_type": "markdown",
   "id": "d418e9b9",
   "metadata": {},
   "source": [
    "Statistical Parity compares the accuracy of different groups."
   ]
  },
  {
   "cell_type": "code",
   "execution_count": 44,
   "id": "51ac8fef",
   "metadata": {},
   "outputs": [],
   "source": [
    "Ar_acc = (Ar.TP + Ar.TN) / (Ar.TP + Ar.TN + Ar.FP + Ar.FN)\n",
    "At_acc = (At.TP + At.TN) / (At.TP + At.TN + At.FP + At.FN)\n",
    "Ae_acc = (Ae.TP + Ae.TN) / (Ae.TP + Ae.TN + Ae.FP + Ae.FN)\n",
    "Al_acc = (Al.TP + Al.TN) / (Al.TP + Al.TN + Al.FP + Al.FN)"
   ]
  },
  {
   "cell_type": "code",
   "execution_count": 45,
   "id": "0a664c0d",
   "metadata": {},
   "outputs": [],
   "source": [
    "Br_acc = (Br.TP + Br.TN) / (Br.TP + Br.TN +Br.FP + Br.FN)\n",
    "Bt_acc = (Bt.TP + Bt.TN) / (Bt.TP + Bt.TN + Bt.FP + Bt.FN)\n",
    "Be_acc = (Be.TP + Be.TN) / (Be.TP + Be.TN + Be.FP + Be.FN)\n",
    "Bl_acc = (Bl.TP + Bl.TN) / (Bl.TP + Bl.TN + Bl.FP + Bl.FN)"
   ]
  },
  {
   "cell_type": "code",
   "execution_count": 46,
   "id": "f2d529e4",
   "metadata": {},
   "outputs": [],
   "source": [
    "Cr_acc = (Cr.TP + Cr.TN) / (Cr.TP + Cr.TN + Cr.FP + Cr.FN)\n",
    "Ct_acc = (Ct.TP + Ct.TN) / (Ct.TP + Ct.TN + Ct.FP + Ct.FN)\n",
    "Ce_acc = (Ce.TP + Ce.TN) / (Ce.TP + Ce.TN + Ce.FP + Ce.FN)\n",
    "Cl_acc = (Cl.TP + Cl.TN) / (Cl.TP + Cl.TN + Cl.FP + Cl.FN)"
   ]
  },
  {
   "cell_type": "code",
   "execution_count": 47,
   "id": "a0b76dd0",
   "metadata": {},
   "outputs": [],
   "source": [
    "spCA = [\n",
    "    math.isclose(Cr_acc, Ar_acc, rel_tol=α),\n",
    "    math.isclose(Ct_acc, At_acc, rel_tol=α),\n",
    "    math.isclose(Ce_acc, Ae_acc, rel_tol=α),\n",
    "    math.isclose(Cl_acc, Al_acc, rel_tol=α)  \n",
    "]"
   ]
  },
  {
   "cell_type": "code",
   "execution_count": 48,
   "id": "b1b803cd",
   "metadata": {},
   "outputs": [],
   "source": [
    "spCB = [\n",
    "    math.isclose(Cr_acc, Br_acc, rel_tol=α),\n",
    "    math.isclose(Ct_acc, Bt_acc, rel_tol=α),\n",
    "    math.isclose(Ce_acc, Be_acc, rel_tol=α),\n",
    "    math.isclose(Cl_acc, Bl_acc, rel_tol=α)  \n",
    "]"
   ]
  },
  {
   "cell_type": "code",
   "execution_count": 49,
   "id": "4f655acb",
   "metadata": {},
   "outputs": [],
   "source": [
    "spAB = [\n",
    "    math.isclose(Ar_acc, Br_acc, rel_tol=α),\n",
    "    math.isclose(At_acc, Bt_acc, rel_tol=α),\n",
    "    math.isclose(Ae_acc, Be_acc, rel_tol=α),\n",
    "    math.isclose(Al_acc, Bl_acc, rel_tol=α)  \n",
    "]"
   ]
  },
  {
   "cell_type": "code",
   "execution_count": 107,
   "id": "7a575ed2",
   "metadata": {},
   "outputs": [
    {
     "name": "stdout",
     "output_type": "stream",
     "text": [
      "         * * * Statistical Parity, COMPAS_FTU * * *\n",
      "Name\tG & A\tG & B\tA & B\tGround     Group A   Group B    \n",
      "------------------------------------------------------------\n",
      "relu\tFalse\tTrue\tFalse   0.92041\t   0.90977   0.92826\n",
      "tanh\tTrue\tTrue\tTrue    0.94115\t   0.93860   0.94548\n",
      "elu\tTrue\tTrue\tTrue    0.90304\t   0.90047   0.90244\n",
      "leaky\tTrue\tTrue\tTrue    0.92619\t   0.91721   0.93257\n"
     ]
    }
   ],
   "source": [
    "title = f\"* * * Statistical Parity, {source} * * *\"\n",
    "t = len(title)\n",
    "l = 60\n",
    "offset = l//2 - t//2\n",
    "print(\" \"*offset + title)\n",
    "one = \"Ground\"\n",
    "two = \"Group A\"\n",
    "three = \"Group B\"\n",
    "one = \"G & A\"\n",
    "two = \"G & B\"\n",
    "three = \"A & B\"\n",
    "print(f\"Name\\t{one}\\t{two}\\t{three}\\t{tag[0]:10s} {tag[1]:10s}{tag[2]:11s}\")\n",
    "\n",
    "print(\"-\"*l)\n",
    "print(f\"{Ar.name}\\t{spCA[0]}\\t{spCB[0]}\\t{spAB[0]}{Cr_acc:10.5f}\\t{Ar_acc:10.5f}{Br_acc:10.5f}\")\n",
    "print(f\"{At.name}\\t{spCA[1]}\\t{spCB[1]}\\t{spAB[1]} {Ct_acc:10.5f}\\t{At_acc:10.5f}{Bt_acc:10.5f}\")\n",
    "print(f\"{Ae.name}\\t{spCA[2]}\\t{spCB[2]}\\t{spAB[2]} {Ce_acc:10.5f}\\t{Ae_acc:10.5f}{Be_acc:10.5f}\")\n",
    "print(f\"{Al.name}\\t{spCA[3]}\\t{spCB[3]}\\t{spAB[2]} {Cl_acc:10.5f}\\t{Al_acc:10.5f}{Bl_acc:10.5f}\")"
   ]
  },
  {
   "cell_type": "code",
   "execution_count": 51,
   "id": "effce09e",
   "metadata": {},
   "outputs": [],
   "source": [
    "Cacc_vis = [Cr_acc, Ct_acc, Ce_acc, Cl_acc]\n",
    "Aacc_vis = [Ar_acc, At_acc, Ae_acc, Al_acc]\n",
    "Bacc_vis = [Br_acc, Bt_acc, Be_acc, Bl_acc]"
   ]
  },
  {
   "cell_type": "markdown",
   "id": "bfa15ecf",
   "metadata": {},
   "source": [
    "#### Compare Variances"
   ]
  },
  {
   "cell_type": "code",
   "execution_count": 52,
   "id": "3e2997ab",
   "metadata": {},
   "outputs": [
    {
     "data": {
      "text/plain": [
       "target        0.249437\n",
       "pred_relu     0.244668\n",
       "pred_tanh     0.248048\n",
       "pred_elu      0.248286\n",
       "pred_leaky    0.243821\n",
       "dtype: float64"
      ]
     },
     "execution_count": 52,
     "metadata": {},
     "output_type": "execute_result"
    }
   ],
   "source": [
    "np.var(Aset)"
   ]
  },
  {
   "cell_type": "code",
   "execution_count": 53,
   "id": "f904f519",
   "metadata": {},
   "outputs": [
    {
     "data": {
      "text/plain": [
       "target        0.243194\n",
       "pred_relu     0.244541\n",
       "pred_tanh     0.242215\n",
       "pred_elu      0.232766\n",
       "pred_leaky    0.244326\n",
       "dtype: float64"
      ]
     },
     "execution_count": 53,
     "metadata": {},
     "output_type": "execute_result"
    }
   ],
   "source": [
    "np.var(Bset)"
   ]
  },
  {
   "cell_type": "code",
   "execution_count": 54,
   "id": "c7897766",
   "metadata": {},
   "outputs": [
    {
     "data": {
      "text/plain": [
       "target        0.248602\n",
       "pred_relu     0.249974\n",
       "pred_tanh     0.249283\n",
       "pred_elu      0.247650\n",
       "pred_leaky    0.249983\n",
       "dtype: float64"
      ]
     },
     "execution_count": 54,
     "metadata": {},
     "output_type": "execute_result"
    }
   ],
   "source": [
    "np.var(base)"
   ]
  },
  {
   "cell_type": "code",
   "execution_count": 55,
   "id": "e089011d",
   "metadata": {},
   "outputs": [
    {
     "data": {
      "text/plain": [
       "target        False\n",
       "pred_relu     False\n",
       "pred_tanh     False\n",
       "pred_elu      False\n",
       "pred_leaky    False\n",
       "dtype: bool"
      ]
     },
     "execution_count": 55,
     "metadata": {},
     "output_type": "execute_result"
    }
   ],
   "source": [
    "np.var(base) == np.var(Aset)"
   ]
  },
  {
   "cell_type": "code",
   "execution_count": 56,
   "id": "cbcc1ea4",
   "metadata": {},
   "outputs": [
    {
     "data": {
      "text/plain": [
       "target        False\n",
       "pred_relu     False\n",
       "pred_tanh     False\n",
       "pred_elu      False\n",
       "pred_leaky    False\n",
       "dtype: bool"
      ]
     },
     "execution_count": 56,
     "metadata": {},
     "output_type": "execute_result"
    }
   ],
   "source": [
    "np.var(base) == np.var(Bset)"
   ]
  },
  {
   "cell_type": "code",
   "execution_count": 57,
   "id": "79de316e",
   "metadata": {},
   "outputs": [
    {
     "data": {
      "text/plain": [
       "target        False\n",
       "pred_relu     False\n",
       "pred_tanh     False\n",
       "pred_elu      False\n",
       "pred_leaky    False\n",
       "dtype: bool"
      ]
     },
     "execution_count": 57,
     "metadata": {},
     "output_type": "execute_result"
    }
   ],
   "source": [
    "np.var(Aset) == np.var(Bset)"
   ]
  },
  {
   "cell_type": "markdown",
   "id": "53ccfce8",
   "metadata": {},
   "source": [
    "# Hypothesis Testing"
   ]
  },
  {
   "cell_type": "code",
   "execution_count": 68,
   "id": "161d67ab",
   "metadata": {},
   "outputs": [],
   "source": [
    "import shap\n",
    "\n",
    "import Levenshtein as lev\n",
    "\n",
    "from pyjarowinkler import distance as dist\n",
    "from scipy.stats import binom, chisquare, kstest\n",
    "from statsmodels.stats.weightstats import ztest"
   ]
  },
  {
   "cell_type": "markdown",
   "id": "ff24ebf3",
   "metadata": {},
   "source": [
    "#### Hypothesis test function"
   ]
  },
  {
   "cell_type": "code",
   "execution_count": 69,
   "id": "6f00ba51",
   "metadata": {},
   "outputs": [],
   "source": [
    "def hypothesis_test(p, α=0.05):\n",
    "    if p >= α:\n",
    "        res = \"Fail to reject\"\n",
    "    if p < α:\n",
    "        res = \"Reject\"\n",
    "        \n",
    "    return res"
   ]
  },
  {
   "cell_type": "code",
   "execution_count": 70,
   "id": "7425280c",
   "metadata": {},
   "outputs": [],
   "source": [
    "fs = [\"Actual\", \"ReLU\", \"Tanh\", \"ELU\", \"Leaky ReLU\"]\n",
    "tag = [\"Ground\", \"Group A\", \"Group B\"]\n",
    "data_list =[base, Aset, Bset]"
   ]
  },
  {
   "cell_type": "markdown",
   "id": "f25ff430",
   "metadata": {},
   "source": [
    "### Z-tests"
   ]
  },
  {
   "cell_type": "code",
   "execution_count": 104,
   "id": "ab5bcbdb",
   "metadata": {},
   "outputs": [
    {
     "name": "stdout",
     "output_type": "stream",
     "text": [
      "             * * * COMPAS_FTU Z-tests * * *\n",
      "      Groups\t     Z-score\t P-val \t   Results\n",
      "---------------------------------------------------------\n",
      "Ground  x Ground  :  0.00000\t 1.00000   Fail to reject\n",
      "Ground  x Group A : -3.25787\t 0.00112   Reject\n",
      "Ground  x Group B :  2.07129\t 0.03833   Fail to reject\n",
      "\n",
      "Group A x Ground  :  3.25787\t 0.00112   Reject\n",
      "Group A x Group A :  0.00000\t 1.00000   Fail to reject\n",
      "Group A x Group B :  4.39245\t 0.00001   Reject\n",
      "\n",
      "Group B x Ground  : -2.07129\t 0.03833   Fail to reject\n",
      "Group B x Group A : -4.39245\t 0.00001   Reject\n",
      "Group B x Group B :  0.00000\t 1.00000   Fail to reject\n",
      "\n"
     ]
    }
   ],
   "source": [
    "title = f\"* * * {source} Z-tests * * *\"\n",
    "t = len(title)\n",
    "l = 57\n",
    "offset = l//2 - t//2\n",
    "print(\" \"*offset + title)\n",
    "print(\"      Groups\\t     Z-score\\t P-val \\t   Results\")\n",
    "print(\"-\"*l)\n",
    "\n",
    "for n1, d1 in zip(tag, data_list):\n",
    "    for n2, d2 in zip(tag, data_list):\n",
    "        (z, p) = ztest(d1.target, d2.target)\n",
    "        print(f\"{n1:7s} x {n2:8s}: {z:>8.5f}\\t{p:>8.5f}   {hypothesis_test(p, α)}\")\n",
    "    print()"
   ]
  },
  {
   "cell_type": "markdown",
   "id": "e0a493fe",
   "metadata": {},
   "source": [
    "### Selection Rates and Impact"
   ]
  },
  {
   "cell_type": "code",
   "execution_count": 105,
   "id": "13eb7817",
   "metadata": {},
   "outputs": [],
   "source": [
    "CbSR = base.target.sum() / base.shape[0]\n",
    "CrSR = base.pred_relu.sum() / base.shape[0]\n",
    "CtSR = base.pred_tanh.sum() / base.shape[0]\n",
    "CeSR = base.pred_elu.sum() / base.shape[0]\n",
    "ClSR = base.pred_leaky.sum() / base.shape[0]\n",
    "\n",
    "cSR =[CbSR, CrSR, CtSR, CeSR, ClSR]"
   ]
  },
  {
   "cell_type": "code",
   "execution_count": 86,
   "id": "003d6f7d",
   "metadata": {},
   "outputs": [],
   "source": [
    "AbSR = Aset.target.sum() / Aset.shape[0]\n",
    "ArSR = Aset.pred_relu.sum() / Aset.shape[0]\n",
    "AtSR = Aset.pred_tanh.sum() / Aset.shape[0]\n",
    "AeSR = Aset.pred_elu.sum() / Aset.shape[0]\n",
    "AlSR = Aset.pred_leaky.sum() / Aset.shape[0]\n",
    "\n",
    "aSR =[AbSR, ArSR, AtSR, AeSR, AlSR]"
   ]
  },
  {
   "cell_type": "code",
   "execution_count": 87,
   "id": "1e8ce616",
   "metadata": {},
   "outputs": [],
   "source": [
    "BbSR = Bset.target.sum() / Bset.shape[0]\n",
    "BrSR = Bset.pred_relu.sum() / Bset.shape[0]\n",
    "BtSR = Bset.pred_tanh.sum() / Bset.shape[0]\n",
    "BeSR = Bset.pred_elu.sum() / Bset.shape[0]\n",
    "BlSR = Bset.pred_leaky.sum() / Bset.shape[0]\n",
    "\n",
    "bSR =[BbSR, BrSR, BtSR, BeSR, BlSR]"
   ]
  },
  {
   "cell_type": "code",
   "execution_count": 88,
   "id": "c22600d6",
   "metadata": {},
   "outputs": [],
   "source": [
    "srCA = [\n",
    "    math.isclose(CbSR, AbSR, rel_tol=α),\n",
    "    math.isclose(CrSR, ArSR, rel_tol=α),\n",
    "    math.isclose(CtSR, AtSR, rel_tol=α),\n",
    "    math.isclose(CeSR, AtSR, rel_tol=α),\n",
    "    math.isclose(ClSR, AlSR, rel_tol=α)    \n",
    "]"
   ]
  },
  {
   "cell_type": "code",
   "execution_count": 89,
   "id": "3ab21a23",
   "metadata": {},
   "outputs": [],
   "source": [
    "srCB = [\n",
    "    math.isclose(CbSR, BbSR, rel_tol=α),\n",
    "    math.isclose(CrSR, BrSR, rel_tol=α),\n",
    "    math.isclose(CtSR, BtSR, rel_tol=α),\n",
    "    math.isclose(CeSR, BtSR, rel_tol=α),\n",
    "    math.isclose(ClSR, BlSR, rel_tol=α)    \n",
    "]"
   ]
  },
  {
   "cell_type": "code",
   "execution_count": 90,
   "id": "f1e9ef4e",
   "metadata": {},
   "outputs": [],
   "source": [
    "srAB = [\n",
    "    math.isclose(BbSR, AbSR, rel_tol=α),\n",
    "    math.isclose(BrSR, ArSR, rel_tol=α),\n",
    "    math.isclose(BtSR, AtSR, rel_tol=α),\n",
    "    math.isclose(BeSR, AtSR, rel_tol=α),\n",
    "    math.isclose(BlSR, AlSR, rel_tol=α)    \n",
    "]"
   ]
  },
  {
   "cell_type": "code",
   "execution_count": 106,
   "id": "052e2324",
   "metadata": {},
   "outputs": [
    {
     "name": "stdout",
     "output_type": "stream",
     "text": [
      "               * * * Selection Rate and Impact, COMPAS_FTU * * *\n",
      "Name\t\tG & A\tG & B\tA & B\tGround     Group A   Group B    Impact     \n",
      "-------------------------------------------------------------------------------\n",
      "Actual\t\tFalse\tFalse\tFalse\t0.46261\t   0.52372   0.41750   0.79719\n",
      "ReLU\t\tFalse\tFalse\tFalse\t0.49493\t   0.57302   0.42611   0.74362\n",
      "Tanh\t\tFalse\tFalse\tFalse\t0.47323\t   0.54419   0.41176   0.75666\n",
      "ELU\t\tFalse\tFalse\tFalse\t0.45152\t   0.54140   0.36872   0.68106\n",
      "Leaky ReLU\tFalse\tFalse\tFalse\t0.49590\t   0.57860   0.42468   0.73397\n"
     ]
    }
   ],
   "source": [
    "title = f\"* * * Selection Rate and Impact, {source} * * *\"\n",
    "t = len(title)\n",
    "l = 79\n",
    "offset = l//2 - t//2\n",
    "print(\" \"*offset + title)\n",
    "one = \"G & A\"\n",
    "two = \"G & B\"\n",
    "three = \"A & B\"\n",
    "four = \"Impact\"\n",
    "print(f\"Name\\t\\t{one}\\t{two}\\t{three}\\t{tag[0]:10s} {tag[1]:10s}{tag[2]:11s}{four:11s}\")\n",
    "\n",
    "print(\"-\"*l)\n",
    "for i in range(0,5):\n",
    "    if i != 4:\n",
    "        print(f\"{fs[i]}\\t\\t{srCA[i]}\\t{srCB[i]}\\t{srAB[i]}\\t{cSR[i]:0.5f}\\t{aSR[i]:10.5f}{bSR[i]:10.5f}{min(aSR[i],bSR[i])/max(aSR[i],bSR[i]):10.5f}\")\n",
    "    else:\n",
    "        print(f\"{fs[i]}\\t{srCA[i]}\\t{srCB[i]}\\t{srAB[i]}\\t{cSR[i]:0.5f}\\t{aSR[i]:10.5f}{bSR[i]:10.5f}{min(aSR[i],bSR[i])/max(aSR[i],bSR[i]):10.5f}\")"
   ]
  },
  {
   "cell_type": "markdown",
   "id": "d7c8c00c",
   "metadata": {},
   "source": [
    "## Similarity Metrics"
   ]
  },
  {
   "cell_type": "markdown",
   "id": "25cfa0d1",
   "metadata": {},
   "source": [
    "#### Convert to string"
   ]
  },
  {
   "cell_type": "code",
   "execution_count": 73,
   "id": "69bb1708",
   "metadata": {},
   "outputs": [],
   "source": [
    "Astr = [[\"\"] * Aset.shape[0]] * Aset.shape[1]\n",
    "Bstr = [[\"\"] * Bset.shape[0]] * Bset.shape[1]"
   ]
  },
  {
   "cell_type": "code",
   "execution_count": 74,
   "id": "10122c36",
   "metadata": {},
   "outputs": [],
   "source": [
    "for f in range(len(features)):\n",
    "    Astr[f] = ''.join(GroupA[features[f]].values.astype('int').astype('str'))\n",
    "    Bstr[f] = ''.join(GroupB[features[f]].values.astype('int').astype('str'))"
   ]
  },
  {
   "cell_type": "markdown",
   "id": "fd7481ec",
   "metadata": {},
   "source": [
    "#### Test defaults\n",
    "Levenshtein result should be 0"
   ]
  },
  {
   "cell_type": "code",
   "execution_count": 75,
   "id": "9cf4a6ed",
   "metadata": {},
   "outputs": [
    {
     "data": {
      "text/plain": [
       "0"
      ]
     },
     "execution_count": 75,
     "metadata": {},
     "output_type": "execute_result"
    }
   ],
   "source": [
    "lev.distance(Astr[1], Astr[1])"
   ]
  },
  {
   "cell_type": "markdown",
   "id": "533b646a",
   "metadata": {},
   "source": [
    "Jaro similarity result should be 1.0"
   ]
  },
  {
   "cell_type": "code",
   "execution_count": 76,
   "id": "2c591003",
   "metadata": {},
   "outputs": [
    {
     "data": {
      "text/plain": [
       "1.0"
      ]
     },
     "execution_count": 76,
     "metadata": {},
     "output_type": "execute_result"
    }
   ],
   "source": [
    "dist.get_jaro_distance(Astr[1], Astr[1])"
   ]
  },
  {
   "cell_type": "code",
   "execution_count": 77,
   "id": "77b377bc",
   "metadata": {},
   "outputs": [
    {
     "name": "stdout",
     "output_type": "stream",
     "text": [
      "target     : 0\n",
      "pred_relu  : 1\n",
      "pred_tanh  : 2\n",
      "pred_elu   : 3\n",
      "pred_leaky : 4\n"
     ]
    }
   ],
   "source": [
    "for i, f in enumerate(features):\n",
    "    print(f\"{f:10s} : {i}\")"
   ]
  },
  {
   "cell_type": "code",
   "execution_count": 92,
   "id": "6eae8fb5",
   "metadata": {},
   "outputs": [
    {
     "name": "stdout",
     "output_type": "stream",
     "text": [
      "        Similarity and Distance Metrics\n",
      "                  COMPAS_FTU\n",
      "----------------------------------------------\n",
      "Function\tLev.\tJaro\t  Jaro-Winkler\n",
      "target    :\t424\t0.80006\t  0.82000\n",
      "pred_relu :\t427\t0.79910\t  0.82000\n",
      "pred_tanh :\t420\t0.80340\t  0.82000\n",
      "pred_elu  :\t421\t0.80675\t  0.83000\n",
      "pred_leaky:\t427\t0.80006\t  0.82000\n"
     ]
    }
   ],
   "source": [
    "l = 46\n",
    "title = \"Similarity and Distance Metrics\"\n",
    "t = len(title)\n",
    "offset = l//2 - t//2\n",
    "print(\" \"*offset + title)\n",
    "\n",
    "title = f\"{source}\"\n",
    "t = len(title)\n",
    "offset = l//2 - t//2\n",
    "print(\" \"*offset + title)\n",
    "\n",
    "\n",
    "print(\"-\" * l)\n",
    "print(\"Function\\tLev.\\tJaro\\t  Jaro-Winkler\")\n",
    "for i, f in enumerate(features):\n",
    "    print(f\"{f:10s}:\\t{lev.distance(Astr[i], Bstr[i])}\\t\" \\\n",
    "          f\"{dist.get_jaro_distance(Astr[i], Bstr[i], winkler=False):7.5f}\\t\" \\\n",
    "          f\"{dist.get_jaro_distance(Astr[i], Bstr[i], winkler=True):9.5f}\")\n",
    "    "
   ]
  },
  {
   "cell_type": "markdown",
   "id": "0d2228f2",
   "metadata": {},
   "source": [
    "## Distribution Tests"
   ]
  },
  {
   "cell_type": "markdown",
   "id": "a0b5ac5d",
   "metadata": {},
   "source": [
    "Test results for shape of distribution"
   ]
  },
  {
   "cell_type": "code",
   "execution_count": 79,
   "id": "8b1d4e6d",
   "metadata": {},
   "outputs": [
    {
     "name": "stdout",
     "output_type": "stream",
     "text": [
      "Binom  - target    :       0.53739    0.00  X\n",
      "Norm   - target    :       0.50000    0.00\n",
      "Chi^2  - target    :       0.00000    1.00  same as actual\n",
      "\n",
      "Binom  - pred_relu :       0.50507    0.00  X\n",
      "Norm   - pred_relu :       0.50000    0.00\n",
      "Chi^2  - pred_relu :       2.26146    0.13\n",
      "\n",
      "Binom  - pred_tanh :       0.52677    0.00  X\n",
      "Norm   - pred_tanh :       0.50000    0.00\n",
      "Chi^2  - pred_tanh :       0.24948    0.62  same as actual\n",
      "\n",
      "Binom  - pred_elu  :       0.54848    0.00  X\n",
      "Norm   - pred_elu  :       0.50000    0.00\n",
      "Chi^2  - pred_elu  :       0.27916    0.60  same as actual\n",
      "\n",
      "Binom  - pred_leaky:       0.50410    0.00  X\n",
      "Norm   - pred_leaky:       0.50000    0.00\n",
      "Chi^2  - pred_leaky:       2.39607    0.12\n",
      "\n"
     ]
    }
   ],
   "source": [
    "for f in features:\n",
    "    test = data[f]\n",
    "\n",
    "    x = test.values\n",
    "    n = test.sum()\n",
    "    p = n / test.shape[0]\n",
    "\n",
    "    stat, pval = kstest(rvs=x, cdf=binom.cdf(x, n, p))\n",
    "    print(f\"Binom  - {test.name:10}:{stat:14.5f}{pval:8.2f}\", end=\"\")\n",
    "    if stat > 0.5:\n",
    "        print(\"  X\")\n",
    "    else:\n",
    "        print()\n",
    "\n",
    "    stat, pval = kstest(rvs=x, cdf='norm')\n",
    "    print(f\"Norm   - {test.name:10}:{stat:14.5f}{pval:8.2f}\", end=\"\")    \n",
    "    if stat > 0.5:\n",
    "        print(\"  X\")\n",
    "    else:\n",
    "        print()\n",
    "    \n",
    "    freqB = data.target.sum()\n",
    "    stat, pval = chisquare([n, freqB])\n",
    "    print(f\"Chi^2  - {test.name:10}:{stat:14.5f}{pval:8.2f}\", end=\"\")\n",
    "    if pval > stat:\n",
    "        print(\"  same as actual\\n\")\n",
    "    else:\n",
    "        print(\"\\n\")"
   ]
  },
  {
   "cell_type": "markdown",
   "id": "7a7422e9",
   "metadata": {},
   "source": [
    "# Descriptive Statistics"
   ]
  },
  {
   "cell_type": "code",
   "execution_count": 80,
   "id": "bf170cee",
   "metadata": {},
   "outputs": [],
   "source": [
    "def get_stats(df, src, func):\n",
    "    n = df.shape[0]\n",
    "    k = df.sum()\n",
    "    p = k / n\n",
    "    q = 1 - p\n",
    "    \n",
    "    mean, var, skew, kurt = binom.stats(n, p, moments=\"mvsk\")\n",
    "    std = np.std(df.values)\n",
    "    \n",
    "    return [src, func, float(mean), float(std), float(var), float(skew), float(kurt)]"
   ]
  },
  {
   "cell_type": "code",
   "execution_count": 81,
   "id": "241a0e15",
   "metadata": {},
   "outputs": [],
   "source": [
    "cols = [\"Source\", \"Function\", \"Mean\", \"STD\", \"Variance\", \"Skew\", \"Kurtosis\"]"
   ]
  },
  {
   "cell_type": "code",
   "execution_count": 82,
   "id": "20ab7247",
   "metadata": {},
   "outputs": [],
   "source": [
    "df = pd.DataFrame(columns=cols)\n",
    "\n",
    "for i, d in enumerate(data_list):\n",
    "    for j, f in enumerate(fs):\n",
    "        temp = get_stats(d[features[j]], tag[i], f)\n",
    "        tmp = pd.Series(temp, index=df.columns)\n",
    "        df = df.append(tmp, ignore_index=True)"
   ]
  },
  {
   "cell_type": "code",
   "execution_count": 83,
   "id": "a610c98d",
   "metadata": {
    "scrolled": false
   },
   "outputs": [
    {
     "name": "stdout",
     "output_type": "stream",
     "text": [
      "  * * * COMPAS_FTU Baseline Descriptive Statistics * * *\n",
      "----------------------------------------------------------\n"
     ]
    },
    {
     "data": {
      "text/html": [
       "<div>\n",
       "<style scoped>\n",
       "    .dataframe tbody tr th:only-of-type {\n",
       "        vertical-align: middle;\n",
       "    }\n",
       "\n",
       "    .dataframe tbody tr th {\n",
       "        vertical-align: top;\n",
       "    }\n",
       "\n",
       "    .dataframe thead th {\n",
       "        text-align: right;\n",
       "    }\n",
       "</style>\n",
       "<table border=\"1\" class=\"dataframe\">\n",
       "  <thead>\n",
       "    <tr style=\"text-align: right;\">\n",
       "      <th></th>\n",
       "      <th>Source</th>\n",
       "      <th>Function</th>\n",
       "      <th>Mean</th>\n",
       "      <th>STD</th>\n",
       "      <th>Variance</th>\n",
       "      <th>Skew</th>\n",
       "      <th>Kurtosis</th>\n",
       "    </tr>\n",
       "  </thead>\n",
       "  <tbody>\n",
       "    <tr>\n",
       "      <th>0</th>\n",
       "      <td>Ground</td>\n",
       "      <td>Actual</td>\n",
       "      <td>959.0</td>\n",
       "      <td>0.4986</td>\n",
       "      <td>515.352629</td>\n",
       "      <td>0.003294</td>\n",
       "      <td>-0.000954</td>\n",
       "    </tr>\n",
       "    <tr>\n",
       "      <th>1</th>\n",
       "      <td>Ground</td>\n",
       "      <td>ReLU</td>\n",
       "      <td>1026.0</td>\n",
       "      <td>0.499974</td>\n",
       "      <td>518.196816</td>\n",
       "      <td>0.000445</td>\n",
       "      <td>-0.000965</td>\n",
       "    </tr>\n",
       "    <tr>\n",
       "      <th>2</th>\n",
       "      <td>Ground</td>\n",
       "      <td>Tanh</td>\n",
       "      <td>981.0</td>\n",
       "      <td>0.499283</td>\n",
       "      <td>516.76411</td>\n",
       "      <td>0.002355</td>\n",
       "      <td>-0.000959</td>\n",
       "    </tr>\n",
       "    <tr>\n",
       "      <th>3</th>\n",
       "      <td>Ground</td>\n",
       "      <td>ELU</td>\n",
       "      <td>936.0</td>\n",
       "      <td>0.497644</td>\n",
       "      <td>513.377713</td>\n",
       "      <td>0.004279</td>\n",
       "      <td>-0.000946</td>\n",
       "    </tr>\n",
       "    <tr>\n",
       "      <th>4</th>\n",
       "      <td>Ground</td>\n",
       "      <td>Leaky ReLU</td>\n",
       "      <td>1028.0</td>\n",
       "      <td>0.499983</td>\n",
       "      <td>518.215147</td>\n",
       "      <td>0.00036</td>\n",
       "      <td>-0.000965</td>\n",
       "    </tr>\n",
       "    <tr>\n",
       "      <th>5</th>\n",
       "      <td>Group A</td>\n",
       "      <td>Actual</td>\n",
       "      <td>563.0</td>\n",
       "      <td>0.499437</td>\n",
       "      <td>268.145116</td>\n",
       "      <td>-0.002897</td>\n",
       "      <td>-0.001852</td>\n",
       "    </tr>\n",
       "    <tr>\n",
       "      <th>6</th>\n",
       "      <td>Group A</td>\n",
       "      <td>ReLU</td>\n",
       "      <td>616.0</td>\n",
       "      <td>0.494639</td>\n",
       "      <td>263.017674</td>\n",
       "      <td>-0.009005</td>\n",
       "      <td>-0.001779</td>\n",
       "    </tr>\n",
       "    <tr>\n",
       "      <th>7</th>\n",
       "      <td>Group A</td>\n",
       "      <td>Tanh</td>\n",
       "      <td>585.0</td>\n",
       "      <td>0.498044</td>\n",
       "      <td>266.651163</td>\n",
       "      <td>-0.005412</td>\n",
       "      <td>-0.001831</td>\n",
       "    </tr>\n",
       "    <tr>\n",
       "      <th>8</th>\n",
       "      <td>Group A</td>\n",
       "      <td>ELU</td>\n",
       "      <td>582.0</td>\n",
       "      <td>0.498283</td>\n",
       "      <td>266.907907</td>\n",
       "      <td>-0.005068</td>\n",
       "      <td>-0.001835</td>\n",
       "    </tr>\n",
       "    <tr>\n",
       "      <th>9</th>\n",
       "      <td>Group A</td>\n",
       "      <td>Leaky ReLU</td>\n",
       "      <td>622.0</td>\n",
       "      <td>0.493783</td>\n",
       "      <td>262.107907</td>\n",
       "      <td>-0.00971</td>\n",
       "      <td>-0.001766</td>\n",
       "    </tr>\n",
       "    <tr>\n",
       "      <th>10</th>\n",
       "      <td>Group B</td>\n",
       "      <td>Actual</td>\n",
       "      <td>291.0</td>\n",
       "      <td>0.493147</td>\n",
       "      <td>169.506456</td>\n",
       "      <td>0.012673</td>\n",
       "      <td>-0.002709</td>\n",
       "    </tr>\n",
       "    <tr>\n",
       "      <th>11</th>\n",
       "      <td>Group B</td>\n",
       "      <td>ReLU</td>\n",
       "      <td>297.0</td>\n",
       "      <td>0.49451</td>\n",
       "      <td>170.444763</td>\n",
       "      <td>0.011319</td>\n",
       "      <td>-0.002741</td>\n",
       "    </tr>\n",
       "    <tr>\n",
       "      <th>12</th>\n",
       "      <td>Group B</td>\n",
       "      <td>Tanh</td>\n",
       "      <td>287.0</td>\n",
       "      <td>0.492153</td>\n",
       "      <td>168.823529</td>\n",
       "      <td>0.013582</td>\n",
       "      <td>-0.002685</td>\n",
       "    </tr>\n",
       "    <tr>\n",
       "      <th>13</th>\n",
       "      <td>Group B</td>\n",
       "      <td>ELU</td>\n",
       "      <td>257.0</td>\n",
       "      <td>0.482459</td>\n",
       "      <td>162.238164</td>\n",
       "      <td>0.020613</td>\n",
       "      <td>-0.002445</td>\n",
       "    </tr>\n",
       "    <tr>\n",
       "      <th>14</th>\n",
       "      <td>Group B</td>\n",
       "      <td>Leaky ReLU</td>\n",
       "      <td>296.0</td>\n",
       "      <td>0.494294</td>\n",
       "      <td>170.295552</td>\n",
       "      <td>0.011544</td>\n",
       "      <td>-0.002736</td>\n",
       "    </tr>\n",
       "  </tbody>\n",
       "</table>\n",
       "</div>"
      ],
      "text/plain": [
       "     Source    Function    Mean       STD    Variance      Skew  Kurtosis\n",
       "0    Ground      Actual   959.0    0.4986  515.352629  0.003294 -0.000954\n",
       "1    Ground        ReLU  1026.0  0.499974  518.196816  0.000445 -0.000965\n",
       "2    Ground        Tanh   981.0  0.499283   516.76411  0.002355 -0.000959\n",
       "3    Ground         ELU   936.0  0.497644  513.377713  0.004279 -0.000946\n",
       "4    Ground  Leaky ReLU  1028.0  0.499983  518.215147   0.00036 -0.000965\n",
       "5   Group A      Actual   563.0  0.499437  268.145116 -0.002897 -0.001852\n",
       "6   Group A        ReLU   616.0  0.494639  263.017674 -0.009005 -0.001779\n",
       "7   Group A        Tanh   585.0  0.498044  266.651163 -0.005412 -0.001831\n",
       "8   Group A         ELU   582.0  0.498283  266.907907 -0.005068 -0.001835\n",
       "9   Group A  Leaky ReLU   622.0  0.493783  262.107907  -0.00971 -0.001766\n",
       "10  Group B      Actual   291.0  0.493147  169.506456  0.012673 -0.002709\n",
       "11  Group B        ReLU   297.0   0.49451  170.444763  0.011319 -0.002741\n",
       "12  Group B        Tanh   287.0  0.492153  168.823529  0.013582 -0.002685\n",
       "13  Group B         ELU   257.0  0.482459  162.238164  0.020613 -0.002445\n",
       "14  Group B  Leaky ReLU   296.0  0.494294  170.295552  0.011544 -0.002736"
      ]
     },
     "metadata": {},
     "output_type": "display_data"
    }
   ],
   "source": [
    "l = 56\n",
    "title = f\"* * * {source} Baseline Descriptive Statistics * * *\"\n",
    "t = len(title)\n",
    "offset = l//2 - t//2\n",
    "\n",
    "\n",
    "print(\" \"*offset, title)\n",
    "print(\"-\"*(l+2))\n",
    "display(df)"
   ]
  },
  {
   "cell_type": "markdown",
   "id": "56d3f7d5",
   "metadata": {},
   "source": [
    "### Save descriptive stats"
   ]
  },
  {
   "cell_type": "code",
   "execution_count": 84,
   "id": "3d8d8127",
   "metadata": {},
   "outputs": [
    {
     "name": "stdout",
     "output_type": "stream",
     "text": [
      "COMPAS_FTU_stats_mk4.parquet has been saved.\n"
     ]
    }
   ],
   "source": [
    "custom_save(name, df, 0)"
   ]
  },
  {
   "cell_type": "markdown",
   "id": "318aea27",
   "metadata": {},
   "source": [
    "# Appendix:  Examples of Similarity Metrics"
   ]
  },
  {
   "cell_type": "code",
   "execution_count": null,
   "id": "306c6496",
   "metadata": {},
   "outputs": [],
   "source": [
    "from itertools import permutations"
   ]
  },
  {
   "cell_type": "code",
   "execution_count": null,
   "id": "c3bed9f6",
   "metadata": {},
   "outputs": [],
   "source": [
    "x = 3\n",
    "perm_gen = \"0\" * x + \"1\"*x\n",
    "list(perm_gen)"
   ]
  },
  {
   "cell_type": "code",
   "execution_count": null,
   "id": "2e6fd6f5",
   "metadata": {},
   "outputs": [],
   "source": [
    "perm = permutations(list(perm_gen))\n",
    "words = []\n",
    "for i in list(perm):\n",
    "    if i not in words:\n",
    "        tmp = ''.join(str(e) for e in i)\n",
    "    if tmp not in words:\n",
    "        words.append(tmp)\n",
    "        print(f\"{i} : {tmp}\")"
   ]
  },
  {
   "cell_type": "code",
   "execution_count": null,
   "id": "bd165643",
   "metadata": {
    "scrolled": true
   },
   "outputs": [],
   "source": [
    "cache = []\n",
    "size = 8 + 2*len(words[0])\n",
    "lbls = [\"Permutation\", \"Lev\", \"Jaro\", \"Jaro-Winkler\"]\n",
    "print(f\"{lbls[0]:{size}s}\" +\\\n",
    "      f\"{lbls[1]:5s}\" +\\\n",
    "      f\"{lbls[2]:10s}\" +\\\n",
    "      f\"{lbls[3]}\")\n",
    "\n",
    "for first in words:\n",
    "    if first is not words[0]:\n",
    "        print()\n",
    "    for second in words:\n",
    "        temp = f\"{first} x {second}\"\n",
    "        temp2 = f\"{second} x {first}\"\n",
    "        if (temp not in cache) and (temp2 not in cache):\n",
    "            cache.append(temp)\n",
    "            levd = lev.distance(first,second)\n",
    "            jaro = dist.get_jaro_distance(first, second)\n",
    "            jw = dist.get_jaro_distance(first, second, winkler=False)\n",
    "            print(f\"{first} x {second} : {levd:3d}{jaro:11.5f}{jw:10.5f}\")"
   ]
  },
  {
   "cell_type": "code",
   "execution_count": null,
   "id": "611fb2b2",
   "metadata": {},
   "outputs": [],
   "source": []
  }
 ],
 "metadata": {
  "kernelspec": {
   "display_name": "Python 3 (ipykernel)",
   "language": "python",
   "name": "python3"
  },
  "language_info": {
   "codemirror_mode": {
    "name": "ipython",
    "version": 3
   },
   "file_extension": ".py",
   "mimetype": "text/x-python",
   "name": "python",
   "nbconvert_exporter": "python",
   "pygments_lexer": "ipython3",
   "version": "3.8.10"
  }
 },
 "nbformat": 4,
 "nbformat_minor": 5
}
