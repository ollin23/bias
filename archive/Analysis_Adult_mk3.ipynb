{
 "cells": [
  {
   "cell_type": "markdown",
   "id": "1b98ac08",
   "metadata": {},
   "source": [
    "# Adult Income Model Bias Analysis\n",
    "mk3"
   ]
  },
  {
   "cell_type": "markdown",
   "id": "2e4015b9",
   "metadata": {},
   "source": [
    "## Import Dependencies"
   ]
  },
  {
   "cell_type": "code",
   "execution_count": 1,
   "id": "b0a650b5",
   "metadata": {},
   "outputs": [],
   "source": [
    "# !pip install researchpy"
   ]
  },
  {
   "cell_type": "code",
   "execution_count": 2,
   "id": "e6fab239",
   "metadata": {},
   "outputs": [],
   "source": [
    "import pandas as pd\n",
    "import numpy as np\n",
    "import matplotlib.pyplot as plt\n",
    "import seaborn as sns\n",
    "import researchpy as rp"
   ]
  },
  {
   "cell_type": "code",
   "execution_count": 3,
   "id": "1b982d64",
   "metadata": {},
   "outputs": [],
   "source": [
    "import warnings\n",
    "warnings.filterwarnings('ignore')"
   ]
  },
  {
   "cell_type": "code",
   "execution_count": 4,
   "id": "9e8f6b4b",
   "metadata": {},
   "outputs": [],
   "source": [
    "from dataclasses import dataclass"
   ]
  },
  {
   "cell_type": "code",
   "execution_count": 5,
   "id": "aa3b4556",
   "metadata": {},
   "outputs": [],
   "source": [
    "%matplotlib inline"
   ]
  },
  {
   "cell_type": "code",
   "execution_count": 6,
   "id": "6715839a",
   "metadata": {},
   "outputs": [],
   "source": [
    "pd.options.display.max_columns = 250\n",
    "pd.options.display.max_rows = 250"
   ]
  },
  {
   "cell_type": "code",
   "execution_count": 7,
   "id": "112c6e86",
   "metadata": {},
   "outputs": [],
   "source": [
    "from sklearn.metrics import confusion_matrix"
   ]
  },
  {
   "cell_type": "markdown",
   "id": "842941e4",
   "metadata": {},
   "source": [
    "# Custom functions"
   ]
  },
  {
   "cell_type": "markdown",
   "id": "ee0a4c91",
   "metadata": {},
   "source": [
    "#### Dataclass for confusion matrix results"
   ]
  },
  {
   "cell_type": "code",
   "execution_count": 8,
   "id": "1675b590",
   "metadata": {},
   "outputs": [],
   "source": [
    "@dataclass\n",
    "class cmatrix:\n",
    "    name: str\n",
    "    TP: int\n",
    "    FP: int\n",
    "    TN: int\n",
    "    FN: int    \n",
    "    PPV: float\n",
    "    TPR: float\n",
    "    FDR: float\n",
    "    FPR: float\n",
    "    FOR: float\n",
    "    FNR: float\n",
    "    NPV: float\n",
    "    TNR: float"
   ]
  },
  {
   "cell_type": "markdown",
   "id": "67377e53",
   "metadata": {},
   "source": [
    "#### Helper function to generate dataclass _cmatrix_"
   ]
  },
  {
   "cell_type": "code",
   "execution_count": 9,
   "id": "3cbcc121",
   "metadata": {},
   "outputs": [],
   "source": [
    "def gen_dataclass(actual, pred, name):\n",
    "    [TN, FP, FN, TP] = confusion_matrix(actual, pred).ravel()\n",
    "    \n",
    "\n",
    "    PPV = TP / (TP + FP)  # positive predictive value\n",
    "    FDR = FP / (TP + FP)  # false discovery rate\n",
    "    \n",
    "    TPR = TP / (TP + FN)  # true positive rate\n",
    "    FNR = FN / (TP + FN)  # false negative rate\n",
    "    \n",
    "    TNR = TN / (TN + FP)  # true negative rate\n",
    "    FPR = FP / (TN + FP)  # false positive rate\n",
    "\n",
    "    FOR = FN / (TN + FN)  # false omission rate\n",
    "    NPV = TN / (TN + FN)  # negative predictive value\n",
    "\n",
    "    \n",
    "    return cmatrix(name, TP, FP, TN, FN, PPV, TPR, FDR, FPR, FOR, FNR, NPV, TNR)"
   ]
  },
  {
   "cell_type": "markdown",
   "id": "7564e947",
   "metadata": {},
   "source": [
    "#### Extract bias metrics"
   ]
  },
  {
   "cell_type": "code",
   "execution_count": 10,
   "id": "cfaba417",
   "metadata": {},
   "outputs": [],
   "source": [
    "def bias_metrics(df):\n",
    "    '''\n",
    "    - takes dataframe as input\n",
    "    - returns dataclass whose components are statistical measures from a confusion matrix\n",
    "    particular to relu, tanh, elu, and leaky relu dataframe series\n",
    "    '''\n",
    "    actual = df.target.values\n",
    "    relu = df.pred_relu.values\n",
    "    tanh = df.pred_tanh.values\n",
    "    elu = df.pred_elu.values\n",
    "    leaky = df.pred_leaky.values\n",
    "    \n",
    "    relu = gen_dataclass(actual, relu, \"relu\")\n",
    "    tanh = gen_dataclass(actual, tanh, \"tanh\")\n",
    "    elu = gen_dataclass(actual, elu, \"elu\")\n",
    "    leaky = gen_dataclass(actual, leaky, \"leaky\")\n",
    "    \n",
    "    return relu, tanh, elu, leaky"
   ]
  },
  {
   "cell_type": "markdown",
   "id": "51902b24",
   "metadata": {},
   "source": [
    "# Import Data"
   ]
  },
  {
   "cell_type": "code",
   "execution_count": 11,
   "id": "0e72e199",
   "metadata": {},
   "outputs": [],
   "source": [
    "data = pd.read_parquet(\"adult_results_mk5_v3.parquet\")"
   ]
  },
  {
   "cell_type": "code",
   "execution_count": 12,
   "id": "b52edcff",
   "metadata": {},
   "outputs": [
    {
     "data": {
      "text/html": [
       "<div>\n",
       "<style scoped>\n",
       "    .dataframe tbody tr th:only-of-type {\n",
       "        vertical-align: middle;\n",
       "    }\n",
       "\n",
       "    .dataframe tbody tr th {\n",
       "        vertical-align: top;\n",
       "    }\n",
       "\n",
       "    .dataframe thead th {\n",
       "        text-align: right;\n",
       "    }\n",
       "</style>\n",
       "<table border=\"1\" class=\"dataframe\">\n",
       "  <thead>\n",
       "    <tr style=\"text-align: right;\">\n",
       "      <th></th>\n",
       "      <th>age</th>\n",
       "      <th>fnlwgt</th>\n",
       "      <th>education-num</th>\n",
       "      <th>capital-gain</th>\n",
       "      <th>capital-loss</th>\n",
       "      <th>hours-per-week</th>\n",
       "      <th>workclass_ ?</th>\n",
       "      <th>workclass_ Federal-gov</th>\n",
       "      <th>workclass_ Local-gov</th>\n",
       "      <th>workclass_ Never-worked</th>\n",
       "      <th>workclass_ Private</th>\n",
       "      <th>workclass_ Self-emp-inc</th>\n",
       "      <th>workclass_ Self-emp-not-inc</th>\n",
       "      <th>workclass_ State-gov</th>\n",
       "      <th>workclass_ Without-pay</th>\n",
       "      <th>education_ 10th</th>\n",
       "      <th>education_ 11th</th>\n",
       "      <th>education_ 12th</th>\n",
       "      <th>education_ 1st-4th</th>\n",
       "      <th>education_ 5th-6th</th>\n",
       "      <th>education_ 7th-8th</th>\n",
       "      <th>education_ 9th</th>\n",
       "      <th>education_ Assoc-acdm</th>\n",
       "      <th>education_ Assoc-voc</th>\n",
       "      <th>education_ Bachelors</th>\n",
       "      <th>education_ Doctorate</th>\n",
       "      <th>education_ HS-grad</th>\n",
       "      <th>education_ Masters</th>\n",
       "      <th>education_ Preschool</th>\n",
       "      <th>education_ Prof-school</th>\n",
       "      <th>education_ Some-college</th>\n",
       "      <th>marital-status_ Divorced</th>\n",
       "      <th>marital-status_ Married-AF-spouse</th>\n",
       "      <th>marital-status_ Married-civ-spouse</th>\n",
       "      <th>marital-status_ Married-spouse-absent</th>\n",
       "      <th>marital-status_ Never-married</th>\n",
       "      <th>marital-status_ Separated</th>\n",
       "      <th>marital-status_ Widowed</th>\n",
       "      <th>occupation_ ?</th>\n",
       "      <th>occupation_ Adm-clerical</th>\n",
       "      <th>occupation_ Armed-Forces</th>\n",
       "      <th>occupation_ Craft-repair</th>\n",
       "      <th>occupation_ Exec-managerial</th>\n",
       "      <th>occupation_ Farming-fishing</th>\n",
       "      <th>occupation_ Handlers-cleaners</th>\n",
       "      <th>occupation_ Machine-op-inspct</th>\n",
       "      <th>occupation_ Other-service</th>\n",
       "      <th>occupation_ Priv-house-serv</th>\n",
       "      <th>occupation_ Prof-specialty</th>\n",
       "      <th>occupation_ Protective-serv</th>\n",
       "      <th>occupation_ Sales</th>\n",
       "      <th>occupation_ Tech-support</th>\n",
       "      <th>occupation_ Transport-moving</th>\n",
       "      <th>relationship_ Husband</th>\n",
       "      <th>relationship_ Not-in-family</th>\n",
       "      <th>relationship_ Other-relative</th>\n",
       "      <th>relationship_ Own-child</th>\n",
       "      <th>relationship_ Unmarried</th>\n",
       "      <th>relationship_ Wife</th>\n",
       "      <th>race_ Amer-Indian-Eskimo</th>\n",
       "      <th>race_ Asian-Pac-Islander</th>\n",
       "      <th>race_ Black</th>\n",
       "      <th>race_ Other</th>\n",
       "      <th>race_ White</th>\n",
       "      <th>gender</th>\n",
       "      <th>native-country_ ?</th>\n",
       "      <th>native-country_ Cambodia</th>\n",
       "      <th>native-country_ Canada</th>\n",
       "      <th>native-country_ China</th>\n",
       "      <th>native-country_ Columbia</th>\n",
       "      <th>native-country_ Cuba</th>\n",
       "      <th>native-country_ Dominican-Republic</th>\n",
       "      <th>native-country_ Ecuador</th>\n",
       "      <th>native-country_ El-Salvador</th>\n",
       "      <th>native-country_ England</th>\n",
       "      <th>native-country_ France</th>\n",
       "      <th>native-country_ Germany</th>\n",
       "      <th>native-country_ Greece</th>\n",
       "      <th>native-country_ Guatemala</th>\n",
       "      <th>native-country_ Haiti</th>\n",
       "      <th>native-country_ Holand-Netherlands</th>\n",
       "      <th>native-country_ Honduras</th>\n",
       "      <th>native-country_ Hong</th>\n",
       "      <th>native-country_ Hungary</th>\n",
       "      <th>native-country_ India</th>\n",
       "      <th>native-country_ Iran</th>\n",
       "      <th>native-country_ Ireland</th>\n",
       "      <th>native-country_ Italy</th>\n",
       "      <th>native-country_ Jamaica</th>\n",
       "      <th>native-country_ Japan</th>\n",
       "      <th>native-country_ Laos</th>\n",
       "      <th>native-country_ Mexico</th>\n",
       "      <th>native-country_ Nicaragua</th>\n",
       "      <th>native-country_ Outlying-US(Guam-USVI-etc)</th>\n",
       "      <th>native-country_ Peru</th>\n",
       "      <th>native-country_ Philippines</th>\n",
       "      <th>native-country_ Poland</th>\n",
       "      <th>native-country_ Portugal</th>\n",
       "      <th>native-country_ Puerto-Rico</th>\n",
       "      <th>native-country_ Scotland</th>\n",
       "      <th>native-country_ South</th>\n",
       "      <th>native-country_ Taiwan</th>\n",
       "      <th>native-country_ Thailand</th>\n",
       "      <th>native-country_ Trinadad&amp;Tobago</th>\n",
       "      <th>native-country_ United-States</th>\n",
       "      <th>native-country_ Vietnam</th>\n",
       "      <th>native-country_ Yugoslavia</th>\n",
       "      <th>target</th>\n",
       "      <th>pred_relu</th>\n",
       "      <th>pred_tanh</th>\n",
       "      <th>pred_elu</th>\n",
       "      <th>pred_leaky</th>\n",
       "    </tr>\n",
       "  </thead>\n",
       "  <tbody>\n",
       "    <tr>\n",
       "      <th>0</th>\n",
       "      <td>25.0</td>\n",
       "      <td>226802.0</td>\n",
       "      <td>7.0</td>\n",
       "      <td>0.0</td>\n",
       "      <td>0.0</td>\n",
       "      <td>40.0</td>\n",
       "      <td>0.0</td>\n",
       "      <td>0.0</td>\n",
       "      <td>0.0</td>\n",
       "      <td>0.0</td>\n",
       "      <td>1.0</td>\n",
       "      <td>0.0</td>\n",
       "      <td>0.0</td>\n",
       "      <td>0.0</td>\n",
       "      <td>0.0</td>\n",
       "      <td>0.0</td>\n",
       "      <td>1.0</td>\n",
       "      <td>0.0</td>\n",
       "      <td>0.0</td>\n",
       "      <td>0.0</td>\n",
       "      <td>0.0</td>\n",
       "      <td>0.0</td>\n",
       "      <td>0.0</td>\n",
       "      <td>0.0</td>\n",
       "      <td>0.0</td>\n",
       "      <td>0.0</td>\n",
       "      <td>0.0</td>\n",
       "      <td>0.0</td>\n",
       "      <td>0.0</td>\n",
       "      <td>0.0</td>\n",
       "      <td>0.0</td>\n",
       "      <td>0.0</td>\n",
       "      <td>0.0</td>\n",
       "      <td>0.0</td>\n",
       "      <td>0.0</td>\n",
       "      <td>1.0</td>\n",
       "      <td>0.0</td>\n",
       "      <td>0.0</td>\n",
       "      <td>0.0</td>\n",
       "      <td>0.0</td>\n",
       "      <td>0.0</td>\n",
       "      <td>0.0</td>\n",
       "      <td>0.0</td>\n",
       "      <td>0.0</td>\n",
       "      <td>0.0</td>\n",
       "      <td>1.0</td>\n",
       "      <td>0.0</td>\n",
       "      <td>0.0</td>\n",
       "      <td>0.0</td>\n",
       "      <td>0.0</td>\n",
       "      <td>0.0</td>\n",
       "      <td>0.0</td>\n",
       "      <td>0.0</td>\n",
       "      <td>0.0</td>\n",
       "      <td>0.0</td>\n",
       "      <td>0.0</td>\n",
       "      <td>1.0</td>\n",
       "      <td>0.0</td>\n",
       "      <td>0.0</td>\n",
       "      <td>0.0</td>\n",
       "      <td>0.0</td>\n",
       "      <td>1.0</td>\n",
       "      <td>0.0</td>\n",
       "      <td>0.0</td>\n",
       "      <td>0.0</td>\n",
       "      <td>0.0</td>\n",
       "      <td>0.0</td>\n",
       "      <td>0.0</td>\n",
       "      <td>0.0</td>\n",
       "      <td>0.0</td>\n",
       "      <td>0.0</td>\n",
       "      <td>0.0</td>\n",
       "      <td>0.0</td>\n",
       "      <td>0.0</td>\n",
       "      <td>0.0</td>\n",
       "      <td>0.0</td>\n",
       "      <td>0.0</td>\n",
       "      <td>0.0</td>\n",
       "      <td>0.0</td>\n",
       "      <td>0.0</td>\n",
       "      <td>0.0</td>\n",
       "      <td>0.0</td>\n",
       "      <td>0.0</td>\n",
       "      <td>0.0</td>\n",
       "      <td>0.0</td>\n",
       "      <td>0.0</td>\n",
       "      <td>0.0</td>\n",
       "      <td>0.0</td>\n",
       "      <td>0.0</td>\n",
       "      <td>0.0</td>\n",
       "      <td>0.0</td>\n",
       "      <td>0.0</td>\n",
       "      <td>0.0</td>\n",
       "      <td>0.0</td>\n",
       "      <td>0.0</td>\n",
       "      <td>0.0</td>\n",
       "      <td>0.0</td>\n",
       "      <td>0.0</td>\n",
       "      <td>0.0</td>\n",
       "      <td>0.0</td>\n",
       "      <td>0.0</td>\n",
       "      <td>0.0</td>\n",
       "      <td>0.0</td>\n",
       "      <td>0.0</td>\n",
       "      <td>1.0</td>\n",
       "      <td>0.0</td>\n",
       "      <td>0.0</td>\n",
       "      <td>0</td>\n",
       "      <td>0</td>\n",
       "      <td>0</td>\n",
       "      <td>0</td>\n",
       "      <td>0</td>\n",
       "    </tr>\n",
       "    <tr>\n",
       "      <th>1</th>\n",
       "      <td>38.0</td>\n",
       "      <td>89814.0</td>\n",
       "      <td>9.0</td>\n",
       "      <td>0.0</td>\n",
       "      <td>0.0</td>\n",
       "      <td>50.0</td>\n",
       "      <td>0.0</td>\n",
       "      <td>0.0</td>\n",
       "      <td>0.0</td>\n",
       "      <td>0.0</td>\n",
       "      <td>1.0</td>\n",
       "      <td>0.0</td>\n",
       "      <td>0.0</td>\n",
       "      <td>0.0</td>\n",
       "      <td>0.0</td>\n",
       "      <td>0.0</td>\n",
       "      <td>0.0</td>\n",
       "      <td>0.0</td>\n",
       "      <td>0.0</td>\n",
       "      <td>0.0</td>\n",
       "      <td>0.0</td>\n",
       "      <td>0.0</td>\n",
       "      <td>0.0</td>\n",
       "      <td>0.0</td>\n",
       "      <td>0.0</td>\n",
       "      <td>0.0</td>\n",
       "      <td>1.0</td>\n",
       "      <td>0.0</td>\n",
       "      <td>0.0</td>\n",
       "      <td>0.0</td>\n",
       "      <td>0.0</td>\n",
       "      <td>0.0</td>\n",
       "      <td>0.0</td>\n",
       "      <td>1.0</td>\n",
       "      <td>0.0</td>\n",
       "      <td>0.0</td>\n",
       "      <td>0.0</td>\n",
       "      <td>0.0</td>\n",
       "      <td>0.0</td>\n",
       "      <td>0.0</td>\n",
       "      <td>0.0</td>\n",
       "      <td>0.0</td>\n",
       "      <td>0.0</td>\n",
       "      <td>1.0</td>\n",
       "      <td>0.0</td>\n",
       "      <td>0.0</td>\n",
       "      <td>0.0</td>\n",
       "      <td>0.0</td>\n",
       "      <td>0.0</td>\n",
       "      <td>0.0</td>\n",
       "      <td>0.0</td>\n",
       "      <td>0.0</td>\n",
       "      <td>0.0</td>\n",
       "      <td>1.0</td>\n",
       "      <td>0.0</td>\n",
       "      <td>0.0</td>\n",
       "      <td>0.0</td>\n",
       "      <td>0.0</td>\n",
       "      <td>0.0</td>\n",
       "      <td>0.0</td>\n",
       "      <td>0.0</td>\n",
       "      <td>0.0</td>\n",
       "      <td>0.0</td>\n",
       "      <td>1.0</td>\n",
       "      <td>0.0</td>\n",
       "      <td>0.0</td>\n",
       "      <td>0.0</td>\n",
       "      <td>0.0</td>\n",
       "      <td>0.0</td>\n",
       "      <td>0.0</td>\n",
       "      <td>0.0</td>\n",
       "      <td>0.0</td>\n",
       "      <td>0.0</td>\n",
       "      <td>0.0</td>\n",
       "      <td>0.0</td>\n",
       "      <td>0.0</td>\n",
       "      <td>0.0</td>\n",
       "      <td>0.0</td>\n",
       "      <td>0.0</td>\n",
       "      <td>0.0</td>\n",
       "      <td>0.0</td>\n",
       "      <td>0.0</td>\n",
       "      <td>0.0</td>\n",
       "      <td>0.0</td>\n",
       "      <td>0.0</td>\n",
       "      <td>0.0</td>\n",
       "      <td>0.0</td>\n",
       "      <td>0.0</td>\n",
       "      <td>0.0</td>\n",
       "      <td>0.0</td>\n",
       "      <td>0.0</td>\n",
       "      <td>0.0</td>\n",
       "      <td>0.0</td>\n",
       "      <td>0.0</td>\n",
       "      <td>0.0</td>\n",
       "      <td>0.0</td>\n",
       "      <td>0.0</td>\n",
       "      <td>0.0</td>\n",
       "      <td>0.0</td>\n",
       "      <td>0.0</td>\n",
       "      <td>0.0</td>\n",
       "      <td>0.0</td>\n",
       "      <td>0.0</td>\n",
       "      <td>0.0</td>\n",
       "      <td>1.0</td>\n",
       "      <td>0.0</td>\n",
       "      <td>0.0</td>\n",
       "      <td>0</td>\n",
       "      <td>0</td>\n",
       "      <td>0</td>\n",
       "      <td>0</td>\n",
       "      <td>0</td>\n",
       "    </tr>\n",
       "    <tr>\n",
       "      <th>2</th>\n",
       "      <td>28.0</td>\n",
       "      <td>336951.0</td>\n",
       "      <td>12.0</td>\n",
       "      <td>0.0</td>\n",
       "      <td>0.0</td>\n",
       "      <td>40.0</td>\n",
       "      <td>0.0</td>\n",
       "      <td>0.0</td>\n",
       "      <td>1.0</td>\n",
       "      <td>0.0</td>\n",
       "      <td>0.0</td>\n",
       "      <td>0.0</td>\n",
       "      <td>0.0</td>\n",
       "      <td>0.0</td>\n",
       "      <td>0.0</td>\n",
       "      <td>0.0</td>\n",
       "      <td>0.0</td>\n",
       "      <td>0.0</td>\n",
       "      <td>0.0</td>\n",
       "      <td>0.0</td>\n",
       "      <td>0.0</td>\n",
       "      <td>0.0</td>\n",
       "      <td>1.0</td>\n",
       "      <td>0.0</td>\n",
       "      <td>0.0</td>\n",
       "      <td>0.0</td>\n",
       "      <td>0.0</td>\n",
       "      <td>0.0</td>\n",
       "      <td>0.0</td>\n",
       "      <td>0.0</td>\n",
       "      <td>0.0</td>\n",
       "      <td>0.0</td>\n",
       "      <td>0.0</td>\n",
       "      <td>1.0</td>\n",
       "      <td>0.0</td>\n",
       "      <td>0.0</td>\n",
       "      <td>0.0</td>\n",
       "      <td>0.0</td>\n",
       "      <td>0.0</td>\n",
       "      <td>0.0</td>\n",
       "      <td>0.0</td>\n",
       "      <td>0.0</td>\n",
       "      <td>0.0</td>\n",
       "      <td>0.0</td>\n",
       "      <td>0.0</td>\n",
       "      <td>0.0</td>\n",
       "      <td>0.0</td>\n",
       "      <td>0.0</td>\n",
       "      <td>0.0</td>\n",
       "      <td>1.0</td>\n",
       "      <td>0.0</td>\n",
       "      <td>0.0</td>\n",
       "      <td>0.0</td>\n",
       "      <td>1.0</td>\n",
       "      <td>0.0</td>\n",
       "      <td>0.0</td>\n",
       "      <td>0.0</td>\n",
       "      <td>0.0</td>\n",
       "      <td>0.0</td>\n",
       "      <td>0.0</td>\n",
       "      <td>0.0</td>\n",
       "      <td>0.0</td>\n",
       "      <td>0.0</td>\n",
       "      <td>1.0</td>\n",
       "      <td>0.0</td>\n",
       "      <td>0.0</td>\n",
       "      <td>0.0</td>\n",
       "      <td>0.0</td>\n",
       "      <td>0.0</td>\n",
       "      <td>0.0</td>\n",
       "      <td>0.0</td>\n",
       "      <td>0.0</td>\n",
       "      <td>0.0</td>\n",
       "      <td>0.0</td>\n",
       "      <td>0.0</td>\n",
       "      <td>0.0</td>\n",
       "      <td>0.0</td>\n",
       "      <td>0.0</td>\n",
       "      <td>0.0</td>\n",
       "      <td>0.0</td>\n",
       "      <td>0.0</td>\n",
       "      <td>0.0</td>\n",
       "      <td>0.0</td>\n",
       "      <td>0.0</td>\n",
       "      <td>0.0</td>\n",
       "      <td>0.0</td>\n",
       "      <td>0.0</td>\n",
       "      <td>0.0</td>\n",
       "      <td>0.0</td>\n",
       "      <td>0.0</td>\n",
       "      <td>0.0</td>\n",
       "      <td>0.0</td>\n",
       "      <td>0.0</td>\n",
       "      <td>0.0</td>\n",
       "      <td>0.0</td>\n",
       "      <td>0.0</td>\n",
       "      <td>0.0</td>\n",
       "      <td>0.0</td>\n",
       "      <td>0.0</td>\n",
       "      <td>0.0</td>\n",
       "      <td>0.0</td>\n",
       "      <td>0.0</td>\n",
       "      <td>0.0</td>\n",
       "      <td>0.0</td>\n",
       "      <td>1.0</td>\n",
       "      <td>0.0</td>\n",
       "      <td>0.0</td>\n",
       "      <td>1</td>\n",
       "      <td>0</td>\n",
       "      <td>0</td>\n",
       "      <td>0</td>\n",
       "      <td>0</td>\n",
       "    </tr>\n",
       "    <tr>\n",
       "      <th>3</th>\n",
       "      <td>44.0</td>\n",
       "      <td>160323.0</td>\n",
       "      <td>10.0</td>\n",
       "      <td>7688.0</td>\n",
       "      <td>0.0</td>\n",
       "      <td>40.0</td>\n",
       "      <td>0.0</td>\n",
       "      <td>0.0</td>\n",
       "      <td>0.0</td>\n",
       "      <td>0.0</td>\n",
       "      <td>1.0</td>\n",
       "      <td>0.0</td>\n",
       "      <td>0.0</td>\n",
       "      <td>0.0</td>\n",
       "      <td>0.0</td>\n",
       "      <td>0.0</td>\n",
       "      <td>0.0</td>\n",
       "      <td>0.0</td>\n",
       "      <td>0.0</td>\n",
       "      <td>0.0</td>\n",
       "      <td>0.0</td>\n",
       "      <td>0.0</td>\n",
       "      <td>0.0</td>\n",
       "      <td>0.0</td>\n",
       "      <td>0.0</td>\n",
       "      <td>0.0</td>\n",
       "      <td>0.0</td>\n",
       "      <td>0.0</td>\n",
       "      <td>0.0</td>\n",
       "      <td>0.0</td>\n",
       "      <td>1.0</td>\n",
       "      <td>0.0</td>\n",
       "      <td>0.0</td>\n",
       "      <td>1.0</td>\n",
       "      <td>0.0</td>\n",
       "      <td>0.0</td>\n",
       "      <td>0.0</td>\n",
       "      <td>0.0</td>\n",
       "      <td>0.0</td>\n",
       "      <td>0.0</td>\n",
       "      <td>0.0</td>\n",
       "      <td>0.0</td>\n",
       "      <td>0.0</td>\n",
       "      <td>0.0</td>\n",
       "      <td>0.0</td>\n",
       "      <td>1.0</td>\n",
       "      <td>0.0</td>\n",
       "      <td>0.0</td>\n",
       "      <td>0.0</td>\n",
       "      <td>0.0</td>\n",
       "      <td>0.0</td>\n",
       "      <td>0.0</td>\n",
       "      <td>0.0</td>\n",
       "      <td>1.0</td>\n",
       "      <td>0.0</td>\n",
       "      <td>0.0</td>\n",
       "      <td>0.0</td>\n",
       "      <td>0.0</td>\n",
       "      <td>0.0</td>\n",
       "      <td>0.0</td>\n",
       "      <td>0.0</td>\n",
       "      <td>1.0</td>\n",
       "      <td>0.0</td>\n",
       "      <td>0.0</td>\n",
       "      <td>0.0</td>\n",
       "      <td>0.0</td>\n",
       "      <td>0.0</td>\n",
       "      <td>0.0</td>\n",
       "      <td>0.0</td>\n",
       "      <td>0.0</td>\n",
       "      <td>0.0</td>\n",
       "      <td>0.0</td>\n",
       "      <td>0.0</td>\n",
       "      <td>0.0</td>\n",
       "      <td>0.0</td>\n",
       "      <td>0.0</td>\n",
       "      <td>0.0</td>\n",
       "      <td>0.0</td>\n",
       "      <td>0.0</td>\n",
       "      <td>0.0</td>\n",
       "      <td>0.0</td>\n",
       "      <td>0.0</td>\n",
       "      <td>0.0</td>\n",
       "      <td>0.0</td>\n",
       "      <td>0.0</td>\n",
       "      <td>0.0</td>\n",
       "      <td>0.0</td>\n",
       "      <td>0.0</td>\n",
       "      <td>0.0</td>\n",
       "      <td>0.0</td>\n",
       "      <td>0.0</td>\n",
       "      <td>0.0</td>\n",
       "      <td>0.0</td>\n",
       "      <td>0.0</td>\n",
       "      <td>0.0</td>\n",
       "      <td>0.0</td>\n",
       "      <td>0.0</td>\n",
       "      <td>0.0</td>\n",
       "      <td>0.0</td>\n",
       "      <td>0.0</td>\n",
       "      <td>0.0</td>\n",
       "      <td>0.0</td>\n",
       "      <td>0.0</td>\n",
       "      <td>0.0</td>\n",
       "      <td>1.0</td>\n",
       "      <td>0.0</td>\n",
       "      <td>0.0</td>\n",
       "      <td>1</td>\n",
       "      <td>0</td>\n",
       "      <td>0</td>\n",
       "      <td>0</td>\n",
       "      <td>0</td>\n",
       "    </tr>\n",
       "    <tr>\n",
       "      <th>4</th>\n",
       "      <td>18.0</td>\n",
       "      <td>103497.0</td>\n",
       "      <td>10.0</td>\n",
       "      <td>0.0</td>\n",
       "      <td>0.0</td>\n",
       "      <td>30.0</td>\n",
       "      <td>1.0</td>\n",
       "      <td>0.0</td>\n",
       "      <td>0.0</td>\n",
       "      <td>0.0</td>\n",
       "      <td>0.0</td>\n",
       "      <td>0.0</td>\n",
       "      <td>0.0</td>\n",
       "      <td>0.0</td>\n",
       "      <td>0.0</td>\n",
       "      <td>0.0</td>\n",
       "      <td>0.0</td>\n",
       "      <td>0.0</td>\n",
       "      <td>0.0</td>\n",
       "      <td>0.0</td>\n",
       "      <td>0.0</td>\n",
       "      <td>0.0</td>\n",
       "      <td>0.0</td>\n",
       "      <td>0.0</td>\n",
       "      <td>0.0</td>\n",
       "      <td>0.0</td>\n",
       "      <td>0.0</td>\n",
       "      <td>0.0</td>\n",
       "      <td>0.0</td>\n",
       "      <td>0.0</td>\n",
       "      <td>1.0</td>\n",
       "      <td>0.0</td>\n",
       "      <td>0.0</td>\n",
       "      <td>0.0</td>\n",
       "      <td>0.0</td>\n",
       "      <td>1.0</td>\n",
       "      <td>0.0</td>\n",
       "      <td>0.0</td>\n",
       "      <td>1.0</td>\n",
       "      <td>0.0</td>\n",
       "      <td>0.0</td>\n",
       "      <td>0.0</td>\n",
       "      <td>0.0</td>\n",
       "      <td>0.0</td>\n",
       "      <td>0.0</td>\n",
       "      <td>0.0</td>\n",
       "      <td>0.0</td>\n",
       "      <td>0.0</td>\n",
       "      <td>0.0</td>\n",
       "      <td>0.0</td>\n",
       "      <td>0.0</td>\n",
       "      <td>0.0</td>\n",
       "      <td>0.0</td>\n",
       "      <td>0.0</td>\n",
       "      <td>0.0</td>\n",
       "      <td>0.0</td>\n",
       "      <td>1.0</td>\n",
       "      <td>0.0</td>\n",
       "      <td>0.0</td>\n",
       "      <td>0.0</td>\n",
       "      <td>0.0</td>\n",
       "      <td>0.0</td>\n",
       "      <td>0.0</td>\n",
       "      <td>1.0</td>\n",
       "      <td>1.0</td>\n",
       "      <td>0.0</td>\n",
       "      <td>0.0</td>\n",
       "      <td>0.0</td>\n",
       "      <td>0.0</td>\n",
       "      <td>0.0</td>\n",
       "      <td>0.0</td>\n",
       "      <td>0.0</td>\n",
       "      <td>0.0</td>\n",
       "      <td>0.0</td>\n",
       "      <td>0.0</td>\n",
       "      <td>0.0</td>\n",
       "      <td>0.0</td>\n",
       "      <td>0.0</td>\n",
       "      <td>0.0</td>\n",
       "      <td>0.0</td>\n",
       "      <td>0.0</td>\n",
       "      <td>0.0</td>\n",
       "      <td>0.0</td>\n",
       "      <td>0.0</td>\n",
       "      <td>0.0</td>\n",
       "      <td>0.0</td>\n",
       "      <td>0.0</td>\n",
       "      <td>0.0</td>\n",
       "      <td>0.0</td>\n",
       "      <td>0.0</td>\n",
       "      <td>0.0</td>\n",
       "      <td>0.0</td>\n",
       "      <td>0.0</td>\n",
       "      <td>0.0</td>\n",
       "      <td>0.0</td>\n",
       "      <td>0.0</td>\n",
       "      <td>0.0</td>\n",
       "      <td>0.0</td>\n",
       "      <td>0.0</td>\n",
       "      <td>0.0</td>\n",
       "      <td>0.0</td>\n",
       "      <td>0.0</td>\n",
       "      <td>0.0</td>\n",
       "      <td>0.0</td>\n",
       "      <td>1.0</td>\n",
       "      <td>0.0</td>\n",
       "      <td>0.0</td>\n",
       "      <td>0</td>\n",
       "      <td>0</td>\n",
       "      <td>0</td>\n",
       "      <td>0</td>\n",
       "      <td>0</td>\n",
       "    </tr>\n",
       "  </tbody>\n",
       "</table>\n",
       "</div>"
      ],
      "text/plain": [
       "    age    fnlwgt  education-num  capital-gain  capital-loss  hours-per-week  \\\n",
       "0  25.0  226802.0            7.0           0.0           0.0            40.0   \n",
       "1  38.0   89814.0            9.0           0.0           0.0            50.0   \n",
       "2  28.0  336951.0           12.0           0.0           0.0            40.0   \n",
       "3  44.0  160323.0           10.0        7688.0           0.0            40.0   \n",
       "4  18.0  103497.0           10.0           0.0           0.0            30.0   \n",
       "\n",
       "   workclass_ ?  workclass_ Federal-gov  workclass_ Local-gov  \\\n",
       "0           0.0                     0.0                   0.0   \n",
       "1           0.0                     0.0                   0.0   \n",
       "2           0.0                     0.0                   1.0   \n",
       "3           0.0                     0.0                   0.0   \n",
       "4           1.0                     0.0                   0.0   \n",
       "\n",
       "   workclass_ Never-worked  workclass_ Private  workclass_ Self-emp-inc  \\\n",
       "0                      0.0                 1.0                      0.0   \n",
       "1                      0.0                 1.0                      0.0   \n",
       "2                      0.0                 0.0                      0.0   \n",
       "3                      0.0                 1.0                      0.0   \n",
       "4                      0.0                 0.0                      0.0   \n",
       "\n",
       "   workclass_ Self-emp-not-inc  workclass_ State-gov  workclass_ Without-pay  \\\n",
       "0                          0.0                   0.0                     0.0   \n",
       "1                          0.0                   0.0                     0.0   \n",
       "2                          0.0                   0.0                     0.0   \n",
       "3                          0.0                   0.0                     0.0   \n",
       "4                          0.0                   0.0                     0.0   \n",
       "\n",
       "   education_ 10th  education_ 11th  education_ 12th  education_ 1st-4th  \\\n",
       "0              0.0              1.0              0.0                 0.0   \n",
       "1              0.0              0.0              0.0                 0.0   \n",
       "2              0.0              0.0              0.0                 0.0   \n",
       "3              0.0              0.0              0.0                 0.0   \n",
       "4              0.0              0.0              0.0                 0.0   \n",
       "\n",
       "   education_ 5th-6th  education_ 7th-8th  education_ 9th  \\\n",
       "0                 0.0                 0.0             0.0   \n",
       "1                 0.0                 0.0             0.0   \n",
       "2                 0.0                 0.0             0.0   \n",
       "3                 0.0                 0.0             0.0   \n",
       "4                 0.0                 0.0             0.0   \n",
       "\n",
       "   education_ Assoc-acdm  education_ Assoc-voc  education_ Bachelors  \\\n",
       "0                    0.0                   0.0                   0.0   \n",
       "1                    0.0                   0.0                   0.0   \n",
       "2                    1.0                   0.0                   0.0   \n",
       "3                    0.0                   0.0                   0.0   \n",
       "4                    0.0                   0.0                   0.0   \n",
       "\n",
       "   education_ Doctorate  education_ HS-grad  education_ Masters  \\\n",
       "0                   0.0                 0.0                 0.0   \n",
       "1                   0.0                 1.0                 0.0   \n",
       "2                   0.0                 0.0                 0.0   \n",
       "3                   0.0                 0.0                 0.0   \n",
       "4                   0.0                 0.0                 0.0   \n",
       "\n",
       "   education_ Preschool  education_ Prof-school  education_ Some-college  \\\n",
       "0                   0.0                     0.0                      0.0   \n",
       "1                   0.0                     0.0                      0.0   \n",
       "2                   0.0                     0.0                      0.0   \n",
       "3                   0.0                     0.0                      1.0   \n",
       "4                   0.0                     0.0                      1.0   \n",
       "\n",
       "   marital-status_ Divorced  marital-status_ Married-AF-spouse  \\\n",
       "0                       0.0                                0.0   \n",
       "1                       0.0                                0.0   \n",
       "2                       0.0                                0.0   \n",
       "3                       0.0                                0.0   \n",
       "4                       0.0                                0.0   \n",
       "\n",
       "   marital-status_ Married-civ-spouse  marital-status_ Married-spouse-absent  \\\n",
       "0                                 0.0                                    0.0   \n",
       "1                                 1.0                                    0.0   \n",
       "2                                 1.0                                    0.0   \n",
       "3                                 1.0                                    0.0   \n",
       "4                                 0.0                                    0.0   \n",
       "\n",
       "   marital-status_ Never-married  marital-status_ Separated  \\\n",
       "0                            1.0                        0.0   \n",
       "1                            0.0                        0.0   \n",
       "2                            0.0                        0.0   \n",
       "3                            0.0                        0.0   \n",
       "4                            1.0                        0.0   \n",
       "\n",
       "   marital-status_ Widowed  occupation_ ?  occupation_ Adm-clerical  \\\n",
       "0                      0.0            0.0                       0.0   \n",
       "1                      0.0            0.0                       0.0   \n",
       "2                      0.0            0.0                       0.0   \n",
       "3                      0.0            0.0                       0.0   \n",
       "4                      0.0            1.0                       0.0   \n",
       "\n",
       "   occupation_ Armed-Forces  occupation_ Craft-repair  \\\n",
       "0                       0.0                       0.0   \n",
       "1                       0.0                       0.0   \n",
       "2                       0.0                       0.0   \n",
       "3                       0.0                       0.0   \n",
       "4                       0.0                       0.0   \n",
       "\n",
       "   occupation_ Exec-managerial  occupation_ Farming-fishing  \\\n",
       "0                          0.0                          0.0   \n",
       "1                          0.0                          1.0   \n",
       "2                          0.0                          0.0   \n",
       "3                          0.0                          0.0   \n",
       "4                          0.0                          0.0   \n",
       "\n",
       "   occupation_ Handlers-cleaners  occupation_ Machine-op-inspct  \\\n",
       "0                            0.0                            1.0   \n",
       "1                            0.0                            0.0   \n",
       "2                            0.0                            0.0   \n",
       "3                            0.0                            1.0   \n",
       "4                            0.0                            0.0   \n",
       "\n",
       "   occupation_ Other-service  occupation_ Priv-house-serv  \\\n",
       "0                        0.0                          0.0   \n",
       "1                        0.0                          0.0   \n",
       "2                        0.0                          0.0   \n",
       "3                        0.0                          0.0   \n",
       "4                        0.0                          0.0   \n",
       "\n",
       "   occupation_ Prof-specialty  occupation_ Protective-serv  occupation_ Sales  \\\n",
       "0                         0.0                          0.0                0.0   \n",
       "1                         0.0                          0.0                0.0   \n",
       "2                         0.0                          1.0                0.0   \n",
       "3                         0.0                          0.0                0.0   \n",
       "4                         0.0                          0.0                0.0   \n",
       "\n",
       "   occupation_ Tech-support  occupation_ Transport-moving  \\\n",
       "0                       0.0                           0.0   \n",
       "1                       0.0                           0.0   \n",
       "2                       0.0                           0.0   \n",
       "3                       0.0                           0.0   \n",
       "4                       0.0                           0.0   \n",
       "\n",
       "   relationship_ Husband  relationship_ Not-in-family  \\\n",
       "0                    0.0                          0.0   \n",
       "1                    1.0                          0.0   \n",
       "2                    1.0                          0.0   \n",
       "3                    1.0                          0.0   \n",
       "4                    0.0                          0.0   \n",
       "\n",
       "   relationship_ Other-relative  relationship_ Own-child  \\\n",
       "0                           0.0                      1.0   \n",
       "1                           0.0                      0.0   \n",
       "2                           0.0                      0.0   \n",
       "3                           0.0                      0.0   \n",
       "4                           0.0                      1.0   \n",
       "\n",
       "   relationship_ Unmarried  relationship_ Wife  race_ Amer-Indian-Eskimo  \\\n",
       "0                      0.0                 0.0                       0.0   \n",
       "1                      0.0                 0.0                       0.0   \n",
       "2                      0.0                 0.0                       0.0   \n",
       "3                      0.0                 0.0                       0.0   \n",
       "4                      0.0                 0.0                       0.0   \n",
       "\n",
       "   race_ Asian-Pac-Islander  race_ Black  race_ Other  race_ White  gender  \\\n",
       "0                       0.0          1.0          0.0          0.0     0.0   \n",
       "1                       0.0          0.0          0.0          1.0     0.0   \n",
       "2                       0.0          0.0          0.0          1.0     0.0   \n",
       "3                       0.0          1.0          0.0          0.0     0.0   \n",
       "4                       0.0          0.0          0.0          1.0     1.0   \n",
       "\n",
       "   native-country_ ?  native-country_ Cambodia  native-country_ Canada  \\\n",
       "0                0.0                       0.0                     0.0   \n",
       "1                0.0                       0.0                     0.0   \n",
       "2                0.0                       0.0                     0.0   \n",
       "3                0.0                       0.0                     0.0   \n",
       "4                0.0                       0.0                     0.0   \n",
       "\n",
       "   native-country_ China  native-country_ Columbia  native-country_ Cuba  \\\n",
       "0                    0.0                       0.0                   0.0   \n",
       "1                    0.0                       0.0                   0.0   \n",
       "2                    0.0                       0.0                   0.0   \n",
       "3                    0.0                       0.0                   0.0   \n",
       "4                    0.0                       0.0                   0.0   \n",
       "\n",
       "   native-country_ Dominican-Republic  native-country_ Ecuador  \\\n",
       "0                                 0.0                      0.0   \n",
       "1                                 0.0                      0.0   \n",
       "2                                 0.0                      0.0   \n",
       "3                                 0.0                      0.0   \n",
       "4                                 0.0                      0.0   \n",
       "\n",
       "   native-country_ El-Salvador  native-country_ England  \\\n",
       "0                          0.0                      0.0   \n",
       "1                          0.0                      0.0   \n",
       "2                          0.0                      0.0   \n",
       "3                          0.0                      0.0   \n",
       "4                          0.0                      0.0   \n",
       "\n",
       "   native-country_ France  native-country_ Germany  native-country_ Greece  \\\n",
       "0                     0.0                      0.0                     0.0   \n",
       "1                     0.0                      0.0                     0.0   \n",
       "2                     0.0                      0.0                     0.0   \n",
       "3                     0.0                      0.0                     0.0   \n",
       "4                     0.0                      0.0                     0.0   \n",
       "\n",
       "   native-country_ Guatemala  native-country_ Haiti  \\\n",
       "0                        0.0                    0.0   \n",
       "1                        0.0                    0.0   \n",
       "2                        0.0                    0.0   \n",
       "3                        0.0                    0.0   \n",
       "4                        0.0                    0.0   \n",
       "\n",
       "   native-country_ Holand-Netherlands  native-country_ Honduras  \\\n",
       "0                                 0.0                       0.0   \n",
       "1                                 0.0                       0.0   \n",
       "2                                 0.0                       0.0   \n",
       "3                                 0.0                       0.0   \n",
       "4                                 0.0                       0.0   \n",
       "\n",
       "   native-country_ Hong  native-country_ Hungary  native-country_ India  \\\n",
       "0                   0.0                      0.0                    0.0   \n",
       "1                   0.0                      0.0                    0.0   \n",
       "2                   0.0                      0.0                    0.0   \n",
       "3                   0.0                      0.0                    0.0   \n",
       "4                   0.0                      0.0                    0.0   \n",
       "\n",
       "   native-country_ Iran  native-country_ Ireland  native-country_ Italy  \\\n",
       "0                   0.0                      0.0                    0.0   \n",
       "1                   0.0                      0.0                    0.0   \n",
       "2                   0.0                      0.0                    0.0   \n",
       "3                   0.0                      0.0                    0.0   \n",
       "4                   0.0                      0.0                    0.0   \n",
       "\n",
       "   native-country_ Jamaica  native-country_ Japan  native-country_ Laos  \\\n",
       "0                      0.0                    0.0                   0.0   \n",
       "1                      0.0                    0.0                   0.0   \n",
       "2                      0.0                    0.0                   0.0   \n",
       "3                      0.0                    0.0                   0.0   \n",
       "4                      0.0                    0.0                   0.0   \n",
       "\n",
       "   native-country_ Mexico  native-country_ Nicaragua  \\\n",
       "0                     0.0                        0.0   \n",
       "1                     0.0                        0.0   \n",
       "2                     0.0                        0.0   \n",
       "3                     0.0                        0.0   \n",
       "4                     0.0                        0.0   \n",
       "\n",
       "   native-country_ Outlying-US(Guam-USVI-etc)  native-country_ Peru  \\\n",
       "0                                         0.0                   0.0   \n",
       "1                                         0.0                   0.0   \n",
       "2                                         0.0                   0.0   \n",
       "3                                         0.0                   0.0   \n",
       "4                                         0.0                   0.0   \n",
       "\n",
       "   native-country_ Philippines  native-country_ Poland  \\\n",
       "0                          0.0                     0.0   \n",
       "1                          0.0                     0.0   \n",
       "2                          0.0                     0.0   \n",
       "3                          0.0                     0.0   \n",
       "4                          0.0                     0.0   \n",
       "\n",
       "   native-country_ Portugal  native-country_ Puerto-Rico  \\\n",
       "0                       0.0                          0.0   \n",
       "1                       0.0                          0.0   \n",
       "2                       0.0                          0.0   \n",
       "3                       0.0                          0.0   \n",
       "4                       0.0                          0.0   \n",
       "\n",
       "   native-country_ Scotland  native-country_ South  native-country_ Taiwan  \\\n",
       "0                       0.0                    0.0                     0.0   \n",
       "1                       0.0                    0.0                     0.0   \n",
       "2                       0.0                    0.0                     0.0   \n",
       "3                       0.0                    0.0                     0.0   \n",
       "4                       0.0                    0.0                     0.0   \n",
       "\n",
       "   native-country_ Thailand  native-country_ Trinadad&Tobago  \\\n",
       "0                       0.0                              0.0   \n",
       "1                       0.0                              0.0   \n",
       "2                       0.0                              0.0   \n",
       "3                       0.0                              0.0   \n",
       "4                       0.0                              0.0   \n",
       "\n",
       "   native-country_ United-States  native-country_ Vietnam  \\\n",
       "0                            1.0                      0.0   \n",
       "1                            1.0                      0.0   \n",
       "2                            1.0                      0.0   \n",
       "3                            1.0                      0.0   \n",
       "4                            1.0                      0.0   \n",
       "\n",
       "   native-country_ Yugoslavia  target  pred_relu  pred_tanh  pred_elu  \\\n",
       "0                         0.0       0          0          0         0   \n",
       "1                         0.0       0          0          0         0   \n",
       "2                         0.0       1          0          0         0   \n",
       "3                         0.0       1          0          0         0   \n",
       "4                         0.0       0          0          0         0   \n",
       "\n",
       "   pred_leaky  \n",
       "0           0  \n",
       "1           0  \n",
       "2           0  \n",
       "3           0  \n",
       "4           0  "
      ]
     },
     "execution_count": 12,
     "metadata": {},
     "output_type": "execute_result"
    }
   ],
   "source": [
    "data.head()"
   ]
  },
  {
   "cell_type": "code",
   "execution_count": 13,
   "id": "9021e4e4",
   "metadata": {},
   "outputs": [
    {
     "data": {
      "text/plain": [
       "['target', 'pred_relu', 'pred_tanh', 'pred_elu', 'pred_leaky']"
      ]
     },
     "execution_count": 13,
     "metadata": {},
     "output_type": "execute_result"
    }
   ],
   "source": [
    "features = list(data.columns[-5:])\n",
    "features"
   ]
  },
  {
   "cell_type": "markdown",
   "id": "047ff47b",
   "metadata": {},
   "source": [
    "#### Inspect Data"
   ]
  },
  {
   "cell_type": "markdown",
   "id": "2b781ddf",
   "metadata": {},
   "source": [
    "**Note:** The following confusion matrix should return a list of four (4) numbers, with zero (0) false negatives and false positives. Example: array([100, 0, 0, 10])"
   ]
  },
  {
   "cell_type": "code",
   "execution_count": 14,
   "id": "975e6d7d",
   "metadata": {},
   "outputs": [
    {
     "data": {
      "text/plain": [
       "array([12435,     0,     0,  3846])"
      ]
     },
     "execution_count": 14,
     "metadata": {},
     "output_type": "execute_result"
    }
   ],
   "source": [
    "confusion_matrix(data.target, data.target).ravel()"
   ]
  },
  {
   "cell_type": "code",
   "execution_count": 15,
   "id": "28aa2135",
   "metadata": {},
   "outputs": [
    {
     "name": "stdout",
     "output_type": "stream",
     "text": [
      "Name\t    Total   TP     FP   TN     FN\n",
      "target    :  3846   3846     0  12435     0\n",
      "pred_relu :  2671   1953   718  11717  1893\n",
      "pred_tanh :  3372   2328  1044  11391  1518\n",
      "pred_elu  :  3251   2291   960  11475  1555\n",
      "pred_leaky:     0      0     0  12435  3846\n"
     ]
    }
   ],
   "source": [
    "print(\"Name\\t    Total   TP     FP   TN     FN\")\n",
    "for f in features:\n",
    "    total = data[f].sum()\n",
    "    try:\n",
    "        [tn, fp, fn, tp] = confusion_matrix(data.target, data[f]).ravel()\n",
    "    except Exception:\n",
    "        pass\n",
    "    print(f\"{f:10s}: {total:5.0f}  {tp:5.0f} {fp:5.0f} {tn:6.0f} {fn:5.0f}\")"
   ]
  },
  {
   "cell_type": "code",
   "execution_count": 16,
   "id": "c449a7fc",
   "metadata": {},
   "outputs": [
    {
     "data": {
      "image/png": "[encoded data removed]",
      "text/plain": [
       "<Figure size 432x288 with 2 Axes>"
      ]
     },
     "metadata": {},
     "output_type": "display_data"
    }
   ],
   "source": [
    "cm_relu = confusion_matrix(data.target, data.pred_relu)\n",
    "sns.set(font_scale=1.2)\n",
    "sns.heatmap(cm_relu, annot=True, cmap=\"coolwarm\", robust=True, fmt='g')\n",
    "plt.title(\"Confusion Matrix - ReLU\")\n",
    "plt.show()"
   ]
  },
  {
   "cell_type": "code",
   "execution_count": 17,
   "id": "a99acd3f",
   "metadata": {},
   "outputs": [
    {
     "data": {
      "image/png": "[encoded data removed]",
      "text/plain": [
       "<Figure size 432x288 with 2 Axes>"
      ]
     },
     "metadata": {},
     "output_type": "display_data"
    }
   ],
   "source": [
    "cm_tanh = confusion_matrix(data.target, data.pred_tanh)\n",
    "sns.set(font_scale=1.2)\n",
    "sns.heatmap(cm_tanh, annot=True, cmap=\"Greens\", robust=True, fmt='g')\n",
    "plt.title(\"Confusion Matrix - Tanh\")\n",
    "plt.show()"
   ]
  },
  {
   "cell_type": "code",
   "execution_count": 18,
   "id": "38e1cec2",
   "metadata": {},
   "outputs": [
    {
     "data": {
      "image/png": "[encoded data removed]",
      "text/plain": [
       "<Figure size 432x288 with 2 Axes>"
      ]
     },
     "metadata": {},
     "output_type": "display_data"
    }
   ],
   "source": [
    "cm_elu = confusion_matrix(data.target, data.pred_elu)\n",
    "sns.set(font_scale=1.2)\n",
    "sns.heatmap(cm_elu, annot=True, cmap=\"Blues\", robust=True, fmt='g')\n",
    "plt.title(\"Confusion Matrix - ELU\")\n",
    "plt.show()"
   ]
  },
  {
   "cell_type": "code",
   "execution_count": 19,
   "id": "f5316ac3",
   "metadata": {},
   "outputs": [
    {
     "data": {
      "image/png": "[encoded data removed]",
      "text/plain": [
       "<Figure size 432x288 with 2 Axes>"
      ]
     },
     "metadata": {},
     "output_type": "display_data"
    }
   ],
   "source": [
    "cm_leaky = confusion_matrix(data.target, data.pred_leaky)\n",
    "sns.set(font_scale=1.2)\n",
    "sns.heatmap(cm_leaky, annot=True, fmt='g')\n",
    "plt.title(\"Confusion Matrix - Leaky ReLU\")\n",
    "plt.show()"
   ]
  },
  {
   "cell_type": "markdown",
   "id": "6b4cd523",
   "metadata": {},
   "source": [
    "## Separate by protected feature"
   ]
  },
  {
   "cell_type": "code",
   "execution_count": 20,
   "id": "d70fef33",
   "metadata": {},
   "outputs": [],
   "source": [
    "# group A : protected attribute\n",
    "# group B : other\n",
    "GroupA = data[data[\"gender\"] == 1]\n",
    "GroupB = data[data[\"gender\"] == 0]\n",
    "attribute = [\"female\", \"male\"]"
   ]
  },
  {
   "cell_type": "code",
   "execution_count": 21,
   "id": "610e1015",
   "metadata": {},
   "outputs": [
    {
     "data": {
      "text/plain": [
       "(5421, 112)"
      ]
     },
     "execution_count": 21,
     "metadata": {},
     "output_type": "execute_result"
    }
   ],
   "source": [
    "GroupA.shape"
   ]
  },
  {
   "cell_type": "code",
   "execution_count": 22,
   "id": "70addb86",
   "metadata": {},
   "outputs": [
    {
     "data": {
      "text/plain": [
       "(10860, 112)"
      ]
     },
     "execution_count": 22,
     "metadata": {},
     "output_type": "execute_result"
    }
   ],
   "source": [
    "GroupB.shape"
   ]
  },
  {
   "cell_type": "code",
   "execution_count": 23,
   "id": "cf7eaa9f",
   "metadata": {},
   "outputs": [
    {
     "data": {
      "text/plain": [
       "(16281, 112)"
      ]
     },
     "execution_count": 23,
     "metadata": {},
     "output_type": "execute_result"
    }
   ],
   "source": [
    "data.shape"
   ]
  },
  {
   "cell_type": "markdown",
   "id": "5075a378",
   "metadata": {},
   "source": [
    "##### Control stats, baseline"
   ]
  },
  {
   "cell_type": "code",
   "execution_count": 24,
   "id": "0edd8bfe",
   "metadata": {},
   "outputs": [],
   "source": [
    "Cr, Ct, Ce, Cl = bias_metrics(data)"
   ]
  },
  {
   "cell_type": "code",
   "execution_count": 25,
   "id": "aa4c57a0",
   "metadata": {},
   "outputs": [
    {
     "data": {
      "text/plain": [
       "0.6053042121684867"
      ]
     },
     "execution_count": 25,
     "metadata": {},
     "output_type": "execute_result"
    }
   ],
   "source": [
    "Ct.TPR"
   ]
  },
  {
   "cell_type": "markdown",
   "id": "d5f42ee4",
   "metadata": {},
   "source": [
    "##### Stats for Group A and Group B dataframes"
   ]
  },
  {
   "cell_type": "code",
   "execution_count": 26,
   "id": "f034d542",
   "metadata": {},
   "outputs": [],
   "source": [
    "Ar, At, Ae, Al = bias_metrics(GroupA)\n",
    "Br, Bt, Be, Bl = bias_metrics(GroupB)"
   ]
  },
  {
   "cell_type": "code",
   "execution_count": 27,
   "id": "70f59e62",
   "metadata": {},
   "outputs": [
    {
     "data": {
      "text/plain": [
       "0.5271186440677966"
      ]
     },
     "execution_count": 27,
     "metadata": {},
     "output_type": "execute_result"
    }
   ],
   "source": [
    "At.TPR"
   ]
  },
  {
   "cell_type": "markdown",
   "id": "cee911ac",
   "metadata": {},
   "source": [
    "# Bias Testing"
   ]
  },
  {
   "cell_type": "markdown",
   "id": "64c2749b",
   "metadata": {},
   "source": [
    "#### Predictive parity"
   ]
  },
  {
   "cell_type": "markdown",
   "id": "c46800c4",
   "metadata": {},
   "source": [
    "Compares precision (or positive predictive value, PPV) between group with protected attribute and without protected attribute. In this instance female group with male group"
   ]
  },
  {
   "cell_type": "code",
   "execution_count": 28,
   "id": "af0e192c",
   "metadata": {},
   "outputs": [],
   "source": [
    "pp = [\n",
    "    Ar.PPV == Br.PPV,\n",
    "    At.PPV == Bt.PPV,\n",
    "    Ae.PPV == Be.PPV,\n",
    "    Al.PPV == Bl.PPV\n",
    "]"
   ]
  },
  {
   "cell_type": "code",
   "execution_count": 29,
   "id": "40791129",
   "metadata": {},
   "outputs": [],
   "source": [
    "pp_diff_r = 1 - (min(Ar.PPV,Br.PPV)/ max(Ar.PPV, Br.PPV))\n",
    "pp_diff_t = 1 - (min(At.PPV, Bt.PPV)/ max(At.PPV, Bt.PPV))\n",
    "pp_diff_e = 1 - (min(Ae.PPV, Be.PPV)/ max(Ae.PPV, Be.PPV))\n",
    "pp_diff_l = 1 - (min(Al.PPV, Bl.PPV)/ max(Al.PPV, Bl.PPV))"
   ]
  },
  {
   "cell_type": "code",
   "execution_count": 30,
   "id": "35b8ac1b",
   "metadata": {},
   "outputs": [
    {
     "name": "stdout",
     "output_type": "stream",
     "text": [
      "Predictive parity -\n",
      "Name\tPPV\tFDR\tPPV        FDR       \t% Difference\n",
      "relu\tFalse\tFalse\t0.77206\t   0.72655\t0.05894\n",
      "tanh\tFalse\tFalse\t0.68653\t   0.69099\t0.00645\n",
      "elu\tFalse\tFalse\t0.70546\t   0.70459\t0.00123\n",
      "leaky\tFalse\tFalse\tnan\t       nan\tnan\n"
     ]
    }
   ],
   "source": [
    "print(\"Predictive parity -\")\n",
    "one = \"PPV\"\n",
    "two = \"FDR\"\n",
    "print(f\"Name\\t{one}\\t{two}\\t{one:11s}{two:10s}\\t% Difference\")\n",
    "print(f\"{Ar.name}\\t{pp[0]}\\t{Ar.FDR == Br.FDR}\\t{Ar.PPV:0.5f}\\t{Br.PPV:10.5f}\\t{pp_diff_r:0.5f}\")\n",
    "print(f\"{At.name}\\t{pp[1]}\\t{At.FDR == Bt.FDR}\\t{At.PPV:0.5f}\\t{Bt.PPV:10.5f}\\t{pp_diff_t:0.5f}\")\n",
    "print(f\"{Ae.name}\\t{pp[2]}\\t{Ae.FDR == Be.FDR}\\t{Ae.PPV:0.5f}\\t{Be.PPV:10.5f}\\t{pp_diff_e:0.5f}\")\n",
    "print(f\"{Al.name}\\t{pp[3]}\\t{Al.FDR == Bl.FDR}\\t{Al.PPV:0.5f}\\t{Bl.PPV:10.5f}\\t{pp_diff_l:0.5f}\")"
   ]
  },
  {
   "cell_type": "code",
   "execution_count": 31,
   "id": "e257916a",
   "metadata": {},
   "outputs": [
    {
     "data": {
      "text/plain": [
       "cmatrix(name='relu', TP=1953, FP=718, TN=11717, FN=1893, PPV=0.7311868214152003, TPR=0.5078003120124805, FDR=0.2688131785847997, FPR=0.05774024929634097, FOR=0.13908890521675238, FNR=0.4921996879875195, NPV=0.8609110947832476, TNR=0.942259750703659)"
      ]
     },
     "execution_count": 31,
     "metadata": {},
     "output_type": "execute_result"
    }
   ],
   "source": [
    "Cr"
   ]
  },
  {
   "cell_type": "markdown",
   "id": "30cdc690",
   "metadata": {},
   "source": [
    "#### Predictive Equality"
   ]
  },
  {
   "cell_type": "markdown",
   "id": "6e09d694",
   "metadata": {},
   "source": [
    "Also called the False Positive Error Balance, this metric considers compares the false positive rates (FPR) between groups."
   ]
  },
  {
   "cell_type": "code",
   "execution_count": 32,
   "id": "69df0746",
   "metadata": {},
   "outputs": [],
   "source": [
    "pe = [\n",
    "    Ar.FPR == Br.FPR,\n",
    "    At.FPR == Bt.FPR,\n",
    "    Ae.FPR == Be.FPR,\n",
    "    Al.FPR == Bl.FPR    \n",
    "]"
   ]
  },
  {
   "cell_type": "code",
   "execution_count": 33,
   "id": "ef5b4827",
   "metadata": {},
   "outputs": [],
   "source": [
    "pe_diff_r = 1-(min(Ar.FPR, Br.FPR)/max(Ar.FPR, Br.FPR))\n",
    "pe_diff_t = 1-(min(At.FPR, Bt.FPR)/max(At.FPR, Bt.FPR))\n",
    "pe_diff_e = 1-(min(Ae.FPR, Be.FPR)/max(Ae.FPR, Be.FPR))\n",
    "pe_diff_l = 1-(min(Al.FPR, Bl.FPR)/max(Al.FPR, Bl.FPR))"
   ]
  },
  {
   "cell_type": "code",
   "execution_count": 34,
   "id": "6103f370",
   "metadata": {},
   "outputs": [
    {
     "name": "stdout",
     "output_type": "stream",
     "text": [
      "Predictive equality -\n",
      "Name\tFPR\tTNR\tFPR        TNR       \t% Difference\n",
      "relu\tFalse\tFalse\t0.01283\t   0.08627\t0.85124\n",
      "tanh\tFalse\tFalse\t0.02939\t   0.11862\t0.75221\n",
      "elu\tFalse\tFalse\t0.02567\t   0.10994\t0.76654\n",
      "leaky\tTrue\tTrue\t0.00000\t   0.00000\tnan\n"
     ]
    }
   ],
   "source": [
    "print(\"Predictive equality -\")\n",
    "one = \"FPR\"\n",
    "two = \"TNR\"\n",
    "print(f\"Name\\t{one}\\t{two}\\t{one:11s}{two:10s}\\t% Difference\")\n",
    "print(f\"{Ar.name}\\t{pe[0]}\\t{Ar.TNR == Br.TNR}\\t{Ar.FPR:0.5f}\\t{Br.FPR:10.5f}\\t{pe_diff_r:0.5f}\")\n",
    "print(f\"{At.name}\\t{pe[1]}\\t{At.TNR == Bt.TNR}\\t{At.FPR:0.5f}\\t{Bt.FPR:10.5f}\\t{pe_diff_t:0.5f}\")\n",
    "print(f\"{Ae.name}\\t{pe[2]}\\t{Ae.TNR == Be.TNR}\\t{Ae.FPR:0.5f}\\t{Be.FPR:10.5f}\\t{pe_diff_e:0.5f}\")\n",
    "print(f\"{Al.name}\\t{pe[3]}\\t{Al.TNR == Bl.TNR}\\t{Al.FPR:0.5f}\\t{Bl.FPR:10.5f}\\t{pe_diff_l:0.5f}\")"
   ]
  },
  {
   "cell_type": "markdown",
   "id": "10289016",
   "metadata": {},
   "source": [
    "#### Equal opportunity"
   ]
  },
  {
   "cell_type": "markdown",
   "id": "f0cc4129",
   "metadata": {},
   "source": [
    "Equal Opportunity entails equal false negative rates (FNR) between groups. Mathematically, true postive rates (TPR) should also be equal."
   ]
  },
  {
   "cell_type": "code",
   "execution_count": 35,
   "id": "5bcbd5cc",
   "metadata": {},
   "outputs": [],
   "source": [
    "eo = [\n",
    "    Ar.FNR == Br.FNR,\n",
    "    At.FNR == Bt.FNR,\n",
    "    Ae.FNR == Be.FNR,\n",
    "    Al.FNR == Bl.FNR\n",
    "]"
   ]
  },
  {
   "cell_type": "code",
   "execution_count": 36,
   "id": "1bcae7e3",
   "metadata": {},
   "outputs": [],
   "source": [
    "eo_diff_r = 1 - (min(Ar.FNR, Br.FNR) / max(Ar.FNR, Br.FNR))\n",
    "eo_diff_t = 1 - (min(At.FNR, Bt.FNR) / max(At.FNR, Bt.FNR))\n",
    "eo_diff_e = 1 - (min(Ae.FNR, Be.FNR) / max(Ae.FNR, Be.FNR))\n",
    "eo_diff_l = 1 - (min(Al.FNR, Bl.FNR) / max(Al.FNR, Bl.FNR))"
   ]
  },
  {
   "cell_type": "code",
   "execution_count": 37,
   "id": "f6c29bb4",
   "metadata": {},
   "outputs": [
    {
     "name": "stdout",
     "output_type": "stream",
     "text": [
      "Predictive parity -\n",
      "Name\tFNR\tTPR\tFNR        TPR       \t% Difference\n",
      "relu\tFalse\tFalse\t0.64407\t   0.46468\t0.27852\n",
      "tanh\tFalse\tFalse\t0.47288\t   0.38053\t0.19530\n",
      "elu\tFalse\tFalse\t0.49661\t   0.38759\t0.21952\n",
      "leaky\tTrue\tTrue\t1.00000\t   1.00000\t0.00000\n"
     ]
    }
   ],
   "source": [
    "print(\"Predictive parity -\")\n",
    "one = \"FNR\"\n",
    "two = \"TPR\"\n",
    "print(f\"Name\\t{one}\\t{two}\\t{one:11s}{two:10s}\\t% Difference\")\n",
    "print(f\"{Ar.name}\\t{eo[0]}\\t{Ar.TPR == Br.TPR}\\t{Ar.FNR:0.5f}\\t{Br.FNR:10.5f}\\t{eo_diff_r:0.5f}\")\n",
    "print(f\"{At.name}\\t{eo[1]}\\t{At.TPR == Bt.TPR}\\t{At.FNR:0.5f}\\t{Bt.FNR:10.5f}\\t{eo_diff_t:0.5f}\")\n",
    "print(f\"{Ae.name}\\t{eo[2]}\\t{Ae.TPR == Be.TPR}\\t{Ae.FNR:0.5f}\\t{Be.FNR:10.5f}\\t{eo_diff_e:0.5f}\")\n",
    "print(f\"{Al.name}\\t{eo[3]}\\t{Al.TPR == Bl.TPR}\\t{Al.FNR:0.5f}\\t{Bl.FNR:10.5f}\\t{eo_diff_l:0.5f}\")"
   ]
  },
  {
   "cell_type": "markdown",
   "id": "49e78e84",
   "metadata": {},
   "source": [
    "#### Statistical Parity"
   ]
  },
  {
   "cell_type": "markdown",
   "id": "d418e9b9",
   "metadata": {},
   "source": [
    "Statistical Parity compares the accuracy of different groups."
   ]
  },
  {
   "cell_type": "code",
   "execution_count": 38,
   "id": "51ac8fef",
   "metadata": {},
   "outputs": [],
   "source": [
    "Ar_acc = (Ar.TP + Ar.TN) / (Ar.TP + Ar.TN + Ar.FP + Ar.FN)\n",
    "Br_acc = (Br.TP + Br.TN) / (Br.TP + Br.TN +Br.FP + Br.FN)\n",
    "r_diff = 1 - (min(Ar_acc, Br_acc) / max(Ar_acc, Br_acc))"
   ]
  },
  {
   "cell_type": "code",
   "execution_count": 39,
   "id": "0a664c0d",
   "metadata": {},
   "outputs": [],
   "source": [
    "At_acc = (At.TP + At.TN) / (At.TP + At.TN + At.FP + At.FN)\n",
    "Bt_acc = (Bt.TP + Bt.TN) / (Bt.TP + Bt.TN + Bt.FP + Bt.FN)\n",
    "t_diff = 1 - (min(At_acc, Bt_acc) / max(At_acc, Bt_acc))"
   ]
  },
  {
   "cell_type": "code",
   "execution_count": 40,
   "id": "d30d7131",
   "metadata": {},
   "outputs": [],
   "source": [
    "Ae_acc = (Ae.TP + Ae.TN) / (Ae.TP + Ae.TN + Ae.FP + Ae.FN)\n",
    "Be_acc = (Be.TP + Be.TN) / (Be.TP + Be.TN + Be.FP + Be.FN)\n",
    "e_diff = 1 - (min(Ae_acc, Be_acc) / max(Ae_acc, Be_acc))"
   ]
  },
  {
   "cell_type": "code",
   "execution_count": 41,
   "id": "269c3a68",
   "metadata": {},
   "outputs": [],
   "source": [
    "Al_acc = (Al.TP + Al.TN) / (Al.TP + Al.TN + Al.FP + Al.FN)\n",
    "Bl_acc = (Bl.TP + Bl.TN) / (Bl.TP + Bl.TN + Bl.FP + Bl.FN)\n",
    "l_diff = 1 - (min(Al_acc, Bl_acc) / max(Al_acc, Bl_acc))"
   ]
  },
  {
   "cell_type": "code",
   "execution_count": 42,
   "id": "4f655acb",
   "metadata": {},
   "outputs": [],
   "source": [
    "sp = [\n",
    "    Ar_acc == Br_acc,\n",
    "    At_acc == Bt_acc,\n",
    "    Ae_acc == Be_acc,\n",
    "    Al_acc == Bl_acc\n",
    "]"
   ]
  },
  {
   "cell_type": "code",
   "execution_count": 43,
   "id": "7a575ed2",
   "metadata": {},
   "outputs": [
    {
     "name": "stdout",
     "output_type": "stream",
     "text": [
      "Statistical Parity\n",
      "Name\tEqual\tACC-F      ACC-M\t% Difference\n",
      "relu\tFalse\t0.91847\t   0.80028\t0.12868\n",
      "tanh\tFalse\t0.92234\t   0.80285\t0.12955\n",
      "elu\tFalse\t0.92308\t   0.80681\t0.12595\n",
      "leaky\tFalse\t0.89116\t   0.70018\t0.21430\n"
     ]
    }
   ],
   "source": [
    "print(\"Statistical Parity\")\n",
    "one = f\"ACC-{attribute[0][0].capitalize()}\"\n",
    "two = f\"ACC-{attribute[1][0].capitalize()}\"\n",
    "print(f\"Name\\tEqual\\t{one:11s}{two}\\t% Difference\")\n",
    "print(f\"{Ar.name}\\t{sp[0]}\\t{Ar_acc:0.5f}\\t{Br_acc:10.5f}\\t{r_diff:0.5f}\")\n",
    "print(f\"{At.name}\\t{sp[1]}\\t{At_acc:0.5f}\\t{Bt_acc:10.5f}\\t{t_diff:0.5f}\")\n",
    "print(f\"{Ae.name}\\t{sp[2]}\\t{Ae_acc:0.5f}\\t{Be_acc:10.5f}\\t{e_diff:0.5f}\")\n",
    "print(f\"{Al.name}\\t{sp[3]}\\t{Al_acc:0.5f}\\t{Bl_acc:10.5f}\\t{l_diff:0.5f}\")"
   ]
  },
  {
   "cell_type": "code",
   "execution_count": 44,
   "id": "8c3d21a6",
   "metadata": {},
   "outputs": [],
   "source": [
    "Aset = GroupA.iloc[:,-5:]\n",
    "Bset = GroupB.iloc[:,-5:]\n",
    "base = data.iloc[:,-5:]"
   ]
  },
  {
   "cell_type": "markdown",
   "id": "bfa15ecf",
   "metadata": {},
   "source": [
    "#### Compare Variances"
   ]
  },
  {
   "cell_type": "code",
   "execution_count": 45,
   "id": "3e2997ab",
   "metadata": {},
   "outputs": [
    {
     "data": {
      "text/plain": [
       "target        0.096991\n",
       "pred_relu     0.047658\n",
       "pred_tanh     0.076581\n",
       "pred_elu      0.071630\n",
       "pred_leaky    0.000000\n",
       "dtype: float64"
      ]
     },
     "execution_count": 45,
     "metadata": {},
     "output_type": "execute_result"
    }
   ],
   "source": [
    "np.var(Aset)"
   ]
  },
  {
   "cell_type": "code",
   "execution_count": 46,
   "id": "f904f519",
   "metadata": {},
   "outputs": [
    {
     "data": {
      "text/plain": [
       "target        0.209926\n",
       "pred_relu     0.172105\n",
       "pred_tanh     0.196539\n",
       "pred_elu      0.192683\n",
       "pred_leaky    0.000000\n",
       "dtype: float64"
      ]
     },
     "execution_count": 46,
     "metadata": {},
     "output_type": "execute_result"
    }
   ],
   "source": [
    "np.var(Bset)"
   ]
  },
  {
   "cell_type": "code",
   "execution_count": 47,
   "id": "c7897766",
   "metadata": {},
   "outputs": [
    {
     "data": {
      "text/plain": [
       "target        0.180423\n",
       "pred_relu     0.137142\n",
       "pred_tanh     0.164217\n",
       "pred_elu      0.159808\n",
       "pred_leaky    0.000000\n",
       "dtype: float64"
      ]
     },
     "execution_count": 47,
     "metadata": {},
     "output_type": "execute_result"
    }
   ],
   "source": [
    "np.var(base)"
   ]
  },
  {
   "cell_type": "code",
   "execution_count": 48,
   "id": "e089011d",
   "metadata": {},
   "outputs": [
    {
     "data": {
      "text/plain": [
       "target        False\n",
       "pred_relu     False\n",
       "pred_tanh     False\n",
       "pred_elu      False\n",
       "pred_leaky     True\n",
       "dtype: bool"
      ]
     },
     "execution_count": 48,
     "metadata": {},
     "output_type": "execute_result"
    }
   ],
   "source": [
    "np.var(base) == np.var(Aset)"
   ]
  },
  {
   "cell_type": "code",
   "execution_count": 49,
   "id": "cbcc1ea4",
   "metadata": {},
   "outputs": [
    {
     "data": {
      "text/plain": [
       "target        False\n",
       "pred_relu     False\n",
       "pred_tanh     False\n",
       "pred_elu      False\n",
       "pred_leaky     True\n",
       "dtype: bool"
      ]
     },
     "execution_count": 49,
     "metadata": {},
     "output_type": "execute_result"
    }
   ],
   "source": [
    "np.var(base) == np.var(Bset)"
   ]
  },
  {
   "cell_type": "code",
   "execution_count": 50,
   "id": "79de316e",
   "metadata": {},
   "outputs": [
    {
     "data": {
      "text/plain": [
       "target        False\n",
       "pred_relu     False\n",
       "pred_tanh     False\n",
       "pred_elu      False\n",
       "pred_leaky     True\n",
       "dtype: bool"
      ]
     },
     "execution_count": 50,
     "metadata": {},
     "output_type": "execute_result"
    }
   ],
   "source": [
    "np.var(Aset) == np.var(Bset)"
   ]
  },
  {
   "cell_type": "markdown",
   "id": "53ccfce8",
   "metadata": {},
   "source": [
    "# Hypothesis Testing"
   ]
  },
  {
   "cell_type": "markdown",
   "id": "ff24ebf3",
   "metadata": {},
   "source": [
    "#### Hypothesis test function"
   ]
  },
  {
   "cell_type": "code",
   "execution_count": 51,
   "id": "6f00ba51",
   "metadata": {},
   "outputs": [],
   "source": [
    "def hypothesis_test(p, α=0.05):\n",
    "    if p > α:\n",
    "        print(\"Fail to reject null hypothesis.\")\n",
    "    if p < α:\n",
    "        print(\"Reject null hypothesis.\")"
   ]
  },
  {
   "cell_type": "markdown",
   "id": "d13291fe",
   "metadata": {},
   "source": [
    "#### Set α (alpha)"
   ]
  },
  {
   "cell_type": "code",
   "execution_count": 52,
   "id": "4e518e2d",
   "metadata": {},
   "outputs": [],
   "source": [
    "α = 0.01"
   ]
  },
  {
   "cell_type": "markdown",
   "id": "fc12cb64",
   "metadata": {},
   "source": [
    "### Actual results"
   ]
  },
  {
   "cell_type": "markdown",
   "id": "3993d277",
   "metadata": {},
   "source": [
    "#### Control and Group A"
   ]
  },
  {
   "cell_type": "code",
   "execution_count": 53,
   "id": "6a16e45e",
   "metadata": {},
   "outputs": [
    {
     "name": "stdout",
     "output_type": "stream",
     "text": [
      "Control and Female\n",
      "Reject null hypothesis.\n"
     ]
    },
    {
     "data": {
      "text/html": [
       "<div>\n",
       "<style scoped>\n",
       "    .dataframe tbody tr th:only-of-type {\n",
       "        vertical-align: middle;\n",
       "    }\n",
       "\n",
       "    .dataframe tbody tr th {\n",
       "        vertical-align: top;\n",
       "    }\n",
       "\n",
       "    .dataframe thead th {\n",
       "        text-align: right;\n",
       "    }\n",
       "</style>\n",
       "<table border=\"1\" class=\"dataframe\">\n",
       "  <thead>\n",
       "    <tr style=\"text-align: right;\">\n",
       "      <th></th>\n",
       "      <th>Welch's t-test</th>\n",
       "      <th>results</th>\n",
       "    </tr>\n",
       "  </thead>\n",
       "  <tbody>\n",
       "    <tr>\n",
       "      <th>2</th>\n",
       "      <td>t =</td>\n",
       "      <td>23.665</td>\n",
       "    </tr>\n",
       "    <tr>\n",
       "      <th>3</th>\n",
       "      <td>Two side test p value =</td>\n",
       "      <td>0.000</td>\n",
       "    </tr>\n",
       "  </tbody>\n",
       "</table>\n",
       "</div>"
      ],
      "text/plain": [
       "             Welch's t-test  results\n",
       "2                      t =    23.665\n",
       "3  Two side test p value =     0.000"
      ]
     },
     "metadata": {},
     "output_type": "display_data"
    }
   ],
   "source": [
    "print(f\"Control and {attribute[0].capitalize()}\")\n",
    "\n",
    "try:\n",
    "    p = rp.ttest(base[\"target\"], Aset[\"target\"], equal_variances=False)[1][3:4].values[0][1]\n",
    "    hypothesis_test(p, α)\n",
    "\n",
    "    display(rp.ttest(base[\"target\"], Aset[\"target\"], equal_variances=False)[1][2:4])\n",
    "    \n",
    "except ZeroDivisionError:\n",
    "    print(\"Cannot calculate due to division by zero in STD.\")"
   ]
  },
  {
   "cell_type": "markdown",
   "id": "0a512f22",
   "metadata": {},
   "source": [
    "#### Control and Group B"
   ]
  },
  {
   "cell_type": "code",
   "execution_count": 54,
   "id": "44e6d9eb",
   "metadata": {},
   "outputs": [
    {
     "name": "stdout",
     "output_type": "stream",
     "text": [
      "Control and Male\n",
      "Reject null hypothesis.\n"
     ]
    },
    {
     "data": {
      "text/html": [
       "<div>\n",
       "<style scoped>\n",
       "    .dataframe tbody tr th:only-of-type {\n",
       "        vertical-align: middle;\n",
       "    }\n",
       "\n",
       "    .dataframe tbody tr th {\n",
       "        vertical-align: top;\n",
       "    }\n",
       "\n",
       "    .dataframe thead th {\n",
       "        text-align: right;\n",
       "    }\n",
       "</style>\n",
       "<table border=\"1\" class=\"dataframe\">\n",
       "  <thead>\n",
       "    <tr style=\"text-align: right;\">\n",
       "      <th></th>\n",
       "      <th>Welch's t-test</th>\n",
       "      <th>results</th>\n",
       "    </tr>\n",
       "  </thead>\n",
       "  <tbody>\n",
       "    <tr>\n",
       "      <th>2</th>\n",
       "      <td>t =</td>\n",
       "      <td>-11.5304</td>\n",
       "    </tr>\n",
       "    <tr>\n",
       "      <th>3</th>\n",
       "      <td>Two side test p value =</td>\n",
       "      <td>0.0000</td>\n",
       "    </tr>\n",
       "  </tbody>\n",
       "</table>\n",
       "</div>"
      ],
      "text/plain": [
       "             Welch's t-test  results\n",
       "2                      t =  -11.5304\n",
       "3  Two side test p value =    0.0000"
      ]
     },
     "metadata": {},
     "output_type": "display_data"
    }
   ],
   "source": [
    "print(f\"Control and {attribute[1].capitalize()}\")\n",
    "\n",
    "try:\n",
    "    p = rp.ttest(base[\"target\"], Bset[\"target\"], equal_variances=False)[1][3:4].values[0][1]\n",
    "    hypothesis_test(p, α)\n",
    "\n",
    "    display(rp.ttest(base[\"target\"], Bset[\"target\"], equal_variances=False)[1][2:4])\n",
    "    \n",
    "except ZeroDivisionError:\n",
    "    print(\"Cannot calculate due to division by zero in STD.\")"
   ]
  },
  {
   "cell_type": "markdown",
   "id": "8bb9b5ea",
   "metadata": {},
   "source": [
    "#### Group A and Group B"
   ]
  },
  {
   "cell_type": "code",
   "execution_count": 55,
   "id": "67bf2b58",
   "metadata": {},
   "outputs": [
    {
     "name": "stdout",
     "output_type": "stream",
     "text": [
      "Female and Male\n",
      "Reject null hypothesis.\n"
     ]
    },
    {
     "data": {
      "text/html": [
       "<div>\n",
       "<style scoped>\n",
       "    .dataframe tbody tr th:only-of-type {\n",
       "        vertical-align: middle;\n",
       "    }\n",
       "\n",
       "    .dataframe tbody tr th {\n",
       "        vertical-align: top;\n",
       "    }\n",
       "\n",
       "    .dataframe thead th {\n",
       "        text-align: right;\n",
       "    }\n",
       "</style>\n",
       "<table border=\"1\" class=\"dataframe\">\n",
       "  <thead>\n",
       "    <tr style=\"text-align: right;\">\n",
       "      <th></th>\n",
       "      <th>Welch's t-test</th>\n",
       "      <th>results</th>\n",
       "    </tr>\n",
       "  </thead>\n",
       "  <tbody>\n",
       "    <tr>\n",
       "      <th>2</th>\n",
       "      <td>t =</td>\n",
       "      <td>-31.301</td>\n",
       "    </tr>\n",
       "    <tr>\n",
       "      <th>3</th>\n",
       "      <td>Two side test p value =</td>\n",
       "      <td>0.000</td>\n",
       "    </tr>\n",
       "  </tbody>\n",
       "</table>\n",
       "</div>"
      ],
      "text/plain": [
       "             Welch's t-test  results\n",
       "2                      t =   -31.301\n",
       "3  Two side test p value =     0.000"
      ]
     },
     "metadata": {},
     "output_type": "display_data"
    }
   ],
   "source": [
    "print(f\"{attribute[0].capitalize()} and {attribute[1].capitalize()}\")\n",
    "\n",
    "try:\n",
    "    p = rp.ttest(Aset[\"target\"], Bset[\"target\"], equal_variances=False)[1][3:4].values[0][1]\n",
    "    hypothesis_test(p, α)\n",
    "\n",
    "    display(rp.ttest(Aset[\"target\"], Bset[\"target\"], equal_variances=False)[1][2:4])\n",
    "except ZeroDivisionError:\n",
    "    print(\"Cannot calculate due to division by zero in STD.\")"
   ]
  },
  {
   "cell_type": "markdown",
   "id": "4c748645",
   "metadata": {},
   "source": [
    "### ReLU Results"
   ]
  },
  {
   "cell_type": "markdown",
   "id": "3a53c3cf",
   "metadata": {},
   "source": [
    "#### Control and Group A"
   ]
  },
  {
   "cell_type": "code",
   "execution_count": 56,
   "id": "ca440bfc",
   "metadata": {},
   "outputs": [
    {
     "name": "stdout",
     "output_type": "stream",
     "text": [
      "Control and Female\n",
      "Reject null hypothesis.\n"
     ]
    },
    {
     "data": {
      "text/html": [
       "<div>\n",
       "<style scoped>\n",
       "    .dataframe tbody tr th:only-of-type {\n",
       "        vertical-align: middle;\n",
       "    }\n",
       "\n",
       "    .dataframe tbody tr th {\n",
       "        vertical-align: top;\n",
       "    }\n",
       "\n",
       "    .dataframe thead th {\n",
       "        text-align: right;\n",
       "    }\n",
       "</style>\n",
       "<table border=\"1\" class=\"dataframe\">\n",
       "  <thead>\n",
       "    <tr style=\"text-align: right;\">\n",
       "      <th></th>\n",
       "      <th>Welch's t-test</th>\n",
       "      <th>results</th>\n",
       "    </tr>\n",
       "  </thead>\n",
       "  <tbody>\n",
       "    <tr>\n",
       "      <th>2</th>\n",
       "      <td>t =</td>\n",
       "      <td>27.4457</td>\n",
       "    </tr>\n",
       "    <tr>\n",
       "      <th>3</th>\n",
       "      <td>Two side test p value =</td>\n",
       "      <td>0.0000</td>\n",
       "    </tr>\n",
       "  </tbody>\n",
       "</table>\n",
       "</div>"
      ],
      "text/plain": [
       "             Welch's t-test  results\n",
       "2                      t =   27.4457\n",
       "3  Two side test p value =    0.0000"
      ]
     },
     "metadata": {},
     "output_type": "display_data"
    }
   ],
   "source": [
    "print(f\"Control and {attribute[0].capitalize()}\")\n",
    "\n",
    "try:\n",
    "    p = rp.ttest(base[\"pred_relu\"], Aset[\"pred_relu\"], equal_variances=False)[1][3:4].values[0][1]\n",
    "    hypothesis_test(p, α)\n",
    "\n",
    "    display(rp.ttest(base[\"pred_relu\"], Aset[\"pred_relu\"], equal_variances=False)[1][2:4])\n",
    "    \n",
    "except ZeroDivisionError:\n",
    "    print(\"Cannot calculate due to division by zero in STD.\")"
   ]
  },
  {
   "cell_type": "markdown",
   "id": "97443bd7",
   "metadata": {},
   "source": [
    "#### Control and Group B"
   ]
  },
  {
   "cell_type": "code",
   "execution_count": 57,
   "id": "578afd83",
   "metadata": {},
   "outputs": [
    {
     "name": "stdout",
     "output_type": "stream",
     "text": [
      "Control and Male\n",
      "Reject null hypothesis.\n"
     ]
    },
    {
     "data": {
      "text/html": [
       "<div>\n",
       "<style scoped>\n",
       "    .dataframe tbody tr th:only-of-type {\n",
       "        vertical-align: middle;\n",
       "    }\n",
       "\n",
       "    .dataframe tbody tr th {\n",
       "        vertical-align: top;\n",
       "    }\n",
       "\n",
       "    .dataframe thead th {\n",
       "        text-align: right;\n",
       "    }\n",
       "</style>\n",
       "<table border=\"1\" class=\"dataframe\">\n",
       "  <thead>\n",
       "    <tr style=\"text-align: right;\">\n",
       "      <th></th>\n",
       "      <th>Welch's t-test</th>\n",
       "      <th>results</th>\n",
       "    </tr>\n",
       "  </thead>\n",
       "  <tbody>\n",
       "    <tr>\n",
       "      <th>2</th>\n",
       "      <td>t =</td>\n",
       "      <td>-11.5382</td>\n",
       "    </tr>\n",
       "    <tr>\n",
       "      <th>3</th>\n",
       "      <td>Two side test p value =</td>\n",
       "      <td>0.0000</td>\n",
       "    </tr>\n",
       "  </tbody>\n",
       "</table>\n",
       "</div>"
      ],
      "text/plain": [
       "             Welch's t-test  results\n",
       "2                      t =  -11.5382\n",
       "3  Two side test p value =    0.0000"
      ]
     },
     "metadata": {},
     "output_type": "display_data"
    }
   ],
   "source": [
    "print(f\"Control and {attribute[1].capitalize()}\")\n",
    "\n",
    "try:\n",
    "    p = rp.ttest(base[\"pred_relu\"], Bset[\"pred_relu\"], equal_variances=False)[1][3:4].values[0][1]\n",
    "    hypothesis_test(p, α)\n",
    "\n",
    "    display(rp.ttest(base[\"pred_relu\"], Bset[\"pred_relu\"], equal_variances=False)[1][2:4])\n",
    "    \n",
    "except ZeroDivisionError:\n",
    "    print(\"Cannot calculate due to division by zero in STD.\")"
   ]
  },
  {
   "cell_type": "markdown",
   "id": "1eb1d0d9",
   "metadata": {},
   "source": [
    "#### Group A and Group B"
   ]
  },
  {
   "cell_type": "code",
   "execution_count": 58,
   "id": "96dc742f",
   "metadata": {},
   "outputs": [
    {
     "name": "stdout",
     "output_type": "stream",
     "text": [
      "Female and Male\n",
      "Reject null hypothesis.\n"
     ]
    },
    {
     "data": {
      "text/html": [
       "<div>\n",
       "<style scoped>\n",
       "    .dataframe tbody tr th:only-of-type {\n",
       "        vertical-align: middle;\n",
       "    }\n",
       "\n",
       "    .dataframe tbody tr th {\n",
       "        vertical-align: top;\n",
       "    }\n",
       "\n",
       "    .dataframe thead th {\n",
       "        text-align: right;\n",
       "    }\n",
       "</style>\n",
       "<table border=\"1\" class=\"dataframe\">\n",
       "  <thead>\n",
       "    <tr style=\"text-align: right;\">\n",
       "      <th></th>\n",
       "      <th>Welch's t-test</th>\n",
       "      <th>results</th>\n",
       "    </tr>\n",
       "  </thead>\n",
       "  <tbody>\n",
       "    <tr>\n",
       "      <th>2</th>\n",
       "      <td>t =</td>\n",
       "      <td>-34.3926</td>\n",
       "    </tr>\n",
       "    <tr>\n",
       "      <th>3</th>\n",
       "      <td>Two side test p value =</td>\n",
       "      <td>0.0000</td>\n",
       "    </tr>\n",
       "  </tbody>\n",
       "</table>\n",
       "</div>"
      ],
      "text/plain": [
       "             Welch's t-test  results\n",
       "2                      t =  -34.3926\n",
       "3  Two side test p value =    0.0000"
      ]
     },
     "metadata": {},
     "output_type": "display_data"
    }
   ],
   "source": [
    "print(f\"{attribute[0].capitalize()} and {attribute[1].capitalize()}\")\n",
    "\n",
    "try:\n",
    "    p = rp.ttest(Aset[\"pred_relu\"], Bset[\"pred_relu\"], equal_variances=False)[1][3:4].values[0][1]\n",
    "    hypothesis_test(p, α)\n",
    "\n",
    "    display(rp.ttest(Aset[\"pred_relu\"], Bset[\"pred_relu\"], equal_variances=False)[1][2:4])\n",
    "except ZeroDivisionError:\n",
    "    print(\"Cannot calculate due to division by zero in STD.\")   "
   ]
  },
  {
   "cell_type": "markdown",
   "id": "7ecbc6ce",
   "metadata": {},
   "source": [
    "### Tanh Results"
   ]
  },
  {
   "cell_type": "markdown",
   "id": "f6a6ed62",
   "metadata": {},
   "source": [
    "#### Control and Group A"
   ]
  },
  {
   "cell_type": "code",
   "execution_count": 59,
   "id": "68846ed8",
   "metadata": {
    "scrolled": true
   },
   "outputs": [
    {
     "name": "stdout",
     "output_type": "stream",
     "text": [
      "Control and Female\n",
      "Reject null hypothesis.\n"
     ]
    },
    {
     "data": {
      "text/html": [
       "<div>\n",
       "<style scoped>\n",
       "    .dataframe tbody tr th:only-of-type {\n",
       "        vertical-align: middle;\n",
       "    }\n",
       "\n",
       "    .dataframe tbody tr th {\n",
       "        vertical-align: top;\n",
       "    }\n",
       "\n",
       "    .dataframe thead th {\n",
       "        text-align: right;\n",
       "    }\n",
       "</style>\n",
       "<table border=\"1\" class=\"dataframe\">\n",
       "  <thead>\n",
       "    <tr style=\"text-align: right;\">\n",
       "      <th></th>\n",
       "      <th>Welch's t-test</th>\n",
       "      <th>results</th>\n",
       "    </tr>\n",
       "  </thead>\n",
       "  <tbody>\n",
       "    <tr>\n",
       "      <th>2</th>\n",
       "      <td>t =</td>\n",
       "      <td>25.1063</td>\n",
       "    </tr>\n",
       "    <tr>\n",
       "      <th>3</th>\n",
       "      <td>Two side test p value =</td>\n",
       "      <td>0.0000</td>\n",
       "    </tr>\n",
       "  </tbody>\n",
       "</table>\n",
       "</div>"
      ],
      "text/plain": [
       "             Welch's t-test  results\n",
       "2                      t =   25.1063\n",
       "3  Two side test p value =    0.0000"
      ]
     },
     "metadata": {},
     "output_type": "display_data"
    }
   ],
   "source": [
    "print(f\"Control and {attribute[0].capitalize()}\")\n",
    "\n",
    "try:\n",
    "    p = rp.ttest(base[\"pred_tanh\"], Aset[\"pred_tanh\"], equal_variances=False)[1][3:4].values[0][1]\n",
    "    hypothesis_test(p, α)\n",
    "\n",
    "    display(rp.ttest(base[\"pred_tanh\"], Aset[\"pred_tanh\"], equal_variances=False)[1][2:4])\n",
    "    \n",
    "except ZeroDivisionError:\n",
    "    print(\"Cannot calculate due to division by zero in STD.\")"
   ]
  },
  {
   "cell_type": "markdown",
   "id": "ef80e4f2",
   "metadata": {},
   "source": [
    "#### Control and Group B"
   ]
  },
  {
   "cell_type": "code",
   "execution_count": 60,
   "id": "51e29e8c",
   "metadata": {},
   "outputs": [
    {
     "name": "stdout",
     "output_type": "stream",
     "text": [
      "Control and Male\n",
      "Reject null hypothesis.\n"
     ]
    },
    {
     "data": {
      "text/html": [
       "<div>\n",
       "<style scoped>\n",
       "    .dataframe tbody tr th:only-of-type {\n",
       "        vertical-align: middle;\n",
       "    }\n",
       "\n",
       "    .dataframe tbody tr th {\n",
       "        vertical-align: top;\n",
       "    }\n",
       "\n",
       "    .dataframe thead th {\n",
       "        text-align: right;\n",
       "    }\n",
       "</style>\n",
       "<table border=\"1\" class=\"dataframe\">\n",
       "  <thead>\n",
       "    <tr style=\"text-align: right;\">\n",
       "      <th></th>\n",
       "      <th>Welch's t-test</th>\n",
       "      <th>results</th>\n",
       "    </tr>\n",
       "  </thead>\n",
       "  <tbody>\n",
       "    <tr>\n",
       "      <th>2</th>\n",
       "      <td>t =</td>\n",
       "      <td>-11.6163</td>\n",
       "    </tr>\n",
       "    <tr>\n",
       "      <th>3</th>\n",
       "      <td>Two side test p value =</td>\n",
       "      <td>0.0000</td>\n",
       "    </tr>\n",
       "  </tbody>\n",
       "</table>\n",
       "</div>"
      ],
      "text/plain": [
       "             Welch's t-test  results\n",
       "2                      t =  -11.6163\n",
       "3  Two side test p value =    0.0000"
      ]
     },
     "metadata": {},
     "output_type": "display_data"
    }
   ],
   "source": [
    "print(f\"Control and {attribute[1].capitalize()}\")\n",
    "\n",
    "try:\n",
    "    p = rp.ttest(base[\"pred_tanh\"], Bset[\"pred_tanh\"], equal_variances=False)[1][3:4].values[0][1]\n",
    "    hypothesis_test(p, α)\n",
    "\n",
    "    display(rp.ttest(base[\"pred_tanh\"], Bset[\"pred_tanh\"], equal_variances=False)[1][2:4])\n",
    "    \n",
    "except ZeroDivisionError:\n",
    "    print(\"Cannot calculate due to division by zero in STD.\")"
   ]
  },
  {
   "cell_type": "markdown",
   "id": "ecc2c490",
   "metadata": {},
   "source": [
    "#### Group A and Group B"
   ]
  },
  {
   "cell_type": "code",
   "execution_count": 61,
   "id": "81c6bba0",
   "metadata": {},
   "outputs": [
    {
     "name": "stdout",
     "output_type": "stream",
     "text": [
      "Female and Male\n",
      "Reject null hypothesis.\n"
     ]
    },
    {
     "data": {
      "text/html": [
       "<div>\n",
       "<style scoped>\n",
       "    .dataframe tbody tr th:only-of-type {\n",
       "        vertical-align: middle;\n",
       "    }\n",
       "\n",
       "    .dataframe tbody tr th {\n",
       "        vertical-align: top;\n",
       "    }\n",
       "\n",
       "    .dataframe thead th {\n",
       "        text-align: right;\n",
       "    }\n",
       "</style>\n",
       "<table border=\"1\" class=\"dataframe\">\n",
       "  <thead>\n",
       "    <tr style=\"text-align: right;\">\n",
       "      <th></th>\n",
       "      <th>Welch's t-test</th>\n",
       "      <th>results</th>\n",
       "    </tr>\n",
       "  </thead>\n",
       "  <tbody>\n",
       "    <tr>\n",
       "      <th>2</th>\n",
       "      <td>t =</td>\n",
       "      <td>-32.6264</td>\n",
       "    </tr>\n",
       "    <tr>\n",
       "      <th>3</th>\n",
       "      <td>Two side test p value =</td>\n",
       "      <td>0.0000</td>\n",
       "    </tr>\n",
       "  </tbody>\n",
       "</table>\n",
       "</div>"
      ],
      "text/plain": [
       "             Welch's t-test  results\n",
       "2                      t =  -32.6264\n",
       "3  Two side test p value =    0.0000"
      ]
     },
     "metadata": {},
     "output_type": "display_data"
    }
   ],
   "source": [
    "print(f\"{attribute[0].capitalize()} and {attribute[1].capitalize()}\")\n",
    "\n",
    "try:\n",
    "    p = rp.ttest(Aset[\"pred_tanh\"], Bset[\"pred_tanh\"], equal_variances=False)[1][3:4].values[0][1]\n",
    "    hypothesis_test(p, α)\n",
    "\n",
    "    display(rp.ttest(Aset[\"pred_tanh\"], Bset[\"pred_tanh\"], equal_variances=False)[1][2:4])\n",
    "except ZeroDivisionError:\n",
    "    print(\"Cannot calculate due to division by zero in STD.\")    "
   ]
  },
  {
   "cell_type": "markdown",
   "id": "bb09a220",
   "metadata": {},
   "source": [
    "### ELU Results"
   ]
  },
  {
   "cell_type": "markdown",
   "id": "977fe576",
   "metadata": {},
   "source": [
    "#### Control and Group A"
   ]
  },
  {
   "cell_type": "code",
   "execution_count": 62,
   "id": "db793aba",
   "metadata": {},
   "outputs": [
    {
     "name": "stdout",
     "output_type": "stream",
     "text": [
      "Control and Female\n",
      "Reject null hypothesis.\n"
     ]
    },
    {
     "data": {
      "text/html": [
       "<div>\n",
       "<style scoped>\n",
       "    .dataframe tbody tr th:only-of-type {\n",
       "        vertical-align: middle;\n",
       "    }\n",
       "\n",
       "    .dataframe tbody tr th {\n",
       "        vertical-align: top;\n",
       "    }\n",
       "\n",
       "    .dataframe thead th {\n",
       "        text-align: right;\n",
       "    }\n",
       "</style>\n",
       "<table border=\"1\" class=\"dataframe\">\n",
       "  <thead>\n",
       "    <tr style=\"text-align: right;\">\n",
       "      <th></th>\n",
       "      <th>Welch's t-test</th>\n",
       "      <th>results</th>\n",
       "    </tr>\n",
       "  </thead>\n",
       "  <tbody>\n",
       "    <tr>\n",
       "      <th>2</th>\n",
       "      <td>t =</td>\n",
       "      <td>25.4252</td>\n",
       "    </tr>\n",
       "    <tr>\n",
       "      <th>3</th>\n",
       "      <td>Two side test p value =</td>\n",
       "      <td>0.0000</td>\n",
       "    </tr>\n",
       "  </tbody>\n",
       "</table>\n",
       "</div>"
      ],
      "text/plain": [
       "             Welch's t-test  results\n",
       "2                      t =   25.4252\n",
       "3  Two side test p value =    0.0000"
      ]
     },
     "metadata": {},
     "output_type": "display_data"
    }
   ],
   "source": [
    "print(f\"Control and {attribute[0].capitalize()}\")\n",
    "\n",
    "try:\n",
    "    p = rp.ttest(base[\"pred_elu\"], Aset[\"pred_elu\"], equal_variances=False)[1][3:4].values[0][1]\n",
    "    hypothesis_test(p, α)\n",
    "\n",
    "    display(rp.ttest(base[\"pred_elu\"], Aset[\"pred_elu\"], equal_variances=False)[1][2:4])\n",
    "    \n",
    "except ZeroDivisionError:\n",
    "    print(\"Cannot calculate due to division by zero in STD.\")"
   ]
  },
  {
   "cell_type": "markdown",
   "id": "0d37f9c2",
   "metadata": {},
   "source": [
    "#### Control and Group B"
   ]
  },
  {
   "cell_type": "code",
   "execution_count": 63,
   "id": "6f6a26db",
   "metadata": {},
   "outputs": [
    {
     "name": "stdout",
     "output_type": "stream",
     "text": [
      "Control and Male\n",
      "Reject null hypothesis.\n"
     ]
    },
    {
     "data": {
      "text/html": [
       "<div>\n",
       "<style scoped>\n",
       "    .dataframe tbody tr th:only-of-type {\n",
       "        vertical-align: middle;\n",
       "    }\n",
       "\n",
       "    .dataframe tbody tr th {\n",
       "        vertical-align: top;\n",
       "    }\n",
       "\n",
       "    .dataframe thead th {\n",
       "        text-align: right;\n",
       "    }\n",
       "</style>\n",
       "<table border=\"1\" class=\"dataframe\">\n",
       "  <thead>\n",
       "    <tr style=\"text-align: right;\">\n",
       "      <th></th>\n",
       "      <th>Welch's t-test</th>\n",
       "      <th>results</th>\n",
       "    </tr>\n",
       "  </thead>\n",
       "  <tbody>\n",
       "    <tr>\n",
       "      <th>2</th>\n",
       "      <td>t =</td>\n",
       "      <td>-11.6021</td>\n",
       "    </tr>\n",
       "    <tr>\n",
       "      <th>3</th>\n",
       "      <td>Two side test p value =</td>\n",
       "      <td>0.0000</td>\n",
       "    </tr>\n",
       "  </tbody>\n",
       "</table>\n",
       "</div>"
      ],
      "text/plain": [
       "             Welch's t-test  results\n",
       "2                      t =  -11.6021\n",
       "3  Two side test p value =    0.0000"
      ]
     },
     "metadata": {},
     "output_type": "display_data"
    }
   ],
   "source": [
    "print(f\"Control and {attribute[1].capitalize()}\")\n",
    "\n",
    "try:\n",
    "    p = rp.ttest(base[\"pred_elu\"], Bset[\"pred_elu\"], equal_variances=False)[1][3:4].values[0][1]\n",
    "    hypothesis_test(p, α)\n",
    "\n",
    "    display(rp.ttest(base[\"pred_elu\"], Bset[\"pred_elu\"], equal_variances=False)[1][2:4])\n",
    "    \n",
    "except ZeroDivisionError:\n",
    "    print(\"Cannot calculate due to division by zero in STD.\")"
   ]
  },
  {
   "cell_type": "markdown",
   "id": "5d198907",
   "metadata": {},
   "source": [
    "#### Group A and Group B"
   ]
  },
  {
   "cell_type": "code",
   "execution_count": 64,
   "id": "f0a6e5c9",
   "metadata": {},
   "outputs": [
    {
     "name": "stdout",
     "output_type": "stream",
     "text": [
      "Female and Male\n",
      "Reject null hypothesis.\n"
     ]
    },
    {
     "data": {
      "text/html": [
       "<div>\n",
       "<style scoped>\n",
       "    .dataframe tbody tr th:only-of-type {\n",
       "        vertical-align: middle;\n",
       "    }\n",
       "\n",
       "    .dataframe tbody tr th {\n",
       "        vertical-align: top;\n",
       "    }\n",
       "\n",
       "    .dataframe thead th {\n",
       "        text-align: right;\n",
       "    }\n",
       "</style>\n",
       "<table border=\"1\" class=\"dataframe\">\n",
       "  <thead>\n",
       "    <tr style=\"text-align: right;\">\n",
       "      <th></th>\n",
       "      <th>Welch's t-test</th>\n",
       "      <th>results</th>\n",
       "    </tr>\n",
       "  </thead>\n",
       "  <tbody>\n",
       "    <tr>\n",
       "      <th>2</th>\n",
       "      <td>t =</td>\n",
       "      <td>-32.8762</td>\n",
       "    </tr>\n",
       "    <tr>\n",
       "      <th>3</th>\n",
       "      <td>Two side test p value =</td>\n",
       "      <td>0.0000</td>\n",
       "    </tr>\n",
       "  </tbody>\n",
       "</table>\n",
       "</div>"
      ],
      "text/plain": [
       "             Welch's t-test  results\n",
       "2                      t =  -32.8762\n",
       "3  Two side test p value =    0.0000"
      ]
     },
     "metadata": {},
     "output_type": "display_data"
    }
   ],
   "source": [
    "print(f\"{attribute[0].capitalize()} and {attribute[1].capitalize()}\")\n",
    "\n",
    "try:\n",
    "    p = rp.ttest(Aset[\"pred_elu\"], Bset[\"pred_elu\"], equal_variances=False)[1][3:4].values[0][1]\n",
    "    hypothesis_test(p, α)\n",
    "\n",
    "    display(rp.ttest(Aset[\"pred_elu\"], Bset[\"pred_elu\"], equal_variances=False)[1][2:4])\n",
    "except ZeroDivisionError:\n",
    "    print(\"Cannot calculate due to division by zero in STD.\")    "
   ]
  },
  {
   "cell_type": "markdown",
   "id": "924f2d36",
   "metadata": {},
   "source": [
    "### Difference tests"
   ]
  },
  {
   "cell_type": "markdown",
   "id": "07fd688b",
   "metadata": {},
   "source": [
    "**NOTE:** The variables of this test are dependent on the names of the particular dataset features."
   ]
  },
  {
   "cell_type": "code",
   "execution_count": 65,
   "id": "6265e72e",
   "metadata": {},
   "outputs": [
    {
     "data": {
      "text/plain": [
       "(       Name        N      Mean  Variance        SD        SE  95% Conf.  \\\n",
       " 0       0.0  16279.0  0.200012  0.160017  0.400022  0.003135   0.193867   \n",
       " 1       1.0  16221.0  0.036373  0.035052  0.187221  0.001470   0.033491   \n",
       " 2  combined  32500.0  0.118338  0.104338  0.323013  0.001792   0.114827   \n",
       " 3      diff           0.163640                      0.003463   0.156852   \n",
       " \n",
       "    Interval  \n",
       " 0  0.206158  \n",
       " 1  0.039254  \n",
       " 2  0.121850  \n",
       " 3  0.170427  ,\n",
       "              Welch's t-test       Results\n",
       " 0    Difference (0.0 - 1.0)      0.163640\n",
       " 1      Degrees of freedom =  23102.002542\n",
       " 2                       t =     47.257298\n",
       " 3  Two sided test p-value =      0.000000\n",
       " 4  Difference < 0 p-value =      1.000000\n",
       " 5  Difference > 0 p-value =      0.000000)"
      ]
     },
     "execution_count": 65,
     "metadata": {},
     "output_type": "execute_result"
    }
   ],
   "source": [
    "rp.difference_test(\"target ~ C(gender)\",\n",
    "                   data=data,\n",
    "                   equal_variances=False).conduct()"
   ]
  },
  {
   "cell_type": "markdown",
   "id": "b2df1a39",
   "metadata": {},
   "source": [
    "## Selection Rates and Impact"
   ]
  },
  {
   "cell_type": "markdown",
   "id": "af79761e",
   "metadata": {},
   "source": [
    "#### Baseline"
   ]
  },
  {
   "cell_type": "code",
   "execution_count": 66,
   "id": "0fd687cd",
   "metadata": {},
   "outputs": [],
   "source": [
    "col = \"target\"\n",
    "sr_A = Aset[Aset[col] == 1].shape[0] / data.shape[0]\n",
    "sr_B = Bset[Bset[col] == 1].shape[0] / data.shape[0]\n",
    "impact_base = min(sr_A, sr_B) / max(sr_A, sr_B)"
   ]
  },
  {
   "cell_type": "code",
   "execution_count": 67,
   "id": "6e24ae9b",
   "metadata": {},
   "outputs": [
    {
     "name": "stdout",
     "output_type": "stream",
     "text": [
      "Selection Rate and Impact - control\n",
      "Female:\t0.03624\n",
      "Male:\t0.19999\n",
      "Impact:\t0.18120\n"
     ]
    }
   ],
   "source": [
    "print(\"Selection Rate and Impact - control\")\n",
    "print(f\"{attribute[0].capitalize()}:\\t{sr_A:0.5f}\")\n",
    "print(f\"{attribute[1].capitalize()}:\\t{sr_B:0.5f}\")\n",
    "print(f\"Impact:\\t{impact_base:0.5f}\")"
   ]
  },
  {
   "cell_type": "markdown",
   "id": "a38ad391",
   "metadata": {},
   "source": [
    "#### ReLU"
   ]
  },
  {
   "cell_type": "markdown",
   "id": "bfa3f5c1",
   "metadata": {},
   "source": [
    "**NOTE:** Because ReLU and Leaky ReLU predicted zero (0) results, these metrics cannot be assertained due to division by zero (0)"
   ]
  },
  {
   "cell_type": "code",
   "execution_count": 68,
   "id": "11f7b751",
   "metadata": {},
   "outputs": [],
   "source": [
    "col = \"pred_relu\"\n",
    "sr_A_relu = Aset[Aset[col] == 1].shape[0] / data.shape[0]\n",
    "sr_B_relu = Bset[Bset[col] == 1].shape[0] / data.shape[0]\n",
    "\n",
    "try:\n",
    "    impact_relu = min(sr_A_relu, sr_B_relu) / max(sr_A_relu, sr_B_relu)\n",
    "except ZeroDivisionError:\n",
    "    print(\"**Division by zero error -\")\n",
    "    print(f\"SR for Group A, relu: {sr_A_relu}\\nSR for Group B, relu: {sr_B_relu}\\nimpact set to 0\")\n",
    "    impact_relu = 0"
   ]
  },
  {
   "cell_type": "code",
   "execution_count": 69,
   "id": "7612c1f7",
   "metadata": {},
   "outputs": [
    {
     "name": "stdout",
     "output_type": "stream",
     "text": [
      "Selection Rate and Impact - ReLU\n",
      "Female:\t0.01671\n",
      "Male:\t0.14735\n",
      "Impact:\t0.11338\n"
     ]
    }
   ],
   "source": [
    "print(\"Selection Rate and Impact - ReLU\")\n",
    "print(f\"{attribute[0].capitalize()}:\\t{sr_A_relu:0.5f}\")\n",
    "print(f\"{attribute[1].capitalize()}:\\t{sr_B_relu:0.5f}\")\n",
    "print(f\"Impact:\\t{impact_relu:0.5f}\")"
   ]
  },
  {
   "cell_type": "markdown",
   "id": "e59ca5ca",
   "metadata": {},
   "source": [
    "#### Tanh"
   ]
  },
  {
   "cell_type": "code",
   "execution_count": 70,
   "id": "d8761635",
   "metadata": {},
   "outputs": [],
   "source": [
    "col = \"pred_tanh\"\n",
    "sr_A_tanh = Aset[Aset[col] == 1].shape[0] / data.shape[0]\n",
    "sr_B_tanh = Bset[Bset[col] == 1].shape[0] / data.shape[0]\n",
    "impact_tanh = min(sr_A_tanh, sr_B_tanh) / max(sr_A_tanh, sr_B_tanh)"
   ]
  },
  {
   "cell_type": "code",
   "execution_count": 71,
   "id": "22f762f6",
   "metadata": {},
   "outputs": [
    {
     "name": "stdout",
     "output_type": "stream",
     "text": [
      "Selection Rate and Impact - Tanh\n",
      "Female:\t0.02782\n",
      "Male:\t0.17929\n",
      "Impact:\t0.15519\n"
     ]
    }
   ],
   "source": [
    "print(\"Selection Rate and Impact - Tanh\")\n",
    "print(f\"{attribute[0].capitalize()}:\\t{sr_A_tanh:0.5f}\")\n",
    "print(f\"{attribute[1].capitalize()}:\\t{sr_B_tanh:0.5f}\")\n",
    "print(f\"Impact:\\t{impact_tanh:0.5f}\")"
   ]
  },
  {
   "cell_type": "markdown",
   "id": "bb264355",
   "metadata": {},
   "source": [
    "#### ELU"
   ]
  },
  {
   "cell_type": "code",
   "execution_count": 72,
   "id": "873315b5",
   "metadata": {},
   "outputs": [],
   "source": [
    "col = \"pred_elu\"\n",
    "sr_A_elu = Aset[Aset[col] == 1].shape[0] / data.shape[0]\n",
    "sr_B_elu = Bset[Bset[col] == 1].shape[0] / data.shape[0]\n",
    "impact_elu = min(sr_A_elu, sr_B_elu) / max(sr_A_elu, sr_B_elu)"
   ]
  },
  {
   "cell_type": "code",
   "execution_count": 73,
   "id": "98b7ae54",
   "metadata": {},
   "outputs": [
    {
     "name": "stdout",
     "output_type": "stream",
     "text": [
      "Selection Rate and Impact - elu\n",
      "Female:\t0.02586\n",
      "Male:\t0.17382\n",
      "Impact:\t0.14876\n"
     ]
    }
   ],
   "source": [
    "print(\"Selection Rate and Impact - elu\")\n",
    "print(f\"{attribute[0].capitalize()}:\\t{sr_A_elu:0.5f}\")\n",
    "print(f\"{attribute[1].capitalize()}:\\t{sr_B_elu:0.5f}\")\n",
    "print(f\"Impact:\\t{impact_elu:0.5f}\")"
   ]
  },
  {
   "cell_type": "markdown",
   "id": "ef6dbd4c",
   "metadata": {},
   "source": [
    "#### Leaky ReLU"
   ]
  },
  {
   "cell_type": "code",
   "execution_count": 74,
   "id": "1e8888e0",
   "metadata": {},
   "outputs": [
    {
     "name": "stdout",
     "output_type": "stream",
     "text": [
      "**Division by zero error -\n",
      "SR for Group A, leaky: 0.01670659050426878\n",
      "SR for Group B, leaky: 0.14734967139610589\n",
      "impact set to 0\n"
     ]
    }
   ],
   "source": [
    "col = \"pred_leaky\"\n",
    "sr_A_leaky = Aset[Aset[col] == 1].shape[0] / data.shape[0]\n",
    "sr_B_leaky = Bset[Bset[col] == 1].shape[0] / data.shape[0]\n",
    "\n",
    "try:\n",
    "    impact_leaky = min(sr_A_leaky, sr_B_leaky) / max(sr_A_leaky, sr_B_leaky)\n",
    "except ZeroDivisionError:\n",
    "    print(\"**Division by zero error -\")\n",
    "    print(f\"SR for Group A, leaky: {sr_A_relu}\\nSR for Group B, leaky: {sr_B_relu}\\nimpact set to 0\")\n",
    "    impact_leaky = 0"
   ]
  },
  {
   "cell_type": "code",
   "execution_count": 75,
   "id": "6c2e0be2",
   "metadata": {},
   "outputs": [
    {
     "name": "stdout",
     "output_type": "stream",
     "text": [
      "Selection Rate and Impact - leaky\n",
      "Female:\t0.00000\n",
      "Male:\t0.00000\n",
      "Impact:\t0.00000\n"
     ]
    }
   ],
   "source": [
    "print(\"Selection Rate and Impact - leaky\")\n",
    "print(f\"{attribute[0].capitalize()}:\\t{sr_A_leaky:0.5f}\")\n",
    "print(f\"{attribute[1].capitalize()}:\\t{sr_B_leaky:0.5f}\")\n",
    "print(f\"Impact:\\t{impact_leaky:0.5f}\")"
   ]
  },
  {
   "cell_type": "markdown",
   "id": "e0a493fe",
   "metadata": {},
   "source": [
    "# Results"
   ]
  },
  {
   "cell_type": "code",
   "execution_count": 76,
   "id": "fb47ec7c",
   "metadata": {},
   "outputs": [
    {
     "name": "stdout",
     "output_type": "stream",
     "text": [
      "             Selection Rate and Impact\n",
      "Group\tBase\t ReLU\t  Tanh\t   ELU\t    Leaky\n",
      "Female: 0.03624  0.01671  0.02782  0.02586  0.00000\n",
      "Male  : 0.19999  0.14735  0.17929  0.17382  0.00000\n",
      "Impact: 0.18120  0.11338  0.15519  0.14876  0.00000\n"
     ]
    }
   ],
   "source": [
    "print(\" \"*12, \"Selection Rate and Impact\")\n",
    "print(\"Group\\tBase\\t ReLU\\t  Tanh\\t   ELU\\t    Leaky\")\n",
    "print(f\"{attribute[0].capitalize()}: {sr_A:0.5f}  {sr_A_relu:0.5f}  {sr_A_tanh:0.5f}  {sr_A_elu:0.5f}  {sr_A_leaky:0.5f}\")\n",
    "print(f\"{attribute[1].capitalize()}  : {sr_B:0.5f}  {sr_B_relu:0.5f}  {sr_B_tanh:0.5f}  {sr_B_elu:0.5f}  {sr_B_leaky:0.5f}\")\n",
    "print(f\"Impact: {impact_base:0.5f}  {impact_relu:0.5f}  {impact_tanh:0.5f}  {impact_elu:0.5f}  {impact_leaky:0.5f}\")"
   ]
  },
  {
   "cell_type": "code",
   "execution_count": 77,
   "id": "a7a7ad29",
   "metadata": {},
   "outputs": [
    {
     "name": "stdout",
     "output_type": "stream",
     "text": [
      "             Bias Metrics\n",
      "*************************************\n",
      "Func.\tPP\tPE\tEO\tSP\n",
      "ReLU\tFalse\tFalse\tFalse\tFalse\n",
      "Tanh\tFalse\tFalse\tFalse\tFalse\n",
      "ELU\tFalse\tFalse\tFalse\tFalse\n",
      "Leaky\tFalse\tTrue\tTrue\tFalse\n",
      "\n",
      "\n",
      "Legend\n",
      " - PP : predictive parity\n",
      " - PE : predictive equality\n",
      " - EO : equal opportunity\n",
      " - SP : statistical parity\n"
     ]
    }
   ],
   "source": [
    "print(\" \"*12, \"Bias Metrics\")\n",
    "print(\"*\" * 37)\n",
    "labels = [\"Func.\",\"PP\",\"PE\",\"EO\",\"SP\"]\n",
    "fns = [\"ReLU\", \"Tanh\", \"ELU\", \"Leaky\"]\n",
    "print(f\"{labels[0]}\\t{labels[1]}\\t{labels[2]}\\t{labels[3]}\\t{labels[4]}\")\n",
    "for i in range(0,4):\n",
    "    print(f\"{fns[i]}\\t{pp[i]}\\t{pe[i]}\\t{eo[i]}\\t{sp[i]}\")\n",
    "\n",
    "\n",
    "print(\"\\n\\nLegend\")\n",
    "print(\" - PP : predictive parity\\n\" +\n",
    "      \" - PE : predictive equality\\n\" +\n",
    "      \" - EO : equal opportunity\\n\" +\n",
    "      \" - SP : statistical parity\")"
   ]
  },
  {
   "cell_type": "code",
   "execution_count": 78,
   "id": "95f2fcb5",
   "metadata": {},
   "outputs": [
    {
     "data": {
      "text/plain": [
       "['target', 'pred_relu', 'pred_tanh', 'pred_elu', 'pred_leaky']"
      ]
     },
     "execution_count": 78,
     "metadata": {},
     "output_type": "execute_result"
    }
   ],
   "source": [
    "features"
   ]
  },
  {
   "cell_type": "markdown",
   "id": "d7c8c00c",
   "metadata": {},
   "source": [
    "# Similarity Metrics"
   ]
  },
  {
   "cell_type": "markdown",
   "id": "67042e86",
   "metadata": {},
   "source": [
    "#### Import Metrics Libraries"
   ]
  },
  {
   "cell_type": "code",
   "execution_count": 79,
   "id": "e3b01019",
   "metadata": {},
   "outputs": [],
   "source": [
    "import Levenshtein as lev\n",
    "from pyjarowinkler import distance as dist"
   ]
  },
  {
   "cell_type": "markdown",
   "id": "25cfa0d1",
   "metadata": {},
   "source": [
    "#### Convert to string"
   ]
  },
  {
   "cell_type": "code",
   "execution_count": 80,
   "id": "69bb1708",
   "metadata": {},
   "outputs": [],
   "source": [
    "Astr = [[\"\"] * Aset.shape[0]] * Aset.shape[1]\n",
    "Bstr = [[\"\"] * Bset.shape[0]] * Bset.shape[1]"
   ]
  },
  {
   "cell_type": "code",
   "execution_count": 81,
   "id": "10122c36",
   "metadata": {},
   "outputs": [],
   "source": [
    "for f in range(len(features)):\n",
    "    Astr[f] = ''.join(GroupA[features[f]].values.astype('int').astype('str'))\n",
    "    Bstr[f] = ''.join(GroupB[features[f]].values.astype('int').astype('str'))"
   ]
  },
  {
   "cell_type": "markdown",
   "id": "fd7481ec",
   "metadata": {},
   "source": [
    "#### Test defaults\n",
    "Levenshtein result should be 0"
   ]
  },
  {
   "cell_type": "code",
   "execution_count": 82,
   "id": "9cf4a6ed",
   "metadata": {},
   "outputs": [
    {
     "data": {
      "text/plain": [
       "0"
      ]
     },
     "execution_count": 82,
     "metadata": {},
     "output_type": "execute_result"
    }
   ],
   "source": [
    "lev.distance(Astr[1], Astr[1])"
   ]
  },
  {
   "cell_type": "markdown",
   "id": "533b646a",
   "metadata": {},
   "source": [
    "Jaro similarity result should be 1.0"
   ]
  },
  {
   "cell_type": "code",
   "execution_count": 83,
   "id": "2c591003",
   "metadata": {},
   "outputs": [
    {
     "data": {
      "text/plain": [
       "1.0"
      ]
     },
     "execution_count": 83,
     "metadata": {},
     "output_type": "execute_result"
    }
   ],
   "source": [
    "dist.get_jaro_distance(Astr[1], Astr[1])"
   ]
  },
  {
   "cell_type": "code",
   "execution_count": 84,
   "id": "77b377bc",
   "metadata": {},
   "outputs": [
    {
     "name": "stdout",
     "output_type": "stream",
     "text": [
      "target     : 0\n",
      "pred_relu  : 1\n",
      "pred_tanh  : 2\n",
      "pred_elu   : 3\n",
      "pred_leaky : 4\n"
     ]
    }
   ],
   "source": [
    "for i, f in enumerate(features):\n",
    "    print(f\"{f:10s} : {i}\")"
   ]
  },
  {
   "cell_type": "code",
   "execution_count": 85,
   "id": "6eae8fb5",
   "metadata": {},
   "outputs": [
    {
     "name": "stdout",
     "output_type": "stream",
     "text": [
      "Similarity and Distance Metrics\n",
      "     Between Female and Male\n",
      "*******************************\n",
      "Function\tLev.\tJaro\t  Jaro-Winkler\n",
      "target    :\t5439\t0.80071\t  0.84000\n",
      "pred_relu :\t5439\t0.81738\t  0.89000\n",
      "pred_tanh :\t5439\t0.80834\t  0.89000\n",
      "pred_elu  :\t5439\t0.80957\t  0.89000\n",
      "pred_leaky:\t5439\t0.83306\t  0.90000\n"
     ]
    }
   ],
   "source": [
    "print(\"Similarity and Distance Metrics\\n\" \\\n",
    "      f\"     Between {attribute[0].capitalize()} and {attribute[1].capitalize()}\")\n",
    "print(\"*\" * 31)\n",
    "print(\"Function\\tLev.\\tJaro\\t  Jaro-Winkler\")\n",
    "for i, f in enumerate(features):\n",
    "    print(f\"{f:10s}:\\t{lev.distance(Astr[i], Bstr[i])}\\t\" \\\n",
    "          f\"{dist.get_jaro_distance(Astr[i], Bstr[i], winkler=False):7.5f}\\t\" \\\n",
    "          f\"{dist.get_jaro_distance(Astr[i], Bstr[i], winkler=True):9.5f}\")\n",
    "    "
   ]
  },
  {
   "cell_type": "markdown",
   "id": "0d2228f2",
   "metadata": {},
   "source": [
    "# Distribution Tests"
   ]
  },
  {
   "cell_type": "markdown",
   "id": "a0b5ac5d",
   "metadata": {},
   "source": [
    "Test results for shape of distribution"
   ]
  },
  {
   "cell_type": "code",
   "execution_count": 86,
   "id": "f09520f1",
   "metadata": {},
   "outputs": [],
   "source": [
    "from scipy.stats import binom, chisquare, kstest"
   ]
  },
  {
   "cell_type": "code",
   "execution_count": 87,
   "id": "8b1d4e6d",
   "metadata": {},
   "outputs": [
    {
     "name": "stdout",
     "output_type": "stream",
     "text": [
      "Binom  - target    :       0.23623    0.00\n",
      "Norm   - target    :       0.50000    0.00\n",
      "Chi^2  - target    :       0.00000    1.00  same as actual\n",
      "\n",
      "Binom  - pred_relu :       0.83594    0.00  X\n",
      "Norm   - pred_relu :       0.50000    0.00\n",
      "Chi^2  - pred_relu :     211.84978    0.00\n",
      "\n",
      "Binom  - pred_tanh :       0.20711    0.00\n",
      "Norm   - pred_tanh :       0.50000    0.00\n",
      "Chi^2  - pred_tanh :      31.12718    0.00\n",
      "\n",
      "Binom  - pred_elu  :       0.80032    0.00  X\n",
      "Norm   - pred_elu  :       0.50000    0.00\n",
      "Chi^2  - pred_elu  :      49.88375    0.00\n",
      "\n",
      "Binom  - pred_leaky:       1.00000    0.00  X\n",
      "Norm   - pred_leaky:       0.50000    0.00\n",
      "Chi^2  - pred_leaky:    3846.00000    0.00\n",
      "\n"
     ]
    }
   ],
   "source": [
    "for f in features:\n",
    "    test = data[f]\n",
    "\n",
    "    x = test.values\n",
    "    n = test.sum()\n",
    "    p = n / test.shape[0]\n",
    "\n",
    "    stat, pval = kstest(rvs=x, cdf=binom.cdf(x, n, p))\n",
    "    print(f\"Binom  - {test.name:10}:{stat:14.5f}{pval:8.2f}\", end=\"\")\n",
    "    if stat > 0.5:\n",
    "        print(\"  X\")\n",
    "    else:\n",
    "        print()\n",
    "\n",
    "    stat, pval = kstest(rvs=x, cdf='norm')\n",
    "    print(f\"Norm   - {test.name:10}:{stat:14.5f}{pval:8.2f}\", end=\"\")    \n",
    "    if stat > 0.5:\n",
    "        print(\"  X\")\n",
    "    else:\n",
    "        print()\n",
    "    \n",
    "    freqB = data.target.sum()\n",
    "    stat, pval = chisquare([n, freqB])\n",
    "    print(f\"Chi^2  - {test.name:10}:{stat:14.5f}{pval:8.2f}\", end=\"\")\n",
    "    if pval > stat:\n",
    "        print(\"  same as actual\\n\")\n",
    "    else:\n",
    "        print(\"\\n\")"
   ]
  },
  {
   "cell_type": "markdown",
   "id": "318aea27",
   "metadata": {},
   "source": [
    "# Appendix:  Examples of Similarity Metrics"
   ]
  },
  {
   "cell_type": "code",
   "execution_count": 88,
   "id": "306c6496",
   "metadata": {},
   "outputs": [],
   "source": [
    "from itertools import permutations"
   ]
  },
  {
   "cell_type": "code",
   "execution_count": 89,
   "id": "c3bed9f6",
   "metadata": {},
   "outputs": [
    {
     "data": {
      "text/plain": [
       "['0', '0', '0', '1', '1', '1']"
      ]
     },
     "execution_count": 89,
     "metadata": {},
     "output_type": "execute_result"
    }
   ],
   "source": [
    "x = 3\n",
    "perm_gen = \"0\" * x + \"1\"*x\n",
    "list(perm_gen)"
   ]
  },
  {
   "cell_type": "code",
   "execution_count": 90,
   "id": "2e6fd6f5",
   "metadata": {},
   "outputs": [
    {
     "name": "stdout",
     "output_type": "stream",
     "text": [
      "('0', '0', '0', '1', '1', '1') : 000111\n",
      "('0', '0', '1', '0', '1', '1') : 001011\n",
      "('0', '0', '1', '1', '0', '1') : 001101\n",
      "('0', '0', '1', '1', '1', '0') : 001110\n",
      "('0', '1', '0', '0', '1', '1') : 010011\n",
      "('0', '1', '0', '1', '0', '1') : 010101\n",
      "('0', '1', '0', '1', '1', '0') : 010110\n",
      "('0', '1', '1', '0', '0', '1') : 011001\n",
      "('0', '1', '1', '0', '1', '0') : 011010\n",
      "('0', '1', '1', '1', '0', '0') : 011100\n",
      "('1', '0', '0', '0', '1', '1') : 100011\n",
      "('1', '0', '0', '1', '0', '1') : 100101\n",
      "('1', '0', '0', '1', '1', '0') : 100110\n",
      "('1', '0', '1', '0', '0', '1') : 101001\n",
      "('1', '0', '1', '0', '1', '0') : 101010\n",
      "('1', '0', '1', '1', '0', '0') : 101100\n",
      "('1', '1', '0', '0', '0', '1') : 110001\n",
      "('1', '1', '0', '0', '1', '0') : 110010\n",
      "('1', '1', '0', '1', '0', '0') : 110100\n",
      "('1', '1', '1', '0', '0', '0') : 111000\n"
     ]
    }
   ],
   "source": [
    "perm = permutations(list(perm_gen))\n",
    "words = []\n",
    "for i in list(perm):\n",
    "    if i not in words:\n",
    "        tmp = ''.join(str(e) for e in i)\n",
    "    if tmp not in words:\n",
    "        words.append(tmp)\n",
    "        print(f\"{i} : {tmp}\")"
   ]
  },
  {
   "cell_type": "code",
   "execution_count": 91,
   "id": "bd165643",
   "metadata": {
    "scrolled": true
   },
   "outputs": [
    {
     "name": "stdout",
     "output_type": "stream",
     "text": [
      "Permutation         Lev  Jaro      Jaro-Winkler\n",
      "000111 x 000111 :   0    1.00000   1.00000\n",
      "000111 x 001011 :   2    0.96000   0.94444\n",
      "000111 x 001101 :   2    0.96000   0.94444\n",
      "000111 x 001110 :   2    0.96000   0.94444\n",
      "000111 x 010011 :   2    0.95000   0.94444\n",
      "000111 x 010101 :   2    0.95000   0.94444\n",
      "000111 x 010110 :   2    0.95000   0.94444\n",
      "000111 x 011001 :   4    0.90000   0.88889\n",
      "000111 x 011010 :   4    0.90000   0.88889\n",
      "000111 x 011100 :   4    0.90000   0.88889\n",
      "000111 x 100011 :   2    0.94000   0.94444\n",
      "000111 x 100101 :   2    0.94000   0.94444\n",
      "000111 x 100110 :   2    0.94000   0.94444\n",
      "000111 x 101001 :   4    0.89000   0.88889\n",
      "000111 x 101010 :   4    0.89000   0.88889\n",
      "000111 x 101100 :   4    0.89000   0.88889\n",
      "000111 x 110001 :   4    0.89000   0.88889\n",
      "000111 x 110010 :   4    0.89000   0.88889\n",
      "000111 x 110100 :   4    0.89000   0.88889\n",
      "000111 x 111000 :   6    0.83000   0.83333\n",
      "\n",
      "001011 x 001011 :   0    1.00000   1.00000\n",
      "001011 x 001101 :   2    0.96000   0.94444\n",
      "001011 x 001110 :   2    0.96000   0.94444\n",
      "001011 x 010011 :   2    0.95000   0.94444\n",
      "001011 x 010101 :   2    0.90000   0.88889\n",
      "001011 x 010110 :   2    0.90000   0.88889\n",
      "001011 x 011001 :   2    0.95000   0.94444\n",
      "001011 x 011010 :   2    0.95000   0.94444\n",
      "001011 x 011100 :   4    0.90000   0.88889\n",
      "001011 x 100011 :   2    0.94000   0.94444\n",
      "001011 x 100101 :   2    0.89000   0.88889\n",
      "001011 x 100110 :   3    0.89000   0.88889\n",
      "001011 x 101001 :   2    0.94000   0.94444\n",
      "001011 x 101010 :   2    0.94000   0.94444\n",
      "001011 x 101100 :   4    0.89000   0.88889\n",
      "001011 x 110001 :   4    0.89000   0.88889\n",
      "001011 x 110010 :   4    0.89000   0.88889\n",
      "001011 x 110100 :   4    0.83000   0.83333\n",
      "001011 x 111000 :   4    0.89000   0.88889\n",
      "\n",
      "001101 x 001101 :   0    1.00000   1.00000\n",
      "001101 x 001110 :   2    0.97000   0.94444\n",
      "001101 x 010011 :   3    0.90000   0.88889\n",
      "001101 x 010101 :   2    0.95000   0.94444\n",
      "001101 x 010110 :   2    0.90000   0.88889\n",
      "001101 x 011001 :   2    0.95000   0.94444\n",
      "001101 x 011010 :   2    0.90000   0.88889\n",
      "001101 x 011100 :   2    0.95000   0.94444\n",
      "001101 x 100011 :   3    0.89000   0.88889\n",
      "001101 x 100101 :   2    0.94000   0.94444\n",
      "001101 x 100110 :   2    0.89000   0.88889\n",
      "001101 x 101001 :   2    0.94000   0.94444\n",
      "001101 x 101010 :   3    0.89000   0.88889\n",
      "001101 x 101100 :   2    0.94000   0.94444\n",
      "001101 x 110001 :   4    0.89000   0.88889\n",
      "001101 x 110010 :   4    0.83000   0.83333\n",
      "001101 x 110100 :   4    0.89000   0.88889\n",
      "001101 x 111000 :   4    0.89000   0.88889\n",
      "\n",
      "001110 x 001110 :   0    1.00000   1.00000\n",
      "001110 x 010011 :   3    0.90000   0.88889\n",
      "001110 x 010101 :   3    0.90000   0.88889\n",
      "001110 x 010110 :   2    0.95000   0.94444\n",
      "001110 x 011001 :   3    0.90000   0.88889\n",
      "001110 x 011010 :   2    0.95000   0.94444\n",
      "001110 x 011100 :   2    0.95000   0.94444\n",
      "001110 x 100011 :   3    0.89000   0.88889\n",
      "001110 x 100101 :   3    0.89000   0.88889\n",
      "001110 x 100110 :   2    0.94000   0.94444\n",
      "001110 x 101001 :   4    0.89000   0.88889\n",
      "001110 x 101010 :   2    0.94000   0.94444\n",
      "001110 x 101100 :   2    0.94000   0.94444\n",
      "001110 x 110001 :   5    0.83000   0.83333\n",
      "001110 x 110010 :   4    0.89000   0.88889\n",
      "001110 x 110100 :   4    0.89000   0.88889\n",
      "001110 x 111000 :   4    0.89000   0.88889\n",
      "\n",
      "010011 x 010011 :   0    1.00000   1.00000\n",
      "010011 x 010101 :   2    0.96000   0.94444\n",
      "010011 x 010110 :   2    0.96000   0.94444\n",
      "010011 x 011001 :   2    0.96000   0.94444\n",
      "010011 x 011010 :   2    0.96000   0.94444\n",
      "010011 x 011100 :   4    0.91000   0.88889\n",
      "010011 x 100011 :   2    0.94000   0.94444\n",
      "010011 x 100101 :   2    0.89000   0.88889\n",
      "010011 x 100110 :   2    0.89000   0.88889\n",
      "010011 x 101001 :   2    0.89000   0.88889\n",
      "010011 x 101010 :   3    0.89000   0.88889\n",
      "010011 x 101100 :   4    0.83000   0.83333\n",
      "010011 x 110001 :   2    0.94000   0.94444\n",
      "010011 x 110010 :   2    0.94000   0.94444\n",
      "010011 x 110100 :   4    0.89000   0.88889\n",
      "010011 x 111000 :   4    0.89000   0.88889\n",
      "\n",
      "010101 x 010101 :   0    1.00000   1.00000\n",
      "010101 x 010110 :   2    0.97000   0.94444\n",
      "010101 x 011001 :   2    0.96000   0.94444\n",
      "010101 x 011010 :   2    0.91000   0.88889\n",
      "010101 x 011100 :   2    0.96000   0.94444\n",
      "010101 x 100011 :   3    0.89000   0.88889\n",
      "010101 x 100101 :   2    0.94000   0.94444\n",
      "010101 x 100110 :   4    0.89000   0.88889\n",
      "010101 x 101001 :   2    0.89000   0.88889\n",
      "010101 x 101010 :   2    0.83000   0.83333\n",
      "010101 x 101100 :   3    0.89000   0.88889\n",
      "010101 x 110001 :   2    0.94000   0.94444\n",
      "010101 x 110010 :   3    0.89000   0.88889\n",
      "010101 x 110100 :   2    0.94000   0.94444\n",
      "010101 x 111000 :   4    0.89000   0.88889\n",
      "\n",
      "010110 x 010110 :   0    1.00000   1.00000\n",
      "010110 x 011001 :   3    0.91000   0.88889\n",
      "010110 x 011010 :   2    0.96000   0.94444\n",
      "010110 x 011100 :   2    0.96000   0.94444\n",
      "010110 x 100011 :   3    0.89000   0.88889\n",
      "010110 x 100101 :   3    0.89000   0.88889\n",
      "010110 x 100110 :   2    0.94000   0.94444\n",
      "010110 x 101001 :   3    0.83000   0.83333\n",
      "010110 x 101010 :   2    0.89000   0.88889\n",
      "010110 x 101100 :   2    0.89000   0.88889\n",
      "010110 x 110001 :   4    0.89000   0.88889\n",
      "010110 x 110010 :   2    0.94000   0.94444\n",
      "010110 x 110100 :   2    0.94000   0.94444\n",
      "010110 x 111000 :   4    0.89000   0.88889\n",
      "\n",
      "011001 x 011001 :   0    1.00000   1.00000\n",
      "011001 x 011010 :   2    0.97000   0.94444\n",
      "011001 x 011100 :   2    0.96000   0.94444\n",
      "011001 x 100011 :   3    0.89000   0.88889\n",
      "011001 x 100101 :   3    0.89000   0.88889\n",
      "011001 x 100110 :   4    0.83000   0.83333\n",
      "011001 x 101001 :   2    0.94000   0.94444\n",
      "011001 x 101010 :   4    0.89000   0.88889\n",
      "011001 x 101100 :   2    0.89000   0.88889\n",
      "011001 x 110001 :   2    0.94000   0.94444\n",
      "011001 x 110010 :   2    0.89000   0.88889\n",
      "011001 x 110100 :   3    0.89000   0.88889\n",
      "011001 x 111000 :   2    0.94000   0.94444\n",
      "\n",
      "011010 x 011010 :   0    1.00000   1.00000\n",
      "011010 x 011100 :   2    0.96000   0.94444\n",
      "011010 x 100011 :   4    0.89000   0.88889\n",
      "011010 x 100101 :   3    0.83000   0.83333\n",
      "011010 x 100110 :   3    0.89000   0.88889\n",
      "011010 x 101001 :   3    0.89000   0.88889\n",
      "011010 x 101010 :   2    0.94000   0.94444\n",
      "011010 x 101100 :   2    0.89000   0.88889\n",
      "011010 x 110001 :   3    0.89000   0.88889\n",
      "011010 x 110010 :   2    0.94000   0.94444\n",
      "011010 x 110100 :   2    0.89000   0.88889\n",
      "011010 x 111000 :   2    0.94000   0.94444\n",
      "\n",
      "011100 x 011100 :   0    1.00000   1.00000\n",
      "011100 x 100011 :   5    0.83000   0.83333\n",
      "011100 x 100101 :   4    0.89000   0.88889\n",
      "011100 x 100110 :   3    0.89000   0.88889\n",
      "011100 x 101001 :   3    0.89000   0.88889\n",
      "011100 x 101010 :   3    0.89000   0.88889\n",
      "011100 x 101100 :   2    0.94000   0.94444\n",
      "011100 x 110001 :   3    0.89000   0.88889\n",
      "011100 x 110010 :   3    0.89000   0.88889\n",
      "011100 x 110100 :   2    0.94000   0.94444\n",
      "011100 x 111000 :   2    0.94000   0.94444\n",
      "\n",
      "100011 x 100011 :   0    1.00000   1.00000\n",
      "100011 x 100101 :   2    0.96000   0.94444\n",
      "100011 x 100110 :   2    0.96000   0.94444\n",
      "100011 x 101001 :   2    0.96000   0.94444\n",
      "100011 x 101010 :   2    0.96000   0.94444\n",
      "100011 x 101100 :   4    0.91000   0.88889\n",
      "100011 x 110001 :   2    0.95000   0.94444\n",
      "100011 x 110010 :   2    0.95000   0.94444\n",
      "100011 x 110100 :   4    0.90000   0.88889\n",
      "100011 x 111000 :   4    0.90000   0.88889\n",
      "\n",
      "100101 x 100101 :   0    1.00000   1.00000\n",
      "100101 x 100110 :   2    0.97000   0.94444\n",
      "100101 x 101001 :   2    0.96000   0.94444\n",
      "100101 x 101010 :   2    0.91000   0.88889\n",
      "100101 x 101100 :   2    0.96000   0.94444\n",
      "100101 x 110001 :   2    0.95000   0.94444\n",
      "100101 x 110010 :   2    0.90000   0.88889\n",
      "100101 x 110100 :   2    0.95000   0.94444\n",
      "100101 x 111000 :   4    0.90000   0.88889\n",
      "\n",
      "100110 x 100110 :   0    1.00000   1.00000\n",
      "100110 x 101001 :   3    0.91000   0.88889\n",
      "100110 x 101010 :   2    0.96000   0.94444\n",
      "100110 x 101100 :   2    0.96000   0.94444\n",
      "100110 x 110001 :   3    0.90000   0.88889\n",
      "100110 x 110010 :   2    0.95000   0.94444\n",
      "100110 x 110100 :   2    0.95000   0.94444\n",
      "100110 x 111000 :   4    0.90000   0.88889\n",
      "\n",
      "101001 x 101001 :   0    1.00000   1.00000\n",
      "101001 x 101010 :   2    0.97000   0.94444\n",
      "101001 x 101100 :   2    0.96000   0.94444\n",
      "101001 x 110001 :   2    0.95000   0.94444\n",
      "101001 x 110010 :   2    0.90000   0.88889\n",
      "101001 x 110100 :   2    0.90000   0.88889\n",
      "101001 x 111000 :   2    0.95000   0.94444\n",
      "\n",
      "101010 x 101010 :   0    1.00000   1.00000\n",
      "101010 x 101100 :   2    0.96000   0.94444\n",
      "101010 x 110001 :   3    0.90000   0.88889\n",
      "101010 x 110010 :   2    0.95000   0.94444\n",
      "101010 x 110100 :   2    0.90000   0.88889\n",
      "101010 x 111000 :   2    0.95000   0.94444\n",
      "\n",
      "101100 x 101100 :   0    1.00000   1.00000\n",
      "101100 x 110001 :   3    0.90000   0.88889\n",
      "101100 x 110010 :   3    0.90000   0.88889\n",
      "101100 x 110100 :   2    0.95000   0.94444\n",
      "101100 x 111000 :   2    0.95000   0.94444\n",
      "\n",
      "110001 x 110001 :   0    1.00000   1.00000\n",
      "110001 x 110010 :   2    0.97000   0.94444\n",
      "110001 x 110100 :   2    0.96000   0.94444\n",
      "110001 x 111000 :   2    0.96000   0.94444\n",
      "\n",
      "110010 x 110010 :   0    1.00000   1.00000\n",
      "110010 x 110100 :   2    0.96000   0.94444\n",
      "110010 x 111000 :   2    0.96000   0.94444\n",
      "\n",
      "110100 x 110100 :   0    1.00000   1.00000\n",
      "110100 x 111000 :   2    0.96000   0.94444\n",
      "\n",
      "111000 x 111000 :   0    1.00000   1.00000\n"
     ]
    }
   ],
   "source": [
    "cache = []\n",
    "size = 8 + 2*len(words[0])\n",
    "lbls = [\"Permutation\", \"Lev\", \"Jaro\", \"Jaro-Winkler\"]\n",
    "print(f\"{lbls[0]:{size}s}\" +\\\n",
    "      f\"{lbls[1]:5s}\" +\\\n",
    "      f\"{lbls[2]:10s}\" +\\\n",
    "      f\"{lbls[3]}\")\n",
    "\n",
    "for first in words:\n",
    "    if first is not words[0]:\n",
    "        print()\n",
    "    for second in words:\n",
    "        temp = f\"{first} x {second}\"\n",
    "        temp2 = f\"{second} x {first}\"\n",
    "        if (temp not in cache) and (temp2 not in cache):\n",
    "            cache.append(temp)\n",
    "            levd = lev.distance(first,second)\n",
    "            jaro = dist.get_jaro_distance(first, second)\n",
    "            jw = dist.get_jaro_distance(first, second, winkler=False)\n",
    "            print(f\"{first} x {second} : {levd:3d}{jaro:11.5f}{jw:10.5f}\")"
   ]
  },
  {
   "cell_type": "code",
   "execution_count": null,
   "id": "611fb2b2",
   "metadata": {},
   "outputs": [],
   "source": []
  }
 ],
 "metadata": {
  "kernelspec": {
   "display_name": "Python 3 (ipykernel)",
   "language": "python",
   "name": "python3"
  },
  "language_info": {
   "codemirror_mode": {
    "name": "ipython",
    "version": 3
   },
   "file_extension": ".py",
   "mimetype": "text/x-python",
   "name": "python",
   "nbconvert_exporter": "python",
   "pygments_lexer": "ipython3",
   "version": "3.8.10"
  }
 },
 "nbformat": 4,
 "nbformat_minor": 5
}
