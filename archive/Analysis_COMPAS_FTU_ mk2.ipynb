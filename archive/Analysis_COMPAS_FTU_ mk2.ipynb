{
 "cells": [
  {
   "cell_type": "markdown",
   "id": "1b98ac08",
   "metadata": {},
   "source": [
    "# FrenchC2C FTU Model Bias Analysis"
   ]
  },
  {
   "cell_type": "markdown",
   "id": "3b46faba",
   "metadata": {},
   "source": [
    "## Import Dependencies"
   ]
  },
  {
   "cell_type": "code",
   "execution_count": 1,
   "id": "db9a1cf7",
   "metadata": {},
   "outputs": [],
   "source": [
    "# !pip install researchpy"
   ]
  },
  {
   "cell_type": "code",
   "execution_count": 2,
   "id": "e6fab239",
   "metadata": {},
   "outputs": [],
   "source": [
    "import pandas as pd\n",
    "import numpy as np\n",
    "import matplotlib.pyplot as plt\n",
    "import seaborn as sns\n",
    "import researchpy as rp"
   ]
  },
  {
   "cell_type": "code",
   "execution_count": 3,
   "id": "1b982d64",
   "metadata": {},
   "outputs": [],
   "source": [
    "import warnings\n",
    "warnings.filterwarnings('ignore')"
   ]
  },
  {
   "cell_type": "code",
   "execution_count": 4,
   "id": "9e8f6b4b",
   "metadata": {},
   "outputs": [],
   "source": [
    "from dataclasses import dataclass"
   ]
  },
  {
   "cell_type": "code",
   "execution_count": 5,
   "id": "aa3b4556",
   "metadata": {},
   "outputs": [],
   "source": [
    "%matplotlib inline"
   ]
  },
  {
   "cell_type": "code",
   "execution_count": 6,
   "id": "6715839a",
   "metadata": {},
   "outputs": [],
   "source": [
    "pd.options.display.max_columns = 250\n",
    "pd.options.display.max_rows = 250"
   ]
  },
  {
   "cell_type": "code",
   "execution_count": 7,
   "id": "112c6e86",
   "metadata": {},
   "outputs": [],
   "source": [
    "from sklearn.metrics import confusion_matrix"
   ]
  },
  {
   "cell_type": "markdown",
   "id": "842941e4",
   "metadata": {},
   "source": [
    "# Custom functions"
   ]
  },
  {
   "cell_type": "markdown",
   "id": "acaa5f26",
   "metadata": {},
   "source": [
    "#### Dataclass for confusion matrix results"
   ]
  },
  {
   "cell_type": "code",
   "execution_count": 8,
   "id": "1675b590",
   "metadata": {},
   "outputs": [],
   "source": [
    "@dataclass\n",
    "class cmatrix:\n",
    "    name: str\n",
    "    TP: int\n",
    "    FP: int\n",
    "    TN: int\n",
    "    FN: int    \n",
    "    PPV: float\n",
    "    TPR: float\n",
    "    FDR: float\n",
    "    FPR: float\n",
    "    FOR: float\n",
    "    FNR: float\n",
    "    NPV: float\n",
    "    TNR: float"
   ]
  },
  {
   "cell_type": "markdown",
   "id": "7af72be3",
   "metadata": {},
   "source": [
    "#### Helper function to generate dataclass _cmatrix_"
   ]
  },
  {
   "cell_type": "code",
   "execution_count": 9,
   "id": "3cbcc121",
   "metadata": {},
   "outputs": [],
   "source": [
    "def gen_dataclass(actual, pred, name):\n",
    "    [TN, FP, FN, TP] = confusion_matrix(actual, pred).ravel()\n",
    "    \n",
    "\n",
    "    PPV = TP / (TP + FP)  # positive predictive value\n",
    "    FDR = FP / (TP + FP)  # false discovery rate\n",
    "    \n",
    "    TPR = TP / (TP + FN)  # true positive rate\n",
    "    FNR = FN / (TP + FN)  # false negative rate\n",
    "    \n",
    "    TNR = TN / (TN + FP)  # true negative rate\n",
    "    FPR = FP / (TN + FP)  # false positive rate\n",
    "\n",
    "    FOR = FN / (TN + FN)  # false omission rate\n",
    "    NPV = TN / (TN + FN)  # negative predictive value\n",
    "\n",
    "    \n",
    "    return cmatrix(name, TP, FP, TN, FN, PPV, TPR, FDR, FPR, FOR, FNR, NPV, TNR)"
   ]
  },
  {
   "cell_type": "markdown",
   "id": "09f7cb2f",
   "metadata": {},
   "source": [
    "#### Extract bias metrics"
   ]
  },
  {
   "cell_type": "code",
   "execution_count": 10,
   "id": "cfaba417",
   "metadata": {},
   "outputs": [],
   "source": [
    "def bias_metrics(df):\n",
    "    '''\n",
    "    - takes dataframe as input\n",
    "    - returns dataclass whose components are statistical measures from a confusion matrix\n",
    "    particular to relu, tanh, elu, and leaky relu dataframe series\n",
    "    '''\n",
    "    actual = df.target.values\n",
    "    relu = df.pred_relu.values\n",
    "    tanh = df.pred_tanh.values\n",
    "    elu = df.pred_elu.values\n",
    "    leaky = df.pred_leaky.values\n",
    "    \n",
    "    relu = gen_dataclass(actual, relu, \"relu\")\n",
    "    tanh = gen_dataclass(actual, tanh, \"tanh\")\n",
    "    elu = gen_dataclass(actual, elu, \"elu\")\n",
    "    leaky = gen_dataclass(actual, leaky, \"leaky\")\n",
    "    \n",
    "    return relu, tanh, elu, leaky"
   ]
  },
  {
   "cell_type": "markdown",
   "id": "51902b24",
   "metadata": {},
   "source": [
    "# Import Data"
   ]
  },
  {
   "cell_type": "code",
   "execution_count": 11,
   "id": "0e72e199",
   "metadata": {},
   "outputs": [],
   "source": [
    "data = pd.read_parquet(\"compas_results_mk2_FTU.parquet\")"
   ]
  },
  {
   "cell_type": "code",
   "execution_count": 12,
   "id": "b52edcff",
   "metadata": {},
   "outputs": [
    {
     "data": {
      "text/html": [
       "<div>\n",
       "<style scoped>\n",
       "    .dataframe tbody tr th:only-of-type {\n",
       "        vertical-align: middle;\n",
       "    }\n",
       "\n",
       "    .dataframe tbody tr th {\n",
       "        vertical-align: top;\n",
       "    }\n",
       "\n",
       "    .dataframe thead th {\n",
       "        text-align: right;\n",
       "    }\n",
       "</style>\n",
       "<table border=\"1\" class=\"dataframe\">\n",
       "  <thead>\n",
       "    <tr style=\"text-align: right;\">\n",
       "      <th></th>\n",
       "      <th>age</th>\n",
       "      <th>juv_fel_count</th>\n",
       "      <th>decile_score</th>\n",
       "      <th>juv_misd_count</th>\n",
       "      <th>juv_other_count</th>\n",
       "      <th>priors_count</th>\n",
       "      <th>days_b_screening_arrest</th>\n",
       "      <th>c_days_from_compas</th>\n",
       "      <th>is_recid</th>\n",
       "      <th>is_violent_recid</th>\n",
       "      <th>decile_score.1</th>\n",
       "      <th>v_decile_score</th>\n",
       "      <th>priors_count.1</th>\n",
       "      <th>start</th>\n",
       "      <th>end</th>\n",
       "      <th>sex</th>\n",
       "      <th>age_cat_25to45</th>\n",
       "      <th>age_cat_over45</th>\n",
       "      <th>age_cat_under25</th>\n",
       "      <th>race_asian</th>\n",
       "      <th>c_charge_degree</th>\n",
       "      <th>score_text_High</th>\n",
       "      <th>score_text_Low</th>\n",
       "      <th>score_text_Medium</th>\n",
       "      <th>v_score_text_High</th>\n",
       "      <th>v_score_text_Low</th>\n",
       "      <th>v_score_text_Medium</th>\n",
       "      <th>event</th>\n",
       "      <th>black</th>\n",
       "      <th>white</th>\n",
       "      <th>hispanic</th>\n",
       "      <th>native</th>\n",
       "      <th>other</th>\n",
       "      <th>target</th>\n",
       "      <th>pred_relu</th>\n",
       "      <th>pred_tanh</th>\n",
       "      <th>pred_elu</th>\n",
       "      <th>pred_leaky</th>\n",
       "    </tr>\n",
       "  </thead>\n",
       "  <tbody>\n",
       "    <tr>\n",
       "      <th>0</th>\n",
       "      <td>25</td>\n",
       "      <td>0</td>\n",
       "      <td>5</td>\n",
       "      <td>0</td>\n",
       "      <td>1</td>\n",
       "      <td>4</td>\n",
       "      <td>-1</td>\n",
       "      <td>1</td>\n",
       "      <td>1</td>\n",
       "      <td>0</td>\n",
       "      <td>5</td>\n",
       "      <td>4</td>\n",
       "      <td>4</td>\n",
       "      <td>32</td>\n",
       "      <td>304</td>\n",
       "      <td>0</td>\n",
       "      <td>1</td>\n",
       "      <td>0</td>\n",
       "      <td>0</td>\n",
       "      <td>0</td>\n",
       "      <td>1</td>\n",
       "      <td>0</td>\n",
       "      <td>0</td>\n",
       "      <td>1</td>\n",
       "      <td>0</td>\n",
       "      <td>1</td>\n",
       "      <td>0</td>\n",
       "      <td>1</td>\n",
       "      <td>1</td>\n",
       "      <td>0</td>\n",
       "      <td>0</td>\n",
       "      <td>0</td>\n",
       "      <td>0</td>\n",
       "      <td>1</td>\n",
       "      <td>1</td>\n",
       "      <td>1</td>\n",
       "      <td>1</td>\n",
       "      <td>1</td>\n",
       "    </tr>\n",
       "    <tr>\n",
       "      <th>1</th>\n",
       "      <td>35</td>\n",
       "      <td>0</td>\n",
       "      <td>4</td>\n",
       "      <td>0</td>\n",
       "      <td>0</td>\n",
       "      <td>3</td>\n",
       "      <td>-1</td>\n",
       "      <td>0</td>\n",
       "      <td>1</td>\n",
       "      <td>0</td>\n",
       "      <td>4</td>\n",
       "      <td>4</td>\n",
       "      <td>3</td>\n",
       "      <td>9</td>\n",
       "      <td>462</td>\n",
       "      <td>0</td>\n",
       "      <td>1</td>\n",
       "      <td>0</td>\n",
       "      <td>0</td>\n",
       "      <td>0</td>\n",
       "      <td>0</td>\n",
       "      <td>0</td>\n",
       "      <td>1</td>\n",
       "      <td>0</td>\n",
       "      <td>0</td>\n",
       "      <td>1</td>\n",
       "      <td>0</td>\n",
       "      <td>1</td>\n",
       "      <td>0</td>\n",
       "      <td>1</td>\n",
       "      <td>0</td>\n",
       "      <td>0</td>\n",
       "      <td>0</td>\n",
       "      <td>1</td>\n",
       "      <td>1</td>\n",
       "      <td>1</td>\n",
       "      <td>1</td>\n",
       "      <td>1</td>\n",
       "    </tr>\n",
       "    <tr>\n",
       "      <th>2</th>\n",
       "      <td>32</td>\n",
       "      <td>0</td>\n",
       "      <td>4</td>\n",
       "      <td>0</td>\n",
       "      <td>0</td>\n",
       "      <td>1</td>\n",
       "      <td>0</td>\n",
       "      <td>0</td>\n",
       "      <td>0</td>\n",
       "      <td>0</td>\n",
       "      <td>4</td>\n",
       "      <td>3</td>\n",
       "      <td>1</td>\n",
       "      <td>0</td>\n",
       "      <td>1171</td>\n",
       "      <td>0</td>\n",
       "      <td>1</td>\n",
       "      <td>0</td>\n",
       "      <td>0</td>\n",
       "      <td>0</td>\n",
       "      <td>1</td>\n",
       "      <td>0</td>\n",
       "      <td>1</td>\n",
       "      <td>0</td>\n",
       "      <td>0</td>\n",
       "      <td>1</td>\n",
       "      <td>0</td>\n",
       "      <td>0</td>\n",
       "      <td>1</td>\n",
       "      <td>0</td>\n",
       "      <td>0</td>\n",
       "      <td>0</td>\n",
       "      <td>0</td>\n",
       "      <td>0</td>\n",
       "      <td>0</td>\n",
       "      <td>0</td>\n",
       "      <td>0</td>\n",
       "      <td>0</td>\n",
       "    </tr>\n",
       "    <tr>\n",
       "      <th>3</th>\n",
       "      <td>20</td>\n",
       "      <td>0</td>\n",
       "      <td>10</td>\n",
       "      <td>0</td>\n",
       "      <td>0</td>\n",
       "      <td>0</td>\n",
       "      <td>-1</td>\n",
       "      <td>1</td>\n",
       "      <td>1</td>\n",
       "      <td>1</td>\n",
       "      <td>10</td>\n",
       "      <td>10</td>\n",
       "      <td>0</td>\n",
       "      <td>3</td>\n",
       "      <td>20</td>\n",
       "      <td>0</td>\n",
       "      <td>0</td>\n",
       "      <td>0</td>\n",
       "      <td>1</td>\n",
       "      <td>0</td>\n",
       "      <td>0</td>\n",
       "      <td>1</td>\n",
       "      <td>0</td>\n",
       "      <td>0</td>\n",
       "      <td>1</td>\n",
       "      <td>0</td>\n",
       "      <td>0</td>\n",
       "      <td>1</td>\n",
       "      <td>1</td>\n",
       "      <td>0</td>\n",
       "      <td>0</td>\n",
       "      <td>0</td>\n",
       "      <td>0</td>\n",
       "      <td>1</td>\n",
       "      <td>1</td>\n",
       "      <td>1</td>\n",
       "      <td>1</td>\n",
       "      <td>1</td>\n",
       "    </tr>\n",
       "    <tr>\n",
       "      <th>4</th>\n",
       "      <td>50</td>\n",
       "      <td>0</td>\n",
       "      <td>8</td>\n",
       "      <td>0</td>\n",
       "      <td>2</td>\n",
       "      <td>24</td>\n",
       "      <td>0</td>\n",
       "      <td>1</td>\n",
       "      <td>1</td>\n",
       "      <td>1</td>\n",
       "      <td>8</td>\n",
       "      <td>8</td>\n",
       "      <td>24</td>\n",
       "      <td>32</td>\n",
       "      <td>87</td>\n",
       "      <td>0</td>\n",
       "      <td>0</td>\n",
       "      <td>1</td>\n",
       "      <td>0</td>\n",
       "      <td>0</td>\n",
       "      <td>0</td>\n",
       "      <td>1</td>\n",
       "      <td>0</td>\n",
       "      <td>0</td>\n",
       "      <td>1</td>\n",
       "      <td>0</td>\n",
       "      <td>0</td>\n",
       "      <td>0</td>\n",
       "      <td>1</td>\n",
       "      <td>0</td>\n",
       "      <td>0</td>\n",
       "      <td>0</td>\n",
       "      <td>0</td>\n",
       "      <td>1</td>\n",
       "      <td>1</td>\n",
       "      <td>1</td>\n",
       "      <td>1</td>\n",
       "      <td>1</td>\n",
       "    </tr>\n",
       "  </tbody>\n",
       "</table>\n",
       "</div>"
      ],
      "text/plain": [
       "   age  juv_fel_count  decile_score  juv_misd_count  juv_other_count  \\\n",
       "0   25              0             5               0                1   \n",
       "1   35              0             4               0                0   \n",
       "2   32              0             4               0                0   \n",
       "3   20              0            10               0                0   \n",
       "4   50              0             8               0                2   \n",
       "\n",
       "   priors_count  days_b_screening_arrest  c_days_from_compas  is_recid  \\\n",
       "0             4                       -1                   1         1   \n",
       "1             3                       -1                   0         1   \n",
       "2             1                        0                   0         0   \n",
       "3             0                       -1                   1         1   \n",
       "4            24                        0                   1         1   \n",
       "\n",
       "   is_violent_recid  decile_score.1  v_decile_score  priors_count.1  start  \\\n",
       "0                 0               5               4               4     32   \n",
       "1                 0               4               4               3      9   \n",
       "2                 0               4               3               1      0   \n",
       "3                 1              10              10               0      3   \n",
       "4                 1               8               8              24     32   \n",
       "\n",
       "    end  sex  age_cat_25to45  age_cat_over45  age_cat_under25  race_asian  \\\n",
       "0   304    0               1               0                0           0   \n",
       "1   462    0               1               0                0           0   \n",
       "2  1171    0               1               0                0           0   \n",
       "3    20    0               0               0                1           0   \n",
       "4    87    0               0               1                0           0   \n",
       "\n",
       "   c_charge_degree  score_text_High  score_text_Low  score_text_Medium  \\\n",
       "0                1                0               0                  1   \n",
       "1                0                0               1                  0   \n",
       "2                1                0               1                  0   \n",
       "3                0                1               0                  0   \n",
       "4                0                1               0                  0   \n",
       "\n",
       "   v_score_text_High  v_score_text_Low  v_score_text_Medium  event  black  \\\n",
       "0                  0                 1                    0      1      1   \n",
       "1                  0                 1                    0      1      0   \n",
       "2                  0                 1                    0      0      1   \n",
       "3                  1                 0                    0      1      1   \n",
       "4                  1                 0                    0      0      1   \n",
       "\n",
       "   white  hispanic  native  other  target  pred_relu  pred_tanh  pred_elu  \\\n",
       "0      0         0       0      0       1          1          1         1   \n",
       "1      1         0       0      0       1          1          1         1   \n",
       "2      0         0       0      0       0          0          0         0   \n",
       "3      0         0       0      0       1          1          1         1   \n",
       "4      0         0       0      0       1          1          1         1   \n",
       "\n",
       "   pred_leaky  \n",
       "0           1  \n",
       "1           1  \n",
       "2           0  \n",
       "3           1  \n",
       "4           1  "
      ]
     },
     "execution_count": 12,
     "metadata": {},
     "output_type": "execute_result"
    }
   ],
   "source": [
    "data.head()"
   ]
  },
  {
   "cell_type": "code",
   "execution_count": 13,
   "id": "9021e4e4",
   "metadata": {},
   "outputs": [
    {
     "data": {
      "text/plain": [
       "['target', 'pred_relu', 'pred_tanh', 'pred_elu', 'pred_leaky']"
      ]
     },
     "execution_count": 13,
     "metadata": {},
     "output_type": "execute_result"
    }
   ],
   "source": [
    "features = list(data.columns[-5:])\n",
    "features"
   ]
  },
  {
   "cell_type": "markdown",
   "id": "81ccf8a4",
   "metadata": {},
   "source": [
    "#### Inspect Data"
   ]
  },
  {
   "cell_type": "markdown",
   "id": "336d1cd8",
   "metadata": {},
   "source": [
    "**Note:** The following confusion matrix should return a list of four (4) numbers, with zero (0) false negatives and false positives. Example: array([100, 0, 0, 10])"
   ]
  },
  {
   "cell_type": "code",
   "execution_count": 14,
   "id": "975e6d7d",
   "metadata": {},
   "outputs": [
    {
     "data": {
      "text/plain": [
       "array([1114,    0,    0,  959])"
      ]
     },
     "execution_count": 14,
     "metadata": {},
     "output_type": "execute_result"
    }
   ],
   "source": [
    "confusion_matrix(data.target, data.target).ravel()"
   ]
  },
  {
   "cell_type": "code",
   "execution_count": 15,
   "id": "28aa2135",
   "metadata": {},
   "outputs": [
    {
     "name": "stdout",
     "output_type": "stream",
     "text": [
      "Name\t    Total   TP     FP   TN     FN\n",
      "target    :   959    959     0   1114     0\n",
      "pred_relu :  1026    910   116    998    49\n",
      "pred_tanh :   981    909    72   1042    50\n",
      "pred_elu  :   936    847    89   1025   112\n",
      "pred_leaky:  1028    917   111   1003    42\n"
     ]
    }
   ],
   "source": [
    "print(\"Name\\t    Total   TP     FP   TN     FN\")\n",
    "for f in features:\n",
    "    total = data[f].sum()\n",
    "    try:\n",
    "        [tn, fp, fn, tp] = confusion_matrix(data.target, data[f]).ravel()\n",
    "    except Exception:\n",
    "        pass\n",
    "    print(f\"{f:10s}: {total:5.0f}  {tp:5.0f} {fp:5.0f} {tn:6.0f} {fn:5.0f}\")"
   ]
  },
  {
   "cell_type": "code",
   "execution_count": 16,
   "id": "c449a7fc",
   "metadata": {},
   "outputs": [
    {
     "data": {
      "image/png": "[encoded data removed]",
      "text/plain": [
       "<Figure size 432x288 with 2 Axes>"
      ]
     },
     "metadata": {},
     "output_type": "display_data"
    }
   ],
   "source": [
    "cm_relu = confusion_matrix(data.target, data.pred_relu)\n",
    "sns.set(font_scale=1.2)\n",
    "sns.heatmap(cm_relu, annot=True, cmap=\"coolwarm\", robust=True, fmt='g')\n",
    "plt.title(\"Confusion Matrix - ReLU\")\n",
    "plt.show()"
   ]
  },
  {
   "cell_type": "code",
   "execution_count": 17,
   "id": "a99acd3f",
   "metadata": {},
   "outputs": [
    {
     "data": {
      "image/png": "[encoded data removed]",
      "text/plain": [
       "<Figure size 432x288 with 2 Axes>"
      ]
     },
     "metadata": {},
     "output_type": "display_data"
    }
   ],
   "source": [
    "cm_tanh = confusion_matrix(data.target, data.pred_tanh)\n",
    "sns.set(font_scale=1.2)\n",
    "sns.heatmap(cm_tanh, annot=True, cmap=\"Greens\", robust=True, fmt='g')\n",
    "plt.title(\"Confusion Matrix - Tanh\")\n",
    "plt.show()"
   ]
  },
  {
   "cell_type": "code",
   "execution_count": 18,
   "id": "38e1cec2",
   "metadata": {},
   "outputs": [
    {
     "data": {
      "image/png": "[encoded data removed]",
      "text/plain": [
       "<Figure size 432x288 with 2 Axes>"
      ]
     },
     "metadata": {},
     "output_type": "display_data"
    }
   ],
   "source": [
    "cm_elu = confusion_matrix(data.target, data.pred_elu)\n",
    "sns.set(font_scale=1.2)\n",
    "sns.heatmap(cm_elu, annot=True, cmap=\"Blues\", robust=True, fmt='g')\n",
    "plt.title(\"Confusion Matrix - ELU\")\n",
    "plt.show()"
   ]
  },
  {
   "cell_type": "code",
   "execution_count": 19,
   "id": "f5316ac3",
   "metadata": {},
   "outputs": [
    {
     "data": {
      "image/png": "[encoded data removed]",
      "text/plain": [
       "<Figure size 432x288 with 2 Axes>"
      ]
     },
     "metadata": {},
     "output_type": "display_data"
    }
   ],
   "source": [
    "cm_leaky = confusion_matrix(data.target, data.pred_leaky)\n",
    "sns.set(font_scale=1.2)\n",
    "sns.heatmap(cm_leaky, annot=True, fmt='g')\n",
    "plt.title(\"Confusion Matrix - Leaky ReLU\")\n",
    "plt.show()"
   ]
  },
  {
   "cell_type": "markdown",
   "id": "6b4cd523",
   "metadata": {},
   "source": [
    "## Separate by protected feature"
   ]
  },
  {
   "cell_type": "code",
   "execution_count": 20,
   "id": "d70fef33",
   "metadata": {},
   "outputs": [],
   "source": [
    "# group A : protected attribute\n",
    "# group B : other\n",
    "GroupA = data[data[\"black\"] == 1]\n",
    "GroupB = data[data[\"white\"] == 0]\n",
    "attribute = [\"black\", \"white\"]"
   ]
  },
  {
   "cell_type": "code",
   "execution_count": 21,
   "id": "610e1015",
   "metadata": {},
   "outputs": [
    {
     "data": {
      "text/plain": [
       "(1075, 38)"
      ]
     },
     "execution_count": 21,
     "metadata": {},
     "output_type": "execute_result"
    }
   ],
   "source": [
    "GroupA.shape"
   ]
  },
  {
   "cell_type": "code",
   "execution_count": 22,
   "id": "70addb86",
   "metadata": {},
   "outputs": [
    {
     "data": {
      "text/plain": [
       "(1376, 38)"
      ]
     },
     "execution_count": 22,
     "metadata": {},
     "output_type": "execute_result"
    }
   ],
   "source": [
    "GroupB.shape"
   ]
  },
  {
   "cell_type": "code",
   "execution_count": 23,
   "id": "cf7eaa9f",
   "metadata": {},
   "outputs": [
    {
     "data": {
      "text/plain": [
       "(2073, 38)"
      ]
     },
     "execution_count": 23,
     "metadata": {},
     "output_type": "execute_result"
    }
   ],
   "source": [
    "data.shape"
   ]
  },
  {
   "cell_type": "markdown",
   "id": "5075a378",
   "metadata": {},
   "source": [
    "##### Control stats, baseline"
   ]
  },
  {
   "cell_type": "code",
   "execution_count": 24,
   "id": "0edd8bfe",
   "metadata": {},
   "outputs": [],
   "source": [
    "Cr, Ct, Ce, Cl = bias_metrics(data)"
   ]
  },
  {
   "cell_type": "code",
   "execution_count": 25,
   "id": "aa4c57a0",
   "metadata": {},
   "outputs": [
    {
     "data": {
      "text/plain": [
       "0.9478623566214807"
      ]
     },
     "execution_count": 25,
     "metadata": {},
     "output_type": "execute_result"
    }
   ],
   "source": [
    "Ct.TPR"
   ]
  },
  {
   "cell_type": "markdown",
   "id": "d5f42ee4",
   "metadata": {},
   "source": [
    "##### Stats for Group A and Group B dataframes"
   ]
  },
  {
   "cell_type": "code",
   "execution_count": 26,
   "id": "f034d542",
   "metadata": {},
   "outputs": [],
   "source": [
    "Ar, At, Ae, Al = bias_metrics(GroupA)\n",
    "Br, Bt, Be, Bl = bias_metrics(GroupB)"
   ]
  },
  {
   "cell_type": "code",
   "execution_count": 27,
   "id": "70f59e62",
   "metadata": {},
   "outputs": [
    {
     "data": {
      "text/plain": [
       "0.9609236234458259"
      ]
     },
     "execution_count": 27,
     "metadata": {},
     "output_type": "execute_result"
    }
   ],
   "source": [
    "At.TPR"
   ]
  },
  {
   "cell_type": "markdown",
   "id": "cee911ac",
   "metadata": {},
   "source": [
    "# Bias Testing"
   ]
  },
  {
   "cell_type": "markdown",
   "id": "64c2749b",
   "metadata": {},
   "source": [
    "#### Predictive parity"
   ]
  },
  {
   "cell_type": "markdown",
   "id": "c46800c4",
   "metadata": {},
   "source": [
    "Compares precision (or positive predictive value, PPV) between group with protected attribute and without protected attribute. In this instance female group with male group"
   ]
  },
  {
   "cell_type": "code",
   "execution_count": 28,
   "id": "af0e192c",
   "metadata": {},
   "outputs": [],
   "source": [
    "pp = [\n",
    "    Ar.PPV == Br.PPV,\n",
    "    At.PPV == Bt.PPV,\n",
    "    Ae.PPV == Be.PPV,\n",
    "    Al.PPV == Bl.PPV\n",
    "]"
   ]
  },
  {
   "cell_type": "code",
   "execution_count": 29,
   "id": "40791129",
   "metadata": {},
   "outputs": [],
   "source": [
    "pp_diff_r = 1 - (min(Ar.PPV,Br.PPV)/ max(Ar.PPV, Br.PPV))\n",
    "pp_diff_t = 1 - (min(At.PPV, Bt.PPV)/ max(At.PPV, Bt.PPV))\n",
    "pp_diff_e = 1 - (min(Ae.PPV, Be.PPV)/ max(Ae.PPV, Be.PPV))\n",
    "pp_diff_l = 1 - (min(Al.PPV, Bl.PPV)/ max(Al.PPV, Bl.PPV))"
   ]
  },
  {
   "cell_type": "code",
   "execution_count": 30,
   "id": "35b8ac1b",
   "metadata": {},
   "outputs": [
    {
     "name": "stdout",
     "output_type": "stream",
     "text": [
      "Predictive parity -\n",
      "Name\tPPV\tFDR\tPPV        FDR       Difference\n",
      "relu\tFalse\tFalse\t0.87825\t   0.87929\t0.00118\n",
      "tanh\tFalse\tFalse\t0.92479\t   0.92075\t0.00437\n",
      "elu\tFalse\tFalse\t0.89175\t   0.89396\t0.00247\n",
      "leaky\tFalse\tFalse\t0.88103\t   0.88388\t0.00323\n"
     ]
    }
   ],
   "source": [
    "print(\"Predictive parity -\")\n",
    "one = \"PPV\"\n",
    "two = \"FDR\"\n",
    "print(f\"Name\\t{one}\\t{two}\\t{one:11s}{two:10s}Difference\")\n",
    "print(f\"{Ar.name}\\t{pp[0]}\\t{Ar.FDR == Br.FDR}\\t{Ar.PPV:0.5f}\\t{Br.PPV:10.5f}\\t{pp_diff_r:0.5f}\")\n",
    "print(f\"{At.name}\\t{pp[1]}\\t{At.FDR == Bt.FDR}\\t{At.PPV:0.5f}\\t{Bt.PPV:10.5f}\\t{pp_diff_t:0.5f}\")\n",
    "print(f\"{Ae.name}\\t{pp[2]}\\t{Ae.FDR == Be.FDR}\\t{Ae.PPV:0.5f}\\t{Be.PPV:10.5f}\\t{pp_diff_e:0.5f}\")\n",
    "print(f\"{Al.name}\\t{pp[3]}\\t{Al.FDR == Bl.FDR}\\t{Al.PPV:0.5f}\\t{Bl.PPV:10.5f}\\t{pp_diff_l:0.5f}\")"
   ]
  },
  {
   "cell_type": "code",
   "execution_count": 31,
   "id": "e257916a",
   "metadata": {},
   "outputs": [
    {
     "data": {
      "text/plain": [
       "cmatrix(name='relu', TP=910, FP=116, TN=998, FN=49, PPV=0.8869395711500975, TPR=0.948905109489051, FDR=0.11306042884990253, FPR=0.10412926391382406, FOR=0.04680038204393505, FNR=0.051094890510948905, NPV=0.9531996179560649, TNR=0.895870736086176)"
      ]
     },
     "execution_count": 31,
     "metadata": {},
     "output_type": "execute_result"
    }
   ],
   "source": [
    "Cr"
   ]
  },
  {
   "cell_type": "markdown",
   "id": "30cdc690",
   "metadata": {},
   "source": [
    "#### Predictive Equality"
   ]
  },
  {
   "cell_type": "markdown",
   "id": "a625cf1f",
   "metadata": {},
   "source": [
    "Also called the False Positive Error Balance, this metric considers compares the false positive rates (FPR) between groups."
   ]
  },
  {
   "cell_type": "code",
   "execution_count": 32,
   "id": "69df0746",
   "metadata": {},
   "outputs": [],
   "source": [
    "pe = [\n",
    "    Ar.FPR == Br.FPR,\n",
    "    At.FPR == Bt.FPR,\n",
    "    Ae.FPR == Be.FPR,\n",
    "    Al.FPR == Bl.FPR    \n",
    "]"
   ]
  },
  {
   "cell_type": "code",
   "execution_count": 33,
   "id": "ef5b4827",
   "metadata": {},
   "outputs": [],
   "source": [
    "pe_diff_r = 1-(min(Ar.FPR, Br.FPR)/max(Ar.FPR, Br.FPR))\n",
    "pe_diff_t = 1-(min(At.FPR, Bt.FPR)/max(At.FPR, Bt.FPR))\n",
    "pe_diff_e = 1-(min(Ae.FPR, Be.FPR)/max(Ae.FPR, Be.FPR))\n",
    "pe_diff_l = 1-(min(Al.FPR, Bl.FPR)/max(Al.FPR, Bl.FPR))"
   ]
  },
  {
   "cell_type": "code",
   "execution_count": 34,
   "id": "6103f370",
   "metadata": {},
   "outputs": [
    {
     "name": "stdout",
     "output_type": "stream",
     "text": [
      "Predictive equality -\n",
      "Name\tFPR\tTNR\tFPR        TNR       \tDifference\n",
      "relu\tFalse\tFalse\t0.14648\t   0.12429\t0.15149\n",
      "tanh\tFalse\tFalse\t0.08594\t   0.07768\t0.09605\n",
      "elu\tFalse\tFalse\t0.12305\t   0.10169\t0.17353\n",
      "leaky\tFalse\tFalse\t0.14453\t   0.12006\t0.16934\n"
     ]
    }
   ],
   "source": [
    "print(\"Predictive equality -\")\n",
    "one = \"FPR\"\n",
    "two = \"TNR\"\n",
    "print(f\"Name\\t{one}\\t{two}\\t{one:11s}{two:10s}\\tDifference\")\n",
    "print(f\"{Ar.name}\\t{pe[0]}\\t{Ar.TNR == Br.TNR}\\t{Ar.FPR:0.5f}\\t{Br.FPR:10.5f}\\t{pe_diff_r:0.5f}\")\n",
    "print(f\"{At.name}\\t{pe[1]}\\t{At.TNR == Bt.TNR}\\t{At.FPR:0.5f}\\t{Bt.FPR:10.5f}\\t{pe_diff_t:0.5f}\")\n",
    "print(f\"{Ae.name}\\t{pe[2]}\\t{Ae.TNR == Be.TNR}\\t{Ae.FPR:0.5f}\\t{Be.FPR:10.5f}\\t{pe_diff_e:0.5f}\")\n",
    "print(f\"{Al.name}\\t{pe[3]}\\t{Al.TNR == Bl.TNR}\\t{Al.FPR:0.5f}\\t{Bl.FPR:10.5f}\\t{pe_diff_l:0.5f}\")"
   ]
  },
  {
   "cell_type": "markdown",
   "id": "10289016",
   "metadata": {},
   "source": [
    "#### Equal opportunity"
   ]
  },
  {
   "cell_type": "markdown",
   "id": "f0cc4129",
   "metadata": {},
   "source": [
    "Equal Opportunity entails equal false negative rates (FNR) between groups. Mathematically, true postive rates (TPR) should also be equal."
   ]
  },
  {
   "cell_type": "code",
   "execution_count": 35,
   "id": "5bcbd5cc",
   "metadata": {},
   "outputs": [],
   "source": [
    "eo = [\n",
    "    Ar.FNR == Br.FNR,\n",
    "    At.FNR == Bt.FNR,\n",
    "    Ae.FNR == Be.FNR,\n",
    "    Al.FNR == Bl.FNR\n",
    "]"
   ]
  },
  {
   "cell_type": "code",
   "execution_count": 36,
   "id": "1bcae7e3",
   "metadata": {},
   "outputs": [],
   "source": [
    "eo_diff_r = 1 - (min(Ar.FNR, Br.FNR) / max(Ar.FNR, Br.FNR))\n",
    "eo_diff_t = 1 - (min(At.FNR, Bt.FNR) / max(At.FNR, Bt.FNR))\n",
    "eo_diff_e = 1 - (min(Ae.FNR, Be.FNR) / max(Ae.FNR, Be.FNR))\n",
    "eo_diff_l = 1 - (min(Al.FNR, Bl.FNR) / max(Al.FNR, Bl.FNR))"
   ]
  },
  {
   "cell_type": "code",
   "execution_count": 37,
   "id": "f6c29bb4",
   "metadata": {},
   "outputs": [
    {
     "name": "stdout",
     "output_type": "stream",
     "text": [
      "Predictive parity -\n",
      "Name\tFNR\tTPR\tFNR        TPR       Difference\n",
      "relu\tFalse\tFalse\t0.03908\t   0.04042\t0.03322\n",
      "tanh\tFalse\tFalse\t0.03908\t   0.04341\t0.09990\n",
      "elu\tFalse\tFalse\t0.07815\t   0.09132\t0.14416\n",
      "leaky\tFalse\tFalse\t0.02664\t   0.03144\t0.15250\n"
     ]
    }
   ],
   "source": [
    "print(\"Predictive parity -\")\n",
    "one = \"FNR\"\n",
    "two = \"TPR\"\n",
    "print(f\"Name\\t{one}\\t{two}\\t{one:11s}{two:10s}Difference\")\n",
    "print(f\"{Ar.name}\\t{eo[0]}\\t{Ar.TPR == Br.TPR}\\t{Ar.FNR:0.5f}\\t{Br.FNR:10.5f}\\t{eo_diff_r:0.5f}\")\n",
    "print(f\"{At.name}\\t{eo[1]}\\t{At.TPR == Bt.TPR}\\t{At.FNR:0.5f}\\t{Bt.FNR:10.5f}\\t{eo_diff_t:0.5f}\")\n",
    "print(f\"{Ae.name}\\t{eo[2]}\\t{Ae.TPR == Be.TPR}\\t{Ae.FNR:0.5f}\\t{Be.FNR:10.5f}\\t{eo_diff_e:0.5f}\")\n",
    "print(f\"{Al.name}\\t{eo[3]}\\t{Al.TPR == Bl.TPR}\\t{Al.FNR:0.5f}\\t{Bl.FNR:10.5f}\\t{eo_diff_l:0.5f}\")"
   ]
  },
  {
   "cell_type": "markdown",
   "id": "49e78e84",
   "metadata": {},
   "source": [
    "#### Statistical Parity"
   ]
  },
  {
   "cell_type": "markdown",
   "id": "d418e9b9",
   "metadata": {},
   "source": [
    "Statistical Parity compares the accuracy of different groups."
   ]
  },
  {
   "cell_type": "code",
   "execution_count": 38,
   "id": "51ac8fef",
   "metadata": {},
   "outputs": [],
   "source": [
    "Ar_acc = (Ar.TP + Ar.TN) / (Ar.TP + Ar.TN + Ar.FP + Ar.FN)\n",
    "Br_acc = (Br.TP + Br.TN) / (Br.TP + Br.TN +Br.FP + Br.FN)\n",
    "r_diff = 1 - (min(Ar_acc, Br_acc) / max(Ar_acc, Br_acc))"
   ]
  },
  {
   "cell_type": "code",
   "execution_count": 39,
   "id": "0a664c0d",
   "metadata": {},
   "outputs": [],
   "source": [
    "At_acc = (At.TP + At.TN) / (At.TP + At.TN + At.FP + At.FN)\n",
    "Bt_acc = (Bt.TP + Bt.TN) / (Bt.TP + Bt.TN + Bt.FP + Bt.FN)\n",
    "t_diff = 1 - (min(At_acc, Bt_acc) / max(At_acc, Bt_acc))"
   ]
  },
  {
   "cell_type": "code",
   "execution_count": 40,
   "id": "d30d7131",
   "metadata": {},
   "outputs": [],
   "source": [
    "Ae_acc = (Ae.TP + Ae.TN) / (Ae.TP + Ae.TN + Ae.FP + Ae.FN)\n",
    "Be_acc = (Be.TP + Be.TN) / (Be.TP + Be.TN + Be.FP + Be.FN)\n",
    "e_diff = 1 - (min(Ae_acc, Be_acc) / max(Ae_acc, Be_acc))"
   ]
  },
  {
   "cell_type": "code",
   "execution_count": 41,
   "id": "269c3a68",
   "metadata": {},
   "outputs": [],
   "source": [
    "Al_acc = (Al.TP + Al.TN) / (Al.TP + Al.TN + Al.FP + Al.FN)\n",
    "Bl_acc = (Bl.TP + Bl.TN) / (Bl.TP + Bl.TN + Bl.FP + Bl.FN)\n",
    "l_diff = 1 - (min(Al_acc, Bl_acc) / max(Al_acc, Bl_acc))"
   ]
  },
  {
   "cell_type": "code",
   "execution_count": 42,
   "id": "4f655acb",
   "metadata": {},
   "outputs": [],
   "source": [
    "sp = [\n",
    "    Ar_acc == Br_acc,\n",
    "    At_acc == Bt_acc,\n",
    "    Ae_acc == Be_acc,\n",
    "    Al_acc == Bl_acc\n",
    "]"
   ]
  },
  {
   "cell_type": "code",
   "execution_count": 43,
   "id": "7a575ed2",
   "metadata": {},
   "outputs": [
    {
     "name": "stdout",
     "output_type": "stream",
     "text": [
      "Statistical Parity\n",
      "Name\tEqual\tACC-B      ACC-W\tDifference\n",
      "relu\tFalse\t0.90977\t   0.91642\t0.00726\n",
      "tanh\tFalse\t0.93860\t   0.93895\t0.00037\n",
      "elu\tFalse\t0.90047\t   0.90334\t0.00319\n",
      "leaky\tFalse\t0.91721\t   0.92297\t0.00624\n"
     ]
    }
   ],
   "source": [
    "print(\"Statistical Parity\")\n",
    "one = f\"ACC-{attribute[0][0].capitalize()}\"\n",
    "two = f\"ACC-{attribute[1][0].capitalize()}\"\n",
    "print(f\"Name\\tEqual\\t{one:11s}{two}\\tDifference\")\n",
    "print(f\"{Ar.name}\\t{sp[0]}\\t{Ar_acc:0.5f}\\t{Br_acc:10.5f}\\t{r_diff:0.5f}\")\n",
    "print(f\"{At.name}\\t{sp[1]}\\t{At_acc:0.5f}\\t{Bt_acc:10.5f}\\t{t_diff:0.5f}\")\n",
    "print(f\"{Ae.name}\\t{sp[2]}\\t{Ae_acc:0.5f}\\t{Be_acc:10.5f}\\t{e_diff:0.5f}\")\n",
    "print(f\"{Al.name}\\t{sp[3]}\\t{Al_acc:0.5f}\\t{Bl_acc:10.5f}\\t{l_diff:0.5f}\")"
   ]
  },
  {
   "cell_type": "code",
   "execution_count": 44,
   "id": "8c3d21a6",
   "metadata": {},
   "outputs": [],
   "source": [
    "Aset = GroupA.iloc[:,-5:]\n",
    "Bset = GroupB.iloc[:,-5:]\n",
    "base = data.iloc[:,-5:]"
   ]
  },
  {
   "cell_type": "markdown",
   "id": "bfa15ecf",
   "metadata": {},
   "source": [
    "#### Compare Variances"
   ]
  },
  {
   "cell_type": "code",
   "execution_count": 45,
   "id": "3e2997ab",
   "metadata": {},
   "outputs": [
    {
     "data": {
      "text/plain": [
       "target        0.249437\n",
       "pred_relu     0.244668\n",
       "pred_tanh     0.248048\n",
       "pred_elu      0.248286\n",
       "pred_leaky    0.243821\n",
       "dtype: float64"
      ]
     },
     "execution_count": 45,
     "metadata": {},
     "output_type": "execute_result"
    }
   ],
   "source": [
    "np.var(Aset)"
   ]
  },
  {
   "cell_type": "code",
   "execution_count": 46,
   "id": "f904f519",
   "metadata": {},
   "outputs": [
    {
     "data": {
      "text/plain": [
       "target        0.249789\n",
       "pred_relu     0.249112\n",
       "pred_tanh     0.249981\n",
       "pred_elu      0.249957\n",
       "pred_leaky    0.248977\n",
       "dtype: float64"
      ]
     },
     "execution_count": 46,
     "metadata": {},
     "output_type": "execute_result"
    }
   ],
   "source": [
    "np.var(Bset)"
   ]
  },
  {
   "cell_type": "code",
   "execution_count": 47,
   "id": "c7897766",
   "metadata": {},
   "outputs": [
    {
     "data": {
      "text/plain": [
       "target        0.248602\n",
       "pred_relu     0.249974\n",
       "pred_tanh     0.249283\n",
       "pred_elu      0.247650\n",
       "pred_leaky    0.249983\n",
       "dtype: float64"
      ]
     },
     "execution_count": 47,
     "metadata": {},
     "output_type": "execute_result"
    }
   ],
   "source": [
    "np.var(base)"
   ]
  },
  {
   "cell_type": "code",
   "execution_count": 48,
   "id": "e089011d",
   "metadata": {},
   "outputs": [
    {
     "data": {
      "text/plain": [
       "target        False\n",
       "pred_relu     False\n",
       "pred_tanh     False\n",
       "pred_elu      False\n",
       "pred_leaky    False\n",
       "dtype: bool"
      ]
     },
     "execution_count": 48,
     "metadata": {},
     "output_type": "execute_result"
    }
   ],
   "source": [
    "np.var(base) == np.var(Aset)"
   ]
  },
  {
   "cell_type": "code",
   "execution_count": 49,
   "id": "cbcc1ea4",
   "metadata": {},
   "outputs": [
    {
     "data": {
      "text/plain": [
       "target        False\n",
       "pred_relu     False\n",
       "pred_tanh     False\n",
       "pred_elu      False\n",
       "pred_leaky    False\n",
       "dtype: bool"
      ]
     },
     "execution_count": 49,
     "metadata": {},
     "output_type": "execute_result"
    }
   ],
   "source": [
    "np.var(base) == np.var(Bset)"
   ]
  },
  {
   "cell_type": "code",
   "execution_count": 50,
   "id": "79de316e",
   "metadata": {},
   "outputs": [
    {
     "data": {
      "text/plain": [
       "target        False\n",
       "pred_relu     False\n",
       "pred_tanh     False\n",
       "pred_elu      False\n",
       "pred_leaky    False\n",
       "dtype: bool"
      ]
     },
     "execution_count": 50,
     "metadata": {},
     "output_type": "execute_result"
    }
   ],
   "source": [
    "np.var(Aset) == np.var(Bset)"
   ]
  },
  {
   "cell_type": "markdown",
   "id": "53ccfce8",
   "metadata": {},
   "source": [
    "# Hypothesis Testing"
   ]
  },
  {
   "cell_type": "markdown",
   "id": "fc12cb64",
   "metadata": {},
   "source": [
    "### Actual results"
   ]
  },
  {
   "cell_type": "markdown",
   "id": "3993d277",
   "metadata": {},
   "source": [
    "#### Control and Group A"
   ]
  },
  {
   "cell_type": "code",
   "execution_count": 51,
   "id": "6a16e45e",
   "metadata": {},
   "outputs": [
    {
     "name": "stdout",
     "output_type": "stream",
     "text": [
      "Control and Black\n"
     ]
    },
    {
     "data": {
      "text/html": [
       "<div>\n",
       "<style scoped>\n",
       "    .dataframe tbody tr th:only-of-type {\n",
       "        vertical-align: middle;\n",
       "    }\n",
       "\n",
       "    .dataframe tbody tr th {\n",
       "        vertical-align: top;\n",
       "    }\n",
       "\n",
       "    .dataframe thead th {\n",
       "        text-align: right;\n",
       "    }\n",
       "</style>\n",
       "<table border=\"1\" class=\"dataframe\">\n",
       "  <thead>\n",
       "    <tr style=\"text-align: right;\">\n",
       "      <th></th>\n",
       "      <th>Welch's t-test</th>\n",
       "      <th>results</th>\n",
       "    </tr>\n",
       "  </thead>\n",
       "  <tbody>\n",
       "    <tr>\n",
       "      <th>2</th>\n",
       "      <td>t =</td>\n",
       "      <td>-3.2559</td>\n",
       "    </tr>\n",
       "    <tr>\n",
       "      <th>3</th>\n",
       "      <td>Two side test p value =</td>\n",
       "      <td>0.0011</td>\n",
       "    </tr>\n",
       "  </tbody>\n",
       "</table>\n",
       "</div>"
      ],
      "text/plain": [
       "             Welch's t-test  results\n",
       "2                      t =   -3.2559\n",
       "3  Two side test p value =    0.0011"
      ]
     },
     "execution_count": 51,
     "metadata": {},
     "output_type": "execute_result"
    }
   ],
   "source": [
    "print(f\"Control and {attribute[0].capitalize()}\")\n",
    "rp.ttest(base[\"target\"], Aset[\"target\"], equal_variances=False)[1][2:4]"
   ]
  },
  {
   "cell_type": "markdown",
   "id": "0a512f22",
   "metadata": {},
   "source": [
    "#### Control and Group B"
   ]
  },
  {
   "cell_type": "code",
   "execution_count": 52,
   "id": "44e6d9eb",
   "metadata": {},
   "outputs": [
    {
     "name": "stdout",
     "output_type": "stream",
     "text": [
      "Baseline and White\n"
     ]
    },
    {
     "data": {
      "text/html": [
       "<div>\n",
       "<style scoped>\n",
       "    .dataframe tbody tr th:only-of-type {\n",
       "        vertical-align: middle;\n",
       "    }\n",
       "\n",
       "    .dataframe tbody tr th {\n",
       "        vertical-align: top;\n",
       "    }\n",
       "\n",
       "    .dataframe thead th {\n",
       "        text-align: right;\n",
       "    }\n",
       "</style>\n",
       "<table border=\"1\" class=\"dataframe\">\n",
       "  <thead>\n",
       "    <tr style=\"text-align: right;\">\n",
       "      <th></th>\n",
       "      <th>Welch's t-test</th>\n",
       "      <th>results</th>\n",
       "    </tr>\n",
       "  </thead>\n",
       "  <tbody>\n",
       "    <tr>\n",
       "      <th>2</th>\n",
       "      <td>t =</td>\n",
       "      <td>-1.3157</td>\n",
       "    </tr>\n",
       "    <tr>\n",
       "      <th>3</th>\n",
       "      <td>Two side test p value =</td>\n",
       "      <td>0.1884</td>\n",
       "    </tr>\n",
       "  </tbody>\n",
       "</table>\n",
       "</div>"
      ],
      "text/plain": [
       "             Welch's t-test  results\n",
       "2                      t =   -1.3157\n",
       "3  Two side test p value =    0.1884"
      ]
     },
     "execution_count": 52,
     "metadata": {},
     "output_type": "execute_result"
    }
   ],
   "source": [
    "print(f\"Baseline and {attribute[1].capitalize()}\")\n",
    "rp.ttest(base[\"target\"], Bset[\"target\"], equal_variances=False)[1][2:4]"
   ]
  },
  {
   "cell_type": "markdown",
   "id": "8bb9b5ea",
   "metadata": {},
   "source": [
    "#### Group A and Group B"
   ]
  },
  {
   "cell_type": "code",
   "execution_count": 53,
   "id": "67bf2b58",
   "metadata": {},
   "outputs": [
    {
     "name": "stdout",
     "output_type": "stream",
     "text": [
      "Black and White\n"
     ]
    },
    {
     "data": {
      "text/html": [
       "<div>\n",
       "<style scoped>\n",
       "    .dataframe tbody tr th:only-of-type {\n",
       "        vertical-align: middle;\n",
       "    }\n",
       "\n",
       "    .dataframe tbody tr th {\n",
       "        vertical-align: top;\n",
       "    }\n",
       "\n",
       "    .dataframe thead th {\n",
       "        text-align: right;\n",
       "    }\n",
       "</style>\n",
       "<table border=\"1\" class=\"dataframe\">\n",
       "  <thead>\n",
       "    <tr style=\"text-align: right;\">\n",
       "      <th></th>\n",
       "      <th>Welch's t-test</th>\n",
       "      <th>results</th>\n",
       "    </tr>\n",
       "  </thead>\n",
       "  <tbody>\n",
       "    <tr>\n",
       "      <th>2</th>\n",
       "      <td>t =</td>\n",
       "      <td>1.8804</td>\n",
       "    </tr>\n",
       "    <tr>\n",
       "      <th>3</th>\n",
       "      <td>Two side test p value =</td>\n",
       "      <td>0.0602</td>\n",
       "    </tr>\n",
       "  </tbody>\n",
       "</table>\n",
       "</div>"
      ],
      "text/plain": [
       "             Welch's t-test  results\n",
       "2                      t =    1.8804\n",
       "3  Two side test p value =    0.0602"
      ]
     },
     "execution_count": 53,
     "metadata": {},
     "output_type": "execute_result"
    }
   ],
   "source": [
    "print(f\"{attribute[0].capitalize()} and {attribute[1].capitalize()}\")\n",
    "rp.ttest(Aset[\"target\"], Bset[\"target\"], equal_variances=False)[1][2:4]"
   ]
  },
  {
   "cell_type": "markdown",
   "id": "7ecbc6ce",
   "metadata": {},
   "source": [
    "### Tanh Results"
   ]
  },
  {
   "cell_type": "markdown",
   "id": "f6a6ed62",
   "metadata": {},
   "source": [
    "#### Control and Group A"
   ]
  },
  {
   "cell_type": "code",
   "execution_count": 54,
   "id": "68846ed8",
   "metadata": {
    "scrolled": true
   },
   "outputs": [
    {
     "name": "stdout",
     "output_type": "stream",
     "text": [
      "Control and Black\n"
     ]
    },
    {
     "data": {
      "text/html": [
       "<div>\n",
       "<style scoped>\n",
       "    .dataframe tbody tr th:only-of-type {\n",
       "        vertical-align: middle;\n",
       "    }\n",
       "\n",
       "    .dataframe tbody tr th {\n",
       "        vertical-align: top;\n",
       "    }\n",
       "\n",
       "    .dataframe thead th {\n",
       "        text-align: right;\n",
       "    }\n",
       "</style>\n",
       "<table border=\"1\" class=\"dataframe\">\n",
       "  <thead>\n",
       "    <tr style=\"text-align: right;\">\n",
       "      <th></th>\n",
       "      <th>Welch's t-test</th>\n",
       "      <th>results</th>\n",
       "    </tr>\n",
       "  </thead>\n",
       "  <tbody>\n",
       "    <tr>\n",
       "      <th>2</th>\n",
       "      <td>t =</td>\n",
       "      <td>-3.7861</td>\n",
       "    </tr>\n",
       "    <tr>\n",
       "      <th>3</th>\n",
       "      <td>Two side test p value =</td>\n",
       "      <td>0.0002</td>\n",
       "    </tr>\n",
       "  </tbody>\n",
       "</table>\n",
       "</div>"
      ],
      "text/plain": [
       "             Welch's t-test  results\n",
       "2                      t =   -3.7861\n",
       "3  Two side test p value =    0.0002"
      ]
     },
     "execution_count": 54,
     "metadata": {},
     "output_type": "execute_result"
    }
   ],
   "source": [
    "print(f\"Control and {attribute[0].capitalize()}\")\n",
    "rp.ttest(base[\"pred_tanh\"], Aset[\"pred_tanh\"], equal_variances=False)[1][2:4]"
   ]
  },
  {
   "cell_type": "markdown",
   "id": "ef80e4f2",
   "metadata": {},
   "source": [
    "#### Control and Group B"
   ]
  },
  {
   "cell_type": "code",
   "execution_count": 55,
   "id": "51e29e8c",
   "metadata": {},
   "outputs": [
    {
     "name": "stdout",
     "output_type": "stream",
     "text": [
      "Control and White\n"
     ]
    },
    {
     "data": {
      "text/html": [
       "<div>\n",
       "<style scoped>\n",
       "    .dataframe tbody tr th:only-of-type {\n",
       "        vertical-align: middle;\n",
       "    }\n",
       "\n",
       "    .dataframe tbody tr th {\n",
       "        vertical-align: top;\n",
       "    }\n",
       "\n",
       "    .dataframe thead th {\n",
       "        text-align: right;\n",
       "    }\n",
       "</style>\n",
       "<table border=\"1\" class=\"dataframe\">\n",
       "  <thead>\n",
       "    <tr style=\"text-align: right;\">\n",
       "      <th></th>\n",
       "      <th>Welch's t-test</th>\n",
       "      <th>results</th>\n",
       "    </tr>\n",
       "  </thead>\n",
       "  <tbody>\n",
       "    <tr>\n",
       "      <th>2</th>\n",
       "      <td>t =</td>\n",
       "      <td>-1.7912</td>\n",
       "    </tr>\n",
       "    <tr>\n",
       "      <th>3</th>\n",
       "      <td>Two side test p value =</td>\n",
       "      <td>0.0734</td>\n",
       "    </tr>\n",
       "  </tbody>\n",
       "</table>\n",
       "</div>"
      ],
      "text/plain": [
       "             Welch's t-test  results\n",
       "2                      t =   -1.7912\n",
       "3  Two side test p value =    0.0734"
      ]
     },
     "execution_count": 55,
     "metadata": {},
     "output_type": "execute_result"
    }
   ],
   "source": [
    "print(f\"Control and {attribute[1].capitalize()}\")\n",
    "rp.ttest(base[\"pred_tanh\"], Bset[\"pred_tanh\"], equal_variances=False)[1][2:4]"
   ]
  },
  {
   "cell_type": "markdown",
   "id": "ecc2c490",
   "metadata": {},
   "source": [
    "#### Group A and Group B"
   ]
  },
  {
   "cell_type": "code",
   "execution_count": 56,
   "id": "81c6bba0",
   "metadata": {},
   "outputs": [
    {
     "name": "stdout",
     "output_type": "stream",
     "text": [
      "Black and White\n"
     ]
    },
    {
     "data": {
      "text/html": [
       "<div>\n",
       "<style scoped>\n",
       "    .dataframe tbody tr th:only-of-type {\n",
       "        vertical-align: middle;\n",
       "    }\n",
       "\n",
       "    .dataframe tbody tr th {\n",
       "        vertical-align: top;\n",
       "    }\n",
       "\n",
       "    .dataframe thead th {\n",
       "        text-align: right;\n",
       "    }\n",
       "</style>\n",
       "<table border=\"1\" class=\"dataframe\">\n",
       "  <thead>\n",
       "    <tr style=\"text-align: right;\">\n",
       "      <th></th>\n",
       "      <th>Welch's t-test</th>\n",
       "      <th>results</th>\n",
       "    </tr>\n",
       "  </thead>\n",
       "  <tbody>\n",
       "    <tr>\n",
       "      <th>2</th>\n",
       "      <td>t =</td>\n",
       "      <td>1.9603</td>\n",
       "    </tr>\n",
       "    <tr>\n",
       "      <th>3</th>\n",
       "      <td>Two side test p value =</td>\n",
       "      <td>0.0501</td>\n",
       "    </tr>\n",
       "  </tbody>\n",
       "</table>\n",
       "</div>"
      ],
      "text/plain": [
       "             Welch's t-test  results\n",
       "2                      t =    1.9603\n",
       "3  Two side test p value =    0.0501"
      ]
     },
     "execution_count": 56,
     "metadata": {},
     "output_type": "execute_result"
    }
   ],
   "source": [
    "print(f\"{attribute[0].capitalize()} and {attribute[1].capitalize()}\")\n",
    "rp.ttest(Aset[\"pred_tanh\"], Bset[\"pred_tanh\"], equal_variances=False)[1][2:4]"
   ]
  },
  {
   "cell_type": "markdown",
   "id": "bb09a220",
   "metadata": {},
   "source": [
    "### ELU Results"
   ]
  },
  {
   "cell_type": "markdown",
   "id": "977fe576",
   "metadata": {},
   "source": [
    "#### Control and Group A"
   ]
  },
  {
   "cell_type": "code",
   "execution_count": 57,
   "id": "db793aba",
   "metadata": {},
   "outputs": [
    {
     "name": "stdout",
     "output_type": "stream",
     "text": [
      "Control and Black\n"
     ]
    },
    {
     "data": {
      "text/html": [
       "<div>\n",
       "<style scoped>\n",
       "    .dataframe tbody tr th:only-of-type {\n",
       "        vertical-align: middle;\n",
       "    }\n",
       "\n",
       "    .dataframe tbody tr th {\n",
       "        vertical-align: top;\n",
       "    }\n",
       "\n",
       "    .dataframe thead th {\n",
       "        text-align: right;\n",
       "    }\n",
       "</style>\n",
       "<table border=\"1\" class=\"dataframe\">\n",
       "  <thead>\n",
       "    <tr style=\"text-align: right;\">\n",
       "      <th></th>\n",
       "      <th>Welch's t-test</th>\n",
       "      <th>results</th>\n",
       "    </tr>\n",
       "  </thead>\n",
       "  <tbody>\n",
       "    <tr>\n",
       "      <th>2</th>\n",
       "      <td>t =</td>\n",
       "      <td>4.7993</td>\n",
       "    </tr>\n",
       "    <tr>\n",
       "      <th>3</th>\n",
       "      <td>Two side test p value =</td>\n",
       "      <td>0.0000</td>\n",
       "    </tr>\n",
       "  </tbody>\n",
       "</table>\n",
       "</div>"
      ],
      "text/plain": [
       "             Welch's t-test  results\n",
       "2                      t =    4.7993\n",
       "3  Two side test p value =    0.0000"
      ]
     },
     "execution_count": 57,
     "metadata": {},
     "output_type": "execute_result"
    }
   ],
   "source": [
    "print(f\"Control and {attribute[0].capitalize()}\")\n",
    "rp.ttest(Aset[\"pred_elu\"], base[\"pred_elu\"], equal_variances=False)[1][2:4]"
   ]
  },
  {
   "cell_type": "markdown",
   "id": "0d37f9c2",
   "metadata": {},
   "source": [
    "#### Control and Group B"
   ]
  },
  {
   "cell_type": "code",
   "execution_count": 58,
   "id": "6f6a26db",
   "metadata": {},
   "outputs": [
    {
     "name": "stdout",
     "output_type": "stream",
     "text": [
      "Control and White\n"
     ]
    },
    {
     "data": {
      "text/html": [
       "<div>\n",
       "<style scoped>\n",
       "    .dataframe tbody tr th:only-of-type {\n",
       "        vertical-align: middle;\n",
       "    }\n",
       "\n",
       "    .dataframe tbody tr th {\n",
       "        vertical-align: top;\n",
       "    }\n",
       "\n",
       "    .dataframe thead th {\n",
       "        text-align: right;\n",
       "    }\n",
       "</style>\n",
       "<table border=\"1\" class=\"dataframe\">\n",
       "  <thead>\n",
       "    <tr style=\"text-align: right;\">\n",
       "      <th></th>\n",
       "      <th>Welch's t-test</th>\n",
       "      <th>results</th>\n",
       "    </tr>\n",
       "  </thead>\n",
       "  <tbody>\n",
       "    <tr>\n",
       "      <th>2</th>\n",
       "      <td>t =</td>\n",
       "      <td>-2.4161</td>\n",
       "    </tr>\n",
       "    <tr>\n",
       "      <th>3</th>\n",
       "      <td>Two side test p value =</td>\n",
       "      <td>0.0157</td>\n",
       "    </tr>\n",
       "  </tbody>\n",
       "</table>\n",
       "</div>"
      ],
      "text/plain": [
       "             Welch's t-test  results\n",
       "2                      t =   -2.4161\n",
       "3  Two side test p value =    0.0157"
      ]
     },
     "execution_count": 58,
     "metadata": {},
     "output_type": "execute_result"
    }
   ],
   "source": [
    "print(f\"Control and {attribute[1].capitalize()}\")\n",
    "rp.ttest(base[\"pred_elu\"], Bset[\"pred_elu\"], equal_variances=False)[1][2:4]"
   ]
  },
  {
   "cell_type": "markdown",
   "id": "5d198907",
   "metadata": {},
   "source": [
    "#### Group A and Group B"
   ]
  },
  {
   "cell_type": "code",
   "execution_count": 59,
   "id": "f0a6e5c9",
   "metadata": {},
   "outputs": [
    {
     "name": "stdout",
     "output_type": "stream",
     "text": [
      "Black and White\n"
     ]
    },
    {
     "data": {
      "text/html": [
       "<div>\n",
       "<style scoped>\n",
       "    .dataframe tbody tr th:only-of-type {\n",
       "        vertical-align: middle;\n",
       "    }\n",
       "\n",
       "    .dataframe tbody tr th {\n",
       "        vertical-align: top;\n",
       "    }\n",
       "\n",
       "    .dataframe thead th {\n",
       "        text-align: right;\n",
       "    }\n",
       "</style>\n",
       "<table border=\"1\" class=\"dataframe\">\n",
       "  <thead>\n",
       "    <tr style=\"text-align: right;\">\n",
       "      <th></th>\n",
       "      <th>Welch's t-test</th>\n",
       "      <th>results</th>\n",
       "    </tr>\n",
       "  </thead>\n",
       "  <tbody>\n",
       "    <tr>\n",
       "      <th>2</th>\n",
       "      <td>t =</td>\n",
       "      <td>2.3589</td>\n",
       "    </tr>\n",
       "    <tr>\n",
       "      <th>3</th>\n",
       "      <td>Two side test p value =</td>\n",
       "      <td>0.0184</td>\n",
       "    </tr>\n",
       "  </tbody>\n",
       "</table>\n",
       "</div>"
      ],
      "text/plain": [
       "             Welch's t-test  results\n",
       "2                      t =    2.3589\n",
       "3  Two side test p value =    0.0184"
      ]
     },
     "execution_count": 59,
     "metadata": {},
     "output_type": "execute_result"
    }
   ],
   "source": [
    "print(f\"{attribute[0].capitalize()} and {attribute[1].capitalize()}\")\n",
    "rp.ttest(Aset[\"pred_elu\"], Bset[\"pred_elu\"], equal_variances=False)[1][2:4]"
   ]
  },
  {
   "cell_type": "markdown",
   "id": "924f2d36",
   "metadata": {},
   "source": [
    "### Difference tests"
   ]
  },
  {
   "cell_type": "markdown",
   "id": "3e36be24",
   "metadata": {},
   "source": [
    "**NOTE:** The variables of this test are dependent on the names of the particular dataset features."
   ]
  },
  {
   "cell_type": "code",
   "execution_count": 60,
   "id": "6265e72e",
   "metadata": {},
   "outputs": [
    {
     "data": {
      "text/plain": [
       "(       Name       N      Mean  Variance        SD        SE  95% Conf.  \\\n",
       " 0         0  2061.0  0.192140  0.155297  0.394078  0.008680   0.175116   \n",
       " 1         1  2071.0  0.271849  0.198043   0.44502  0.009779   0.252672   \n",
       " 2  combined  4132.0  0.232091  0.178268  0.422218  0.006568   0.219213   \n",
       " 3      diff         -0.079710                      0.013076  -0.105345   \n",
       " \n",
       "    Interval  \n",
       " 0  0.209163  \n",
       " 1  0.291027  \n",
       " 2  0.244969  \n",
       " 3 -0.054074  ,\n",
       "              Welch's t-test       Results\n",
       " 0        Difference (0 - 1) -7.970961e-02\n",
       " 1      Degrees of freedom =  4.076951e+03\n",
       " 2                       t = -6.095952e+00\n",
       " 3  Two sided test p-value =  1.188777e-09\n",
       " 4  Difference < 0 p-value =  5.943634e-10\n",
       " 5  Difference > 0 p-value =  1.000000e+00)"
      ]
     },
     "execution_count": 60,
     "metadata": {},
     "output_type": "execute_result"
    }
   ],
   "source": [
    "rp.difference_test(\"target ~ C(black)\",\n",
    "                   data=data,\n",
    "                   equal_variances=False).conduct()"
   ]
  },
  {
   "cell_type": "code",
   "execution_count": 61,
   "id": "5b4bc806",
   "metadata": {},
   "outputs": [
    {
     "data": {
      "text/plain": [
       "(       Name       N      Mean  Variance        SD        SE  95% Conf.  \\\n",
       " 0         0  2071.0  0.322549  0.218617  0.467565  0.010274   0.302400   \n",
       " 1         1  2061.0  0.141194  0.121317  0.348306  0.007672   0.126147   \n",
       " 2  combined  4132.0  0.232091  0.178268  0.422218  0.006568   0.219213   \n",
       " 3      diff          0.181356                      0.012823   0.156216   \n",
       " \n",
       "    Interval  \n",
       " 0  0.342699  \n",
       " 1  0.156240  \n",
       " 2  0.244969  \n",
       " 3  0.206496  ,\n",
       "              Welch's t-test       Results\n",
       " 0        Difference (0 - 1)  1.813559e-01\n",
       " 1      Degrees of freedom =  3.828284e+03\n",
       " 2                       t =  1.414324e+01\n",
       " 3  Two sided test p-value =  2.637963e-44\n",
       " 4  Difference < 0 p-value =  1.000000e+00\n",
       " 5  Difference > 0 p-value =  0.000000e+00)"
      ]
     },
     "execution_count": 61,
     "metadata": {},
     "output_type": "execute_result"
    }
   ],
   "source": [
    "rp.difference_test(\"target ~ C(white)\",\n",
    "                   data=data,\n",
    "                   equal_variances=False).conduct()"
   ]
  },
  {
   "cell_type": "markdown",
   "id": "b2df1a39",
   "metadata": {},
   "source": [
    "## Selection Rates and Impact"
   ]
  },
  {
   "cell_type": "markdown",
   "id": "af79761e",
   "metadata": {},
   "source": [
    "#### Baseline"
   ]
  },
  {
   "cell_type": "code",
   "execution_count": 62,
   "id": "0fd687cd",
   "metadata": {},
   "outputs": [],
   "source": [
    "col = \"target\"\n",
    "sr_A = Aset[Aset[col] == 1].shape[0] / data.shape[0]\n",
    "sr_B = Bset[Bset[col] == 1].shape[0] / data.shape[0]\n",
    "impact_base = min(sr_A, sr_B) / max(sr_A, sr_B)"
   ]
  },
  {
   "cell_type": "code",
   "execution_count": 63,
   "id": "6e24ae9b",
   "metadata": {},
   "outputs": [
    {
     "name": "stdout",
     "output_type": "stream",
     "text": [
      "Selection Rate and Impact - control\n",
      "Black :\t0.27159\n",
      "White :\t0.32224\n",
      "Impact:\t0.84281\n"
     ]
    }
   ],
   "source": [
    "print(\"Selection Rate and Impact - control\")\n",
    "print(f\"{attribute[0].capitalize()} :\\t{sr_A:0.5f}\")\n",
    "print(f\"{attribute[1].capitalize()} :\\t{sr_B:0.5f}\")\n",
    "print(f\"Impact:\\t{impact_base:0.5f}\")"
   ]
  },
  {
   "cell_type": "markdown",
   "id": "a38ad391",
   "metadata": {},
   "source": [
    "#### ReLU"
   ]
  },
  {
   "cell_type": "code",
   "execution_count": 64,
   "id": "11f7b751",
   "metadata": {},
   "outputs": [],
   "source": [
    "col = \"pred_relu\"\n",
    "sr_A_relu = Aset[Aset[col] == 1].shape[0] / data.shape[0]\n",
    "sr_B_relu = Bset[Bset[col] == 1].shape[0] / data.shape[0]\n",
    "\n",
    "try:\n",
    "    impact_relu = min(sr_A_relu, sr_B_relu) / max(sr_A_relu, sr_B_relu)\n",
    "except ZeroDivisionError:\n",
    "    print(f\"sr_A_relu: {sr_A_relu}\\nsr_B_relu: {sr_B_relu}\\nimpact set to 0\")\n",
    "    impact_relu = 0"
   ]
  },
  {
   "cell_type": "code",
   "execution_count": 65,
   "id": "7612c1f7",
   "metadata": {},
   "outputs": [
    {
     "name": "stdout",
     "output_type": "stream",
     "text": [
      "Selection Rate and Impact - ReLU\n",
      "Black :\t0.29715\n",
      "White :\t0.35166\n",
      "Impact:\t0.84499\n"
     ]
    }
   ],
   "source": [
    "print(\"Selection Rate and Impact - ReLU\")\n",
    "print(f\"{attribute[0].capitalize()} :\\t{sr_A_relu:0.5f}\")\n",
    "print(f\"{attribute[1].capitalize()} :\\t{sr_B_relu:0.5f}\")\n",
    "print(f\"Impact:\\t{impact_relu:0.5f}\")"
   ]
  },
  {
   "cell_type": "markdown",
   "id": "e59ca5ca",
   "metadata": {},
   "source": [
    "#### Tanh"
   ]
  },
  {
   "cell_type": "code",
   "execution_count": 66,
   "id": "d8761635",
   "metadata": {},
   "outputs": [],
   "source": [
    "col = \"pred_tanh\"\n",
    "sr_A_tanh = Aset[Aset[col] == 1].shape[0] / data.shape[0]\n",
    "sr_B_tanh = Bset[Bset[col] == 1].shape[0] / data.shape[0]\n",
    "impact_tanh = min(sr_A_tanh, sr_B_tanh) / max(sr_A_tanh, sr_B_tanh)"
   ]
  },
  {
   "cell_type": "code",
   "execution_count": 67,
   "id": "22f762f6",
   "metadata": {},
   "outputs": [
    {
     "name": "stdout",
     "output_type": "stream",
     "text": [
      "Selection Rate and Impact - Tanh\n",
      "Black :\t0.28220\n",
      "White :\t0.33478\n",
      "Impact:\t0.84294\n"
     ]
    }
   ],
   "source": [
    "print(\"Selection Rate and Impact - Tanh\")\n",
    "print(f\"{attribute[0].capitalize()} :\\t{sr_A_tanh:0.5f}\")\n",
    "print(f\"{attribute[1].capitalize()} :\\t{sr_B_tanh:0.5f}\")\n",
    "print(f\"Impact:\\t{impact_tanh:0.5f}\")"
   ]
  },
  {
   "cell_type": "markdown",
   "id": "bb264355",
   "metadata": {},
   "source": [
    "#### ELU"
   ]
  },
  {
   "cell_type": "code",
   "execution_count": 68,
   "id": "873315b5",
   "metadata": {},
   "outputs": [],
   "source": [
    "col = \"pred_elu\"\n",
    "sr_A_elu = Aset[Aset[col] == 1].shape[0] / data.shape[0]\n",
    "sr_B_elu = Bset[Bset[col] == 1].shape[0] / data.shape[0]\n",
    "impact_elu = min(sr_A_elu, sr_B_elu) / max(sr_A_elu, sr_B_elu)"
   ]
  },
  {
   "cell_type": "code",
   "execution_count": 69,
   "id": "98b7ae54",
   "metadata": {},
   "outputs": [
    {
     "name": "stdout",
     "output_type": "stream",
     "text": [
      "Selection Rate and Impact - elu\n",
      "Black :\t0.28075\n",
      "White :\t0.32754\n",
      "Impact:\t0.85714\n"
     ]
    }
   ],
   "source": [
    "print(\"Selection Rate and Impact - elu\")\n",
    "print(f\"{attribute[0].capitalize()} :\\t{sr_A_elu:0.5f}\")\n",
    "print(f\"{attribute[1].capitalize()} :\\t{sr_B_elu:0.5f}\")\n",
    "print(f\"Impact:\\t{impact_elu:0.5f}\")"
   ]
  },
  {
   "cell_type": "markdown",
   "id": "ef6dbd4c",
   "metadata": {},
   "source": [
    "#### Leaky ReLU"
   ]
  },
  {
   "cell_type": "code",
   "execution_count": 70,
   "id": "1e8888e0",
   "metadata": {},
   "outputs": [],
   "source": [
    "col = \"pred_leaky\"\n",
    "sr_A_leaky = Aset[Aset[col] == 1].shape[0] / data.shape[0]\n",
    "sr_B_leaky = Bset[Bset[col] == 1].shape[0] / data.shape[0]\n",
    "\n",
    "try:\n",
    "    impact_leaky = min(sr_A_leaky, sr_B_leaky) / max(sr_A_leaky, sr_B_leaky)\n",
    "except ZeroDivisionError:\n",
    "    print(f\"sr_A_leaky: {sr_A_leaky}\\nsr_B_leaky: {sr_B_leaky}\\nimpact set to 0\")\n",
    "    impact_leaky = 0"
   ]
  },
  {
   "cell_type": "code",
   "execution_count": 71,
   "id": "861486a9",
   "metadata": {},
   "outputs": [
    {
     "name": "stdout",
     "output_type": "stream",
     "text": [
      "Selection Rate and Impact - leaky\n",
      "Black :\t0.30005\n",
      "White :\t0.35311\n",
      "Impact:\t0.84973\n"
     ]
    }
   ],
   "source": [
    "print(\"Selection Rate and Impact - leaky\")\n",
    "print(f\"{attribute[0].capitalize()} :\\t{sr_A_leaky:0.5f}\")\n",
    "print(f\"{attribute[1].capitalize()} :\\t{sr_B_leaky:0.5f}\")\n",
    "print(f\"Impact:\\t{impact_leaky:0.5f}\")"
   ]
  },
  {
   "cell_type": "markdown",
   "id": "e0a493fe",
   "metadata": {},
   "source": [
    "# Results"
   ]
  },
  {
   "cell_type": "code",
   "execution_count": 72,
   "id": "fb47ec7c",
   "metadata": {},
   "outputs": [
    {
     "name": "stdout",
     "output_type": "stream",
     "text": [
      "             Selection Rate and Impact\n",
      "Group\tBase\t ReLU\t  Tanh\t   ELU\t    Leaky\n",
      "Black: 0.27159  0.29715  0.28220  0.28075  0.30005\n",
      "White : 0.32224  0.35166  0.33478  0.32754  0.35311\n",
      "Impact: 0.84281  0.84499  0.84294  0.85714  0.84973\n"
     ]
    }
   ],
   "source": [
    "print(\" \"*12, \"Selection Rate and Impact\")\n",
    "print(\"Group\\tBase\\t ReLU\\t  Tanh\\t   ELU\\t    Leaky\")\n",
    "print(f\"{attribute[0].capitalize()}: {sr_A:0.5f}  {sr_A_relu:0.5f}  {sr_A_tanh:0.5f}  {sr_A_elu:0.5f}  {sr_A_leaky:0.5f}\")\n",
    "print(f\"{attribute[1].capitalize()} : {sr_B:0.5f}  {sr_B_relu:0.5f}  {sr_B_tanh:0.5f}  {sr_B_elu:0.5f}  {sr_B_leaky:0.5f}\")\n",
    "print(f\"Impact: {impact_base:0.5f}  {impact_relu:0.5f}  {impact_tanh:0.5f}  {impact_elu:0.5f}  {impact_leaky:0.5f}\")"
   ]
  },
  {
   "cell_type": "code",
   "execution_count": 73,
   "id": "a7a7ad29",
   "metadata": {},
   "outputs": [
    {
     "name": "stdout",
     "output_type": "stream",
     "text": [
      "             Bias Metrics\n",
      "*************************************\n",
      "Func.\tPP\tPE\tEO\tSP\n",
      "ReLU\tFalse\tFalse\tFalse\tFalse\n",
      "Tanh\tFalse\tFalse\tFalse\tFalse\n",
      "ELU\tFalse\tFalse\tFalse\tFalse\n",
      "Leaky\tFalse\tFalse\tFalse\tFalse\n",
      "\n",
      "\n",
      "Legend\n",
      " - PP : predictive parity\n",
      " - PE : predictive equality\n",
      " - EO : equal opportunity\n",
      " - SP : statistical parity\n"
     ]
    }
   ],
   "source": [
    "print(\" \"*12, \"Bias Metrics\")\n",
    "print(\"*\" * 37)\n",
    "labels = [\"Func.\",\"PP\",\"PE\",\"EO\",\"SP\"]\n",
    "fns = [\"ReLU\", \"Tanh\", \"ELU\", \"Leaky\"]\n",
    "print(f\"{labels[0]}\\t{labels[1]}\\t{labels[2]}\\t{labels[3]}\\t{labels[4]}\")\n",
    "for i in range(0,4):\n",
    "    print(f\"{fns[i]}\\t{pp[i]}\\t{pe[i]}\\t{eo[i]}\\t{sp[i]}\")\n",
    "\n",
    "\n",
    "print(\"\\n\\nLegend\")\n",
    "print(\" - PP : predictive parity\\n\" +\n",
    "      \" - PE : predictive equality\\n\" +\n",
    "      \" - EO : equal opportunity\\n\" +\n",
    "      \" - SP : statistical parity\")"
   ]
  },
  {
   "cell_type": "code",
   "execution_count": 74,
   "id": "95f2fcb5",
   "metadata": {},
   "outputs": [
    {
     "data": {
      "text/plain": [
       "['target', 'pred_relu', 'pred_tanh', 'pred_elu', 'pred_leaky']"
      ]
     },
     "execution_count": 74,
     "metadata": {},
     "output_type": "execute_result"
    }
   ],
   "source": [
    "features"
   ]
  },
  {
   "cell_type": "markdown",
   "id": "d7c8c00c",
   "metadata": {},
   "source": [
    "# Similarity Metrics"
   ]
  },
  {
   "cell_type": "markdown",
   "id": "67042e86",
   "metadata": {},
   "source": [
    "#### Import Metrics Libraries"
   ]
  },
  {
   "cell_type": "code",
   "execution_count": 75,
   "id": "e3b01019",
   "metadata": {},
   "outputs": [],
   "source": [
    "import Levenshtein as lev\n",
    "from pyjarowinkler import distance as dist"
   ]
  },
  {
   "cell_type": "markdown",
   "id": "25cfa0d1",
   "metadata": {},
   "source": [
    "#### Convert to string"
   ]
  },
  {
   "cell_type": "code",
   "execution_count": 76,
   "id": "69bb1708",
   "metadata": {},
   "outputs": [],
   "source": [
    "Astr = [[\"\"] * Aset.shape[0]] * Aset.shape[1]\n",
    "Bstr = [[\"\"] * Bset.shape[0]] * Bset.shape[1]"
   ]
  },
  {
   "cell_type": "code",
   "execution_count": 77,
   "id": "10122c36",
   "metadata": {},
   "outputs": [],
   "source": [
    "for f in range(len(features)):\n",
    "    Astr[f] = ''.join(GroupA[features[f]].values.astype('int').astype('str'))\n",
    "    Bstr[f] = ''.join(GroupB[features[f]].values.astype('int').astype('str'))"
   ]
  },
  {
   "cell_type": "markdown",
   "id": "fd7481ec",
   "metadata": {},
   "source": [
    "#### Test defaults\n",
    "Levenshtein result should be 0"
   ]
  },
  {
   "cell_type": "code",
   "execution_count": 78,
   "id": "9cf4a6ed",
   "metadata": {},
   "outputs": [
    {
     "data": {
      "text/plain": [
       "0"
      ]
     },
     "execution_count": 78,
     "metadata": {},
     "output_type": "execute_result"
    }
   ],
   "source": [
    "lev.distance(Astr[1], Astr[1])"
   ]
  },
  {
   "cell_type": "markdown",
   "id": "533b646a",
   "metadata": {},
   "source": [
    "Jaro similarity result should be 1.0"
   ]
  },
  {
   "cell_type": "code",
   "execution_count": 79,
   "id": "2c591003",
   "metadata": {},
   "outputs": [
    {
     "data": {
      "text/plain": [
       "1.0"
      ]
     },
     "execution_count": 79,
     "metadata": {},
     "output_type": "execute_result"
    }
   ],
   "source": [
    "dist.get_jaro_distance(Astr[1], Astr[1])"
   ]
  },
  {
   "cell_type": "code",
   "execution_count": 80,
   "id": "77b377bc",
   "metadata": {},
   "outputs": [
    {
     "name": "stdout",
     "output_type": "stream",
     "text": [
      "target     : 0\n",
      "pred_relu  : 1\n",
      "pred_tanh  : 2\n",
      "pred_elu   : 3\n",
      "pred_leaky : 4\n"
     ]
    }
   ],
   "source": [
    "for i, f in enumerate(features):\n",
    "    print(f\"{f:10s} : {i}\")"
   ]
  },
  {
   "cell_type": "code",
   "execution_count": 81,
   "id": "6eae8fb5",
   "metadata": {},
   "outputs": [
    {
     "name": "stdout",
     "output_type": "stream",
     "text": [
      "Similarity and Distance Metrics\n",
      "     Between Black and White\n",
      "**********************************************\n",
      "Function\tLev.\tJaro\t  Jaro-Winkler\n",
      "target    :\t301\t0.84584\t  0.91000\n",
      "pred_relu :\t301\t0.84708\t  0.91000\n",
      "pred_tanh :\t301\t0.84615\t  0.91000\n",
      "pred_elu  :\t301\t0.84429\t  0.91000\n",
      "pred_leaky:\t301\t0.84615\t  0.91000\n"
     ]
    }
   ],
   "source": [
    "print(\"Similarity and Distance Metrics\\n\" \\\n",
    "      f\"     Between {attribute[0].capitalize()} and {attribute[1].capitalize()}\")\n",
    "print(\"*\" * 46)\n",
    "print(\"Function\\tLev.\\tJaro\\t  Jaro-Winkler\")\n",
    "for i, f in enumerate(features):\n",
    "    print(f\"{f:10s}:\\t{lev.distance(Astr[i], Bstr[i])}\\t\" \\\n",
    "          f\"{dist.get_jaro_distance(Astr[i], Bstr[i], winkler=False):7.5f}\\t\" \\\n",
    "          f\"{dist.get_jaro_distance(Astr[i], Bstr[i], winkler=True):9.5f}\")\n",
    "    "
   ]
  },
  {
   "cell_type": "markdown",
   "id": "7a6bb892",
   "metadata": {},
   "source": [
    "# Distribution Tests"
   ]
  },
  {
   "cell_type": "markdown",
   "id": "83b936eb",
   "metadata": {},
   "source": [
    "Test results for shape of distribution"
   ]
  },
  {
   "cell_type": "code",
   "execution_count": 82,
   "id": "d58ba341",
   "metadata": {},
   "outputs": [],
   "source": [
    "from scipy.stats import binom, chisquare, kstest"
   ]
  },
  {
   "cell_type": "code",
   "execution_count": 83,
   "id": "bddeadce",
   "metadata": {},
   "outputs": [
    {
     "name": "stdout",
     "output_type": "stream",
     "text": [
      "Binom  - target    :       0.53739    0.00  X\n",
      "Norm   - target    :       0.50000    0.00\n",
      "Chi^2  - target    :       0.00000    1.00  same as actual\n",
      "\n",
      "Binom  - pred_relu :       0.50507    0.00  X\n",
      "Norm   - pred_relu :       0.50000    0.00\n",
      "Chi^2  - pred_relu :       2.26146    0.13\n",
      "\n",
      "Binom  - pred_tanh :       0.52677    0.00  X\n",
      "Norm   - pred_tanh :       0.50000    0.00\n",
      "Chi^2  - pred_tanh :       0.24948    0.62  same as actual\n",
      "\n",
      "Binom  - pred_elu  :       0.54848    0.00  X\n",
      "Norm   - pred_elu  :       0.50000    0.00\n",
      "Chi^2  - pred_elu  :       0.27916    0.60  same as actual\n",
      "\n",
      "Binom  - pred_leaky:       0.50410    0.00  X\n",
      "Norm   - pred_leaky:       0.50000    0.00\n",
      "Chi^2  - pred_leaky:       2.39607    0.12\n",
      "\n"
     ]
    }
   ],
   "source": [
    "for f in features:\n",
    "    test = data[f]\n",
    "\n",
    "    x = test.values\n",
    "    n = test.sum()\n",
    "    p = n / test.shape[0]\n",
    "\n",
    "    stat, pval = kstest(rvs=x, cdf=binom.cdf(x, n, p))\n",
    "    print(f\"Binom  - {test.name:10}:{stat:14.5f}{pval:8.2f}\", end=\"\")\n",
    "    if stat > 0.5:\n",
    "        print(\"  X\")\n",
    "    else:\n",
    "        print()\n",
    "\n",
    "    stat, pval = kstest(rvs=x, cdf='norm')\n",
    "    print(f\"Norm   - {test.name:10}:{stat:14.5f}{pval:8.2f}\", end=\"\")    \n",
    "    if stat > 0.5:\n",
    "        print(\"  X\")\n",
    "    else:\n",
    "        print()\n",
    "    \n",
    "    freqB = data.target.sum()\n",
    "    stat, pval = chisquare([n, freqB])\n",
    "    print(f\"Chi^2  - {test.name:10}:{stat:14.5f}{pval:8.2f}\", end=\"\")\n",
    "    if pval > stat:\n",
    "        print(\"  same as actual\\n\")\n",
    "    else:\n",
    "        print(\"\\n\")"
   ]
  },
  {
   "cell_type": "code",
   "execution_count": null,
   "id": "5c4c8dad",
   "metadata": {},
   "outputs": [],
   "source": []
  }
 ],
 "metadata": {
  "kernelspec": {
   "display_name": "Python 3 (ipykernel)",
   "language": "python",
   "name": "python3"
  },
  "language_info": {
   "codemirror_mode": {
    "name": "ipython",
    "version": 3
   },
   "file_extension": ".py",
   "mimetype": "text/x-python",
   "name": "python",
   "nbconvert_exporter": "python",
   "pygments_lexer": "ipython3",
   "version": "3.8.10"
  }
 },
 "nbformat": 4,
 "nbformat_minor": 5
}
