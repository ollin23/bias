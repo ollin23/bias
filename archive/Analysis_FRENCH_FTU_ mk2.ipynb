{
 "cells": [
  {
   "cell_type": "markdown",
   "id": "1b98ac08",
   "metadata": {},
   "source": [
    "# FrenchC2C FTU Model Bias Analysis"
   ]
  },
  {
   "cell_type": "markdown",
   "id": "3b46faba",
   "metadata": {},
   "source": [
    "## Import Dependencies"
   ]
  },
  {
   "cell_type": "code",
   "execution_count": 1,
   "id": "db9a1cf7",
   "metadata": {},
   "outputs": [],
   "source": [
    "# !pip install researchpy"
   ]
  },
  {
   "cell_type": "code",
   "execution_count": 2,
   "id": "e6fab239",
   "metadata": {},
   "outputs": [],
   "source": [
    "import pandas as pd\n",
    "import numpy as np\n",
    "import matplotlib.pyplot as plt\n",
    "import seaborn as sns\n",
    "import researchpy as rp"
   ]
  },
  {
   "cell_type": "code",
   "execution_count": 3,
   "id": "1b982d64",
   "metadata": {},
   "outputs": [],
   "source": [
    "import warnings\n",
    "warnings.filterwarnings('ignore')"
   ]
  },
  {
   "cell_type": "code",
   "execution_count": 4,
   "id": "9e8f6b4b",
   "metadata": {},
   "outputs": [],
   "source": [
    "from dataclasses import dataclass"
   ]
  },
  {
   "cell_type": "code",
   "execution_count": 5,
   "id": "aa3b4556",
   "metadata": {},
   "outputs": [],
   "source": [
    "%matplotlib inline"
   ]
  },
  {
   "cell_type": "code",
   "execution_count": 6,
   "id": "6715839a",
   "metadata": {},
   "outputs": [],
   "source": [
    "pd.options.display.max_columns = 250\n",
    "pd.options.display.max_rows = 250"
   ]
  },
  {
   "cell_type": "code",
   "execution_count": 7,
   "id": "112c6e86",
   "metadata": {},
   "outputs": [],
   "source": [
    "from sklearn.metrics import confusion_matrix"
   ]
  },
  {
   "cell_type": "markdown",
   "id": "842941e4",
   "metadata": {},
   "source": [
    "# Custom functions"
   ]
  },
  {
   "cell_type": "markdown",
   "id": "acaa5f26",
   "metadata": {},
   "source": [
    "#### Dataclass for confusion matrix results"
   ]
  },
  {
   "cell_type": "code",
   "execution_count": 8,
   "id": "1675b590",
   "metadata": {},
   "outputs": [],
   "source": [
    "@dataclass\n",
    "class cmatrix:\n",
    "    name: str\n",
    "    TP: int\n",
    "    FP: int\n",
    "    TN: int\n",
    "    FN: int    \n",
    "    PPV: float\n",
    "    TPR: float\n",
    "    FDR: float\n",
    "    FPR: float\n",
    "    FOR: float\n",
    "    FNR: float\n",
    "    NPV: float\n",
    "    TNR: float"
   ]
  },
  {
   "cell_type": "markdown",
   "id": "7af72be3",
   "metadata": {},
   "source": [
    "#### Helper function to generate dataclass _cmatrix_"
   ]
  },
  {
   "cell_type": "code",
   "execution_count": 9,
   "id": "3cbcc121",
   "metadata": {},
   "outputs": [],
   "source": [
    "def gen_dataclass(actual, pred, name):\n",
    "    [TN, FP, FN, TP] = confusion_matrix(actual, pred).ravel()\n",
    "    \n",
    "\n",
    "    PPV = TP / (TP + FP)  # positive predictive value\n",
    "    FDR = FP / (TP + FP)  # false discovery rate\n",
    "    \n",
    "    TPR = TP / (TP + FN)  # true positive rate\n",
    "    FNR = FN / (TP + FN)  # false negative rate\n",
    "    \n",
    "    TNR = TN / (TN + FP)  # true negative rate\n",
    "    FPR = FP / (TN + FP)  # false positive rate\n",
    "\n",
    "    FOR = FN / (TN + FN)  # false omission rate\n",
    "    NPV = TN / (TN + FN)  # negative predictive value\n",
    "\n",
    "    \n",
    "    return cmatrix(name, TP, FP, TN, FN, PPV, TPR, FDR, FPR, FOR, FNR, NPV, TNR)"
   ]
  },
  {
   "cell_type": "markdown",
   "id": "09f7cb2f",
   "metadata": {},
   "source": [
    "#### Extract bias metrics"
   ]
  },
  {
   "cell_type": "code",
   "execution_count": 10,
   "id": "cfaba417",
   "metadata": {},
   "outputs": [],
   "source": [
    "def bias_metrics(df):\n",
    "    '''\n",
    "    - takes dataframe as input\n",
    "    - returns dataclass whose components are statistical measures from a confusion matrix\n",
    "    particular to relu, tanh, elu, and leaky relu dataframe series\n",
    "    '''\n",
    "    actual = df.target.values\n",
    "    relu = df.pred_relu.values\n",
    "    tanh = df.pred_tanh.values\n",
    "    elu = df.pred_elu.values\n",
    "    leaky = df.pred_leaky.values\n",
    "    \n",
    "    relu = gen_dataclass(actual, relu, \"relu\")\n",
    "    tanh = gen_dataclass(actual, tanh, \"tanh\")\n",
    "    elu = gen_dataclass(actual, elu, \"elu\")\n",
    "    leaky = gen_dataclass(actual, leaky, \"leaky\")\n",
    "    \n",
    "    return relu, tanh, elu, leaky"
   ]
  },
  {
   "cell_type": "markdown",
   "id": "51902b24",
   "metadata": {},
   "source": [
    "# Import Data"
   ]
  },
  {
   "cell_type": "code",
   "execution_count": 11,
   "id": "0e72e199",
   "metadata": {},
   "outputs": [],
   "source": [
    "data = pd.read_parquet(\"french_results_mk6_FTU.parquet\")"
   ]
  },
  {
   "cell_type": "code",
   "execution_count": 12,
   "id": "b52edcff",
   "metadata": {},
   "outputs": [
    {
     "data": {
      "text/html": [
       "<div>\n",
       "<style scoped>\n",
       "    .dataframe tbody tr th:only-of-type {\n",
       "        vertical-align: middle;\n",
       "    }\n",
       "\n",
       "    .dataframe tbody tr th {\n",
       "        vertical-align: top;\n",
       "    }\n",
       "\n",
       "    .dataframe thead th {\n",
       "        text-align: right;\n",
       "    }\n",
       "</style>\n",
       "<table border=\"1\" class=\"dataframe\">\n",
       "  <thead>\n",
       "    <tr style=\"text-align: right;\">\n",
       "      <th></th>\n",
       "      <th>socialNbFollowers</th>\n",
       "      <th>socialNbFollows</th>\n",
       "      <th>socialProductsLiked</th>\n",
       "      <th>productsListed</th>\n",
       "      <th>productsSold</th>\n",
       "      <th>productsPassRate</th>\n",
       "      <th>productsWished</th>\n",
       "      <th>productsBought</th>\n",
       "      <th>hasAnyApp</th>\n",
       "      <th>hasAndroidApp</th>\n",
       "      <th>hasIosApp</th>\n",
       "      <th>hasProfilePicture</th>\n",
       "      <th>daysSinceLastLogin</th>\n",
       "      <th>seniorityAsMonths</th>\n",
       "      <th>civGen_1</th>\n",
       "      <th>civGen_2</th>\n",
       "      <th>civGen_3</th>\n",
       "      <th>countryCode_ad</th>\n",
       "      <th>countryCode_ae</th>\n",
       "      <th>countryCode_af</th>\n",
       "      <th>countryCode_ag</th>\n",
       "      <th>countryCode_ai</th>\n",
       "      <th>countryCode_al</th>\n",
       "      <th>countryCode_am</th>\n",
       "      <th>countryCode_an</th>\n",
       "      <th>countryCode_ao</th>\n",
       "      <th>countryCode_aq</th>\n",
       "      <th>countryCode_ar</th>\n",
       "      <th>countryCode_as</th>\n",
       "      <th>countryCode_at</th>\n",
       "      <th>countryCode_au</th>\n",
       "      <th>countryCode_aw</th>\n",
       "      <th>countryCode_az</th>\n",
       "      <th>countryCode_ba</th>\n",
       "      <th>countryCode_bb</th>\n",
       "      <th>countryCode_bd</th>\n",
       "      <th>countryCode_be</th>\n",
       "      <th>countryCode_bf</th>\n",
       "      <th>countryCode_bg</th>\n",
       "      <th>countryCode_bh</th>\n",
       "      <th>countryCode_bj</th>\n",
       "      <th>countryCode_bl</th>\n",
       "      <th>countryCode_bm</th>\n",
       "      <th>countryCode_bn</th>\n",
       "      <th>countryCode_bo</th>\n",
       "      <th>countryCode_br</th>\n",
       "      <th>countryCode_bs</th>\n",
       "      <th>countryCode_bv</th>\n",
       "      <th>countryCode_bw</th>\n",
       "      <th>countryCode_by</th>\n",
       "      <th>countryCode_bz</th>\n",
       "      <th>countryCode_ca</th>\n",
       "      <th>countryCode_cd</th>\n",
       "      <th>countryCode_cf</th>\n",
       "      <th>countryCode_cg</th>\n",
       "      <th>countryCode_ch</th>\n",
       "      <th>countryCode_ci</th>\n",
       "      <th>countryCode_cl</th>\n",
       "      <th>countryCode_cm</th>\n",
       "      <th>countryCode_cn</th>\n",
       "      <th>countryCode_co</th>\n",
       "      <th>countryCode_cr</th>\n",
       "      <th>countryCode_cu</th>\n",
       "      <th>countryCode_cy</th>\n",
       "      <th>countryCode_cz</th>\n",
       "      <th>countryCode_de</th>\n",
       "      <th>countryCode_dj</th>\n",
       "      <th>countryCode_dk</th>\n",
       "      <th>countryCode_dm</th>\n",
       "      <th>countryCode_do</th>\n",
       "      <th>countryCode_dz</th>\n",
       "      <th>countryCode_ec</th>\n",
       "      <th>countryCode_ee</th>\n",
       "      <th>countryCode_eg</th>\n",
       "      <th>countryCode_er</th>\n",
       "      <th>countryCode_es</th>\n",
       "      <th>countryCode_et</th>\n",
       "      <th>countryCode_fi</th>\n",
       "      <th>countryCode_fj</th>\n",
       "      <th>countryCode_fk</th>\n",
       "      <th>countryCode_fo</th>\n",
       "      <th>countryCode_fr</th>\n",
       "      <th>countryCode_ga</th>\n",
       "      <th>countryCode_gb</th>\n",
       "      <th>countryCode_gd</th>\n",
       "      <th>countryCode_ge</th>\n",
       "      <th>countryCode_gg</th>\n",
       "      <th>countryCode_gh</th>\n",
       "      <th>countryCode_gi</th>\n",
       "      <th>countryCode_gm</th>\n",
       "      <th>countryCode_gn</th>\n",
       "      <th>countryCode_gp</th>\n",
       "      <th>countryCode_gr</th>\n",
       "      <th>countryCode_gs</th>\n",
       "      <th>countryCode_gt</th>\n",
       "      <th>countryCode_gu</th>\n",
       "      <th>countryCode_gy</th>\n",
       "      <th>countryCode_hk</th>\n",
       "      <th>countryCode_hn</th>\n",
       "      <th>countryCode_hr</th>\n",
       "      <th>countryCode_ht</th>\n",
       "      <th>countryCode_hu</th>\n",
       "      <th>countryCode_ic</th>\n",
       "      <th>countryCode_id</th>\n",
       "      <th>countryCode_ie</th>\n",
       "      <th>countryCode_il</th>\n",
       "      <th>countryCode_im</th>\n",
       "      <th>countryCode_in</th>\n",
       "      <th>countryCode_iq</th>\n",
       "      <th>countryCode_ir</th>\n",
       "      <th>countryCode_is</th>\n",
       "      <th>countryCode_it</th>\n",
       "      <th>countryCode_je</th>\n",
       "      <th>countryCode_jm</th>\n",
       "      <th>countryCode_jo</th>\n",
       "      <th>countryCode_jp</th>\n",
       "      <th>countryCode_ke</th>\n",
       "      <th>countryCode_kg</th>\n",
       "      <th>countryCode_kh</th>\n",
       "      <th>countryCode_ki</th>\n",
       "      <th>countryCode_kn</th>\n",
       "      <th>countryCode_kp</th>\n",
       "      <th>countryCode_kr</th>\n",
       "      <th>countryCode_kw</th>\n",
       "      <th>countryCode_ky</th>\n",
       "      <th>countryCode_kz</th>\n",
       "      <th>countryCode_la</th>\n",
       "      <th>countryCode_lb</th>\n",
       "      <th>countryCode_lc</th>\n",
       "      <th>countryCode_li</th>\n",
       "      <th>countryCode_lk</th>\n",
       "      <th>countryCode_lt</th>\n",
       "      <th>countryCode_lu</th>\n",
       "      <th>countryCode_lv</th>\n",
       "      <th>countryCode_ly</th>\n",
       "      <th>countryCode_ma</th>\n",
       "      <th>countryCode_mc</th>\n",
       "      <th>countryCode_md</th>\n",
       "      <th>countryCode_mg</th>\n",
       "      <th>countryCode_mk</th>\n",
       "      <th>countryCode_ml</th>\n",
       "      <th>countryCode_mm</th>\n",
       "      <th>countryCode_mn</th>\n",
       "      <th>countryCode_mo</th>\n",
       "      <th>countryCode_mq</th>\n",
       "      <th>countryCode_mr</th>\n",
       "      <th>countryCode_mt</th>\n",
       "      <th>countryCode_mu</th>\n",
       "      <th>countryCode_mv</th>\n",
       "      <th>countryCode_mx</th>\n",
       "      <th>countryCode_my</th>\n",
       "      <th>countryCode_na</th>\n",
       "      <th>countryCode_nc</th>\n",
       "      <th>countryCode_ne</th>\n",
       "      <th>countryCode_nf</th>\n",
       "      <th>countryCode_ng</th>\n",
       "      <th>countryCode_ni</th>\n",
       "      <th>countryCode_nl</th>\n",
       "      <th>countryCode_no</th>\n",
       "      <th>countryCode_np</th>\n",
       "      <th>countryCode_nz</th>\n",
       "      <th>countryCode_om</th>\n",
       "      <th>countryCode_pa</th>\n",
       "      <th>countryCode_pe</th>\n",
       "      <th>countryCode_pf</th>\n",
       "      <th>countryCode_ph</th>\n",
       "      <th>countryCode_pk</th>\n",
       "      <th>countryCode_pl</th>\n",
       "      <th>countryCode_pr</th>\n",
       "      <th>countryCode_pt</th>\n",
       "      <th>countryCode_pw</th>\n",
       "      <th>countryCode_py</th>\n",
       "      <th>countryCode_qa</th>\n",
       "      <th>countryCode_re</th>\n",
       "      <th>countryCode_ro</th>\n",
       "      <th>countryCode_rs</th>\n",
       "      <th>countryCode_ru</th>\n",
       "      <th>countryCode_rw</th>\n",
       "      <th>countryCode_sa</th>\n",
       "      <th>countryCode_se</th>\n",
       "      <th>countryCode_sg</th>\n",
       "      <th>countryCode_si</th>\n",
       "      <th>countryCode_sj</th>\n",
       "      <th>countryCode_sk</th>\n",
       "      <th>countryCode_sn</th>\n",
       "      <th>countryCode_sr</th>\n",
       "      <th>countryCode_sv</th>\n",
       "      <th>countryCode_sy</th>\n",
       "      <th>countryCode_sz</th>\n",
       "      <th>countryCode_tc</th>\n",
       "      <th>countryCode_td</th>\n",
       "      <th>countryCode_tg</th>\n",
       "      <th>countryCode_th</th>\n",
       "      <th>countryCode_tj</th>\n",
       "      <th>countryCode_tn</th>\n",
       "      <th>countryCode_tr</th>\n",
       "      <th>countryCode_tt</th>\n",
       "      <th>countryCode_tw</th>\n",
       "      <th>countryCode_tz</th>\n",
       "      <th>countryCode_ua</th>\n",
       "      <th>countryCode_ug</th>\n",
       "      <th>countryCode_um</th>\n",
       "      <th>countryCode_us</th>\n",
       "      <th>countryCode_uy</th>\n",
       "      <th>countryCode_uz</th>\n",
       "      <th>countryCode_vc</th>\n",
       "      <th>countryCode_ve</th>\n",
       "      <th>countryCode_vg</th>\n",
       "      <th>countryCode_vi</th>\n",
       "      <th>countryCode_vn</th>\n",
       "      <th>countryCode_vu</th>\n",
       "      <th>countryCode_ws</th>\n",
       "      <th>countryCode_yt</th>\n",
       "      <th>countryCode_za</th>\n",
       "      <th>countryCode_zm</th>\n",
       "      <th>countryCode_zw</th>\n",
       "      <th>language_de</th>\n",
       "      <th>language_en</th>\n",
       "      <th>language_es</th>\n",
       "      <th>language_fr</th>\n",
       "      <th>language_it</th>\n",
       "      <th>gender</th>\n",
       "      <th>target</th>\n",
       "      <th>pred_relu</th>\n",
       "      <th>pred_tanh</th>\n",
       "      <th>pred_elu</th>\n",
       "      <th>pred_leaky</th>\n",
       "    </tr>\n",
       "  </thead>\n",
       "  <tbody>\n",
       "    <tr>\n",
       "      <th>0</th>\n",
       "      <td>3</td>\n",
       "      <td>8</td>\n",
       "      <td>0</td>\n",
       "      <td>0</td>\n",
       "      <td>0</td>\n",
       "      <td>0</td>\n",
       "      <td>0</td>\n",
       "      <td>0</td>\n",
       "      <td>0</td>\n",
       "      <td>0</td>\n",
       "      <td>0</td>\n",
       "      <td>1</td>\n",
       "      <td>699</td>\n",
       "      <td>106</td>\n",
       "      <td>0</td>\n",
       "      <td>1</td>\n",
       "      <td>0</td>\n",
       "      <td>0</td>\n",
       "      <td>0</td>\n",
       "      <td>0</td>\n",
       "      <td>0</td>\n",
       "      <td>0</td>\n",
       "      <td>0</td>\n",
       "      <td>0</td>\n",
       "      <td>0</td>\n",
       "      <td>0</td>\n",
       "      <td>0</td>\n",
       "      <td>0</td>\n",
       "      <td>0</td>\n",
       "      <td>0</td>\n",
       "      <td>1</td>\n",
       "      <td>0</td>\n",
       "      <td>0</td>\n",
       "      <td>0</td>\n",
       "      <td>0</td>\n",
       "      <td>0</td>\n",
       "      <td>0</td>\n",
       "      <td>0</td>\n",
       "      <td>0</td>\n",
       "      <td>0</td>\n",
       "      <td>0</td>\n",
       "      <td>0</td>\n",
       "      <td>0</td>\n",
       "      <td>0</td>\n",
       "      <td>0</td>\n",
       "      <td>0</td>\n",
       "      <td>0</td>\n",
       "      <td>0</td>\n",
       "      <td>0</td>\n",
       "      <td>0</td>\n",
       "      <td>0</td>\n",
       "      <td>0</td>\n",
       "      <td>0</td>\n",
       "      <td>0</td>\n",
       "      <td>0</td>\n",
       "      <td>0</td>\n",
       "      <td>0</td>\n",
       "      <td>0</td>\n",
       "      <td>0</td>\n",
       "      <td>0</td>\n",
       "      <td>0</td>\n",
       "      <td>0</td>\n",
       "      <td>0</td>\n",
       "      <td>0</td>\n",
       "      <td>0</td>\n",
       "      <td>0</td>\n",
       "      <td>0</td>\n",
       "      <td>0</td>\n",
       "      <td>0</td>\n",
       "      <td>0</td>\n",
       "      <td>0</td>\n",
       "      <td>0</td>\n",
       "      <td>0</td>\n",
       "      <td>0</td>\n",
       "      <td>0</td>\n",
       "      <td>0</td>\n",
       "      <td>0</td>\n",
       "      <td>0</td>\n",
       "      <td>0</td>\n",
       "      <td>0</td>\n",
       "      <td>0</td>\n",
       "      <td>0</td>\n",
       "      <td>0</td>\n",
       "      <td>0</td>\n",
       "      <td>0</td>\n",
       "      <td>0</td>\n",
       "      <td>0</td>\n",
       "      <td>0</td>\n",
       "      <td>0</td>\n",
       "      <td>0</td>\n",
       "      <td>0</td>\n",
       "      <td>0</td>\n",
       "      <td>0</td>\n",
       "      <td>0</td>\n",
       "      <td>0</td>\n",
       "      <td>0</td>\n",
       "      <td>0</td>\n",
       "      <td>0</td>\n",
       "      <td>0</td>\n",
       "      <td>0</td>\n",
       "      <td>0</td>\n",
       "      <td>0</td>\n",
       "      <td>0</td>\n",
       "      <td>0</td>\n",
       "      <td>0</td>\n",
       "      <td>0</td>\n",
       "      <td>0</td>\n",
       "      <td>0</td>\n",
       "      <td>0</td>\n",
       "      <td>0</td>\n",
       "      <td>0</td>\n",
       "      <td>0</td>\n",
       "      <td>0</td>\n",
       "      <td>0</td>\n",
       "      <td>0</td>\n",
       "      <td>0</td>\n",
       "      <td>0</td>\n",
       "      <td>0</td>\n",
       "      <td>0</td>\n",
       "      <td>0</td>\n",
       "      <td>0</td>\n",
       "      <td>0</td>\n",
       "      <td>0</td>\n",
       "      <td>0</td>\n",
       "      <td>0</td>\n",
       "      <td>0</td>\n",
       "      <td>0</td>\n",
       "      <td>0</td>\n",
       "      <td>0</td>\n",
       "      <td>0</td>\n",
       "      <td>0</td>\n",
       "      <td>0</td>\n",
       "      <td>0</td>\n",
       "      <td>0</td>\n",
       "      <td>0</td>\n",
       "      <td>0</td>\n",
       "      <td>0</td>\n",
       "      <td>0</td>\n",
       "      <td>0</td>\n",
       "      <td>0</td>\n",
       "      <td>0</td>\n",
       "      <td>0</td>\n",
       "      <td>0</td>\n",
       "      <td>0</td>\n",
       "      <td>0</td>\n",
       "      <td>0</td>\n",
       "      <td>0</td>\n",
       "      <td>0</td>\n",
       "      <td>0</td>\n",
       "      <td>0</td>\n",
       "      <td>0</td>\n",
       "      <td>0</td>\n",
       "      <td>0</td>\n",
       "      <td>0</td>\n",
       "      <td>0</td>\n",
       "      <td>0</td>\n",
       "      <td>0</td>\n",
       "      <td>0</td>\n",
       "      <td>0</td>\n",
       "      <td>0</td>\n",
       "      <td>0</td>\n",
       "      <td>0</td>\n",
       "      <td>0</td>\n",
       "      <td>0</td>\n",
       "      <td>0</td>\n",
       "      <td>0</td>\n",
       "      <td>0</td>\n",
       "      <td>0</td>\n",
       "      <td>0</td>\n",
       "      <td>0</td>\n",
       "      <td>0</td>\n",
       "      <td>0</td>\n",
       "      <td>0</td>\n",
       "      <td>0</td>\n",
       "      <td>0</td>\n",
       "      <td>0</td>\n",
       "      <td>0</td>\n",
       "      <td>0</td>\n",
       "      <td>0</td>\n",
       "      <td>0</td>\n",
       "      <td>0</td>\n",
       "      <td>0</td>\n",
       "      <td>0</td>\n",
       "      <td>0</td>\n",
       "      <td>0</td>\n",
       "      <td>0</td>\n",
       "      <td>0</td>\n",
       "      <td>0</td>\n",
       "      <td>0</td>\n",
       "      <td>0</td>\n",
       "      <td>0</td>\n",
       "      <td>0</td>\n",
       "      <td>0</td>\n",
       "      <td>0</td>\n",
       "      <td>0</td>\n",
       "      <td>0</td>\n",
       "      <td>0</td>\n",
       "      <td>0</td>\n",
       "      <td>0</td>\n",
       "      <td>0</td>\n",
       "      <td>0</td>\n",
       "      <td>0</td>\n",
       "      <td>0</td>\n",
       "      <td>0</td>\n",
       "      <td>0</td>\n",
       "      <td>0</td>\n",
       "      <td>0</td>\n",
       "      <td>0</td>\n",
       "      <td>0</td>\n",
       "      <td>0</td>\n",
       "      <td>0</td>\n",
       "      <td>0</td>\n",
       "      <td>0</td>\n",
       "      <td>0</td>\n",
       "      <td>0</td>\n",
       "      <td>0</td>\n",
       "      <td>0</td>\n",
       "      <td>1</td>\n",
       "      <td>0</td>\n",
       "      <td>0</td>\n",
       "      <td>0</td>\n",
       "      <td>1</td>\n",
       "      <td>0</td>\n",
       "      <td>0</td>\n",
       "      <td>0</td>\n",
       "      <td>0</td>\n",
       "      <td>0</td>\n",
       "    </tr>\n",
       "    <tr>\n",
       "      <th>1</th>\n",
       "      <td>3</td>\n",
       "      <td>8</td>\n",
       "      <td>41</td>\n",
       "      <td>0</td>\n",
       "      <td>0</td>\n",
       "      <td>0</td>\n",
       "      <td>0</td>\n",
       "      <td>0</td>\n",
       "      <td>1</td>\n",
       "      <td>0</td>\n",
       "      <td>1</td>\n",
       "      <td>1</td>\n",
       "      <td>605</td>\n",
       "      <td>107</td>\n",
       "      <td>0</td>\n",
       "      <td>1</td>\n",
       "      <td>0</td>\n",
       "      <td>0</td>\n",
       "      <td>0</td>\n",
       "      <td>0</td>\n",
       "      <td>0</td>\n",
       "      <td>0</td>\n",
       "      <td>0</td>\n",
       "      <td>0</td>\n",
       "      <td>0</td>\n",
       "      <td>0</td>\n",
       "      <td>0</td>\n",
       "      <td>0</td>\n",
       "      <td>0</td>\n",
       "      <td>0</td>\n",
       "      <td>0</td>\n",
       "      <td>0</td>\n",
       "      <td>0</td>\n",
       "      <td>0</td>\n",
       "      <td>0</td>\n",
       "      <td>0</td>\n",
       "      <td>0</td>\n",
       "      <td>0</td>\n",
       "      <td>0</td>\n",
       "      <td>0</td>\n",
       "      <td>0</td>\n",
       "      <td>0</td>\n",
       "      <td>0</td>\n",
       "      <td>0</td>\n",
       "      <td>0</td>\n",
       "      <td>0</td>\n",
       "      <td>0</td>\n",
       "      <td>0</td>\n",
       "      <td>0</td>\n",
       "      <td>0</td>\n",
       "      <td>0</td>\n",
       "      <td>0</td>\n",
       "      <td>0</td>\n",
       "      <td>0</td>\n",
       "      <td>0</td>\n",
       "      <td>0</td>\n",
       "      <td>0</td>\n",
       "      <td>0</td>\n",
       "      <td>0</td>\n",
       "      <td>0</td>\n",
       "      <td>0</td>\n",
       "      <td>0</td>\n",
       "      <td>0</td>\n",
       "      <td>0</td>\n",
       "      <td>0</td>\n",
       "      <td>1</td>\n",
       "      <td>0</td>\n",
       "      <td>0</td>\n",
       "      <td>0</td>\n",
       "      <td>0</td>\n",
       "      <td>0</td>\n",
       "      <td>0</td>\n",
       "      <td>0</td>\n",
       "      <td>0</td>\n",
       "      <td>0</td>\n",
       "      <td>0</td>\n",
       "      <td>0</td>\n",
       "      <td>0</td>\n",
       "      <td>0</td>\n",
       "      <td>0</td>\n",
       "      <td>0</td>\n",
       "      <td>0</td>\n",
       "      <td>0</td>\n",
       "      <td>0</td>\n",
       "      <td>0</td>\n",
       "      <td>0</td>\n",
       "      <td>0</td>\n",
       "      <td>0</td>\n",
       "      <td>0</td>\n",
       "      <td>0</td>\n",
       "      <td>0</td>\n",
       "      <td>0</td>\n",
       "      <td>0</td>\n",
       "      <td>0</td>\n",
       "      <td>0</td>\n",
       "      <td>0</td>\n",
       "      <td>0</td>\n",
       "      <td>0</td>\n",
       "      <td>0</td>\n",
       "      <td>0</td>\n",
       "      <td>0</td>\n",
       "      <td>0</td>\n",
       "      <td>0</td>\n",
       "      <td>0</td>\n",
       "      <td>0</td>\n",
       "      <td>0</td>\n",
       "      <td>0</td>\n",
       "      <td>0</td>\n",
       "      <td>0</td>\n",
       "      <td>0</td>\n",
       "      <td>0</td>\n",
       "      <td>0</td>\n",
       "      <td>0</td>\n",
       "      <td>0</td>\n",
       "      <td>0</td>\n",
       "      <td>0</td>\n",
       "      <td>0</td>\n",
       "      <td>0</td>\n",
       "      <td>0</td>\n",
       "      <td>0</td>\n",
       "      <td>0</td>\n",
       "      <td>0</td>\n",
       "      <td>0</td>\n",
       "      <td>0</td>\n",
       "      <td>0</td>\n",
       "      <td>0</td>\n",
       "      <td>0</td>\n",
       "      <td>0</td>\n",
       "      <td>0</td>\n",
       "      <td>0</td>\n",
       "      <td>0</td>\n",
       "      <td>0</td>\n",
       "      <td>0</td>\n",
       "      <td>0</td>\n",
       "      <td>0</td>\n",
       "      <td>0</td>\n",
       "      <td>0</td>\n",
       "      <td>0</td>\n",
       "      <td>0</td>\n",
       "      <td>0</td>\n",
       "      <td>0</td>\n",
       "      <td>0</td>\n",
       "      <td>0</td>\n",
       "      <td>0</td>\n",
       "      <td>0</td>\n",
       "      <td>0</td>\n",
       "      <td>0</td>\n",
       "      <td>0</td>\n",
       "      <td>0</td>\n",
       "      <td>0</td>\n",
       "      <td>0</td>\n",
       "      <td>0</td>\n",
       "      <td>0</td>\n",
       "      <td>0</td>\n",
       "      <td>0</td>\n",
       "      <td>0</td>\n",
       "      <td>0</td>\n",
       "      <td>0</td>\n",
       "      <td>0</td>\n",
       "      <td>0</td>\n",
       "      <td>0</td>\n",
       "      <td>0</td>\n",
       "      <td>0</td>\n",
       "      <td>0</td>\n",
       "      <td>0</td>\n",
       "      <td>0</td>\n",
       "      <td>0</td>\n",
       "      <td>0</td>\n",
       "      <td>0</td>\n",
       "      <td>0</td>\n",
       "      <td>0</td>\n",
       "      <td>0</td>\n",
       "      <td>0</td>\n",
       "      <td>0</td>\n",
       "      <td>0</td>\n",
       "      <td>0</td>\n",
       "      <td>0</td>\n",
       "      <td>0</td>\n",
       "      <td>0</td>\n",
       "      <td>0</td>\n",
       "      <td>0</td>\n",
       "      <td>0</td>\n",
       "      <td>0</td>\n",
       "      <td>0</td>\n",
       "      <td>0</td>\n",
       "      <td>0</td>\n",
       "      <td>0</td>\n",
       "      <td>0</td>\n",
       "      <td>0</td>\n",
       "      <td>0</td>\n",
       "      <td>0</td>\n",
       "      <td>0</td>\n",
       "      <td>0</td>\n",
       "      <td>0</td>\n",
       "      <td>0</td>\n",
       "      <td>0</td>\n",
       "      <td>0</td>\n",
       "      <td>0</td>\n",
       "      <td>0</td>\n",
       "      <td>0</td>\n",
       "      <td>0</td>\n",
       "      <td>0</td>\n",
       "      <td>0</td>\n",
       "      <td>0</td>\n",
       "      <td>0</td>\n",
       "      <td>0</td>\n",
       "      <td>0</td>\n",
       "      <td>0</td>\n",
       "      <td>0</td>\n",
       "      <td>0</td>\n",
       "      <td>0</td>\n",
       "      <td>0</td>\n",
       "      <td>0</td>\n",
       "      <td>0</td>\n",
       "      <td>0</td>\n",
       "      <td>0</td>\n",
       "      <td>1</td>\n",
       "      <td>0</td>\n",
       "      <td>0</td>\n",
       "      <td>0</td>\n",
       "      <td>0</td>\n",
       "      <td>1</td>\n",
       "      <td>0</td>\n",
       "      <td>0</td>\n",
       "      <td>0</td>\n",
       "      <td>0</td>\n",
       "      <td>0</td>\n",
       "    </tr>\n",
       "    <tr>\n",
       "      <th>2</th>\n",
       "      <td>4</td>\n",
       "      <td>8</td>\n",
       "      <td>0</td>\n",
       "      <td>0</td>\n",
       "      <td>0</td>\n",
       "      <td>0</td>\n",
       "      <td>0</td>\n",
       "      <td>0</td>\n",
       "      <td>0</td>\n",
       "      <td>0</td>\n",
       "      <td>0</td>\n",
       "      <td>1</td>\n",
       "      <td>639</td>\n",
       "      <td>95</td>\n",
       "      <td>1</td>\n",
       "      <td>0</td>\n",
       "      <td>0</td>\n",
       "      <td>0</td>\n",
       "      <td>0</td>\n",
       "      <td>0</td>\n",
       "      <td>0</td>\n",
       "      <td>0</td>\n",
       "      <td>0</td>\n",
       "      <td>0</td>\n",
       "      <td>0</td>\n",
       "      <td>0</td>\n",
       "      <td>0</td>\n",
       "      <td>0</td>\n",
       "      <td>0</td>\n",
       "      <td>0</td>\n",
       "      <td>0</td>\n",
       "      <td>0</td>\n",
       "      <td>0</td>\n",
       "      <td>0</td>\n",
       "      <td>0</td>\n",
       "      <td>0</td>\n",
       "      <td>0</td>\n",
       "      <td>0</td>\n",
       "      <td>0</td>\n",
       "      <td>0</td>\n",
       "      <td>0</td>\n",
       "      <td>0</td>\n",
       "      <td>0</td>\n",
       "      <td>0</td>\n",
       "      <td>0</td>\n",
       "      <td>0</td>\n",
       "      <td>0</td>\n",
       "      <td>0</td>\n",
       "      <td>0</td>\n",
       "      <td>0</td>\n",
       "      <td>0</td>\n",
       "      <td>0</td>\n",
       "      <td>0</td>\n",
       "      <td>0</td>\n",
       "      <td>0</td>\n",
       "      <td>0</td>\n",
       "      <td>0</td>\n",
       "      <td>0</td>\n",
       "      <td>0</td>\n",
       "      <td>0</td>\n",
       "      <td>0</td>\n",
       "      <td>0</td>\n",
       "      <td>0</td>\n",
       "      <td>0</td>\n",
       "      <td>0</td>\n",
       "      <td>0</td>\n",
       "      <td>0</td>\n",
       "      <td>0</td>\n",
       "      <td>0</td>\n",
       "      <td>0</td>\n",
       "      <td>0</td>\n",
       "      <td>0</td>\n",
       "      <td>0</td>\n",
       "      <td>0</td>\n",
       "      <td>0</td>\n",
       "      <td>0</td>\n",
       "      <td>0</td>\n",
       "      <td>0</td>\n",
       "      <td>0</td>\n",
       "      <td>0</td>\n",
       "      <td>0</td>\n",
       "      <td>1</td>\n",
       "      <td>0</td>\n",
       "      <td>0</td>\n",
       "      <td>0</td>\n",
       "      <td>0</td>\n",
       "      <td>0</td>\n",
       "      <td>0</td>\n",
       "      <td>0</td>\n",
       "      <td>0</td>\n",
       "      <td>0</td>\n",
       "      <td>0</td>\n",
       "      <td>0</td>\n",
       "      <td>0</td>\n",
       "      <td>0</td>\n",
       "      <td>0</td>\n",
       "      <td>0</td>\n",
       "      <td>0</td>\n",
       "      <td>0</td>\n",
       "      <td>0</td>\n",
       "      <td>0</td>\n",
       "      <td>0</td>\n",
       "      <td>0</td>\n",
       "      <td>0</td>\n",
       "      <td>0</td>\n",
       "      <td>0</td>\n",
       "      <td>0</td>\n",
       "      <td>0</td>\n",
       "      <td>0</td>\n",
       "      <td>0</td>\n",
       "      <td>0</td>\n",
       "      <td>0</td>\n",
       "      <td>0</td>\n",
       "      <td>0</td>\n",
       "      <td>0</td>\n",
       "      <td>0</td>\n",
       "      <td>0</td>\n",
       "      <td>0</td>\n",
       "      <td>0</td>\n",
       "      <td>0</td>\n",
       "      <td>0</td>\n",
       "      <td>0</td>\n",
       "      <td>0</td>\n",
       "      <td>0</td>\n",
       "      <td>0</td>\n",
       "      <td>0</td>\n",
       "      <td>0</td>\n",
       "      <td>0</td>\n",
       "      <td>0</td>\n",
       "      <td>0</td>\n",
       "      <td>0</td>\n",
       "      <td>0</td>\n",
       "      <td>0</td>\n",
       "      <td>0</td>\n",
       "      <td>0</td>\n",
       "      <td>0</td>\n",
       "      <td>0</td>\n",
       "      <td>0</td>\n",
       "      <td>0</td>\n",
       "      <td>0</td>\n",
       "      <td>0</td>\n",
       "      <td>0</td>\n",
       "      <td>0</td>\n",
       "      <td>0</td>\n",
       "      <td>0</td>\n",
       "      <td>0</td>\n",
       "      <td>0</td>\n",
       "      <td>0</td>\n",
       "      <td>0</td>\n",
       "      <td>0</td>\n",
       "      <td>0</td>\n",
       "      <td>0</td>\n",
       "      <td>0</td>\n",
       "      <td>0</td>\n",
       "      <td>0</td>\n",
       "      <td>0</td>\n",
       "      <td>0</td>\n",
       "      <td>0</td>\n",
       "      <td>0</td>\n",
       "      <td>0</td>\n",
       "      <td>0</td>\n",
       "      <td>0</td>\n",
       "      <td>0</td>\n",
       "      <td>0</td>\n",
       "      <td>0</td>\n",
       "      <td>0</td>\n",
       "      <td>0</td>\n",
       "      <td>0</td>\n",
       "      <td>0</td>\n",
       "      <td>0</td>\n",
       "      <td>0</td>\n",
       "      <td>0</td>\n",
       "      <td>0</td>\n",
       "      <td>0</td>\n",
       "      <td>0</td>\n",
       "      <td>0</td>\n",
       "      <td>0</td>\n",
       "      <td>0</td>\n",
       "      <td>0</td>\n",
       "      <td>0</td>\n",
       "      <td>0</td>\n",
       "      <td>0</td>\n",
       "      <td>0</td>\n",
       "      <td>0</td>\n",
       "      <td>0</td>\n",
       "      <td>0</td>\n",
       "      <td>0</td>\n",
       "      <td>0</td>\n",
       "      <td>0</td>\n",
       "      <td>0</td>\n",
       "      <td>0</td>\n",
       "      <td>0</td>\n",
       "      <td>0</td>\n",
       "      <td>0</td>\n",
       "      <td>0</td>\n",
       "      <td>0</td>\n",
       "      <td>0</td>\n",
       "      <td>0</td>\n",
       "      <td>0</td>\n",
       "      <td>0</td>\n",
       "      <td>0</td>\n",
       "      <td>0</td>\n",
       "      <td>0</td>\n",
       "      <td>0</td>\n",
       "      <td>0</td>\n",
       "      <td>0</td>\n",
       "      <td>0</td>\n",
       "      <td>0</td>\n",
       "      <td>0</td>\n",
       "      <td>0</td>\n",
       "      <td>0</td>\n",
       "      <td>0</td>\n",
       "      <td>0</td>\n",
       "      <td>0</td>\n",
       "      <td>0</td>\n",
       "      <td>0</td>\n",
       "      <td>0</td>\n",
       "      <td>0</td>\n",
       "      <td>0</td>\n",
       "      <td>1</td>\n",
       "      <td>0</td>\n",
       "      <td>0</td>\n",
       "      <td>0</td>\n",
       "      <td>0</td>\n",
       "      <td>0</td>\n",
       "      <td>0</td>\n",
       "      <td>0</td>\n",
       "    </tr>\n",
       "    <tr>\n",
       "      <th>3</th>\n",
       "      <td>3</td>\n",
       "      <td>8</td>\n",
       "      <td>0</td>\n",
       "      <td>0</td>\n",
       "      <td>0</td>\n",
       "      <td>0</td>\n",
       "      <td>0</td>\n",
       "      <td>0</td>\n",
       "      <td>0</td>\n",
       "      <td>0</td>\n",
       "      <td>0</td>\n",
       "      <td>1</td>\n",
       "      <td>707</td>\n",
       "      <td>107</td>\n",
       "      <td>0</td>\n",
       "      <td>1</td>\n",
       "      <td>0</td>\n",
       "      <td>0</td>\n",
       "      <td>0</td>\n",
       "      <td>0</td>\n",
       "      <td>0</td>\n",
       "      <td>0</td>\n",
       "      <td>0</td>\n",
       "      <td>0</td>\n",
       "      <td>0</td>\n",
       "      <td>0</td>\n",
       "      <td>0</td>\n",
       "      <td>0</td>\n",
       "      <td>0</td>\n",
       "      <td>0</td>\n",
       "      <td>0</td>\n",
       "      <td>0</td>\n",
       "      <td>0</td>\n",
       "      <td>0</td>\n",
       "      <td>0</td>\n",
       "      <td>0</td>\n",
       "      <td>0</td>\n",
       "      <td>0</td>\n",
       "      <td>0</td>\n",
       "      <td>0</td>\n",
       "      <td>0</td>\n",
       "      <td>0</td>\n",
       "      <td>0</td>\n",
       "      <td>0</td>\n",
       "      <td>0</td>\n",
       "      <td>0</td>\n",
       "      <td>0</td>\n",
       "      <td>0</td>\n",
       "      <td>0</td>\n",
       "      <td>0</td>\n",
       "      <td>0</td>\n",
       "      <td>0</td>\n",
       "      <td>0</td>\n",
       "      <td>0</td>\n",
       "      <td>0</td>\n",
       "      <td>0</td>\n",
       "      <td>0</td>\n",
       "      <td>0</td>\n",
       "      <td>0</td>\n",
       "      <td>0</td>\n",
       "      <td>0</td>\n",
       "      <td>0</td>\n",
       "      <td>0</td>\n",
       "      <td>0</td>\n",
       "      <td>0</td>\n",
       "      <td>0</td>\n",
       "      <td>0</td>\n",
       "      <td>0</td>\n",
       "      <td>0</td>\n",
       "      <td>0</td>\n",
       "      <td>0</td>\n",
       "      <td>0</td>\n",
       "      <td>0</td>\n",
       "      <td>0</td>\n",
       "      <td>0</td>\n",
       "      <td>0</td>\n",
       "      <td>0</td>\n",
       "      <td>0</td>\n",
       "      <td>0</td>\n",
       "      <td>0</td>\n",
       "      <td>0</td>\n",
       "      <td>1</td>\n",
       "      <td>0</td>\n",
       "      <td>0</td>\n",
       "      <td>0</td>\n",
       "      <td>0</td>\n",
       "      <td>0</td>\n",
       "      <td>0</td>\n",
       "      <td>0</td>\n",
       "      <td>0</td>\n",
       "      <td>0</td>\n",
       "      <td>0</td>\n",
       "      <td>0</td>\n",
       "      <td>0</td>\n",
       "      <td>0</td>\n",
       "      <td>0</td>\n",
       "      <td>0</td>\n",
       "      <td>0</td>\n",
       "      <td>0</td>\n",
       "      <td>0</td>\n",
       "      <td>0</td>\n",
       "      <td>0</td>\n",
       "      <td>0</td>\n",
       "      <td>0</td>\n",
       "      <td>0</td>\n",
       "      <td>0</td>\n",
       "      <td>0</td>\n",
       "      <td>0</td>\n",
       "      <td>0</td>\n",
       "      <td>0</td>\n",
       "      <td>0</td>\n",
       "      <td>0</td>\n",
       "      <td>0</td>\n",
       "      <td>0</td>\n",
       "      <td>0</td>\n",
       "      <td>0</td>\n",
       "      <td>0</td>\n",
       "      <td>0</td>\n",
       "      <td>0</td>\n",
       "      <td>0</td>\n",
       "      <td>0</td>\n",
       "      <td>0</td>\n",
       "      <td>0</td>\n",
       "      <td>0</td>\n",
       "      <td>0</td>\n",
       "      <td>0</td>\n",
       "      <td>0</td>\n",
       "      <td>0</td>\n",
       "      <td>0</td>\n",
       "      <td>0</td>\n",
       "      <td>0</td>\n",
       "      <td>0</td>\n",
       "      <td>0</td>\n",
       "      <td>0</td>\n",
       "      <td>0</td>\n",
       "      <td>0</td>\n",
       "      <td>0</td>\n",
       "      <td>0</td>\n",
       "      <td>0</td>\n",
       "      <td>0</td>\n",
       "      <td>0</td>\n",
       "      <td>0</td>\n",
       "      <td>0</td>\n",
       "      <td>0</td>\n",
       "      <td>0</td>\n",
       "      <td>0</td>\n",
       "      <td>0</td>\n",
       "      <td>0</td>\n",
       "      <td>0</td>\n",
       "      <td>0</td>\n",
       "      <td>0</td>\n",
       "      <td>0</td>\n",
       "      <td>0</td>\n",
       "      <td>0</td>\n",
       "      <td>0</td>\n",
       "      <td>0</td>\n",
       "      <td>0</td>\n",
       "      <td>0</td>\n",
       "      <td>0</td>\n",
       "      <td>0</td>\n",
       "      <td>0</td>\n",
       "      <td>0</td>\n",
       "      <td>0</td>\n",
       "      <td>0</td>\n",
       "      <td>0</td>\n",
       "      <td>0</td>\n",
       "      <td>0</td>\n",
       "      <td>0</td>\n",
       "      <td>0</td>\n",
       "      <td>0</td>\n",
       "      <td>0</td>\n",
       "      <td>0</td>\n",
       "      <td>0</td>\n",
       "      <td>0</td>\n",
       "      <td>0</td>\n",
       "      <td>0</td>\n",
       "      <td>0</td>\n",
       "      <td>0</td>\n",
       "      <td>0</td>\n",
       "      <td>0</td>\n",
       "      <td>0</td>\n",
       "      <td>0</td>\n",
       "      <td>0</td>\n",
       "      <td>0</td>\n",
       "      <td>0</td>\n",
       "      <td>0</td>\n",
       "      <td>0</td>\n",
       "      <td>0</td>\n",
       "      <td>0</td>\n",
       "      <td>0</td>\n",
       "      <td>0</td>\n",
       "      <td>0</td>\n",
       "      <td>0</td>\n",
       "      <td>0</td>\n",
       "      <td>0</td>\n",
       "      <td>0</td>\n",
       "      <td>0</td>\n",
       "      <td>0</td>\n",
       "      <td>0</td>\n",
       "      <td>0</td>\n",
       "      <td>0</td>\n",
       "      <td>0</td>\n",
       "      <td>0</td>\n",
       "      <td>0</td>\n",
       "      <td>0</td>\n",
       "      <td>0</td>\n",
       "      <td>0</td>\n",
       "      <td>0</td>\n",
       "      <td>0</td>\n",
       "      <td>0</td>\n",
       "      <td>0</td>\n",
       "      <td>0</td>\n",
       "      <td>0</td>\n",
       "      <td>0</td>\n",
       "      <td>0</td>\n",
       "      <td>0</td>\n",
       "      <td>0</td>\n",
       "      <td>0</td>\n",
       "      <td>0</td>\n",
       "      <td>1</td>\n",
       "      <td>0</td>\n",
       "      <td>1</td>\n",
       "      <td>0</td>\n",
       "      <td>0</td>\n",
       "      <td>0</td>\n",
       "      <td>0</td>\n",
       "      <td>0</td>\n",
       "    </tr>\n",
       "    <tr>\n",
       "      <th>4</th>\n",
       "      <td>3</td>\n",
       "      <td>8</td>\n",
       "      <td>0</td>\n",
       "      <td>0</td>\n",
       "      <td>0</td>\n",
       "      <td>0</td>\n",
       "      <td>0</td>\n",
       "      <td>0</td>\n",
       "      <td>1</td>\n",
       "      <td>0</td>\n",
       "      <td>1</td>\n",
       "      <td>1</td>\n",
       "      <td>696</td>\n",
       "      <td>95</td>\n",
       "      <td>1</td>\n",
       "      <td>0</td>\n",
       "      <td>0</td>\n",
       "      <td>0</td>\n",
       "      <td>0</td>\n",
       "      <td>0</td>\n",
       "      <td>0</td>\n",
       "      <td>0</td>\n",
       "      <td>0</td>\n",
       "      <td>0</td>\n",
       "      <td>0</td>\n",
       "      <td>0</td>\n",
       "      <td>0</td>\n",
       "      <td>0</td>\n",
       "      <td>0</td>\n",
       "      <td>0</td>\n",
       "      <td>0</td>\n",
       "      <td>0</td>\n",
       "      <td>0</td>\n",
       "      <td>0</td>\n",
       "      <td>0</td>\n",
       "      <td>0</td>\n",
       "      <td>0</td>\n",
       "      <td>0</td>\n",
       "      <td>0</td>\n",
       "      <td>0</td>\n",
       "      <td>0</td>\n",
       "      <td>0</td>\n",
       "      <td>0</td>\n",
       "      <td>0</td>\n",
       "      <td>0</td>\n",
       "      <td>0</td>\n",
       "      <td>0</td>\n",
       "      <td>0</td>\n",
       "      <td>0</td>\n",
       "      <td>0</td>\n",
       "      <td>0</td>\n",
       "      <td>0</td>\n",
       "      <td>0</td>\n",
       "      <td>0</td>\n",
       "      <td>0</td>\n",
       "      <td>0</td>\n",
       "      <td>0</td>\n",
       "      <td>0</td>\n",
       "      <td>0</td>\n",
       "      <td>0</td>\n",
       "      <td>0</td>\n",
       "      <td>0</td>\n",
       "      <td>0</td>\n",
       "      <td>0</td>\n",
       "      <td>0</td>\n",
       "      <td>0</td>\n",
       "      <td>0</td>\n",
       "      <td>0</td>\n",
       "      <td>0</td>\n",
       "      <td>0</td>\n",
       "      <td>0</td>\n",
       "      <td>0</td>\n",
       "      <td>0</td>\n",
       "      <td>0</td>\n",
       "      <td>0</td>\n",
       "      <td>0</td>\n",
       "      <td>0</td>\n",
       "      <td>0</td>\n",
       "      <td>0</td>\n",
       "      <td>0</td>\n",
       "      <td>0</td>\n",
       "      <td>1</td>\n",
       "      <td>0</td>\n",
       "      <td>0</td>\n",
       "      <td>0</td>\n",
       "      <td>0</td>\n",
       "      <td>0</td>\n",
       "      <td>0</td>\n",
       "      <td>0</td>\n",
       "      <td>0</td>\n",
       "      <td>0</td>\n",
       "      <td>0</td>\n",
       "      <td>0</td>\n",
       "      <td>0</td>\n",
       "      <td>0</td>\n",
       "      <td>0</td>\n",
       "      <td>0</td>\n",
       "      <td>0</td>\n",
       "      <td>0</td>\n",
       "      <td>0</td>\n",
       "      <td>0</td>\n",
       "      <td>0</td>\n",
       "      <td>0</td>\n",
       "      <td>0</td>\n",
       "      <td>0</td>\n",
       "      <td>0</td>\n",
       "      <td>0</td>\n",
       "      <td>0</td>\n",
       "      <td>0</td>\n",
       "      <td>0</td>\n",
       "      <td>0</td>\n",
       "      <td>0</td>\n",
       "      <td>0</td>\n",
       "      <td>0</td>\n",
       "      <td>0</td>\n",
       "      <td>0</td>\n",
       "      <td>0</td>\n",
       "      <td>0</td>\n",
       "      <td>0</td>\n",
       "      <td>0</td>\n",
       "      <td>0</td>\n",
       "      <td>0</td>\n",
       "      <td>0</td>\n",
       "      <td>0</td>\n",
       "      <td>0</td>\n",
       "      <td>0</td>\n",
       "      <td>0</td>\n",
       "      <td>0</td>\n",
       "      <td>0</td>\n",
       "      <td>0</td>\n",
       "      <td>0</td>\n",
       "      <td>0</td>\n",
       "      <td>0</td>\n",
       "      <td>0</td>\n",
       "      <td>0</td>\n",
       "      <td>0</td>\n",
       "      <td>0</td>\n",
       "      <td>0</td>\n",
       "      <td>0</td>\n",
       "      <td>0</td>\n",
       "      <td>0</td>\n",
       "      <td>0</td>\n",
       "      <td>0</td>\n",
       "      <td>0</td>\n",
       "      <td>0</td>\n",
       "      <td>0</td>\n",
       "      <td>0</td>\n",
       "      <td>0</td>\n",
       "      <td>0</td>\n",
       "      <td>0</td>\n",
       "      <td>0</td>\n",
       "      <td>0</td>\n",
       "      <td>0</td>\n",
       "      <td>0</td>\n",
       "      <td>0</td>\n",
       "      <td>0</td>\n",
       "      <td>0</td>\n",
       "      <td>0</td>\n",
       "      <td>0</td>\n",
       "      <td>0</td>\n",
       "      <td>0</td>\n",
       "      <td>0</td>\n",
       "      <td>0</td>\n",
       "      <td>0</td>\n",
       "      <td>0</td>\n",
       "      <td>0</td>\n",
       "      <td>0</td>\n",
       "      <td>0</td>\n",
       "      <td>0</td>\n",
       "      <td>0</td>\n",
       "      <td>0</td>\n",
       "      <td>0</td>\n",
       "      <td>0</td>\n",
       "      <td>0</td>\n",
       "      <td>0</td>\n",
       "      <td>0</td>\n",
       "      <td>0</td>\n",
       "      <td>0</td>\n",
       "      <td>0</td>\n",
       "      <td>0</td>\n",
       "      <td>0</td>\n",
       "      <td>0</td>\n",
       "      <td>0</td>\n",
       "      <td>0</td>\n",
       "      <td>0</td>\n",
       "      <td>0</td>\n",
       "      <td>0</td>\n",
       "      <td>0</td>\n",
       "      <td>0</td>\n",
       "      <td>0</td>\n",
       "      <td>0</td>\n",
       "      <td>0</td>\n",
       "      <td>0</td>\n",
       "      <td>0</td>\n",
       "      <td>0</td>\n",
       "      <td>0</td>\n",
       "      <td>0</td>\n",
       "      <td>0</td>\n",
       "      <td>0</td>\n",
       "      <td>0</td>\n",
       "      <td>0</td>\n",
       "      <td>0</td>\n",
       "      <td>0</td>\n",
       "      <td>0</td>\n",
       "      <td>0</td>\n",
       "      <td>0</td>\n",
       "      <td>0</td>\n",
       "      <td>0</td>\n",
       "      <td>0</td>\n",
       "      <td>0</td>\n",
       "      <td>0</td>\n",
       "      <td>0</td>\n",
       "      <td>0</td>\n",
       "      <td>0</td>\n",
       "      <td>0</td>\n",
       "      <td>0</td>\n",
       "      <td>0</td>\n",
       "      <td>0</td>\n",
       "      <td>0</td>\n",
       "      <td>1</td>\n",
       "      <td>0</td>\n",
       "      <td>0</td>\n",
       "      <td>0</td>\n",
       "      <td>0</td>\n",
       "      <td>0</td>\n",
       "      <td>0</td>\n",
       "      <td>0</td>\n",
       "    </tr>\n",
       "  </tbody>\n",
       "</table>\n",
       "</div>"
      ],
      "text/plain": [
       "   socialNbFollowers  socialNbFollows  socialProductsLiked  productsListed  \\\n",
       "0                  3                8                    0               0   \n",
       "1                  3                8                   41               0   \n",
       "2                  4                8                    0               0   \n",
       "3                  3                8                    0               0   \n",
       "4                  3                8                    0               0   \n",
       "\n",
       "   productsSold  productsPassRate  productsWished  productsBought  hasAnyApp  \\\n",
       "0             0                 0               0               0          0   \n",
       "1             0                 0               0               0          1   \n",
       "2             0                 0               0               0          0   \n",
       "3             0                 0               0               0          0   \n",
       "4             0                 0               0               0          1   \n",
       "\n",
       "   hasAndroidApp  hasIosApp  hasProfilePicture  daysSinceLastLogin  \\\n",
       "0              0          0                  1                 699   \n",
       "1              0          1                  1                 605   \n",
       "2              0          0                  1                 639   \n",
       "3              0          0                  1                 707   \n",
       "4              0          1                  1                 696   \n",
       "\n",
       "   seniorityAsMonths  civGen_1  civGen_2  civGen_3  countryCode_ad  \\\n",
       "0                106         0         1         0               0   \n",
       "1                107         0         1         0               0   \n",
       "2                 95         1         0         0               0   \n",
       "3                107         0         1         0               0   \n",
       "4                 95         1         0         0               0   \n",
       "\n",
       "   countryCode_ae  countryCode_af  countryCode_ag  countryCode_ai  \\\n",
       "0               0               0               0               0   \n",
       "1               0               0               0               0   \n",
       "2               0               0               0               0   \n",
       "3               0               0               0               0   \n",
       "4               0               0               0               0   \n",
       "\n",
       "   countryCode_al  countryCode_am  countryCode_an  countryCode_ao  \\\n",
       "0               0               0               0               0   \n",
       "1               0               0               0               0   \n",
       "2               0               0               0               0   \n",
       "3               0               0               0               0   \n",
       "4               0               0               0               0   \n",
       "\n",
       "   countryCode_aq  countryCode_ar  countryCode_as  countryCode_at  \\\n",
       "0               0               0               0               0   \n",
       "1               0               0               0               0   \n",
       "2               0               0               0               0   \n",
       "3               0               0               0               0   \n",
       "4               0               0               0               0   \n",
       "\n",
       "   countryCode_au  countryCode_aw  countryCode_az  countryCode_ba  \\\n",
       "0               1               0               0               0   \n",
       "1               0               0               0               0   \n",
       "2               0               0               0               0   \n",
       "3               0               0               0               0   \n",
       "4               0               0               0               0   \n",
       "\n",
       "   countryCode_bb  countryCode_bd  countryCode_be  countryCode_bf  \\\n",
       "0               0               0               0               0   \n",
       "1               0               0               0               0   \n",
       "2               0               0               0               0   \n",
       "3               0               0               0               0   \n",
       "4               0               0               0               0   \n",
       "\n",
       "   countryCode_bg  countryCode_bh  countryCode_bj  countryCode_bl  \\\n",
       "0               0               0               0               0   \n",
       "1               0               0               0               0   \n",
       "2               0               0               0               0   \n",
       "3               0               0               0               0   \n",
       "4               0               0               0               0   \n",
       "\n",
       "   countryCode_bm  countryCode_bn  countryCode_bo  countryCode_br  \\\n",
       "0               0               0               0               0   \n",
       "1               0               0               0               0   \n",
       "2               0               0               0               0   \n",
       "3               0               0               0               0   \n",
       "4               0               0               0               0   \n",
       "\n",
       "   countryCode_bs  countryCode_bv  countryCode_bw  countryCode_by  \\\n",
       "0               0               0               0               0   \n",
       "1               0               0               0               0   \n",
       "2               0               0               0               0   \n",
       "3               0               0               0               0   \n",
       "4               0               0               0               0   \n",
       "\n",
       "   countryCode_bz  countryCode_ca  countryCode_cd  countryCode_cf  \\\n",
       "0               0               0               0               0   \n",
       "1               0               0               0               0   \n",
       "2               0               0               0               0   \n",
       "3               0               0               0               0   \n",
       "4               0               0               0               0   \n",
       "\n",
       "   countryCode_cg  countryCode_ch  countryCode_ci  countryCode_cl  \\\n",
       "0               0               0               0               0   \n",
       "1               0               0               0               0   \n",
       "2               0               0               0               0   \n",
       "3               0               0               0               0   \n",
       "4               0               0               0               0   \n",
       "\n",
       "   countryCode_cm  countryCode_cn  countryCode_co  countryCode_cr  \\\n",
       "0               0               0               0               0   \n",
       "1               0               0               0               0   \n",
       "2               0               0               0               0   \n",
       "3               0               0               0               0   \n",
       "4               0               0               0               0   \n",
       "\n",
       "   countryCode_cu  countryCode_cy  countryCode_cz  countryCode_de  \\\n",
       "0               0               0               0               0   \n",
       "1               0               0               0               1   \n",
       "2               0               0               0               0   \n",
       "3               0               0               0               0   \n",
       "4               0               0               0               0   \n",
       "\n",
       "   countryCode_dj  countryCode_dk  countryCode_dm  countryCode_do  \\\n",
       "0               0               0               0               0   \n",
       "1               0               0               0               0   \n",
       "2               0               0               0               0   \n",
       "3               0               0               0               0   \n",
       "4               0               0               0               0   \n",
       "\n",
       "   countryCode_dz  countryCode_ec  countryCode_ee  countryCode_eg  \\\n",
       "0               0               0               0               0   \n",
       "1               0               0               0               0   \n",
       "2               0               0               0               0   \n",
       "3               0               0               0               0   \n",
       "4               0               0               0               0   \n",
       "\n",
       "   countryCode_er  countryCode_es  countryCode_et  countryCode_fi  \\\n",
       "0               0               0               0               0   \n",
       "1               0               0               0               0   \n",
       "2               0               0               0               0   \n",
       "3               0               0               0               0   \n",
       "4               0               0               0               0   \n",
       "\n",
       "   countryCode_fj  countryCode_fk  countryCode_fo  countryCode_fr  \\\n",
       "0               0               0               0               0   \n",
       "1               0               0               0               0   \n",
       "2               0               0               0               1   \n",
       "3               0               0               0               1   \n",
       "4               0               0               0               1   \n",
       "\n",
       "   countryCode_ga  countryCode_gb  countryCode_gd  countryCode_ge  \\\n",
       "0               0               0               0               0   \n",
       "1               0               0               0               0   \n",
       "2               0               0               0               0   \n",
       "3               0               0               0               0   \n",
       "4               0               0               0               0   \n",
       "\n",
       "   countryCode_gg  countryCode_gh  countryCode_gi  countryCode_gm  \\\n",
       "0               0               0               0               0   \n",
       "1               0               0               0               0   \n",
       "2               0               0               0               0   \n",
       "3               0               0               0               0   \n",
       "4               0               0               0               0   \n",
       "\n",
       "   countryCode_gn  countryCode_gp  countryCode_gr  countryCode_gs  \\\n",
       "0               0               0               0               0   \n",
       "1               0               0               0               0   \n",
       "2               0               0               0               0   \n",
       "3               0               0               0               0   \n",
       "4               0               0               0               0   \n",
       "\n",
       "   countryCode_gt  countryCode_gu  countryCode_gy  countryCode_hk  \\\n",
       "0               0               0               0               0   \n",
       "1               0               0               0               0   \n",
       "2               0               0               0               0   \n",
       "3               0               0               0               0   \n",
       "4               0               0               0               0   \n",
       "\n",
       "   countryCode_hn  countryCode_hr  countryCode_ht  countryCode_hu  \\\n",
       "0               0               0               0               0   \n",
       "1               0               0               0               0   \n",
       "2               0               0               0               0   \n",
       "3               0               0               0               0   \n",
       "4               0               0               0               0   \n",
       "\n",
       "   countryCode_ic  countryCode_id  countryCode_ie  countryCode_il  \\\n",
       "0               0               0               0               0   \n",
       "1               0               0               0               0   \n",
       "2               0               0               0               0   \n",
       "3               0               0               0               0   \n",
       "4               0               0               0               0   \n",
       "\n",
       "   countryCode_im  countryCode_in  countryCode_iq  countryCode_ir  \\\n",
       "0               0               0               0               0   \n",
       "1               0               0               0               0   \n",
       "2               0               0               0               0   \n",
       "3               0               0               0               0   \n",
       "4               0               0               0               0   \n",
       "\n",
       "   countryCode_is  countryCode_it  countryCode_je  countryCode_jm  \\\n",
       "0               0               0               0               0   \n",
       "1               0               0               0               0   \n",
       "2               0               0               0               0   \n",
       "3               0               0               0               0   \n",
       "4               0               0               0               0   \n",
       "\n",
       "   countryCode_jo  countryCode_jp  countryCode_ke  countryCode_kg  \\\n",
       "0               0               0               0               0   \n",
       "1               0               0               0               0   \n",
       "2               0               0               0               0   \n",
       "3               0               0               0               0   \n",
       "4               0               0               0               0   \n",
       "\n",
       "   countryCode_kh  countryCode_ki  countryCode_kn  countryCode_kp  \\\n",
       "0               0               0               0               0   \n",
       "1               0               0               0               0   \n",
       "2               0               0               0               0   \n",
       "3               0               0               0               0   \n",
       "4               0               0               0               0   \n",
       "\n",
       "   countryCode_kr  countryCode_kw  countryCode_ky  countryCode_kz  \\\n",
       "0               0               0               0               0   \n",
       "1               0               0               0               0   \n",
       "2               0               0               0               0   \n",
       "3               0               0               0               0   \n",
       "4               0               0               0               0   \n",
       "\n",
       "   countryCode_la  countryCode_lb  countryCode_lc  countryCode_li  \\\n",
       "0               0               0               0               0   \n",
       "1               0               0               0               0   \n",
       "2               0               0               0               0   \n",
       "3               0               0               0               0   \n",
       "4               0               0               0               0   \n",
       "\n",
       "   countryCode_lk  countryCode_lt  countryCode_lu  countryCode_lv  \\\n",
       "0               0               0               0               0   \n",
       "1               0               0               0               0   \n",
       "2               0               0               0               0   \n",
       "3               0               0               0               0   \n",
       "4               0               0               0               0   \n",
       "\n",
       "   countryCode_ly  countryCode_ma  countryCode_mc  countryCode_md  \\\n",
       "0               0               0               0               0   \n",
       "1               0               0               0               0   \n",
       "2               0               0               0               0   \n",
       "3               0               0               0               0   \n",
       "4               0               0               0               0   \n",
       "\n",
       "   countryCode_mg  countryCode_mk  countryCode_ml  countryCode_mm  \\\n",
       "0               0               0               0               0   \n",
       "1               0               0               0               0   \n",
       "2               0               0               0               0   \n",
       "3               0               0               0               0   \n",
       "4               0               0               0               0   \n",
       "\n",
       "   countryCode_mn  countryCode_mo  countryCode_mq  countryCode_mr  \\\n",
       "0               0               0               0               0   \n",
       "1               0               0               0               0   \n",
       "2               0               0               0               0   \n",
       "3               0               0               0               0   \n",
       "4               0               0               0               0   \n",
       "\n",
       "   countryCode_mt  countryCode_mu  countryCode_mv  countryCode_mx  \\\n",
       "0               0               0               0               0   \n",
       "1               0               0               0               0   \n",
       "2               0               0               0               0   \n",
       "3               0               0               0               0   \n",
       "4               0               0               0               0   \n",
       "\n",
       "   countryCode_my  countryCode_na  countryCode_nc  countryCode_ne  \\\n",
       "0               0               0               0               0   \n",
       "1               0               0               0               0   \n",
       "2               0               0               0               0   \n",
       "3               0               0               0               0   \n",
       "4               0               0               0               0   \n",
       "\n",
       "   countryCode_nf  countryCode_ng  countryCode_ni  countryCode_nl  \\\n",
       "0               0               0               0               0   \n",
       "1               0               0               0               0   \n",
       "2               0               0               0               0   \n",
       "3               0               0               0               0   \n",
       "4               0               0               0               0   \n",
       "\n",
       "   countryCode_no  countryCode_np  countryCode_nz  countryCode_om  \\\n",
       "0               0               0               0               0   \n",
       "1               0               0               0               0   \n",
       "2               0               0               0               0   \n",
       "3               0               0               0               0   \n",
       "4               0               0               0               0   \n",
       "\n",
       "   countryCode_pa  countryCode_pe  countryCode_pf  countryCode_ph  \\\n",
       "0               0               0               0               0   \n",
       "1               0               0               0               0   \n",
       "2               0               0               0               0   \n",
       "3               0               0               0               0   \n",
       "4               0               0               0               0   \n",
       "\n",
       "   countryCode_pk  countryCode_pl  countryCode_pr  countryCode_pt  \\\n",
       "0               0               0               0               0   \n",
       "1               0               0               0               0   \n",
       "2               0               0               0               0   \n",
       "3               0               0               0               0   \n",
       "4               0               0               0               0   \n",
       "\n",
       "   countryCode_pw  countryCode_py  countryCode_qa  countryCode_re  \\\n",
       "0               0               0               0               0   \n",
       "1               0               0               0               0   \n",
       "2               0               0               0               0   \n",
       "3               0               0               0               0   \n",
       "4               0               0               0               0   \n",
       "\n",
       "   countryCode_ro  countryCode_rs  countryCode_ru  countryCode_rw  \\\n",
       "0               0               0               0               0   \n",
       "1               0               0               0               0   \n",
       "2               0               0               0               0   \n",
       "3               0               0               0               0   \n",
       "4               0               0               0               0   \n",
       "\n",
       "   countryCode_sa  countryCode_se  countryCode_sg  countryCode_si  \\\n",
       "0               0               0               0               0   \n",
       "1               0               0               0               0   \n",
       "2               0               0               0               0   \n",
       "3               0               0               0               0   \n",
       "4               0               0               0               0   \n",
       "\n",
       "   countryCode_sj  countryCode_sk  countryCode_sn  countryCode_sr  \\\n",
       "0               0               0               0               0   \n",
       "1               0               0               0               0   \n",
       "2               0               0               0               0   \n",
       "3               0               0               0               0   \n",
       "4               0               0               0               0   \n",
       "\n",
       "   countryCode_sv  countryCode_sy  countryCode_sz  countryCode_tc  \\\n",
       "0               0               0               0               0   \n",
       "1               0               0               0               0   \n",
       "2               0               0               0               0   \n",
       "3               0               0               0               0   \n",
       "4               0               0               0               0   \n",
       "\n",
       "   countryCode_td  countryCode_tg  countryCode_th  countryCode_tj  \\\n",
       "0               0               0               0               0   \n",
       "1               0               0               0               0   \n",
       "2               0               0               0               0   \n",
       "3               0               0               0               0   \n",
       "4               0               0               0               0   \n",
       "\n",
       "   countryCode_tn  countryCode_tr  countryCode_tt  countryCode_tw  \\\n",
       "0               0               0               0               0   \n",
       "1               0               0               0               0   \n",
       "2               0               0               0               0   \n",
       "3               0               0               0               0   \n",
       "4               0               0               0               0   \n",
       "\n",
       "   countryCode_tz  countryCode_ua  countryCode_ug  countryCode_um  \\\n",
       "0               0               0               0               0   \n",
       "1               0               0               0               0   \n",
       "2               0               0               0               0   \n",
       "3               0               0               0               0   \n",
       "4               0               0               0               0   \n",
       "\n",
       "   countryCode_us  countryCode_uy  countryCode_uz  countryCode_vc  \\\n",
       "0               0               0               0               0   \n",
       "1               0               0               0               0   \n",
       "2               0               0               0               0   \n",
       "3               0               0               0               0   \n",
       "4               0               0               0               0   \n",
       "\n",
       "   countryCode_ve  countryCode_vg  countryCode_vi  countryCode_vn  \\\n",
       "0               0               0               0               0   \n",
       "1               0               0               0               0   \n",
       "2               0               0               0               0   \n",
       "3               0               0               0               0   \n",
       "4               0               0               0               0   \n",
       "\n",
       "   countryCode_vu  countryCode_ws  countryCode_yt  countryCode_za  \\\n",
       "0               0               0               0               0   \n",
       "1               0               0               0               0   \n",
       "2               0               0               0               0   \n",
       "3               0               0               0               0   \n",
       "4               0               0               0               0   \n",
       "\n",
       "   countryCode_zm  countryCode_zw  language_de  language_en  language_es  \\\n",
       "0               0               0            0            1            0   \n",
       "1               0               0            1            0            0   \n",
       "2               0               0            0            0            0   \n",
       "3               0               0            0            0            0   \n",
       "4               0               0            0            0            0   \n",
       "\n",
       "   language_fr  language_it  gender  target  pred_relu  pred_tanh  pred_elu  \\\n",
       "0            0            0       1       0          0          0         0   \n",
       "1            0            0       1       0          0          0         0   \n",
       "2            1            0       0       0          0          0         0   \n",
       "3            1            0       1       0          0          0         0   \n",
       "4            1            0       0       0          0          0         0   \n",
       "\n",
       "   pred_leaky  \n",
       "0           0  \n",
       "1           0  \n",
       "2           0  \n",
       "3           0  \n",
       "4           0  "
      ]
     },
     "execution_count": 12,
     "metadata": {},
     "output_type": "execute_result"
    }
   ],
   "source": [
    "data.head()"
   ]
  },
  {
   "cell_type": "code",
   "execution_count": 13,
   "id": "9021e4e4",
   "metadata": {},
   "outputs": [
    {
     "data": {
      "text/plain": [
       "['target', 'pred_relu', 'pred_tanh', 'pred_elu', 'pred_leaky']"
      ]
     },
     "execution_count": 13,
     "metadata": {},
     "output_type": "execute_result"
    }
   ],
   "source": [
    "features = list(data.columns[-5:])\n",
    "features"
   ]
  },
  {
   "cell_type": "markdown",
   "id": "81ccf8a4",
   "metadata": {},
   "source": [
    "#### Inspect Data"
   ]
  },
  {
   "cell_type": "markdown",
   "id": "336d1cd8",
   "metadata": {},
   "source": [
    "**Note:** The following confusion matrix should return a list of four (4) numbers, with zero (0) false negatives and false positives. Example: array([100, 0, 0, 10])"
   ]
  },
  {
   "cell_type": "code",
   "execution_count": 14,
   "id": "975e6d7d",
   "metadata": {},
   "outputs": [
    {
     "data": {
      "text/plain": [
       "array([28048,     0,     0,  1626], dtype=int64)"
      ]
     },
     "execution_count": 14,
     "metadata": {},
     "output_type": "execute_result"
    }
   ],
   "source": [
    "confusion_matrix(data.target, data.target).ravel()"
   ]
  },
  {
   "cell_type": "code",
   "execution_count": 15,
   "id": "28aa2135",
   "metadata": {},
   "outputs": [
    {
     "name": "stdout",
     "output_type": "stream",
     "text": [
      "Name\t    Total   TP     FP   TN     FN\n",
      "target    :  1626   1626     0  28048     0\n",
      "pred_relu :     0      0     0  28048  1626\n",
      "pred_tanh :   850    726   124  27924   900\n",
      "pred_elu  :   573    500    73  27975  1126\n",
      "pred_leaky:     0      0     0  28048  1626\n"
     ]
    }
   ],
   "source": [
    "print(\"Name\\t    Total   TP     FP   TN     FN\")\n",
    "for f in features:\n",
    "    total = data[f].sum()\n",
    "    try:\n",
    "        [tn, fp, fn, tp] = confusion_matrix(data.target, data[f]).ravel()\n",
    "    except Exception:\n",
    "        pass\n",
    "    print(f\"{f:10s}: {total:5.0f}  {tp:5.0f} {fp:5.0f} {tn:6.0f} {fn:5.0f}\")"
   ]
  },
  {
   "cell_type": "code",
   "execution_count": 16,
   "id": "c449a7fc",
   "metadata": {},
   "outputs": [
    {
     "data": {
      "image/png": "[encoded data removed]",
      "text/plain": [
       "<Figure size 432x288 with 2 Axes>"
      ]
     },
     "metadata": {},
     "output_type": "display_data"
    }
   ],
   "source": [
    "cm_relu = confusion_matrix(data.target, data.pred_relu)\n",
    "sns.set(font_scale=1.2)\n",
    "sns.heatmap(cm_relu, annot=True, cmap=\"coolwarm\", robust=True, fmt='g')\n",
    "plt.title(\"Confusion Matrix - ReLU\")\n",
    "plt.show()"
   ]
  },
  {
   "cell_type": "code",
   "execution_count": 17,
   "id": "a99acd3f",
   "metadata": {},
   "outputs": [
    {
     "data": {
      "image/png": "[encoded data removed]",
      "text/plain": [
       "<Figure size 432x288 with 2 Axes>"
      ]
     },
     "metadata": {},
     "output_type": "display_data"
    }
   ],
   "source": [
    "cm_tanh = confusion_matrix(data.target, data.pred_tanh)\n",
    "sns.set(font_scale=1.2)\n",
    "sns.heatmap(cm_tanh, annot=True, cmap=\"Greens\", robust=True, fmt='g')\n",
    "plt.title(\"Confusion Matrix - Tanh\")\n",
    "plt.show()"
   ]
  },
  {
   "cell_type": "code",
   "execution_count": 18,
   "id": "38e1cec2",
   "metadata": {},
   "outputs": [
    {
     "data": {
      "image/png": "[encoded data removed]",
      "text/plain": [
       "<Figure size 432x288 with 2 Axes>"
      ]
     },
     "metadata": {},
     "output_type": "display_data"
    }
   ],
   "source": [
    "cm_elu = confusion_matrix(data.target, data.pred_elu)\n",
    "sns.set(font_scale=1.2)\n",
    "sns.heatmap(cm_elu, annot=True, cmap=\"Blues\", robust=True, fmt='g')\n",
    "plt.title(\"Confusion Matrix - ELU\")\n",
    "plt.show()"
   ]
  },
  {
   "cell_type": "code",
   "execution_count": 19,
   "id": "f5316ac3",
   "metadata": {},
   "outputs": [
    {
     "data": {
      "image/png": "[encoded data removed]",
      "text/plain": [
       "<Figure size 432x288 with 2 Axes>"
      ]
     },
     "metadata": {},
     "output_type": "display_data"
    }
   ],
   "source": [
    "cm_leaky = confusion_matrix(data.target, data.pred_leaky)\n",
    "sns.set(font_scale=1.2)\n",
    "sns.heatmap(cm_leaky, annot=True, fmt='g')\n",
    "plt.title(\"Confusion Matrix - Leaky ReLU\")\n",
    "plt.show()"
   ]
  },
  {
   "cell_type": "markdown",
   "id": "6b4cd523",
   "metadata": {},
   "source": [
    "## Separate by protected feature"
   ]
  },
  {
   "cell_type": "code",
   "execution_count": 20,
   "id": "d70fef33",
   "metadata": {},
   "outputs": [],
   "source": [
    "# group A : protected attribute\n",
    "# group B : other\n",
    "GroupA = data[data[\"gender\"] == 1]\n",
    "GroupB = data[data[\"gender\"] == 0]\n",
    "attribute = [\"female\", \"male\"]"
   ]
  },
  {
   "cell_type": "code",
   "execution_count": 21,
   "id": "610e1015",
   "metadata": {},
   "outputs": [
    {
     "data": {
      "text/plain": [
       "(22722, 227)"
      ]
     },
     "execution_count": 21,
     "metadata": {},
     "output_type": "execute_result"
    }
   ],
   "source": [
    "GroupA.shape"
   ]
  },
  {
   "cell_type": "code",
   "execution_count": 22,
   "id": "70addb86",
   "metadata": {},
   "outputs": [
    {
     "data": {
      "text/plain": [
       "(6952, 227)"
      ]
     },
     "execution_count": 22,
     "metadata": {},
     "output_type": "execute_result"
    }
   ],
   "source": [
    "GroupB.shape"
   ]
  },
  {
   "cell_type": "code",
   "execution_count": 23,
   "id": "cf7eaa9f",
   "metadata": {},
   "outputs": [
    {
     "data": {
      "text/plain": [
       "(29674, 227)"
      ]
     },
     "execution_count": 23,
     "metadata": {},
     "output_type": "execute_result"
    }
   ],
   "source": [
    "data.shape"
   ]
  },
  {
   "cell_type": "markdown",
   "id": "5075a378",
   "metadata": {},
   "source": [
    "##### Control stats, baseline"
   ]
  },
  {
   "cell_type": "code",
   "execution_count": 24,
   "id": "0edd8bfe",
   "metadata": {},
   "outputs": [],
   "source": [
    "Cr, Ct, Ce, Cl = bias_metrics(data)"
   ]
  },
  {
   "cell_type": "code",
   "execution_count": 25,
   "id": "aa4c57a0",
   "metadata": {},
   "outputs": [
    {
     "data": {
      "text/plain": [
       "0.44649446494464945"
      ]
     },
     "execution_count": 25,
     "metadata": {},
     "output_type": "execute_result"
    }
   ],
   "source": [
    "Ct.TPR"
   ]
  },
  {
   "cell_type": "markdown",
   "id": "d5f42ee4",
   "metadata": {},
   "source": [
    "##### Stats for Group A and Group B dataframes"
   ]
  },
  {
   "cell_type": "code",
   "execution_count": 26,
   "id": "f034d542",
   "metadata": {},
   "outputs": [],
   "source": [
    "Ar, At, Ae, Al = bias_metrics(GroupA)\n",
    "Br, Bt, Be, Bl = bias_metrics(GroupB)"
   ]
  },
  {
   "cell_type": "code",
   "execution_count": 27,
   "id": "70f59e62",
   "metadata": {},
   "outputs": [
    {
     "data": {
      "text/plain": [
       "0.45868465430016864"
      ]
     },
     "execution_count": 27,
     "metadata": {},
     "output_type": "execute_result"
    }
   ],
   "source": [
    "At.TPR"
   ]
  },
  {
   "cell_type": "markdown",
   "id": "cee911ac",
   "metadata": {},
   "source": [
    "# Bias Testing"
   ]
  },
  {
   "cell_type": "markdown",
   "id": "64c2749b",
   "metadata": {},
   "source": [
    "#### Predictive parity"
   ]
  },
  {
   "cell_type": "markdown",
   "id": "c46800c4",
   "metadata": {},
   "source": [
    "Compares precision (or positive predictive value, PPV) between group with protected attribute and without protected attribute. In this instance female group with male group"
   ]
  },
  {
   "cell_type": "code",
   "execution_count": 28,
   "id": "af0e192c",
   "metadata": {},
   "outputs": [],
   "source": [
    "pp = [\n",
    "    Ar.PPV == Br.PPV,\n",
    "    At.PPV == Bt.PPV,\n",
    "    Ae.PPV == Be.PPV,\n",
    "    Al.PPV == Bl.PPV\n",
    "]"
   ]
  },
  {
   "cell_type": "code",
   "execution_count": 29,
   "id": "40791129",
   "metadata": {},
   "outputs": [],
   "source": [
    "pp_diff_r = 1 - (min(Ar.PPV,Br.PPV)/ max(Ar.PPV, Br.PPV))\n",
    "pp_diff_t = 1 - (min(At.PPV, Bt.PPV)/ max(At.PPV, Bt.PPV))\n",
    "pp_diff_e = 1 - (min(Ae.PPV, Be.PPV)/ max(Ae.PPV, Be.PPV))\n",
    "pp_diff_l = 1 - (min(Al.PPV, Bl.PPV)/ max(Al.PPV, Bl.PPV))"
   ]
  },
  {
   "cell_type": "code",
   "execution_count": 30,
   "id": "35b8ac1b",
   "metadata": {},
   "outputs": [
    {
     "name": "stdout",
     "output_type": "stream",
     "text": [
      "Predictive parity -\n",
      "Name\tPPV\tFDR\tPPV        FDR       Difference\n",
      "relu\tFalse\tFalse\tnan\t       nan\tnan\n",
      "tanh\tFalse\tFalse\t0.85535\t   0.85047\t0.00570\n",
      "elu\tFalse\tFalse\t0.87126\t   0.87681\t0.00633\n",
      "leaky\tFalse\tFalse\tnan\t       nan\tnan\n"
     ]
    }
   ],
   "source": [
    "print(\"Predictive parity -\")\n",
    "one = \"PPV\"\n",
    "two = \"FDR\"\n",
    "print(f\"Name\\t{one}\\t{two}\\t{one:11s}{two:10s}Difference\")\n",
    "print(f\"{Ar.name}\\t{pp[0]}\\t{Ar.FDR == Br.FDR}\\t{Ar.PPV:0.5f}\\t{Br.PPV:10.5f}\\t{pp_diff_r:0.5f}\")\n",
    "print(f\"{At.name}\\t{pp[1]}\\t{At.FDR == Bt.FDR}\\t{At.PPV:0.5f}\\t{Bt.PPV:10.5f}\\t{pp_diff_t:0.5f}\")\n",
    "print(f\"{Ae.name}\\t{pp[2]}\\t{Ae.FDR == Be.FDR}\\t{Ae.PPV:0.5f}\\t{Be.PPV:10.5f}\\t{pp_diff_e:0.5f}\")\n",
    "print(f\"{Al.name}\\t{pp[3]}\\t{Al.FDR == Bl.FDR}\\t{Al.PPV:0.5f}\\t{Bl.PPV:10.5f}\\t{pp_diff_l:0.5f}\")"
   ]
  },
  {
   "cell_type": "code",
   "execution_count": 31,
   "id": "e257916a",
   "metadata": {},
   "outputs": [
    {
     "data": {
      "text/plain": [
       "cmatrix(name='relu', TP=0, FP=0, TN=28048, FN=1626, PPV=nan, TPR=0.0, FDR=nan, FPR=0.0, FOR=0.054795443822875246, FNR=1.0, NPV=0.9452045561771247, TNR=1.0)"
      ]
     },
     "execution_count": 31,
     "metadata": {},
     "output_type": "execute_result"
    }
   ],
   "source": [
    "Cr"
   ]
  },
  {
   "cell_type": "markdown",
   "id": "30cdc690",
   "metadata": {},
   "source": [
    "#### Predictive Equality"
   ]
  },
  {
   "cell_type": "markdown",
   "id": "a625cf1f",
   "metadata": {},
   "source": [
    "Also called the False Positive Error Balance, this metric considers compares the false positive rates (FPR) between groups."
   ]
  },
  {
   "cell_type": "code",
   "execution_count": 32,
   "id": "69df0746",
   "metadata": {},
   "outputs": [],
   "source": [
    "pe = [\n",
    "    Ar.FPR == Br.FPR,\n",
    "    At.FPR == Bt.FPR,\n",
    "    Ae.FPR == Be.FPR,\n",
    "    Al.FPR == Bl.FPR    \n",
    "]"
   ]
  },
  {
   "cell_type": "code",
   "execution_count": 33,
   "id": "ef5b4827",
   "metadata": {},
   "outputs": [],
   "source": [
    "pe_diff_r = 1-(min(Ar.FPR, Br.FPR)/max(Ar.FPR, Br.FPR))\n",
    "pe_diff_t = 1-(min(At.FPR, Bt.FPR)/max(At.FPR, Bt.FPR))\n",
    "pe_diff_e = 1-(min(Ae.FPR, Be.FPR)/max(Ae.FPR, Be.FPR))\n",
    "pe_diff_l = 1-(min(Al.FPR, Bl.FPR)/max(Al.FPR, Bl.FPR))"
   ]
  },
  {
   "cell_type": "code",
   "execution_count": 34,
   "id": "6103f370",
   "metadata": {},
   "outputs": [
    {
     "name": "stdout",
     "output_type": "stream",
     "text": [
      "Predictive equality -\n",
      "Name\tFPR\tTNR\tFPR        TNR       \tDifference\n",
      "relu\tTrue\tTrue\t0.00000\t   0.00000\tnan\n",
      "tanh\tFalse\tFalse\t0.00427\t   0.00491\t0.13066\n",
      "elu\tFalse\tFalse\t0.00260\t   0.00261\t0.00393\n",
      "leaky\tTrue\tTrue\t0.00000\t   0.00000\tnan\n"
     ]
    }
   ],
   "source": [
    "print(\"Predictive equality -\")\n",
    "one = \"FPR\"\n",
    "two = \"TNR\"\n",
    "print(f\"Name\\t{one}\\t{two}\\t{one:11s}{two:10s}\\tDifference\")\n",
    "print(f\"{Ar.name}\\t{pe[0]}\\t{Ar.TNR == Br.TNR}\\t{Ar.FPR:0.5f}\\t{Br.FPR:10.5f}\\t{pe_diff_r:0.5f}\")\n",
    "print(f\"{At.name}\\t{pe[1]}\\t{At.TNR == Bt.TNR}\\t{At.FPR:0.5f}\\t{Bt.FPR:10.5f}\\t{pe_diff_t:0.5f}\")\n",
    "print(f\"{Ae.name}\\t{pe[2]}\\t{Ae.TNR == Be.TNR}\\t{Ae.FPR:0.5f}\\t{Be.FPR:10.5f}\\t{pe_diff_e:0.5f}\")\n",
    "print(f\"{Al.name}\\t{pe[3]}\\t{Al.TNR == Bl.TNR}\\t{Al.FPR:0.5f}\\t{Bl.FPR:10.5f}\\t{pe_diff_l:0.5f}\")"
   ]
  },
  {
   "cell_type": "markdown",
   "id": "10289016",
   "metadata": {},
   "source": [
    "#### Equal opportunity"
   ]
  },
  {
   "cell_type": "markdown",
   "id": "f0cc4129",
   "metadata": {},
   "source": [
    "Equal Opportunity entails equal false negative rates (FNR) between groups. Mathematically, true postive rates (TPR) should also be equal."
   ]
  },
  {
   "cell_type": "code",
   "execution_count": 35,
   "id": "5bcbd5cc",
   "metadata": {},
   "outputs": [],
   "source": [
    "eo = [\n",
    "    Ar.FNR == Br.FNR,\n",
    "    At.FNR == Bt.FNR,\n",
    "    Ae.FNR == Be.FNR,\n",
    "    Al.FNR == Bl.FNR\n",
    "]"
   ]
  },
  {
   "cell_type": "code",
   "execution_count": 36,
   "id": "1bcae7e3",
   "metadata": {},
   "outputs": [],
   "source": [
    "eo_diff_r = 1 - (min(Ar.FNR, Br.FNR) / max(Ar.FNR, Br.FNR))\n",
    "eo_diff_t = 1 - (min(At.FNR, Bt.FNR) / max(At.FNR, Bt.FNR))\n",
    "eo_diff_e = 1 - (min(Ae.FNR, Be.FNR) / max(Ae.FNR, Be.FNR))\n",
    "eo_diff_l = 1 - (min(Al.FNR, Bl.FNR) / max(Al.FNR, Bl.FNR))"
   ]
  },
  {
   "cell_type": "code",
   "execution_count": 37,
   "id": "f6c29bb4",
   "metadata": {},
   "outputs": [
    {
     "name": "stdout",
     "output_type": "stream",
     "text": [
      "Predictive parity -\n",
      "Name\tFNR\tTPR\tFNR        TPR       Difference\n",
      "relu\tTrue\tTrue\t1.00000\t   1.00000\t0.00000\n",
      "tanh\tFalse\tFalse\t0.54132\t   0.58636\t0.07683\n",
      "elu\tFalse\tFalse\t0.68044\t   0.72500\t0.06146\n",
      "leaky\tTrue\tTrue\t1.00000\t   1.00000\t0.00000\n"
     ]
    }
   ],
   "source": [
    "print(\"Predictive parity -\")\n",
    "one = \"FNR\"\n",
    "two = \"TPR\"\n",
    "print(f\"Name\\t{one}\\t{two}\\t{one:11s}{two:10s}Difference\")\n",
    "print(f\"{Ar.name}\\t{eo[0]}\\t{Ar.TPR == Br.TPR}\\t{Ar.FNR:0.5f}\\t{Br.FNR:10.5f}\\t{eo_diff_r:0.5f}\")\n",
    "print(f\"{At.name}\\t{eo[1]}\\t{At.TPR == Bt.TPR}\\t{At.FNR:0.5f}\\t{Bt.FNR:10.5f}\\t{eo_diff_t:0.5f}\")\n",
    "print(f\"{Ae.name}\\t{eo[2]}\\t{Ae.TPR == Be.TPR}\\t{Ae.FNR:0.5f}\\t{Be.FNR:10.5f}\\t{eo_diff_e:0.5f}\")\n",
    "print(f\"{Al.name}\\t{eo[3]}\\t{Al.TPR == Bl.TPR}\\t{Al.FNR:0.5f}\\t{Bl.FNR:10.5f}\\t{eo_diff_l:0.5f}\")"
   ]
  },
  {
   "cell_type": "markdown",
   "id": "49e78e84",
   "metadata": {},
   "source": [
    "#### Statistical Parity"
   ]
  },
  {
   "cell_type": "markdown",
   "id": "d418e9b9",
   "metadata": {},
   "source": [
    "Statistical Parity compares the accuracy of different groups."
   ]
  },
  {
   "cell_type": "code",
   "execution_count": 38,
   "id": "51ac8fef",
   "metadata": {},
   "outputs": [],
   "source": [
    "Ar_acc = (Ar.TP + Ar.TN) / (Ar.TP + Ar.TN + Ar.FP + Ar.FN)\n",
    "Br_acc = (Br.TP + Br.TN) / (Br.TP + Br.TN +Br.FP + Br.FN)\n",
    "r_diff = 1 - (min(Ar_acc, Br_acc) / max(Ar_acc, Br_acc))"
   ]
  },
  {
   "cell_type": "code",
   "execution_count": 39,
   "id": "0a664c0d",
   "metadata": {},
   "outputs": [],
   "source": [
    "At_acc = (At.TP + At.TN) / (At.TP + At.TN + At.FP + At.FN)\n",
    "Bt_acc = (Bt.TP + Bt.TN) / (Bt.TP + Bt.TN + Bt.FP + Bt.FN)\n",
    "t_diff = 1 - (min(At_acc, Bt_acc) / max(At_acc, Bt_acc))"
   ]
  },
  {
   "cell_type": "code",
   "execution_count": 40,
   "id": "d30d7131",
   "metadata": {},
   "outputs": [],
   "source": [
    "Ae_acc = (Ae.TP + Ae.TN) / (Ae.TP + Ae.TN + Ae.FP + Ae.FN)\n",
    "Be_acc = (Be.TP + Be.TN) / (Be.TP + Be.TN + Be.FP + Be.FN)\n",
    "e_diff = 1 - (min(Ae_acc, Be_acc) / max(Ae_acc, Be_acc))"
   ]
  },
  {
   "cell_type": "code",
   "execution_count": 41,
   "id": "269c3a68",
   "metadata": {},
   "outputs": [],
   "source": [
    "Al_acc = (Al.TP + Al.TN) / (Al.TP + Al.TN + Al.FP + Al.FN)\n",
    "Bl_acc = (Bl.TP + Bl.TN) / (Bl.TP + Bl.TN + Bl.FP + Bl.FN)\n",
    "l_diff = 1 - (min(Al_acc, Bl_acc) / max(Al_acc, Bl_acc))"
   ]
  },
  {
   "cell_type": "code",
   "execution_count": 42,
   "id": "4f655acb",
   "metadata": {},
   "outputs": [],
   "source": [
    "sp = [\n",
    "    Ar_acc == Br_acc,\n",
    "    At_acc == Bt_acc,\n",
    "    Ae_acc == Be_acc,\n",
    "    Al_acc == Bl_acc\n",
    "]"
   ]
  },
  {
   "cell_type": "code",
   "execution_count": 43,
   "id": "7a575ed2",
   "metadata": {},
   "outputs": [
    {
     "name": "stdout",
     "output_type": "stream",
     "text": [
      "Statistical Parity\n",
      "Name\tEqual\tACC-F      ACC-M\tDifference\n",
      "relu\tFalse\t0.94780\t   0.93671\t0.01171\n",
      "tanh\tFalse\t0.96770\t   0.95829\t0.00973\n",
      "elu\tFalse\t0.96202\t   0.95167\t0.01076\n",
      "leaky\tFalse\t0.94780\t   0.93671\t0.01171\n"
     ]
    }
   ],
   "source": [
    "print(\"Statistical Parity\")\n",
    "one = f\"ACC-{attribute[0][0].capitalize()}\"\n",
    "two = f\"ACC-{attribute[1][0].capitalize()}\"\n",
    "print(f\"Name\\tEqual\\t{one:11s}{two}\\tDifference\")\n",
    "print(f\"{Ar.name}\\t{sp[0]}\\t{Ar_acc:0.5f}\\t{Br_acc:10.5f}\\t{r_diff:0.5f}\")\n",
    "print(f\"{At.name}\\t{sp[1]}\\t{At_acc:0.5f}\\t{Bt_acc:10.5f}\\t{t_diff:0.5f}\")\n",
    "print(f\"{Ae.name}\\t{sp[2]}\\t{Ae_acc:0.5f}\\t{Be_acc:10.5f}\\t{e_diff:0.5f}\")\n",
    "print(f\"{Al.name}\\t{sp[3]}\\t{Al_acc:0.5f}\\t{Bl_acc:10.5f}\\t{l_diff:0.5f}\")"
   ]
  },
  {
   "cell_type": "code",
   "execution_count": 44,
   "id": "8c3d21a6",
   "metadata": {},
   "outputs": [],
   "source": [
    "Aset = GroupA.iloc[:,-5:]\n",
    "Bset = GroupB.iloc[:,-5:]\n",
    "base = data.iloc[:,-5:]"
   ]
  },
  {
   "cell_type": "markdown",
   "id": "bfa15ecf",
   "metadata": {},
   "source": [
    "#### Compare Variances"
   ]
  },
  {
   "cell_type": "code",
   "execution_count": 45,
   "id": "3e2997ab",
   "metadata": {},
   "outputs": [
    {
     "data": {
      "text/plain": [
       "target        0.049472\n",
       "pred_relu     0.000000\n",
       "pred_tanh     0.027207\n",
       "pred_elu      0.018778\n",
       "pred_leaky    0.000000\n",
       "dtype: float64"
      ]
     },
     "execution_count": 45,
     "metadata": {},
     "output_type": "execute_result"
    }
   ],
   "source": [
    "np.var(Aset)"
   ]
  },
  {
   "cell_type": "code",
   "execution_count": 46,
   "id": "f904f519",
   "metadata": {},
   "outputs": [
    {
     "data": {
      "text/plain": [
       "target        0.059285\n",
       "pred_relu     0.000000\n",
       "pred_tanh     0.029835\n",
       "pred_elu      0.019456\n",
       "pred_leaky    0.000000\n",
       "dtype: float64"
      ]
     },
     "execution_count": 46,
     "metadata": {},
     "output_type": "execute_result"
    }
   ],
   "source": [
    "np.var(Bset)"
   ]
  },
  {
   "cell_type": "code",
   "execution_count": 47,
   "id": "c7897766",
   "metadata": {},
   "outputs": [
    {
     "data": {
      "text/plain": [
       "target        0.051793\n",
       "pred_relu     0.000000\n",
       "pred_tanh     0.027824\n",
       "pred_elu      0.018937\n",
       "pred_leaky    0.000000\n",
       "dtype: float64"
      ]
     },
     "execution_count": 47,
     "metadata": {},
     "output_type": "execute_result"
    }
   ],
   "source": [
    "np.var(base)"
   ]
  },
  {
   "cell_type": "code",
   "execution_count": 48,
   "id": "e089011d",
   "metadata": {},
   "outputs": [
    {
     "data": {
      "text/plain": [
       "target        False\n",
       "pred_relu      True\n",
       "pred_tanh     False\n",
       "pred_elu      False\n",
       "pred_leaky     True\n",
       "dtype: bool"
      ]
     },
     "execution_count": 48,
     "metadata": {},
     "output_type": "execute_result"
    }
   ],
   "source": [
    "np.var(base) == np.var(Aset)"
   ]
  },
  {
   "cell_type": "code",
   "execution_count": 49,
   "id": "cbcc1ea4",
   "metadata": {},
   "outputs": [
    {
     "data": {
      "text/plain": [
       "target        False\n",
       "pred_relu      True\n",
       "pred_tanh     False\n",
       "pred_elu      False\n",
       "pred_leaky     True\n",
       "dtype: bool"
      ]
     },
     "execution_count": 49,
     "metadata": {},
     "output_type": "execute_result"
    }
   ],
   "source": [
    "np.var(base) == np.var(Bset)"
   ]
  },
  {
   "cell_type": "code",
   "execution_count": 50,
   "id": "79de316e",
   "metadata": {},
   "outputs": [
    {
     "data": {
      "text/plain": [
       "target        False\n",
       "pred_relu      True\n",
       "pred_tanh     False\n",
       "pred_elu      False\n",
       "pred_leaky     True\n",
       "dtype: bool"
      ]
     },
     "execution_count": 50,
     "metadata": {},
     "output_type": "execute_result"
    }
   ],
   "source": [
    "np.var(Aset) == np.var(Bset)"
   ]
  },
  {
   "cell_type": "markdown",
   "id": "53ccfce8",
   "metadata": {},
   "source": [
    "# Hypothesis Testing"
   ]
  },
  {
   "cell_type": "markdown",
   "id": "852018b5",
   "metadata": {},
   "source": [
    "##### Hypothesis test function"
   ]
  },
  {
   "cell_type": "code",
   "execution_count": 51,
   "id": "ccdcdd71",
   "metadata": {},
   "outputs": [],
   "source": [
    "def hypothesis_test(p, α=0.05):\n",
    "    if p > α:\n",
    "        print(\"Fail to reject null hypothesis.\")\n",
    "    if p < α:\n",
    "        print(\"Reject null hypothesis.\")"
   ]
  },
  {
   "cell_type": "markdown",
   "id": "0c5339e2",
   "metadata": {},
   "source": [
    "#### Set α (alpha)"
   ]
  },
  {
   "cell_type": "code",
   "execution_count": 52,
   "id": "e5952367",
   "metadata": {},
   "outputs": [],
   "source": [
    "α = 0.01"
   ]
  },
  {
   "cell_type": "markdown",
   "id": "fc12cb64",
   "metadata": {},
   "source": [
    "### Actual results"
   ]
  },
  {
   "cell_type": "markdown",
   "id": "3993d277",
   "metadata": {},
   "source": [
    "#### Control and Group A"
   ]
  },
  {
   "cell_type": "code",
   "execution_count": 53,
   "id": "6a16e45e",
   "metadata": {},
   "outputs": [
    {
     "name": "stdout",
     "output_type": "stream",
     "text": [
      "Control and Female\n",
      "Fail to reject null hypothesis.\n"
     ]
    },
    {
     "data": {
      "text/html": [
       "<div>\n",
       "<style scoped>\n",
       "    .dataframe tbody tr th:only-of-type {\n",
       "        vertical-align: middle;\n",
       "    }\n",
       "\n",
       "    .dataframe tbody tr th {\n",
       "        vertical-align: top;\n",
       "    }\n",
       "\n",
       "    .dataframe thead th {\n",
       "        text-align: right;\n",
       "    }\n",
       "</style>\n",
       "<table border=\"1\" class=\"dataframe\">\n",
       "  <thead>\n",
       "    <tr style=\"text-align: right;\">\n",
       "      <th></th>\n",
       "      <th>Welch's t-test</th>\n",
       "      <th>results</th>\n",
       "    </tr>\n",
       "  </thead>\n",
       "  <tbody>\n",
       "    <tr>\n",
       "      <th>2</th>\n",
       "      <td>t =</td>\n",
       "      <td>1.3124</td>\n",
       "    </tr>\n",
       "    <tr>\n",
       "      <th>3</th>\n",
       "      <td>Two side test p value =</td>\n",
       "      <td>0.1894</td>\n",
       "    </tr>\n",
       "  </tbody>\n",
       "</table>\n",
       "</div>"
      ],
      "text/plain": [
       "             Welch's t-test  results\n",
       "2                      t =    1.3124\n",
       "3  Two side test p value =    0.1894"
      ]
     },
     "metadata": {},
     "output_type": "display_data"
    }
   ],
   "source": [
    "print(f\"Control and {attribute[0].capitalize()}\")\n",
    "\n",
    "try:\n",
    "    p = rp.ttest(base[\"target\"], Aset[\"target\"], equal_variances=False)[1][3:4].values[0][1]\n",
    "    hypothesis_test(p, α)\n",
    "\n",
    "    display(rp.ttest(base[\"target\"], Aset[\"target\"], equal_variances=False)[1][2:4])\n",
    "    \n",
    "except ZeroDivisionError:\n",
    "    print(\"Cannot calculate due to division by zero in STD.\")"
   ]
  },
  {
   "cell_type": "markdown",
   "id": "0a512f22",
   "metadata": {},
   "source": [
    "#### Control and Group B"
   ]
  },
  {
   "cell_type": "code",
   "execution_count": 54,
   "id": "44e6d9eb",
   "metadata": {},
   "outputs": [
    {
     "name": "stdout",
     "output_type": "stream",
     "text": [
      "Control and Male\n",
      "Reject null hypothesis.\n"
     ]
    },
    {
     "data": {
      "text/html": [
       "<div>\n",
       "<style scoped>\n",
       "    .dataframe tbody tr th:only-of-type {\n",
       "        vertical-align: middle;\n",
       "    }\n",
       "\n",
       "    .dataframe tbody tr th {\n",
       "        vertical-align: top;\n",
       "    }\n",
       "\n",
       "    .dataframe thead th {\n",
       "        text-align: right;\n",
       "    }\n",
       "</style>\n",
       "<table border=\"1\" class=\"dataframe\">\n",
       "  <thead>\n",
       "    <tr style=\"text-align: right;\">\n",
       "      <th></th>\n",
       "      <th>Welch's t-test</th>\n",
       "      <th>results</th>\n",
       "    </tr>\n",
       "  </thead>\n",
       "  <tbody>\n",
       "    <tr>\n",
       "      <th>2</th>\n",
       "      <td>t =</td>\n",
       "      <td>-2.6504</td>\n",
       "    </tr>\n",
       "    <tr>\n",
       "      <th>3</th>\n",
       "      <td>Two side test p value =</td>\n",
       "      <td>0.0081</td>\n",
       "    </tr>\n",
       "  </tbody>\n",
       "</table>\n",
       "</div>"
      ],
      "text/plain": [
       "             Welch's t-test  results\n",
       "2                      t =   -2.6504\n",
       "3  Two side test p value =    0.0081"
      ]
     },
     "metadata": {},
     "output_type": "display_data"
    }
   ],
   "source": [
    "print(f\"Control and {attribute[1].capitalize()}\")\n",
    "\n",
    "try:\n",
    "    p = rp.ttest(base[\"target\"], Bset[\"target\"], equal_variances=False)[1][3:4].values[0][1]\n",
    "    hypothesis_test(p, α)\n",
    "\n",
    "    display(rp.ttest(base[\"target\"], Bset[\"target\"], equal_variances=False)[1][2:4])\n",
    "    \n",
    "except ZeroDivisionError:\n",
    "    print(\"Cannot calculate due to division by zero in STD.\")"
   ]
  },
  {
   "cell_type": "markdown",
   "id": "8bb9b5ea",
   "metadata": {},
   "source": [
    "#### Group A and Group B"
   ]
  },
  {
   "cell_type": "code",
   "execution_count": 55,
   "id": "67bf2b58",
   "metadata": {},
   "outputs": [
    {
     "name": "stdout",
     "output_type": "stream",
     "text": [
      "Female and Male\n",
      "Reject null hypothesis.\n"
     ]
    },
    {
     "data": {
      "text/html": [
       "<div>\n",
       "<style scoped>\n",
       "    .dataframe tbody tr th:only-of-type {\n",
       "        vertical-align: middle;\n",
       "    }\n",
       "\n",
       "    .dataframe tbody tr th {\n",
       "        vertical-align: top;\n",
       "    }\n",
       "\n",
       "    .dataframe thead th {\n",
       "        text-align: right;\n",
       "    }\n",
       "</style>\n",
       "<table border=\"1\" class=\"dataframe\">\n",
       "  <thead>\n",
       "    <tr style=\"text-align: right;\">\n",
       "      <th></th>\n",
       "      <th>Welch's t-test</th>\n",
       "      <th>results</th>\n",
       "    </tr>\n",
       "  </thead>\n",
       "  <tbody>\n",
       "    <tr>\n",
       "      <th>2</th>\n",
       "      <td>t =</td>\n",
       "      <td>-3.3908</td>\n",
       "    </tr>\n",
       "    <tr>\n",
       "      <th>3</th>\n",
       "      <td>Two side test p value =</td>\n",
       "      <td>0.0007</td>\n",
       "    </tr>\n",
       "  </tbody>\n",
       "</table>\n",
       "</div>"
      ],
      "text/plain": [
       "             Welch's t-test  results\n",
       "2                      t =   -3.3908\n",
       "3  Two side test p value =    0.0007"
      ]
     },
     "metadata": {},
     "output_type": "display_data"
    }
   ],
   "source": [
    "print(f\"{attribute[0].capitalize()} and {attribute[1].capitalize()}\")\n",
    "\n",
    "try:\n",
    "    p = rp.ttest(Aset[\"target\"], Bset[\"target\"], equal_variances=False)[1][3:4].values[0][1]\n",
    "    hypothesis_test(p, α)\n",
    "\n",
    "    display(rp.ttest(Aset[\"target\"], Bset[\"target\"], equal_variances=False)[1][2:4])\n",
    "except ZeroDivisionError:\n",
    "    print(\"Cannot calculate due to division by zero in STD.\")"
   ]
  },
  {
   "cell_type": "markdown",
   "id": "a386f796",
   "metadata": {},
   "source": [
    "### ReLU Results - FrenchC2C FTU"
   ]
  },
  {
   "cell_type": "markdown",
   "id": "053c5b7f",
   "metadata": {},
   "source": [
    "#### Control and Group A"
   ]
  },
  {
   "cell_type": "code",
   "execution_count": 56,
   "id": "45b6f5b7",
   "metadata": {},
   "outputs": [
    {
     "name": "stdout",
     "output_type": "stream",
     "text": [
      "Control and Female\n",
      "Cannot calculate due to division by zero in STD.\n"
     ]
    }
   ],
   "source": [
    "print(f\"Control and {attribute[0].capitalize()}\")\n",
    "\n",
    "try:\n",
    "    p = rp.ttest(base[\"pred_relu\"], Aset[\"pred_relu\"], equal_variances=False)[1][3:4].values[0][1]\n",
    "    hypothesis_test(p, α)\n",
    "\n",
    "    rp.ttest(base[\"pred_relu\"], Aset[\"pred_relu\"], equal_variances=False)[1][2:4]\n",
    "    \n",
    "except ZeroDivisionError:\n",
    "    print(\"Cannot calculate due to division by zero in STD.\")"
   ]
  },
  {
   "cell_type": "markdown",
   "id": "30cae053",
   "metadata": {},
   "source": [
    "#### Control and Group B"
   ]
  },
  {
   "cell_type": "code",
   "execution_count": 57,
   "id": "362830a4",
   "metadata": {},
   "outputs": [
    {
     "name": "stdout",
     "output_type": "stream",
     "text": [
      "Control and Male\n",
      "Cannot calculate due to division by zero in STD.\n"
     ]
    }
   ],
   "source": [
    "print(f\"Control and {attribute[1].capitalize()}\")\n",
    "\n",
    "try:\n",
    "    p = rp.ttest(base[\"pred_relu\"], Bset[\"pred_relu\"], equal_variances=False)[1][3:4].values[0][1]\n",
    "    hypothesis_test(p, α)\n",
    "\n",
    "    display(rp.ttest(base[\"pred_relu\"], Bset[\"pred_relu\"], equal_variances=False)[1][2:4])\n",
    "    \n",
    "except ZeroDivisionError:\n",
    "    print(\"Cannot calculate due to division by zero in STD.\")"
   ]
  },
  {
   "cell_type": "markdown",
   "id": "5b710e16",
   "metadata": {},
   "source": [
    "#### Group A and Group B"
   ]
  },
  {
   "cell_type": "code",
   "execution_count": 58,
   "id": "3dbc293c",
   "metadata": {},
   "outputs": [
    {
     "name": "stdout",
     "output_type": "stream",
     "text": [
      "Female and Male\n",
      "Cannot calculate due to division by zero in STD.\n"
     ]
    }
   ],
   "source": [
    "print(f\"{attribute[0].capitalize()} and {attribute[1].capitalize()}\")\n",
    "\n",
    "try:\n",
    "    p = rp.ttest(Aset[\"pred_relu\"], Bset[\"pred_relu\"], equal_variances=False)[1][3:4].values[0][1]\n",
    "    hypothesis_test(p, α)\n",
    "\n",
    "    display(rp.ttest(Aset[\"pred_relu\"], Bset[\"pred_relu\"], equal_variances=False)[1][2:4])\n",
    "except ZeroDivisionError:\n",
    "    print(\"Cannot calculate due to division by zero in STD.\")    "
   ]
  },
  {
   "cell_type": "markdown",
   "id": "7ecbc6ce",
   "metadata": {},
   "source": [
    "### Tanh Results"
   ]
  },
  {
   "cell_type": "markdown",
   "id": "f6a6ed62",
   "metadata": {},
   "source": [
    "#### Control and Group A"
   ]
  },
  {
   "cell_type": "code",
   "execution_count": 59,
   "id": "68846ed8",
   "metadata": {
    "scrolled": true
   },
   "outputs": [
    {
     "name": "stdout",
     "output_type": "stream",
     "text": [
      "Control and Female\n",
      "Fail to reject null hypothesis.\n"
     ]
    },
    {
     "data": {
      "text/html": [
       "<div>\n",
       "<style scoped>\n",
       "    .dataframe tbody tr th:only-of-type {\n",
       "        vertical-align: middle;\n",
       "    }\n",
       "\n",
       "    .dataframe tbody tr th {\n",
       "        vertical-align: top;\n",
       "    }\n",
       "\n",
       "    .dataframe thead th {\n",
       "        text-align: right;\n",
       "    }\n",
       "</style>\n",
       "<table border=\"1\" class=\"dataframe\">\n",
       "  <thead>\n",
       "    <tr style=\"text-align: right;\">\n",
       "      <th></th>\n",
       "      <th>Welch's t-test</th>\n",
       "      <th>results</th>\n",
       "    </tr>\n",
       "  </thead>\n",
       "  <tbody>\n",
       "    <tr>\n",
       "      <th>2</th>\n",
       "      <td>t =</td>\n",
       "      <td>0.4477</td>\n",
       "    </tr>\n",
       "    <tr>\n",
       "      <th>3</th>\n",
       "      <td>Two side test p value =</td>\n",
       "      <td>0.6544</td>\n",
       "    </tr>\n",
       "  </tbody>\n",
       "</table>\n",
       "</div>"
      ],
      "text/plain": [
       "             Welch's t-test  results\n",
       "2                      t =    0.4477\n",
       "3  Two side test p value =    0.6544"
      ]
     },
     "metadata": {},
     "output_type": "display_data"
    }
   ],
   "source": [
    "print(f\"Control and {attribute[0].capitalize()}\")\n",
    "\n",
    "try:\n",
    "    p = rp.ttest(base[\"pred_tanh\"], Aset[\"pred_tanh\"], equal_variances=False)[1][3:4].values[0][1]\n",
    "    hypothesis_test(p, α)\n",
    "\n",
    "    display(rp.ttest(base[\"pred_tanh\"], Aset[\"pred_tanh\"], equal_variances=False)[1][2:4])\n",
    "    \n",
    "except ZeroDivisionError:\n",
    "    print(\"Cannot calculate due to division by zero in STD.\")"
   ]
  },
  {
   "cell_type": "markdown",
   "id": "ef80e4f2",
   "metadata": {},
   "source": [
    "#### Control and Group B"
   ]
  },
  {
   "cell_type": "code",
   "execution_count": 60,
   "id": "51e29e8c",
   "metadata": {},
   "outputs": [
    {
     "name": "stdout",
     "output_type": "stream",
     "text": [
      "Control and Male\n",
      "Fail to reject null hypothesis.\n"
     ]
    },
    {
     "data": {
      "text/html": [
       "<div>\n",
       "<style scoped>\n",
       "    .dataframe tbody tr th:only-of-type {\n",
       "        vertical-align: middle;\n",
       "    }\n",
       "\n",
       "    .dataframe tbody tr th {\n",
       "        vertical-align: top;\n",
       "    }\n",
       "\n",
       "    .dataframe thead th {\n",
       "        text-align: right;\n",
       "    }\n",
       "</style>\n",
       "<table border=\"1\" class=\"dataframe\">\n",
       "  <thead>\n",
       "    <tr style=\"text-align: right;\">\n",
       "      <th></th>\n",
       "      <th>Welch's t-test</th>\n",
       "      <th>results</th>\n",
       "    </tr>\n",
       "  </thead>\n",
       "  <tbody>\n",
       "    <tr>\n",
       "      <th>2</th>\n",
       "      <td>t =</td>\n",
       "      <td>-0.9349</td>\n",
       "    </tr>\n",
       "    <tr>\n",
       "      <th>3</th>\n",
       "      <td>Two side test p value =</td>\n",
       "      <td>0.3499</td>\n",
       "    </tr>\n",
       "  </tbody>\n",
       "</table>\n",
       "</div>"
      ],
      "text/plain": [
       "             Welch's t-test  results\n",
       "2                      t =   -0.9349\n",
       "3  Two side test p value =    0.3499"
      ]
     },
     "metadata": {},
     "output_type": "display_data"
    }
   ],
   "source": [
    "print(f\"Control and {attribute[1].capitalize()}\")\n",
    "\n",
    "try:\n",
    "    p = rp.ttest(base[\"pred_tanh\"], Bset[\"pred_tanh\"], equal_variances=False)[1][3:4].values[0][1]\n",
    "    hypothesis_test(p, α)\n",
    "\n",
    "    display(rp.ttest(base[\"pred_tanh\"], Bset[\"pred_tanh\"], equal_variances=False)[1][2:4])\n",
    "    \n",
    "except ZeroDivisionError:\n",
    "    print(\"Cannot calculate due to division by zero in STD.\")"
   ]
  },
  {
   "cell_type": "markdown",
   "id": "ecc2c490",
   "metadata": {},
   "source": [
    "#### Group A and Group B"
   ]
  },
  {
   "cell_type": "code",
   "execution_count": 61,
   "id": "81c6bba0",
   "metadata": {},
   "outputs": [
    {
     "name": "stdout",
     "output_type": "stream",
     "text": [
      "Female and Male\n",
      "Fail to reject null hypothesis.\n"
     ]
    },
    {
     "data": {
      "text/html": [
       "<div>\n",
       "<style scoped>\n",
       "    .dataframe tbody tr th:only-of-type {\n",
       "        vertical-align: middle;\n",
       "    }\n",
       "\n",
       "    .dataframe tbody tr th {\n",
       "        vertical-align: top;\n",
       "    }\n",
       "\n",
       "    .dataframe thead th {\n",
       "        text-align: right;\n",
       "    }\n",
       "</style>\n",
       "<table border=\"1\" class=\"dataframe\">\n",
       "  <thead>\n",
       "    <tr style=\"text-align: right;\">\n",
       "      <th></th>\n",
       "      <th>Welch's t-test</th>\n",
       "      <th>results</th>\n",
       "    </tr>\n",
       "  </thead>\n",
       "  <tbody>\n",
       "    <tr>\n",
       "      <th>2</th>\n",
       "      <td>t =</td>\n",
       "      <td>-1.1916</td>\n",
       "    </tr>\n",
       "    <tr>\n",
       "      <th>3</th>\n",
       "      <td>Two side test p value =</td>\n",
       "      <td>0.2334</td>\n",
       "    </tr>\n",
       "  </tbody>\n",
       "</table>\n",
       "</div>"
      ],
      "text/plain": [
       "             Welch's t-test  results\n",
       "2                      t =   -1.1916\n",
       "3  Two side test p value =    0.2334"
      ]
     },
     "metadata": {},
     "output_type": "display_data"
    }
   ],
   "source": [
    "print(f\"{attribute[0].capitalize()} and {attribute[1].capitalize()}\")\n",
    "\n",
    "try:\n",
    "    p = rp.ttest(Aset[\"pred_tanh\"], Bset[\"pred_tanh\"], equal_variances=False)[1][3:4].values[0][1]\n",
    "    hypothesis_test(p, α)\n",
    "\n",
    "    display(rp.ttest(Aset[\"pred_tanh\"], Bset[\"pred_tanh\"], equal_variances=False)[1][2:4])\n",
    "except ZeroDivisionError:\n",
    "    print(\"Cannot calculate due to division by zero in STD.\")    "
   ]
  },
  {
   "cell_type": "markdown",
   "id": "bb09a220",
   "metadata": {},
   "source": [
    "### ELU Results"
   ]
  },
  {
   "cell_type": "markdown",
   "id": "977fe576",
   "metadata": {},
   "source": [
    "#### Control and Group A"
   ]
  },
  {
   "cell_type": "code",
   "execution_count": 62,
   "id": "db793aba",
   "metadata": {},
   "outputs": [
    {
     "name": "stdout",
     "output_type": "stream",
     "text": [
      "Control and Female\n",
      "Fail to reject null hypothesis.\n"
     ]
    },
    {
     "data": {
      "text/html": [
       "<div>\n",
       "<style scoped>\n",
       "    .dataframe tbody tr th:only-of-type {\n",
       "        vertical-align: middle;\n",
       "    }\n",
       "\n",
       "    .dataframe tbody tr th {\n",
       "        vertical-align: top;\n",
       "    }\n",
       "\n",
       "    .dataframe thead th {\n",
       "        text-align: right;\n",
       "    }\n",
       "</style>\n",
       "<table border=\"1\" class=\"dataframe\">\n",
       "  <thead>\n",
       "    <tr style=\"text-align: right;\">\n",
       "      <th></th>\n",
       "      <th>Welch's t-test</th>\n",
       "      <th>results</th>\n",
       "    </tr>\n",
       "  </thead>\n",
       "  <tbody>\n",
       "    <tr>\n",
       "      <th>2</th>\n",
       "      <td>t =</td>\n",
       "      <td>0.1367</td>\n",
       "    </tr>\n",
       "    <tr>\n",
       "      <th>3</th>\n",
       "      <td>Two side test p value =</td>\n",
       "      <td>0.8913</td>\n",
       "    </tr>\n",
       "  </tbody>\n",
       "</table>\n",
       "</div>"
      ],
      "text/plain": [
       "             Welch's t-test  results\n",
       "2                      t =    0.1367\n",
       "3  Two side test p value =    0.8913"
      ]
     },
     "metadata": {},
     "output_type": "display_data"
    }
   ],
   "source": [
    "print(f\"Control and {attribute[0].capitalize()}\")\n",
    "\n",
    "try:\n",
    "    p = rp.ttest(base[\"pred_elu\"], Aset[\"pred_elu\"], equal_variances=False)[1][3:4].values[0][1]\n",
    "    hypothesis_test(p, α)\n",
    "\n",
    "    display(rp.ttest(base[\"pred_elu\"], Aset[\"pred_elu\"], equal_variances=False)[1][2:4])\n",
    "    \n",
    "except ZeroDivisionError:\n",
    "    print(\"Cannot calculate due to division by zero in STD.\")"
   ]
  },
  {
   "cell_type": "markdown",
   "id": "0d37f9c2",
   "metadata": {},
   "source": [
    "#### Control and Group B"
   ]
  },
  {
   "cell_type": "code",
   "execution_count": 63,
   "id": "6f6a26db",
   "metadata": {},
   "outputs": [
    {
     "name": "stdout",
     "output_type": "stream",
     "text": [
      "Control and Male\n",
      "Fail to reject null hypothesis.\n"
     ]
    },
    {
     "data": {
      "text/html": [
       "<div>\n",
       "<style scoped>\n",
       "    .dataframe tbody tr th:only-of-type {\n",
       "        vertical-align: middle;\n",
       "    }\n",
       "\n",
       "    .dataframe tbody tr th {\n",
       "        vertical-align: top;\n",
       "    }\n",
       "\n",
       "    .dataframe thead th {\n",
       "        text-align: right;\n",
       "    }\n",
       "</style>\n",
       "<table border=\"1\" class=\"dataframe\">\n",
       "  <thead>\n",
       "    <tr style=\"text-align: right;\">\n",
       "      <th></th>\n",
       "      <th>Welch's t-test</th>\n",
       "      <th>results</th>\n",
       "    </tr>\n",
       "  </thead>\n",
       "  <tbody>\n",
       "    <tr>\n",
       "      <th>2</th>\n",
       "      <td>t =</td>\n",
       "      <td>-0.2916</td>\n",
       "    </tr>\n",
       "    <tr>\n",
       "      <th>3</th>\n",
       "      <td>Two side test p value =</td>\n",
       "      <td>0.7706</td>\n",
       "    </tr>\n",
       "  </tbody>\n",
       "</table>\n",
       "</div>"
      ],
      "text/plain": [
       "             Welch's t-test  results\n",
       "2                      t =   -0.2916\n",
       "3  Two side test p value =    0.7706"
      ]
     },
     "metadata": {},
     "output_type": "display_data"
    }
   ],
   "source": [
    "print(f\"Control and {attribute[1].capitalize()}\")\n",
    "\n",
    "try:\n",
    "    p = rp.ttest(base[\"pred_elu\"], Bset[\"pred_elu\"], equal_variances=False)[1][3:4].values[0][1]\n",
    "    hypothesis_test(p, α)\n",
    "\n",
    "    display(rp.ttest(base[\"pred_elu\"], Bset[\"pred_elu\"], equal_variances=False)[1][2:4])\n",
    "    \n",
    "except ZeroDivisionError:\n",
    "    print(\"Cannot calculate due to division by zero in STD.\")"
   ]
  },
  {
   "cell_type": "markdown",
   "id": "5d198907",
   "metadata": {},
   "source": [
    "#### Group A and Group B"
   ]
  },
  {
   "cell_type": "code",
   "execution_count": 64,
   "id": "f0a6e5c9",
   "metadata": {},
   "outputs": [
    {
     "name": "stdout",
     "output_type": "stream",
     "text": [
      "Female and Male\n",
      "Fail to reject null hypothesis.\n"
     ]
    },
    {
     "data": {
      "text/html": [
       "<div>\n",
       "<style scoped>\n",
       "    .dataframe tbody tr th:only-of-type {\n",
       "        vertical-align: middle;\n",
       "    }\n",
       "\n",
       "    .dataframe tbody tr th {\n",
       "        vertical-align: top;\n",
       "    }\n",
       "\n",
       "    .dataframe thead th {\n",
       "        text-align: right;\n",
       "    }\n",
       "</style>\n",
       "<table border=\"1\" class=\"dataframe\">\n",
       "  <thead>\n",
       "    <tr style=\"text-align: right;\">\n",
       "      <th></th>\n",
       "      <th>Welch's t-test</th>\n",
       "      <th>results</th>\n",
       "    </tr>\n",
       "  </thead>\n",
       "  <tbody>\n",
       "    <tr>\n",
       "      <th>2</th>\n",
       "      <td>t =</td>\n",
       "      <td>-0.3708</td>\n",
       "    </tr>\n",
       "    <tr>\n",
       "      <th>3</th>\n",
       "      <td>Two side test p value =</td>\n",
       "      <td>0.7108</td>\n",
       "    </tr>\n",
       "  </tbody>\n",
       "</table>\n",
       "</div>"
      ],
      "text/plain": [
       "             Welch's t-test  results\n",
       "2                      t =   -0.3708\n",
       "3  Two side test p value =    0.7108"
      ]
     },
     "metadata": {},
     "output_type": "display_data"
    }
   ],
   "source": [
    "print(f\"{attribute[0].capitalize()} and {attribute[1].capitalize()}\")\n",
    "\n",
    "try:\n",
    "    p = rp.ttest(Aset[\"pred_elu\"], Bset[\"pred_elu\"], equal_variances=False)[1][3:4].values[0][1]\n",
    "    hypothesis_test(p, α)\n",
    "\n",
    "    display(rp.ttest(Aset[\"pred_elu\"], Bset[\"pred_elu\"], equal_variances=False)[1][2:4])\n",
    "except ZeroDivisionError:\n",
    "    print(\"Cannot calculate due to division by zero in STD.\")    "
   ]
  },
  {
   "cell_type": "code",
   "execution_count": null,
   "id": "c4bfce3d",
   "metadata": {},
   "outputs": [],
   "source": []
  },
  {
   "cell_type": "code",
   "execution_count": null,
   "id": "521cb72d",
   "metadata": {},
   "outputs": [],
   "source": []
  },
  {
   "cell_type": "code",
   "execution_count": null,
   "id": "a3043db9",
   "metadata": {},
   "outputs": [],
   "source": []
  },
  {
   "cell_type": "code",
   "execution_count": null,
   "id": "07131711",
   "metadata": {},
   "outputs": [],
   "source": []
  },
  {
   "cell_type": "markdown",
   "id": "924f2d36",
   "metadata": {},
   "source": [
    "### Difference tests"
   ]
  },
  {
   "cell_type": "markdown",
   "id": "3e36be24",
   "metadata": {},
   "source": [
    "**NOTE:** The variables of this test are dependent on the names of the particular dataset features."
   ]
  },
  {
   "cell_type": "code",
   "execution_count": 60,
   "id": "6265e72e",
   "metadata": {},
   "outputs": [
    {
     "data": {
      "text/plain": [
       "(       Name        N      Mean  Variance        SD        SE  95% Conf.  \\\n",
       " 0         0  29537.0  0.014897  0.014675  0.121141  0.000705   0.013515   \n",
       " 1         1  29571.0  0.040107    0.0385  0.196213  0.001141   0.037870   \n",
       " 2  combined  59108.0  0.027509  0.026753  0.163562  0.000673   0.026190   \n",
       " 3      diff          -0.025210                      0.001341  -0.027839   \n",
       " \n",
       "    Interval  \n",
       " 0  0.016278  \n",
       " 1  0.042343  \n",
       " 2  0.028828  \n",
       " 3 -0.022582  ,\n",
       "              Welch's t-test       Results\n",
       " 0        Difference (0 - 1) -2.521029e-02\n",
       " 1      Degrees of freedom =  4.926398e+04\n",
       " 2                       t = -1.879702e+01\n",
       " 3  Two sided test p-value =  1.505867e-78\n",
       " 4  Difference < 0 p-value =  7.529208e-79\n",
       " 5  Difference > 0 p-value =  1.000000e+00)"
      ]
     },
     "execution_count": 60,
     "metadata": {},
     "output_type": "execute_result"
    }
   ],
   "source": [
    "rp.difference_test(\"target ~ C(gender)\",\n",
    "                   data=data,\n",
    "                   equal_variances=False).conduct()"
   ]
  },
  {
   "cell_type": "markdown",
   "id": "b2df1a39",
   "metadata": {},
   "source": [
    "## Selection Rates and Impact"
   ]
  },
  {
   "cell_type": "markdown",
   "id": "af79761e",
   "metadata": {},
   "source": [
    "#### Baseline"
   ]
  },
  {
   "cell_type": "code",
   "execution_count": 61,
   "id": "0fd687cd",
   "metadata": {},
   "outputs": [],
   "source": [
    "col = \"target\"\n",
    "sr_A = Aset[Aset[col] == 1].shape[0] / data.shape[0]\n",
    "sr_B = Bset[Bset[col] == 1].shape[0] / data.shape[0]\n",
    "impact_base = min(sr_A, sr_B) / max(sr_A, sr_B)"
   ]
  },
  {
   "cell_type": "code",
   "execution_count": 62,
   "id": "6e24ae9b",
   "metadata": {},
   "outputs": [
    {
     "name": "stdout",
     "output_type": "stream",
     "text": [
      "Selection Rate and Impact - control\n",
      "Female:\t0.03997\n",
      "Male:\t0.01483\n",
      "Impact:\t0.37099\n"
     ]
    }
   ],
   "source": [
    "print(\"Selection Rate and Impact - control\")\n",
    "print(f\"{attribute[0].capitalize()}:\\t{sr_A:0.5f}\")\n",
    "print(f\"{attribute[1].capitalize()}:\\t{sr_B:0.5f}\")\n",
    "print(f\"Impact:\\t{impact_base:0.5f}\")"
   ]
  },
  {
   "cell_type": "markdown",
   "id": "a38ad391",
   "metadata": {},
   "source": [
    "#### ReLU"
   ]
  },
  {
   "cell_type": "code",
   "execution_count": 64,
   "id": "11f7b751",
   "metadata": {},
   "outputs": [
    {
     "name": "stdout",
     "output_type": "stream",
     "text": [
      "sr_A_relu: 0.0\n",
      "sr_B_relu: 0.0\n",
      "impact set to 0\n"
     ]
    }
   ],
   "source": [
    "col = \"pred_relu\"\n",
    "sr_A_relu = Aset[Aset[col] == 1].shape[0] / data.shape[0]\n",
    "sr_B_relu = Bset[Bset[col] == 1].shape[0] / data.shape[0]\n",
    "\n",
    "try:\n",
    "    impact_relu = min(sr_A_relu, sr_B_relu) / max(sr_A_relu, sr_B_relu)\n",
    "except ZeroDivisionError:\n",
    "    print(f\"sr_A_relu: {sr_A_relu}\\nsr_B_relu: {sr_B_relu}\\nimpact set to 0\")\n",
    "    impact_relu = 0"
   ]
  },
  {
   "cell_type": "code",
   "execution_count": 65,
   "id": "7612c1f7",
   "metadata": {},
   "outputs": [
    {
     "name": "stdout",
     "output_type": "stream",
     "text": [
      "Selection Rate and Impact - ReLU\n",
      "Female:\t0.00000\n",
      "Male:\t0.00000\n",
      "Impact:\t0.00000\n"
     ]
    }
   ],
   "source": [
    "print(\"Selection Rate and Impact - ReLU\")\n",
    "print(f\"{attribute[0].capitalize()}:\\t{sr_A_relu:0.5f}\")\n",
    "print(f\"{attribute[1].capitalize()}:\\t{sr_B_relu:0.5f}\")\n",
    "print(f\"Impact:\\t{impact_relu:0.5f}\")"
   ]
  },
  {
   "cell_type": "markdown",
   "id": "e59ca5ca",
   "metadata": {},
   "source": [
    "#### Tanh"
   ]
  },
  {
   "cell_type": "code",
   "execution_count": 66,
   "id": "d8761635",
   "metadata": {},
   "outputs": [],
   "source": [
    "col = \"pred_tanh\"\n",
    "sr_A_tanh = Aset[Aset[col] == 1].shape[0] / data.shape[0]\n",
    "sr_B_tanh = Bset[Bset[col] == 1].shape[0] / data.shape[0]\n",
    "impact_tanh = min(sr_A_tanh, sr_B_tanh) / max(sr_A_tanh, sr_B_tanh)"
   ]
  },
  {
   "cell_type": "code",
   "execution_count": 67,
   "id": "22f762f6",
   "metadata": {},
   "outputs": [
    {
     "name": "stdout",
     "output_type": "stream",
     "text": [
      "Selection Rate and Impact - Tanh\n",
      "Female:\t0.02143\n",
      "Male:\t0.00721\n",
      "Impact:\t0.33648\n"
     ]
    }
   ],
   "source": [
    "print(\"Selection Rate and Impact - Tanh\")\n",
    "print(f\"{attribute[0].capitalize()}:\\t{sr_A_tanh:0.5f}\")\n",
    "print(f\"{attribute[1].capitalize()}:\\t{sr_B_tanh:0.5f}\")\n",
    "print(f\"Impact:\\t{impact_tanh:0.5f}\")"
   ]
  },
  {
   "cell_type": "markdown",
   "id": "bb264355",
   "metadata": {},
   "source": [
    "#### ELU"
   ]
  },
  {
   "cell_type": "code",
   "execution_count": 68,
   "id": "873315b5",
   "metadata": {},
   "outputs": [],
   "source": [
    "col = \"pred_elu\"\n",
    "sr_A_elu = Aset[Aset[col] == 1].shape[0] / data.shape[0]\n",
    "sr_B_elu = Bset[Bset[col] == 1].shape[0] / data.shape[0]\n",
    "impact_elu = min(sr_A_elu, sr_B_elu) / max(sr_A_elu, sr_B_elu)"
   ]
  },
  {
   "cell_type": "code",
   "execution_count": 69,
   "id": "98b7ae54",
   "metadata": {},
   "outputs": [
    {
     "name": "stdout",
     "output_type": "stream",
     "text": [
      "Selection Rate and Impact - elu\n",
      "Female:\t0.01466\n",
      "Male:\t0.00465\n",
      "Impact:\t0.31724\n"
     ]
    }
   ],
   "source": [
    "print(\"Selection Rate and Impact - elu\")\n",
    "print(f\"{attribute[0].capitalize()}:\\t{sr_A_elu:0.5f}\")\n",
    "print(f\"{attribute[1].capitalize()}:\\t{sr_B_elu:0.5f}\")\n",
    "print(f\"Impact:\\t{impact_elu:0.5f}\")"
   ]
  },
  {
   "cell_type": "markdown",
   "id": "ef6dbd4c",
   "metadata": {},
   "source": [
    "#### Leaky ReLU"
   ]
  },
  {
   "cell_type": "code",
   "execution_count": 70,
   "id": "1e8888e0",
   "metadata": {},
   "outputs": [
    {
     "name": "stdout",
     "output_type": "stream",
     "text": [
      "sr_A_leaky: 0.0\n",
      "sr_B_leaky: 0.0\n",
      "impact set to 0\n"
     ]
    }
   ],
   "source": [
    "col = \"pred_leaky\"\n",
    "sr_A_leaky = Aset[Aset[col] == 1].shape[0] / data.shape[0]\n",
    "sr_B_leaky = Bset[Bset[col] == 1].shape[0] / data.shape[0]\n",
    "\n",
    "try:\n",
    "    impact_leaky = min(sr_A_leaky, sr_B_leaky) / max(sr_A_leaky, sr_B_leaky)\n",
    "except ZeroDivisionError:\n",
    "    print(f\"sr_A_leaky: {sr_A_leaky}\\nsr_B_leaky: {sr_B_leaky}\\nimpact set to 0\")\n",
    "    impact_leaky = 0"
   ]
  },
  {
   "cell_type": "code",
   "execution_count": 71,
   "id": "861486a9",
   "metadata": {},
   "outputs": [
    {
     "name": "stdout",
     "output_type": "stream",
     "text": [
      "Selection Rate and Impact - leaky\n",
      "Female:\t0.00000\n",
      "Male:\t0.00000\n",
      "Impact:\t0.00000\n"
     ]
    }
   ],
   "source": [
    "print(\"Selection Rate and Impact - leaky\")\n",
    "print(f\"{attribute[0].capitalize()}:\\t{sr_A_leaky:0.5f}\")\n",
    "print(f\"{attribute[1].capitalize()}:\\t{sr_B_leaky:0.5f}\")\n",
    "print(f\"Impact:\\t{impact_leaky:0.5f}\")"
   ]
  },
  {
   "cell_type": "markdown",
   "id": "e0a493fe",
   "metadata": {},
   "source": [
    "# Results"
   ]
  },
  {
   "cell_type": "code",
   "execution_count": 72,
   "id": "fb47ec7c",
   "metadata": {},
   "outputs": [
    {
     "name": "stdout",
     "output_type": "stream",
     "text": [
      "             Selection Rate and Impact\n",
      "Group\tBase\t ReLU\t  Tanh\t   ELU\t    Leaky\n",
      "Female: 0.03997  0.00000  0.02143  0.01466  0.00000\n",
      "Male  : 0.01483  0.00000  0.00721  0.00465  0.00000\n",
      "Impact: 0.37099  0.00000  0.33648  0.31724  0.00000\n"
     ]
    }
   ],
   "source": [
    "print(\" \"*12, \"Selection Rate and Impact\")\n",
    "print(\"Group\\tBase\\t ReLU\\t  Tanh\\t   ELU\\t    Leaky\")\n",
    "print(f\"{attribute[0].capitalize()}: {sr_A:0.5f}  {sr_A_relu:0.5f}  {sr_A_tanh:0.5f}  {sr_A_elu:0.5f}  {sr_A_leaky:0.5f}\")\n",
    "print(f\"{attribute[1].capitalize()}  : {sr_B:0.5f}  {sr_B_relu:0.5f}  {sr_B_tanh:0.5f}  {sr_B_elu:0.5f}  {sr_B_leaky:0.5f}\")\n",
    "print(f\"Impact: {impact_base:0.5f}  {impact_relu:0.5f}  {impact_tanh:0.5f}  {impact_elu:0.5f}  {impact_leaky:0.5f}\")"
   ]
  },
  {
   "cell_type": "code",
   "execution_count": 73,
   "id": "a7a7ad29",
   "metadata": {},
   "outputs": [
    {
     "name": "stdout",
     "output_type": "stream",
     "text": [
      "             Bias Metrics\n",
      "*************************************\n",
      "Func.\tPP\tPE\tEO\tSP\n",
      "ReLU\tFalse\tTrue\tTrue\tFalse\n",
      "Tanh\tFalse\tFalse\tFalse\tFalse\n",
      "ELU\tFalse\tFalse\tFalse\tFalse\n",
      "Leaky\tFalse\tTrue\tTrue\tFalse\n",
      "\n",
      "\n",
      "Legend\n",
      " - PP : predictive parity\n",
      " - PE : predictive equality\n",
      " - EO : equal opportunity\n",
      " - SP : statistical parity\n"
     ]
    }
   ],
   "source": [
    "print(\" \"*12, \"Bias Metrics\")\n",
    "print(\"*\" * 37)\n",
    "labels = [\"Func.\",\"PP\",\"PE\",\"EO\",\"SP\"]\n",
    "fns = [\"ReLU\", \"Tanh\", \"ELU\", \"Leaky\"]\n",
    "print(f\"{labels[0]}\\t{labels[1]}\\t{labels[2]}\\t{labels[3]}\\t{labels[4]}\")\n",
    "for i in range(0,4):\n",
    "    print(f\"{fns[i]}\\t{pp[i]}\\t{pe[i]}\\t{eo[i]}\\t{sp[i]}\")\n",
    "\n",
    "\n",
    "print(\"\\n\\nLegend\")\n",
    "print(\" - PP : predictive parity\\n\" +\n",
    "      \" - PE : predictive equality\\n\" +\n",
    "      \" - EO : equal opportunity\\n\" +\n",
    "      \" - SP : statistical parity\")"
   ]
  },
  {
   "cell_type": "code",
   "execution_count": 74,
   "id": "95f2fcb5",
   "metadata": {},
   "outputs": [
    {
     "data": {
      "text/plain": [
       "['target', 'pred_relu', 'pred_tanh', 'pred_elu', 'pred_leaky']"
      ]
     },
     "execution_count": 74,
     "metadata": {},
     "output_type": "execute_result"
    }
   ],
   "source": [
    "features"
   ]
  },
  {
   "cell_type": "markdown",
   "id": "d7c8c00c",
   "metadata": {},
   "source": [
    "# Similarity Metrics"
   ]
  },
  {
   "cell_type": "markdown",
   "id": "67042e86",
   "metadata": {},
   "source": [
    "#### Import Metrics Libraries"
   ]
  },
  {
   "cell_type": "code",
   "execution_count": 75,
   "id": "e3b01019",
   "metadata": {},
   "outputs": [],
   "source": [
    "import Levenshtein as lev\n",
    "from pyjarowinkler import distance as dist"
   ]
  },
  {
   "cell_type": "markdown",
   "id": "25cfa0d1",
   "metadata": {},
   "source": [
    "#### Convert to string"
   ]
  },
  {
   "cell_type": "code",
   "execution_count": 76,
   "id": "69bb1708",
   "metadata": {},
   "outputs": [],
   "source": [
    "Astr = [[\"\"] * Aset.shape[0]] * Aset.shape[1]\n",
    "Bstr = [[\"\"] * Bset.shape[0]] * Bset.shape[1]"
   ]
  },
  {
   "cell_type": "code",
   "execution_count": 77,
   "id": "10122c36",
   "metadata": {},
   "outputs": [],
   "source": [
    "for f in range(len(features)):\n",
    "    Astr[f] = ''.join(GroupA[features[f]].values.astype('int').astype('str'))\n",
    "    Bstr[f] = ''.join(GroupB[features[f]].values.astype('int').astype('str'))"
   ]
  },
  {
   "cell_type": "markdown",
   "id": "fd7481ec",
   "metadata": {},
   "source": [
    "#### Test defaults\n",
    "Levenshtein result should be 0"
   ]
  },
  {
   "cell_type": "code",
   "execution_count": 78,
   "id": "9cf4a6ed",
   "metadata": {},
   "outputs": [
    {
     "data": {
      "text/plain": [
       "0"
      ]
     },
     "execution_count": 78,
     "metadata": {},
     "output_type": "execute_result"
    }
   ],
   "source": [
    "lev.distance(Astr[1], Astr[1])"
   ]
  },
  {
   "cell_type": "markdown",
   "id": "533b646a",
   "metadata": {},
   "source": [
    "Jaro similarity result should be 1.0"
   ]
  },
  {
   "cell_type": "code",
   "execution_count": 79,
   "id": "2c591003",
   "metadata": {},
   "outputs": [
    {
     "data": {
      "text/plain": [
       "1.0"
      ]
     },
     "execution_count": 79,
     "metadata": {},
     "output_type": "execute_result"
    }
   ],
   "source": [
    "dist.get_jaro_distance(Astr[1], Astr[1])"
   ]
  },
  {
   "cell_type": "code",
   "execution_count": 80,
   "id": "77b377bc",
   "metadata": {},
   "outputs": [
    {
     "name": "stdout",
     "output_type": "stream",
     "text": [
      "target     : 0\n",
      "pred_relu  : 1\n",
      "pred_tanh  : 2\n",
      "pred_elu   : 3\n",
      "pred_leaky : 4\n"
     ]
    }
   ],
   "source": [
    "for i, f in enumerate(features):\n",
    "    print(f\"{f:10s} : {i}\")"
   ]
  },
  {
   "cell_type": "code",
   "execution_count": 81,
   "id": "6eae8fb5",
   "metadata": {},
   "outputs": [
    {
     "name": "stdout",
     "output_type": "stream",
     "text": [
      "Similarity and Distance Metrics\n",
      "     Between Female and Male\n",
      "**********************************************\n",
      "Function\tLev.\tJaro\t  Jaro-Winkler\n",
      "target    :\t15770\t0.74856\t  0.85000\n",
      "pred_relu :\t15770\t0.76865\t  0.86000\n",
      "pred_tanh :\t15770\t0.75854\t  0.86000\n",
      "pred_elu  :\t15770\t0.76204\t  0.86000\n",
      "pred_leaky:\t15770\t0.76865\t  0.86000\n"
     ]
    }
   ],
   "source": [
    "print(\"Similarity and Distance Metrics\\n\" \\\n",
    "      f\"     Between {attribute[0].capitalize()} and {attribute[1].capitalize()}\")\n",
    "print(\"*\" * 46)\n",
    "print(\"Function\\tLev.\\tJaro\\t  Jaro-Winkler\")\n",
    "for i, f in enumerate(features):\n",
    "    print(f\"{f:10s}:\\t{lev.distance(Astr[i], Bstr[i])}\\t\" \\\n",
    "          f\"{dist.get_jaro_distance(Astr[i], Bstr[i], winkler=False):7.5f}\\t\" \\\n",
    "          f\"{dist.get_jaro_distance(Astr[i], Bstr[i], winkler=True):9.5f}\")\n",
    "    "
   ]
  },
  {
   "cell_type": "markdown",
   "id": "7a6bb892",
   "metadata": {},
   "source": [
    "# Distribution Tests"
   ]
  },
  {
   "cell_type": "markdown",
   "id": "83b936eb",
   "metadata": {},
   "source": [
    "Test results for shape of distribution"
   ]
  },
  {
   "cell_type": "code",
   "execution_count": 82,
   "id": "d58ba341",
   "metadata": {},
   "outputs": [],
   "source": [
    "from scipy.stats import binom, chisquare, kstest"
   ]
  },
  {
   "cell_type": "code",
   "execution_count": 83,
   "id": "bddeadce",
   "metadata": {},
   "outputs": [
    {
     "name": "stdout",
     "output_type": "stream",
     "text": [
      "Binom  - target    :       0.94520    0.00  X\n",
      "Norm   - target    :       0.50000    0.00\n",
      "Chi^2  - target    :       0.00000    1.00  same as actual\n",
      "\n",
      "Binom  - pred_relu :       1.00000    0.00  X\n",
      "Norm   - pred_relu :       0.50000    0.00\n",
      "Chi^2  - pred_relu :    1626.00000    0.00\n",
      "\n",
      "Binom  - pred_tanh :       0.97136    0.00  X\n",
      "Norm   - pred_tanh :       0.50000    0.00\n",
      "Chi^2  - pred_tanh :     243.20517    0.00\n",
      "\n",
      "Binom  - pred_elu  :       0.98069    0.00  X\n",
      "Norm   - pred_elu  :       0.50000    0.00\n",
      "Chi^2  - pred_elu  :     504.23329    0.00\n",
      "\n",
      "Binom  - pred_leaky:       1.00000    0.00  X\n",
      "Norm   - pred_leaky:       0.50000    0.00\n",
      "Chi^2  - pred_leaky:    1626.00000    0.00\n",
      "\n"
     ]
    }
   ],
   "source": [
    "for f in features:\n",
    "    test = data[f]\n",
    "\n",
    "    x = test.values\n",
    "    n = test.sum()\n",
    "    p = n / test.shape[0]\n",
    "\n",
    "    stat, pval = kstest(rvs=x, cdf=binom.cdf(x, n, p))\n",
    "    print(f\"Binom  - {test.name:10}:{stat:14.5f}{pval:8.2f}\", end=\"\")\n",
    "    if stat > 0.5:\n",
    "        print(\"  X\")\n",
    "    else:\n",
    "        print()\n",
    "\n",
    "    stat, pval = kstest(rvs=x, cdf='norm')\n",
    "    print(f\"Norm   - {test.name:10}:{stat:14.5f}{pval:8.2f}\", end=\"\")    \n",
    "    if stat > 0.5:\n",
    "        print(\"  X\")\n",
    "    else:\n",
    "        print()\n",
    "    \n",
    "    freqB = data.target.sum()\n",
    "    stat, pval = chisquare([n, freqB])\n",
    "    print(f\"Chi^2  - {test.name:10}:{stat:14.5f}{pval:8.2f}\", end=\"\")\n",
    "    if pval > stat:\n",
    "        print(\"  same as actual\\n\")\n",
    "    else:\n",
    "        print(\"\\n\")"
   ]
  },
  {
   "cell_type": "code",
   "execution_count": null,
   "id": "5c4c8dad",
   "metadata": {},
   "outputs": [],
   "source": []
  }
 ],
 "metadata": {
  "kernelspec": {
   "display_name": "Python 3",
   "language": "python",
   "name": "python3"
  },
  "language_info": {
   "codemirror_mode": {
    "name": "ipython",
    "version": 3
   },
   "file_extension": ".py",
   "mimetype": "text/x-python",
   "name": "python",
   "nbconvert_exporter": "python",
   "pygments_lexer": "ipython3",
   "version": "3.9.7"
  }
 },
 "nbformat": 4,
 "nbformat_minor": 5
}
