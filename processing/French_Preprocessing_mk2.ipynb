{
 "cells": [
  {
   "cell_type": "markdown",
   "id": "0778557f",
   "metadata": {},
   "source": [
    "# Pre-process French C2C Data - mk2"
   ]
  },
  {
   "cell_type": "markdown",
   "id": "b6e464ad",
   "metadata": {},
   "source": [
    "#### 16 May 2022"
   ]
  },
  {
   "cell_type": "markdown",
   "id": "8952b9f9",
   "metadata": {},
   "source": [
    "This notebook annotates the preprocessing of a dataset to ensure quality data while attempting to minimize injected technical bias. No data has been imputed. Two versions will result: one with explicit one-hot-encoding for categorical variables and one without."
   ]
  },
  {
   "cell_type": "markdown",
   "id": "28791e92",
   "metadata": {},
   "source": [
    "## Import Libraries"
   ]
  },
  {
   "cell_type": "code",
   "execution_count": 1,
   "id": "8bcd4327",
   "metadata": {},
   "outputs": [],
   "source": [
    "import numpy as np\n",
    "import pandas as pd\n",
    "import os"
   ]
  },
  {
   "cell_type": "code",
   "execution_count": 2,
   "id": "d8fa971a",
   "metadata": {},
   "outputs": [],
   "source": [
    "pd.set_option('display.max_rows',500)"
   ]
  },
  {
   "cell_type": "markdown",
   "id": "53c22d5e",
   "metadata": {},
   "source": [
    "### Versions"
   ]
  },
  {
   "cell_type": "code",
   "execution_count": 1,
   "id": "3e86ea4a",
   "metadata": {},
   "outputs": [
    {
     "name": "stdout",
     "output_type": "stream",
     "text": [
      "*** Versions ***\n"
     ]
    },
    {
     "ename": "NameError",
     "evalue": "name 'np' is not defined",
     "output_type": "error",
     "traceback": [
      "\u001b[0;31m---------------------------------------------------------------------------\u001b[0m",
      "\u001b[0;31mNameError\u001b[0m                                 Traceback (most recent call last)",
      "Input \u001b[0;32mIn [1]\u001b[0m, in \u001b[0;36m<module>\u001b[0;34m\u001b[0m\n\u001b[1;32m      1\u001b[0m \u001b[38;5;28mprint\u001b[39m(\u001b[38;5;124m\"\u001b[39m\u001b[38;5;124m*** Versions ***\u001b[39m\u001b[38;5;124m\"\u001b[39m)\n\u001b[0;32m----> 2\u001b[0m \u001b[38;5;28mprint\u001b[39m(\u001b[38;5;124m\"\u001b[39m\u001b[38;5;124mnumpy:\u001b[39m\u001b[38;5;130;01m\\t\u001b[39;00m\u001b[38;5;130;01m\\t\u001b[39;00m\u001b[38;5;124m\"\u001b[39m, \u001b[43mnp\u001b[49m\u001b[38;5;241m.\u001b[39m__version__)\n\u001b[1;32m      3\u001b[0m \u001b[38;5;28mprint\u001b[39m(\u001b[38;5;124m\"\u001b[39m\u001b[38;5;124mpandas:\u001b[39m\u001b[38;5;130;01m\\t\u001b[39;00m\u001b[38;5;130;01m\\t\u001b[39;00m\u001b[38;5;124m\"\u001b[39m, pd\u001b[38;5;241m.\u001b[39m__version__)\n\u001b[1;32m      4\u001b[0m \u001b[38;5;28mprint\u001b[39m()\n",
      "\u001b[0;31mNameError\u001b[0m: name 'np' is not defined"
     ]
    }
   ],
   "source": [
    "print(\"*** Versions ***\")\n",
    "print(\"numpy:\\t\\t\", np.__version__)\n",
    "print(\"pandas:\\t\\t\", pd.__version__)"
   ]
  },
  {
   "cell_type": "markdown",
   "id": "e5ca6ec6",
   "metadata": {},
   "source": [
    "## Import Data"
   ]
  },
  {
   "cell_type": "code",
   "execution_count": 4,
   "id": "178f0d73",
   "metadata": {},
   "outputs": [],
   "source": [
    "data = pd.read_csv(\"frenchC2C.csv\")"
   ]
  },
  {
   "cell_type": "markdown",
   "id": "657c0f9d",
   "metadata": {},
   "source": [
    "This dataset is from a C2C (consumer-to-consumer) e-commerce store. It was scraped from the Vestiaire Collective website, an international second-hand (or \"pre-loved\") fashion app which begian in Europe in 2009. It has since expanded to over nine million registered users around the world."
   ]
  },
  {
   "cell_type": "markdown",
   "id": "5df03bd4",
   "metadata": {},
   "source": [
    "The data consists of 98913 samples with 24 features. The target variable, *productsBought*, is an integer with range from \\[0,$\\infty$\\). It has no missing values."
   ]
  },
  {
   "cell_type": "markdown",
   "id": "41ba2299",
   "metadata": {},
   "source": [
    "## Custom Functions"
   ]
  },
  {
   "cell_type": "markdown",
   "id": "867bcd63",
   "metadata": {},
   "source": [
    "#### Save to persistent storage"
   ]
  },
  {
   "cell_type": "code",
   "execution_count": null,
   "id": "2a532cad",
   "metadata": {},
   "outputs": [],
   "source": [
    "def custom_save(name, data, kind=1):\n",
    "    '''\n",
    "    name : string\n",
    "        designated filename\n",
    "    data : data or pytorch model\n",
    "        the data to save\n",
    "    kind : int\n",
    "        sentinel value - 1 if pytorch model, 0 otherwise\n",
    "    \n",
    "    custom_save stores the data passed into the function into a file with the provided name\n",
    "    '''\n",
    "    \n",
    "    if kind == 1:\n",
    "        ex = \".pth\"\n",
    "    else:\n",
    "        ex = \".parquet\"\n",
    "    \n",
    "    sentinel = True\n",
    "    i = 1\n",
    "\n",
    "    while sentinel:\n",
    "        dirlist = os.listdir()\n",
    "\n",
    "        if name not in dirlist:\n",
    "            if kind == 1:\n",
    "                torch.save(data, name)\n",
    "            else:\n",
    "                data.to_parquet(name)\n",
    "            print(f\"{name} has been saved.\")                \n",
    "            sentinel = False\n",
    "        if name in dirlist:\n",
    "            print(f\"{name} already exists.\", end=\" \")\n",
    "            temp, ext = name.split(ex)\n",
    "            if \"_v\" in temp:\n",
    "                temp, _ = temp.split(\"_v\")\n",
    "            name = f\"{temp}_v{i}{ex}\"\n",
    "            i = i + 1\n",
    "            print(f\"Changing file name to: {name}\")"
   ]
  },
  {
   "cell_type": "markdown",
   "id": "93089ff7",
   "metadata": {},
   "source": [
    "## Data Cleaning"
   ]
  },
  {
   "cell_type": "code",
   "execution_count": 5,
   "id": "1930c1f0",
   "metadata": {},
   "outputs": [
    {
     "data": {
      "text/plain": [
       "(98913, 24)"
      ]
     },
     "execution_count": 5,
     "metadata": {},
     "output_type": "execute_result"
    }
   ],
   "source": [
    "data.shape"
   ]
  },
  {
   "cell_type": "code",
   "execution_count": 6,
   "id": "d1b9cba6",
   "metadata": {},
   "outputs": [
    {
     "name": "stdout",
     "output_type": "stream",
     "text": [
      "<class 'pandas.core.frame.DataFrame'>\n",
      "RangeIndex: 98913 entries, 0 to 98912\n",
      "Data columns (total 24 columns):\n",
      " #   Column               Non-Null Count  Dtype  \n",
      "---  ------               --------------  -----  \n",
      " 0   identifierHash       98913 non-null  int64  \n",
      " 1   type                 98913 non-null  object \n",
      " 2   country              98913 non-null  object \n",
      " 3   language             98913 non-null  object \n",
      " 4   socialNbFollowers    98913 non-null  int64  \n",
      " 5   socialNbFollows      98913 non-null  int64  \n",
      " 6   socialProductsLiked  98913 non-null  int64  \n",
      " 7   productsListed       98913 non-null  int64  \n",
      " 8   productsSold         98913 non-null  int64  \n",
      " 9   productsPassRate     98913 non-null  float64\n",
      " 10  productsWished       98913 non-null  int64  \n",
      " 11  productsBought       98913 non-null  int64  \n",
      " 12  gender               98913 non-null  object \n",
      " 13  civilityGenderId     98913 non-null  int64  \n",
      " 14  civilityTitle        98913 non-null  object \n",
      " 15  hasAnyApp            98913 non-null  bool   \n",
      " 16  hasAndroidApp        98913 non-null  bool   \n",
      " 17  hasIosApp            98913 non-null  bool   \n",
      " 18  hasProfilePicture    98913 non-null  bool   \n",
      " 19  daysSinceLastLogin   98913 non-null  int64  \n",
      " 20  seniority            98913 non-null  int64  \n",
      " 21  seniorityAsMonths    98913 non-null  float64\n",
      " 22  seniorityAsYears     98913 non-null  float64\n",
      " 23  countryCode          98913 non-null  object \n",
      "dtypes: bool(4), float64(3), int64(11), object(6)\n",
      "memory usage: 15.5+ MB\n"
     ]
    }
   ],
   "source": [
    "data.info()"
   ]
  },
  {
   "cell_type": "code",
   "execution_count": 7,
   "id": "1675efa5",
   "metadata": {},
   "outputs": [
    {
     "data": {
      "text/html": [
       "<div>\n",
       "<style scoped>\n",
       "    .dataframe tbody tr th:only-of-type {\n",
       "        vertical-align: middle;\n",
       "    }\n",
       "\n",
       "    .dataframe tbody tr th {\n",
       "        vertical-align: top;\n",
       "    }\n",
       "\n",
       "    .dataframe thead th {\n",
       "        text-align: right;\n",
       "    }\n",
       "</style>\n",
       "<table border=\"1\" class=\"dataframe\">\n",
       "  <thead>\n",
       "    <tr style=\"text-align: right;\">\n",
       "      <th></th>\n",
       "      <th>identifierHash</th>\n",
       "      <th>socialNbFollowers</th>\n",
       "      <th>socialNbFollows</th>\n",
       "      <th>socialProductsLiked</th>\n",
       "      <th>productsListed</th>\n",
       "      <th>productsSold</th>\n",
       "      <th>productsPassRate</th>\n",
       "      <th>productsWished</th>\n",
       "      <th>productsBought</th>\n",
       "      <th>civilityGenderId</th>\n",
       "      <th>daysSinceLastLogin</th>\n",
       "      <th>seniority</th>\n",
       "      <th>seniorityAsMonths</th>\n",
       "      <th>seniorityAsYears</th>\n",
       "    </tr>\n",
       "  </thead>\n",
       "  <tbody>\n",
       "    <tr>\n",
       "      <th>count</th>\n",
       "      <td>9.891300e+04</td>\n",
       "      <td>98913.000000</td>\n",
       "      <td>98913.000000</td>\n",
       "      <td>98913.000000</td>\n",
       "      <td>98913.000000</td>\n",
       "      <td>98913.000000</td>\n",
       "      <td>98913.000000</td>\n",
       "      <td>98913.000000</td>\n",
       "      <td>98913.000000</td>\n",
       "      <td>98913.000000</td>\n",
       "      <td>98913.000000</td>\n",
       "      <td>98913.000000</td>\n",
       "      <td>98913.000000</td>\n",
       "      <td>98913.000000</td>\n",
       "    </tr>\n",
       "    <tr>\n",
       "      <th>mean</th>\n",
       "      <td>-6.692039e+15</td>\n",
       "      <td>3.432269</td>\n",
       "      <td>8.425677</td>\n",
       "      <td>4.420743</td>\n",
       "      <td>0.093304</td>\n",
       "      <td>0.121592</td>\n",
       "      <td>0.812303</td>\n",
       "      <td>1.562595</td>\n",
       "      <td>0.171929</td>\n",
       "      <td>1.773993</td>\n",
       "      <td>581.291236</td>\n",
       "      <td>3063.771870</td>\n",
       "      <td>102.125583</td>\n",
       "      <td>8.510424</td>\n",
       "    </tr>\n",
       "    <tr>\n",
       "      <th>std</th>\n",
       "      <td>5.330807e+18</td>\n",
       "      <td>3.882383</td>\n",
       "      <td>52.839572</td>\n",
       "      <td>181.030569</td>\n",
       "      <td>2.050144</td>\n",
       "      <td>2.126895</td>\n",
       "      <td>8.500205</td>\n",
       "      <td>25.192793</td>\n",
       "      <td>2.332266</td>\n",
       "      <td>0.428679</td>\n",
       "      <td>208.855888</td>\n",
       "      <td>168.298621</td>\n",
       "      <td>5.609735</td>\n",
       "      <td>0.467863</td>\n",
       "    </tr>\n",
       "    <tr>\n",
       "      <th>min</th>\n",
       "      <td>-9.223101e+18</td>\n",
       "      <td>3.000000</td>\n",
       "      <td>0.000000</td>\n",
       "      <td>0.000000</td>\n",
       "      <td>0.000000</td>\n",
       "      <td>0.000000</td>\n",
       "      <td>0.000000</td>\n",
       "      <td>0.000000</td>\n",
       "      <td>0.000000</td>\n",
       "      <td>1.000000</td>\n",
       "      <td>11.000000</td>\n",
       "      <td>2852.000000</td>\n",
       "      <td>95.070000</td>\n",
       "      <td>7.920000</td>\n",
       "    </tr>\n",
       "    <tr>\n",
       "      <th>25%</th>\n",
       "      <td>-4.622895e+18</td>\n",
       "      <td>3.000000</td>\n",
       "      <td>8.000000</td>\n",
       "      <td>0.000000</td>\n",
       "      <td>0.000000</td>\n",
       "      <td>0.000000</td>\n",
       "      <td>0.000000</td>\n",
       "      <td>0.000000</td>\n",
       "      <td>0.000000</td>\n",
       "      <td>2.000000</td>\n",
       "      <td>572.000000</td>\n",
       "      <td>2857.000000</td>\n",
       "      <td>95.230000</td>\n",
       "      <td>7.940000</td>\n",
       "    </tr>\n",
       "    <tr>\n",
       "      <th>50%</th>\n",
       "      <td>-1.337989e+15</td>\n",
       "      <td>3.000000</td>\n",
       "      <td>8.000000</td>\n",
       "      <td>0.000000</td>\n",
       "      <td>0.000000</td>\n",
       "      <td>0.000000</td>\n",
       "      <td>0.000000</td>\n",
       "      <td>0.000000</td>\n",
       "      <td>0.000000</td>\n",
       "      <td>2.000000</td>\n",
       "      <td>694.000000</td>\n",
       "      <td>3196.000000</td>\n",
       "      <td>106.530000</td>\n",
       "      <td>8.880000</td>\n",
       "    </tr>\n",
       "    <tr>\n",
       "      <th>75%</th>\n",
       "      <td>4.616388e+18</td>\n",
       "      <td>3.000000</td>\n",
       "      <td>8.000000</td>\n",
       "      <td>0.000000</td>\n",
       "      <td>0.000000</td>\n",
       "      <td>0.000000</td>\n",
       "      <td>0.000000</td>\n",
       "      <td>0.000000</td>\n",
       "      <td>0.000000</td>\n",
       "      <td>2.000000</td>\n",
       "      <td>702.000000</td>\n",
       "      <td>3201.000000</td>\n",
       "      <td>106.700000</td>\n",
       "      <td>8.890000</td>\n",
       "    </tr>\n",
       "    <tr>\n",
       "      <th>max</th>\n",
       "      <td>9.223331e+18</td>\n",
       "      <td>744.000000</td>\n",
       "      <td>13764.000000</td>\n",
       "      <td>51671.000000</td>\n",
       "      <td>244.000000</td>\n",
       "      <td>174.000000</td>\n",
       "      <td>100.000000</td>\n",
       "      <td>2635.000000</td>\n",
       "      <td>405.000000</td>\n",
       "      <td>3.000000</td>\n",
       "      <td>709.000000</td>\n",
       "      <td>3205.000000</td>\n",
       "      <td>106.830000</td>\n",
       "      <td>8.900000</td>\n",
       "    </tr>\n",
       "  </tbody>\n",
       "</table>\n",
       "</div>"
      ],
      "text/plain": [
       "       identifierHash  socialNbFollowers  socialNbFollows  \\\n",
       "count    9.891300e+04       98913.000000     98913.000000   \n",
       "mean    -6.692039e+15           3.432269         8.425677   \n",
       "std      5.330807e+18           3.882383        52.839572   \n",
       "min     -9.223101e+18           3.000000         0.000000   \n",
       "25%     -4.622895e+18           3.000000         8.000000   \n",
       "50%     -1.337989e+15           3.000000         8.000000   \n",
       "75%      4.616388e+18           3.000000         8.000000   \n",
       "max      9.223331e+18         744.000000     13764.000000   \n",
       "\n",
       "       socialProductsLiked  productsListed  productsSold  productsPassRate  \\\n",
       "count         98913.000000    98913.000000  98913.000000      98913.000000   \n",
       "mean              4.420743        0.093304      0.121592          0.812303   \n",
       "std             181.030569        2.050144      2.126895          8.500205   \n",
       "min               0.000000        0.000000      0.000000          0.000000   \n",
       "25%               0.000000        0.000000      0.000000          0.000000   \n",
       "50%               0.000000        0.000000      0.000000          0.000000   \n",
       "75%               0.000000        0.000000      0.000000          0.000000   \n",
       "max           51671.000000      244.000000    174.000000        100.000000   \n",
       "\n",
       "       productsWished  productsBought  civilityGenderId  daysSinceLastLogin  \\\n",
       "count    98913.000000    98913.000000      98913.000000        98913.000000   \n",
       "mean         1.562595        0.171929          1.773993          581.291236   \n",
       "std         25.192793        2.332266          0.428679          208.855888   \n",
       "min          0.000000        0.000000          1.000000           11.000000   \n",
       "25%          0.000000        0.000000          2.000000          572.000000   \n",
       "50%          0.000000        0.000000          2.000000          694.000000   \n",
       "75%          0.000000        0.000000          2.000000          702.000000   \n",
       "max       2635.000000      405.000000          3.000000          709.000000   \n",
       "\n",
       "          seniority  seniorityAsMonths  seniorityAsYears  \n",
       "count  98913.000000       98913.000000      98913.000000  \n",
       "mean    3063.771870         102.125583          8.510424  \n",
       "std      168.298621           5.609735          0.467863  \n",
       "min     2852.000000          95.070000          7.920000  \n",
       "25%     2857.000000          95.230000          7.940000  \n",
       "50%     3196.000000         106.530000          8.880000  \n",
       "75%     3201.000000         106.700000          8.890000  \n",
       "max     3205.000000         106.830000          8.900000  "
      ]
     },
     "execution_count": 7,
     "metadata": {},
     "output_type": "execute_result"
    }
   ],
   "source": [
    "data.describe()"
   ]
  },
  {
   "cell_type": "markdown",
   "id": "71196d4f",
   "metadata": {},
   "source": [
    "#### Inspect values"
   ]
  },
  {
   "cell_type": "code",
   "execution_count": null,
   "id": "21227de2",
   "metadata": {},
   "outputs": [],
   "source": [
    "# if the type of column is \"object\", then display what its values are\n",
    "for c in data.columns:\n",
    "    if data[c].dtype == object:\n",
    "        print(f\"{c}: {data[c].dtype}\")\n",
    "        print(data[c].unique())\n",
    "        print()"
   ]
  },
  {
   "cell_type": "markdown",
   "id": "27cd768c",
   "metadata": {},
   "source": [
    "#### identifierHash, type"
   ]
  },
  {
   "cell_type": "code",
   "execution_count": 8,
   "id": "74f01d8e",
   "metadata": {},
   "outputs": [
    {
     "data": {
      "text/plain": [
       "identifierHash         98913\n",
       "type                       1\n",
       "country                  200\n",
       "language                   5\n",
       "socialNbFollowers         90\n",
       "socialNbFollows           85\n",
       "socialProductsLiked      420\n",
       "productsListed            65\n",
       "productsSold              75\n",
       "productsPassRate          72\n",
       "productsWished           279\n",
       "productsBought            70\n",
       "gender                     2\n",
       "civilityGenderId           3\n",
       "civilityTitle              3\n",
       "hasAnyApp                  2\n",
       "hasAndroidApp              2\n",
       "hasIosApp                  2\n",
       "hasProfilePicture          2\n",
       "daysSinceLastLogin       699\n",
       "seniority                 19\n",
       "seniorityAsMonths         19\n",
       "seniorityAsYears           6\n",
       "countryCode              199\n",
       "dtype: int64"
      ]
     },
     "execution_count": 8,
     "metadata": {},
     "output_type": "execute_result"
    }
   ],
   "source": [
    "data.nunique()"
   ]
  },
  {
   "cell_type": "markdown",
   "id": "cb4ce24e",
   "metadata": {},
   "source": [
    "##### Actions\n",
    "1) *type* is singular, providing no information gain. conversely, *identifierHash* values are unique for each sample.\n",
    "<ul>- drop <i>type</i>, replace <i>identifierHash</i> with a simpler, serialized row count as id number</ul>"
   ]
  },
  {
   "cell_type": "code",
   "execution_count": 9,
   "id": "0825e7c7",
   "metadata": {},
   "outputs": [],
   "source": [
    "data.drop(['identifierHash', 'type'], axis=1, inplace=True)"
   ]
  },
  {
   "cell_type": "markdown",
   "id": "71a1d0e0",
   "metadata": {},
   "source": [
    "#### Gender, civilityTitle, civilityIGenderId"
   ]
  },
  {
   "cell_type": "code",
   "execution_count": 10,
   "id": "b3c15a27",
   "metadata": {},
   "outputs": [
    {
     "data": {
      "text/plain": [
       "array([1, 2, 3])"
      ]
     },
     "execution_count": 10,
     "metadata": {},
     "output_type": "execute_result"
    }
   ],
   "source": [
    "data.civilityGenderId.unique()"
   ]
  },
  {
   "cell_type": "code",
   "execution_count": 11,
   "id": "4ec7331c",
   "metadata": {},
   "outputs": [
    {
     "data": {
      "text/plain": [
       "array(['mr', 'mrs', 'miss'], dtype=object)"
      ]
     },
     "execution_count": 11,
     "metadata": {},
     "output_type": "execute_result"
    }
   ],
   "source": [
    "data.civilityTitle.unique()"
   ]
  },
  {
   "cell_type": "code",
   "execution_count": 12,
   "id": "8204b13f",
   "metadata": {},
   "outputs": [
    {
     "data": {
      "text/plain": [
       "array(['M', 'F'], dtype=object)"
      ]
     },
     "execution_count": 12,
     "metadata": {},
     "output_type": "execute_result"
    }
   ],
   "source": [
    "data.gender.unique()"
   ]
  },
  {
   "cell_type": "code",
   "execution_count": 13,
   "id": "fecf2448",
   "metadata": {},
   "outputs": [
    {
     "data": {
      "text/html": [
       "<div>\n",
       "<style scoped>\n",
       "    .dataframe tbody tr th:only-of-type {\n",
       "        vertical-align: middle;\n",
       "    }\n",
       "\n",
       "    .dataframe tbody tr th {\n",
       "        vertical-align: top;\n",
       "    }\n",
       "\n",
       "    .dataframe thead th {\n",
       "        text-align: right;\n",
       "    }\n",
       "</style>\n",
       "<table border=\"1\" class=\"dataframe\">\n",
       "  <thead>\n",
       "    <tr style=\"text-align: right;\">\n",
       "      <th></th>\n",
       "      <th>gender</th>\n",
       "      <th>civilityTitle</th>\n",
       "      <th>civilityGenderId</th>\n",
       "    </tr>\n",
       "  </thead>\n",
       "  <tbody>\n",
       "    <tr>\n",
       "      <th>0</th>\n",
       "      <td>M</td>\n",
       "      <td>mr</td>\n",
       "      <td>1</td>\n",
       "    </tr>\n",
       "    <tr>\n",
       "      <th>1</th>\n",
       "      <td>F</td>\n",
       "      <td>mrs</td>\n",
       "      <td>2</td>\n",
       "    </tr>\n",
       "    <tr>\n",
       "      <th>2</th>\n",
       "      <td>F</td>\n",
       "      <td>mrs</td>\n",
       "      <td>2</td>\n",
       "    </tr>\n",
       "    <tr>\n",
       "      <th>3</th>\n",
       "      <td>F</td>\n",
       "      <td>mrs</td>\n",
       "      <td>2</td>\n",
       "    </tr>\n",
       "    <tr>\n",
       "      <th>4</th>\n",
       "      <td>F</td>\n",
       "      <td>mrs</td>\n",
       "      <td>2</td>\n",
       "    </tr>\n",
       "    <tr>\n",
       "      <th>5</th>\n",
       "      <td>F</td>\n",
       "      <td>mrs</td>\n",
       "      <td>2</td>\n",
       "    </tr>\n",
       "    <tr>\n",
       "      <th>6</th>\n",
       "      <td>F</td>\n",
       "      <td>miss</td>\n",
       "      <td>3</td>\n",
       "    </tr>\n",
       "    <tr>\n",
       "      <th>7</th>\n",
       "      <td>F</td>\n",
       "      <td>mrs</td>\n",
       "      <td>2</td>\n",
       "    </tr>\n",
       "    <tr>\n",
       "      <th>8</th>\n",
       "      <td>F</td>\n",
       "      <td>mrs</td>\n",
       "      <td>2</td>\n",
       "    </tr>\n",
       "    <tr>\n",
       "      <th>9</th>\n",
       "      <td>F</td>\n",
       "      <td>miss</td>\n",
       "      <td>3</td>\n",
       "    </tr>\n",
       "  </tbody>\n",
       "</table>\n",
       "</div>"
      ],
      "text/plain": [
       "  gender civilityTitle  civilityGenderId\n",
       "0      M            mr                 1\n",
       "1      F           mrs                 2\n",
       "2      F           mrs                 2\n",
       "3      F           mrs                 2\n",
       "4      F           mrs                 2\n",
       "5      F           mrs                 2\n",
       "6      F          miss                 3\n",
       "7      F           mrs                 2\n",
       "8      F           mrs                 2\n",
       "9      F          miss                 3"
      ]
     },
     "execution_count": 13,
     "metadata": {},
     "output_type": "execute_result"
    }
   ],
   "source": [
    "data[['gender','civilityTitle','civilityGenderId']].head(10)"
   ]
  },
  {
   "cell_type": "markdown",
   "id": "86427104",
   "metadata": {},
   "source": [
    "##### Actions\n",
    "2) *civilityGenderId* and *civlityTitle* represent the same data. *civilityGenderId* captures female marital status. However, the usage of \"miss\"/\"mademoiselle\" vs \"mrs\"/\"madame\" is contingent on location, age, and culture of user.\n",
    "<ul>- drop <i>civilityTitle</i> </ul>\n",
    "<ul>- rename <i>civilityGenderId</i> name to <i>civGen</i>"
   ]
  },
  {
   "cell_type": "code",
   "execution_count": 14,
   "id": "8ee1ba88",
   "metadata": {},
   "outputs": [],
   "source": [
    "data.drop('civilityTitle', axis=1, inplace=True)"
   ]
  },
  {
   "cell_type": "code",
   "execution_count": 15,
   "id": "f526dc94",
   "metadata": {},
   "outputs": [],
   "source": [
    "data.rename(columns={'civilityGenderId':'civGen'}, inplace=True)"
   ]
  },
  {
   "cell_type": "markdown",
   "id": "39d771e8",
   "metadata": {},
   "source": [
    "#### Country"
   ]
  },
  {
   "cell_type": "code",
   "execution_count": 16,
   "id": "a08285cd",
   "metadata": {},
   "outputs": [
    {
     "data": {
      "text/plain": [
       "array(['en', 'fr', 'de', 'it', 'es'], dtype=object)"
      ]
     },
     "execution_count": 16,
     "metadata": {},
     "output_type": "execute_result"
    }
   ],
   "source": [
    "data.language.unique()"
   ]
  },
  {
   "cell_type": "code",
   "execution_count": 17,
   "id": "30cd842d",
   "metadata": {
    "scrolled": true
   },
   "outputs": [
    {
     "data": {
      "text/plain": [
       "array(['Royaume-Uni', 'Monaco', 'France', 'Etats-Unis', 'Allemagne',\n",
       "       'Suède', 'Italie', 'Espagne', 'Croatie', 'Lettonie', 'Taiwan',\n",
       "       'Bulgarie', 'Chypre', 'Luxembourg', 'Roumanie', 'Pays-Bas',\n",
       "       'Slovaquie', 'Hong Kong', 'Autriche', 'Belgique', 'Suisse',\n",
       "       'Australie', 'Pologne', 'Grèce', 'Portugal', 'Russie', 'Finlande',\n",
       "       'Slovénie', 'Danemark', 'Serbie', 'Irlande', 'Canada', 'Singapour',\n",
       "       'Ukraine', 'Lituanie', 'Chine', 'Japon', 'Estonie', 'Islande',\n",
       "       'Kazakhstan', 'Bahamas', 'Îles Canaries', 'Guam', 'Malaisie',\n",
       "       'Brunei Darussalam', 'Viet Nam', 'Hongrie', 'Émirats arabes unis',\n",
       "       'Bahreïn', 'Macau', 'Honduras', 'Arabie Saoudite', 'Brésil',\n",
       "       'Norvège', 'Liban', 'Cambodge', 'Inde', 'Mexique', 'Corée du Sud',\n",
       "       'Kiribati', 'République tchèque', 'Nouvelle Zélande', 'Egypte',\n",
       "       'Puerto Rico', 'Albanie', 'Guadeloupe', 'Laos', 'Turquie',\n",
       "       'Paraguay', 'Maroc', 'Nigeria', 'Colombie', 'Myanmar',\n",
       "       'Afghanistan', 'Gabon', 'Érythrée', 'Philippines', 'Arménie',\n",
       "       'Mongolie', 'Tunisie', 'Antigua et Barbuda', 'Algérie', 'Chili',\n",
       "       'Qatar', 'Réunion', 'Îles Vierges britanniques', 'Jersey',\n",
       "       'Indonésie', 'Thailande', 'Moldavie', 'Namibie', \"Cote D'Ivoire\",\n",
       "       'Guinée', 'Géorgie', 'Jordanie', 'Afrique du Sud', 'Benin',\n",
       "       'Kowait', 'Martinique', 'Angola', 'Bermude', 'Zimbabwe',\n",
       "       'Azerbaïdjan', 'Israel', 'Équateur', 'Argentine', 'Malte',\n",
       "       'Burkina Faso', 'Samoa américaines', 'Venezuela', 'Costa Rica',\n",
       "       'Bosnie et Herzegovine', 'Vanuatu', 'Pérou',\n",
       "       'République dominicaine', 'Guernsey', 'Guyane', 'Barbade',\n",
       "       'Pakistan', 'Congo', 'Madagascar', 'Djibouti', 'Sénégal', 'Panama',\n",
       "       'Trinidad et Tobago', 'Rwanda', 'Le Salvador', 'Mali', 'Niger',\n",
       "       'Cameroun', 'Nouvelle Calédonie', 'Iles Cayman', 'Sri Lanka',\n",
       "       'Bolivie', 'Polynésie Française', 'Ouganda', 'Togo',\n",
       "       'Svalbard et Jan Mayen Islands', 'Tajikistan', 'Cuba', 'Guatemala',\n",
       "       'Anguilla', 'Îles Turques-et-Caïques ', 'Kenya', 'Jamaique',\n",
       "       'Biélorussie', 'Oman', 'Tanzanie', 'Belize',\n",
       "       'République centrafricaine', 'Bangladesh', 'Aruba', 'Iran',\n",
       "       'Syrie', 'Saint Vincent et les Grenadines', 'Gibraltar',\n",
       "       'Géorgie du Sud / Iles Sandwich', 'Ghana', 'Nepal', 'Grenade',\n",
       "       'Éthiopie', 'Île Bouvet', 'Botswana', 'Maldives', 'Îles Féroé',\n",
       "       'Liechtenstein', 'Chad', 'Andorre', 'Gambie', 'Sainte Lucie',\n",
       "       'Uruguay', 'Irak', 'Maurice', 'Nicaragua', 'St Barthélémy',\n",
       "       'Macédoine', 'Îles Vierges (U.S.)',\n",
       "       'Iles mineures éloignées des États-Unis', 'Fidji', 'Corée du Nord',\n",
       "       'Île Norfolk', 'Kirghizistan', 'Haiti', 'Antilles néerlandaises',\n",
       "       'Îles Malouines', 'Zaire', 'Palau', 'Zambie', 'Dominique',\n",
       "       'Mauritanie', 'Libye', 'Suriname', 'Uzbekistan', 'Guyana',\n",
       "       'Antarctique', 'Samoa', 'Mayotte', 'Saint Kitts et Nevis',\n",
       "       'Swaziland', 'Île de Man'], dtype=object)"
      ]
     },
     "execution_count": 17,
     "metadata": {},
     "output_type": "execute_result"
    }
   ],
   "source": [
    "data.country.unique()"
   ]
  },
  {
   "cell_type": "code",
   "execution_count": 18,
   "id": "a7776cac",
   "metadata": {
    "scrolled": true
   },
   "outputs": [
    {
     "data": {
      "text/plain": [
       "array(['gb', 'mc', 'fr', 'us', 'de', 'se', 'it', 'es', 'hr', 'lv', 'tw',\n",
       "       'bg', 'cy', 'lu', 'ro', 'nl', 'sk', 'hk', 'at', 'be', 'ch', 'au',\n",
       "       'pl', 'gr', 'pt', 'ru', 'fi', 'si', 'dk', 'rs', 'ie', 'ca', 'sg',\n",
       "       'ua', 'lt', 'cn', 'jp', 'ee', 'is', 'kz', 'bs', 'ic', 'gu', 'my',\n",
       "       'bn', 'vn', 'hu', 'ae', 'bh', 'mo', 'hn', 'sa', 'br', 'no', 'lb',\n",
       "       'kh', 'in', 'mx', 'kr', 'ki', 'cz', 'nz', 'eg', 'pr', 'al', 'gp',\n",
       "       'la', 'tr', 'py', 'ma', 'ng', 'co', 'mm', 'af', 'ga', 'er', 'ph',\n",
       "       'am', 'mn', 'tn', 'ag', 'dz', 'cl', 'qa', 're', 'vg', 'je', 'id',\n",
       "       'th', 'md', 'na', 'ci', 'gn', 'ge', 'jo', 'za', 'bj', 'kw', 'mq',\n",
       "       'ao', 'bm', 'zw', 'az', 'il', 'ec', 'ar', 'mt', 'bf', 'as', 've',\n",
       "       'cr', 'ba', 'vu', 'pe', 'do', 'gg', 'gy', 'bb', 'pk', 'cg', 'mg',\n",
       "       'dj', 'sn', 'pa', 'tt', 'rw', 'sv', 'ml', 'ne', 'cm', 'nc', 'ky',\n",
       "       'lk', 'bo', 'pf', 'ug', 'tg', 'sj', 'tj', 'cu', 'gt', 'ai', 'tc',\n",
       "       'ke', 'jm', 'by', 'om', 'tz', 'bz', 'cf', 'bd', 'aw', 'ir', 'sy',\n",
       "       'vc', 'gi', 'gs', 'gh', 'np', 'gd', 'et', 'bv', 'bw', 'mv', 'fo',\n",
       "       'li', 'td', 'ad', 'gm', 'lc', 'uy', 'iq', 'mu', 'ni', 'bl', 'mk',\n",
       "       'vi', 'um', 'fj', 'kp', 'nf', 'kg', 'ht', 'an', 'fk', 'cd', 'pw',\n",
       "       'zm', 'dm', 'mr', 'ly', 'sr', 'uz', 'aq', 'ws', 'yt', 'kn', 'sz',\n",
       "       'im'], dtype=object)"
      ]
     },
     "execution_count": 18,
     "metadata": {},
     "output_type": "execute_result"
    }
   ],
   "source": [
    "data.countryCode.unique()"
   ]
  },
  {
   "cell_type": "markdown",
   "id": "7207dc0b",
   "metadata": {},
   "source": [
    "##### Note\n",
    "There are 200 countries and 199 country codes. Search for possible error. Most likely, a country is either mispelled or has an alternate spelling. Compare country codes to country names to find the outlier."
   ]
  },
  {
   "cell_type": "code",
   "execution_count": 19,
   "id": "f0366f3a",
   "metadata": {
    "scrolled": true
   },
   "outputs": [
    {
     "data": {
      "text/plain": [
       "country                                 countryCode\n",
       "Afghanistan                             af                10\n",
       "Afrique du Sud                          za                83\n",
       "Albanie                                 al                37\n",
       "Algérie                                 dz                76\n",
       "Allemagne                               de              6567\n",
       "Andorre                                 ad                 9\n",
       "Angola                                  ao                 6\n",
       "Anguilla                                ai                 2\n",
       "Antarctique                             aq                 1\n",
       "Antigua et Barbuda                      ag                 3\n",
       "Antilles néerlandaises                  an                 1\n",
       "Arabie Saoudite                         sa               143\n",
       "Argentine                               ar                39\n",
       "Arménie                                 am                16\n",
       "Aruba                                   aw                 3\n",
       "Australie                               au              2719\n",
       "Autriche                                at               624\n",
       "Azerbaïdjan                             az                22\n",
       "Bahamas                                 bs                 3\n",
       "Bahreïn                                 bh                25\n",
       "Bangladesh                              bd                 9\n",
       "Barbade                                 bb                 3\n",
       "Belgique                                be              1666\n",
       "Belize                                  bz                 4\n",
       "Benin                                   bj                 6\n",
       "Bermude                                 bm                 7\n",
       "Biélorussie                             by                10\n",
       "Bolivie                                 bo                 4\n",
       "Bosnie et Herzegovine                   ba                14\n",
       "Botswana                                bw                 2\n",
       "Brunei Darussalam                       bn                12\n",
       "Brésil                                  br                95\n",
       "Bulgarie                                bg                82\n",
       "Burkina Faso                            bf                 3\n",
       "Cambodge                                kh                23\n",
       "Cameroun                                cm                20\n",
       "Canada                                  ca              1577\n",
       "Chad                                    td                 1\n",
       "Chili                                   cl                49\n",
       "Chine                                   cn               428\n",
       "Chypre                                  cy                55\n",
       "Colombie                                co                50\n",
       "Congo                                   cg                21\n",
       "Corée du Nord                           kp                 1\n",
       "Corée du Sud                            kr               138\n",
       "Costa Rica                              cr                 8\n",
       "Cote D'Ivoire                           ci                30\n",
       "Croatie                                 hr               116\n",
       "Cuba                                    cu                 2\n",
       "Danemark                                dk              1892\n",
       "Djibouti                                dj                 6\n",
       "Dominique                               dm                 2\n",
       "Egypte                                  eg                28\n",
       "Espagne                                 es              5706\n",
       "Estonie                                 ee                33\n",
       "Etats-Unis                              us             20602\n",
       "Fidji                                   fj                 4\n",
       "Finlande                                fi               661\n",
       "France                                  fr             25135\n",
       "Gabon                                   ga                11\n",
       "Gambie                                  gm                 2\n",
       "Ghana                                   gh                 4\n",
       "Gibraltar                               gi                 1\n",
       "Grenade                                 gd                 2\n",
       "Grèce                                   gr               229\n",
       "Guadeloupe                              gp                38\n",
       "Guam                                    gu                 2\n",
       "Guatemala                               gt                 4\n",
       "Guernsey                                gg                 3\n",
       "Guinée                                  gn                 5\n",
       "Guyana                                  gy                 1\n",
       "Guyane                                  gy                14\n",
       "Géorgie                                 ge                23\n",
       "Géorgie du Sud / Iles Sandwich          gs                 1\n",
       "Haiti                                   ht                 2\n",
       "Honduras                                hn                 8\n",
       "Hong Kong                               hk               854\n",
       "Hongrie                                 hu                60\n",
       "Iles Cayman                             ky                 3\n",
       "Iles mineures éloignées des États-Unis  um                 1\n",
       "Inde                                    in               157\n",
       "Indonésie                               id                75\n",
       "Irak                                    iq                 8\n",
       "Iran                                    ir                12\n",
       "Irlande                                 ie               452\n",
       "Islande                                 is                25\n",
       "Israel                                  il               105\n",
       "Italie                                  it              8015\n",
       "Jamaique                                jm                 2\n",
       "Japon                                   jp               165\n",
       "Jersey                                  je                10\n",
       "Jordanie                                jo                17\n",
       "Kazakhstan                              kz                34\n",
       "Kenya                                   ke                11\n",
       "Kirghizistan                            kg                 4\n",
       "Kiribati                                ki                 3\n",
       "Kowait                                  kw                77\n",
       "Laos                                    la                 3\n",
       "Le Salvador                             sv                 3\n",
       "Lettonie                                lv                48\n",
       "Liban                                   lb                36\n",
       "Libye                                   ly                 1\n",
       "Liechtenstein                           li                 3\n",
       "Lituanie                                lt                40\n",
       "Luxembourg                              lu               111\n",
       "Macau                                   mo                16\n",
       "Macédoine                               mk                 8\n",
       "Madagascar                              mg                10\n",
       "Malaisie                                my               119\n",
       "Maldives                                mv                 3\n",
       "Mali                                    ml                 5\n",
       "Malte                                   mt                26\n",
       "Maroc                                   ma               167\n",
       "Martinique                              mq                31\n",
       "Maurice                                 mu                 5\n",
       "Mauritanie                              mr                 2\n",
       "Mayotte                                 yt                 1\n",
       "Mexique                                 mx               191\n",
       "Moldavie                                md                20\n",
       "Monaco                                  mc                36\n",
       "Mongolie                                mn                12\n",
       "Myanmar                                 mm                11\n",
       "Namibie                                 na                 2\n",
       "Nepal                                   np                 1\n",
       "Nicaragua                               ni                 3\n",
       "Niger                                   ne                 1\n",
       "Nigeria                                 ng                32\n",
       "Norvège                                 no               178\n",
       "Nouvelle Calédonie                      nc                13\n",
       "Nouvelle Zélande                        nz               113\n",
       "Oman                                    om                 9\n",
       "Ouganda                                 ug                 4\n",
       "Pakistan                                pk                17\n",
       "Palau                                   pw                 1\n",
       "Panama                                  pa                12\n",
       "Paraguay                                py                 4\n",
       "Pays-Bas                                nl              1529\n",
       "Philippines                             ph                98\n",
       "Pologne                                 pl               193\n",
       "Polynésie Française                     pf                 8\n",
       "Portugal                                pt               212\n",
       "Puerto Rico                             pr                19\n",
       "Pérou                                   pe                26\n",
       "Qatar                                   qa                47\n",
       "Roumanie                                ro               329\n",
       "Royaume-Uni                             gb             11310\n",
       "Russie                                  ru               490\n",
       "Rwanda                                  rw                 1\n",
       "République centrafricaine               cf                 1\n",
       "République dominicaine                  do                10\n",
       "République tchèque                      cz                56\n",
       "Réunion                                 re                51\n",
       "Saint Kitts et Nevis                    kn                 1\n",
       "Saint Vincent et les Grenadines         vc                 1\n",
       "Sainte Lucie                            lc                 1\n",
       "Samoa                                   ws                 1\n",
       "Samoa américaines                       as                 9\n",
       "Serbie                                  rs                54\n",
       "Singapour                               sg               260\n",
       "Slovaquie                               sk                54\n",
       "Slovénie                                si                28\n",
       "Sri Lanka                               lk                 1\n",
       "St Barthélémy                           bl                 1\n",
       "Suisse                                  ch               859\n",
       "Suriname                                sr                 1\n",
       "Suède                                   se              1826\n",
       "Svalbard et Jan Mayen Islands           sj                 1\n",
       "Swaziland                               sz                 1\n",
       "Syrie                                   sy                 2\n",
       "Sénégal                                 sn                15\n",
       "Taiwan                                  tw               133\n",
       "Tajikistan                              tj                 4\n",
       "Tanzanie                                tz                 5\n",
       "Thailande                               th                78\n",
       "Togo                                    tg                 3\n",
       "Trinidad et Tobago                      tt                 5\n",
       "Tunisie                                 tn                85\n",
       "Turquie                                 tr               105\n",
       "Ukraine                                 ua               110\n",
       "Uruguay                                 uy                 4\n",
       "Uzbekistan                              uz                 2\n",
       "Vanuatu                                 vu                 1\n",
       "Venezuela                               ve                14\n",
       "Viet Nam                                vn                64\n",
       "Zaire                                   cd                 1\n",
       "Zambie                                  zm                 1\n",
       "Zimbabwe                                zw                 5\n",
       "Émirats arabes unis                     ae               131\n",
       "Équateur                                ec                13\n",
       "Érythrée                                er                 1\n",
       "Éthiopie                                et                 1\n",
       "Île Bouvet                              bv                 3\n",
       "Île Norfolk                             nf                 1\n",
       "Île de Man                              im                 1\n",
       "Îles Canaries                           ic                 2\n",
       "Îles Féroé                              fo                 2\n",
       "Îles Malouines                          fk                 1\n",
       "Îles Turques-et-Caïques                 tc                 3\n",
       "Îles Vierges (U.S.)                     vi                 3\n",
       "Îles Vierges britanniques               vg                 3\n",
       "Name: countryCode, dtype: int64"
      ]
     },
     "execution_count": 19,
     "metadata": {},
     "output_type": "execute_result"
    }
   ],
   "source": [
    "# group dataset by country and country code for comparison\n",
    "\n",
    "df= data.groupby(['country','countryCode'])['countryCode'].count()\n",
    "df"
   ]
  },
  {
   "cell_type": "code",
   "execution_count": 20,
   "id": "26519a78",
   "metadata": {},
   "outputs": [
    {
     "name": "stdout",
     "output_type": "stream",
     "text": [
      "Mismatch :1\t14\n",
      "\t('Guyana', 'gy')\n",
      "\t('Guyane', 'gy')\n"
     ]
    }
   ],
   "source": [
    "# search for duplicate country code and display the associated country names\n",
    "\n",
    "for i in range(0, len(df)-1):\n",
    "    if (df.index[i][1] == df.index[i+1][1]):\n",
    "        print(f\"Mismatch :{df[i]}\\t{df[i+1]}\")\n",
    "        print(f\"\\t{df.index[i]}\")\n",
    "        print(f\"\\t{df.index[i+1]}\")\n",
    "        "
   ]
  },
  {
   "cell_type": "markdown",
   "id": "b782f1ec",
   "metadata": {},
   "source": [
    "##### Actions\n",
    "3) Guyana and Guyane are the same country. As such, having both *country* and *countryCode* is redundant; they express the same feature. *countryCode* is kept for human readability\n",
    "<ul>- drop <i>country</i></ul>\n",
    "4) clean up data space\n",
    "<ul>- delete intermediary dataframe <i>df</i></ul>"
   ]
  },
  {
   "cell_type": "code",
   "execution_count": 21,
   "id": "ecfa600e",
   "metadata": {},
   "outputs": [],
   "source": [
    "del df\n",
    "data.drop('country', axis=1, inplace=True)"
   ]
  },
  {
   "cell_type": "markdown",
   "id": "d54b088f",
   "metadata": {},
   "source": [
    "#### seniority, seniorityAsMonths, seniorityAsYears"
   ]
  },
  {
   "cell_type": "code",
   "execution_count": 22,
   "id": "98e69e8e",
   "metadata": {},
   "outputs": [
    {
     "data": {
      "text/plain": [
       "language                 5\n",
       "socialNbFollowers       90\n",
       "socialNbFollows         85\n",
       "socialProductsLiked    420\n",
       "productsListed          65\n",
       "productsSold            75\n",
       "productsPassRate        72\n",
       "productsWished         279\n",
       "productsBought          70\n",
       "gender                   2\n",
       "civGen                   3\n",
       "hasAnyApp                2\n",
       "hasAndroidApp            2\n",
       "hasIosApp                2\n",
       "hasProfilePicture        2\n",
       "daysSinceLastLogin     699\n",
       "seniority               19\n",
       "seniorityAsMonths       19\n",
       "seniorityAsYears         6\n",
       "countryCode            199\n",
       "dtype: int64"
      ]
     },
     "execution_count": 22,
     "metadata": {},
     "output_type": "execute_result"
    }
   ],
   "source": [
    "data.nunique()"
   ]
  },
  {
   "cell_type": "code",
   "execution_count": 23,
   "id": "1727f34b",
   "metadata": {},
   "outputs": [
    {
     "data": {
      "text/plain": [
       "array([3196, 3204, 3203, 3198, 2854, 2857, 3195, 2856, 2855, 2859, 2853,\n",
       "       2858, 3205, 3202, 3197, 3200, 3201, 3199, 2852])"
      ]
     },
     "execution_count": 23,
     "metadata": {},
     "output_type": "execute_result"
    }
   ],
   "source": [
    "s = data.seniority.unique()\n",
    "s"
   ]
  },
  {
   "cell_type": "code",
   "execution_count": 24,
   "id": "4da8ca44",
   "metadata": {},
   "outputs": [
    {
     "data": {
      "text/plain": [
       "array([106.53, 106.8 , 106.77, 106.6 ,  95.13,  95.23, 106.5 ,  95.2 ,\n",
       "        95.17,  95.3 ,  95.1 ,  95.27, 106.83, 106.73, 106.57, 106.67,\n",
       "       106.7 , 106.63,  95.07])"
      ]
     },
     "execution_count": 24,
     "metadata": {},
     "output_type": "execute_result"
    }
   ],
   "source": [
    "m = data.seniorityAsMonths.unique()\n",
    "m"
   ]
  },
  {
   "cell_type": "code",
   "execution_count": 25,
   "id": "ce4bf46d",
   "metadata": {},
   "outputs": [
    {
     "data": {
      "text/plain": [
       "array([8.88, 8.9 , 7.93, 7.94, 7.92, 8.89])"
      ]
     },
     "execution_count": 25,
     "metadata": {},
     "output_type": "execute_result"
    }
   ],
   "source": [
    "y = data.seniorityAsYears.unique()\n",
    "y"
   ]
  },
  {
   "cell_type": "code",
   "execution_count": 26,
   "id": "52db2549",
   "metadata": {
    "scrolled": true
   },
   "outputs": [
    {
     "data": {
      "text/plain": [
       "array([7.92, 7.93, 7.94, 8.88, 8.89, 8.9 ])"
      ]
     },
     "execution_count": 26,
     "metadata": {},
     "output_type": "execute_result"
    }
   ],
   "source": [
    "np.unique(np.round(data.seniorityAsMonths.unique()/12,2))"
   ]
  },
  {
   "cell_type": "code",
   "execution_count": 27,
   "id": "6dfa8e93",
   "metadata": {},
   "outputs": [
    {
     "data": {
      "text/plain": [
       "[(3196, 106.53),\n",
       " (3204, 106.8),\n",
       " (3203, 106.77),\n",
       " (3198, 106.6),\n",
       " (2854, 95.13),\n",
       " (2857, 95.23),\n",
       " (3195, 106.5),\n",
       " (2856, 95.2),\n",
       " (2855, 95.17),\n",
       " (2859, 95.3),\n",
       " (2853, 95.1),\n",
       " (2858, 95.27),\n",
       " (3205, 106.83),\n",
       " (3202, 106.73),\n",
       " (3197, 106.57),\n",
       " (3200, 106.67),\n",
       " (3201, 106.7),\n",
       " (3199, 106.63),\n",
       " (2852, 95.07)]"
      ]
     },
     "execution_count": 27,
     "metadata": {},
     "output_type": "execute_result"
    }
   ],
   "source": [
    "# display the seniority and seniorityAsMonths side by side\n",
    "list(zip(s,m))"
   ]
  },
  {
   "cell_type": "code",
   "execution_count": 28,
   "id": "7474d025",
   "metadata": {},
   "outputs": [
    {
     "data": {
      "text/plain": [
       "array([30., 30., 30., 30., 30., 30., 30., 30., 30., 30., 30., 30., 30.,\n",
       "       30., 30., 30., 30., 30., 30.])"
      ]
     },
     "execution_count": 28,
     "metadata": {},
     "output_type": "execute_result"
    }
   ],
   "source": [
    "np.round(s/m)"
   ]
  },
  {
   "cell_type": "markdown",
   "id": "7419c9fc",
   "metadata": {},
   "source": [
    "##### Actions\n",
    "5) *seniorityAsYears* is derived/derivable directly from *seniorityAsMonths*. Remove *seniorityAsYears* for redundancy.\n",
    "\n",
    "6) *seniority* = round(*seniorityAsMonths* * 30), displaying seniority an **int** value. Remove *seniority* for redundancy\n",
    "<ul> -remove <i>seniorityAsYears</i> and <i>seniority</i></ul>\n",
    "7) clean data space\n",
    "<ul>- delete s, m, y variables </ul>"
   ]
  },
  {
   "cell_type": "code",
   "execution_count": 29,
   "id": "744850f2",
   "metadata": {},
   "outputs": [],
   "source": [
    "data.drop(['seniority','seniorityAsYears'], axis=1, inplace=True)"
   ]
  },
  {
   "cell_type": "code",
   "execution_count": 30,
   "id": "3afcfbae",
   "metadata": {},
   "outputs": [],
   "source": [
    "del s, m, y"
   ]
  },
  {
   "cell_type": "markdown",
   "id": "787017bc",
   "metadata": {},
   "source": [
    "#### productsBought"
   ]
  },
  {
   "cell_type": "code",
   "execution_count": 31,
   "id": "aac67b32",
   "metadata": {},
   "outputs": [
    {
     "data": {
      "text/plain": [
       "70"
      ]
     },
     "execution_count": 31,
     "metadata": {},
     "output_type": "execute_result"
    }
   ],
   "source": [
    "data.productsBought.nunique()"
   ]
  },
  {
   "cell_type": "code",
   "execution_count": 32,
   "id": "f4476b33",
   "metadata": {},
   "outputs": [
    {
     "data": {
      "text/plain": [
       "array([  1,   0,   3, 105,   2,  36,  32,  14, 115,   6,   8,  69,  12,\n",
       "         9,   5,  80,  13,  20,   7,   4,  54,  11,  48,  31,  28,  16,\n",
       "       279,  30,  37,  10, 174,  33,  23,  65,  40,  25,  27,  41,  53,\n",
       "        19,  22,  18,  85,  15,  24,  58,  17,  38,  21,  74,  47,  57,\n",
       "        67, 405,  77,  70,  81,  66,  52,  50,  35,  73,  87,  44,  39,\n",
       "        93,  51,  26,  34,  55])"
      ]
     },
     "execution_count": 32,
     "metadata": {},
     "output_type": "execute_result"
    }
   ],
   "source": [
    "data.productsBought.unique()"
   ]
  },
  {
   "cell_type": "markdown",
   "id": "39dc1d38",
   "metadata": {},
   "source": [
    "*productsBought* is the target variable. We aim to predict whether a purchase will occur, not how many purchases. As such, we will engineer a feature, *target*, to capture the binary values of \"not purchased\"/\"purchased\" associated with *productsBought* in the boolean set \\{0,1\\}"
   ]
  },
  {
   "cell_type": "code",
   "execution_count": 33,
   "id": "1a067906",
   "metadata": {},
   "outputs": [
    {
     "data": {
      "text/plain": [
       "2          3\n",
       "6        105\n",
       "9          2\n",
       "12        36\n",
       "16        32\n",
       "        ... \n",
       "98199      7\n",
       "98213      2\n",
       "98469      4\n",
       "98794      2\n",
       "98898      5\n",
       "Name: productsBought, Length: 2122, dtype: int64"
      ]
     },
     "execution_count": 33,
     "metadata": {},
     "output_type": "execute_result"
    }
   ],
   "source": [
    "data[data.productsBought > 1].productsBought"
   ]
  },
  {
   "cell_type": "markdown",
   "id": "a4a54432",
   "metadata": {},
   "source": [
    "##### Action\n",
    "8) create *target*. It will be a boolean mask for purchases. If there is more than 0 purchases, it will be marked as 1, else as 0"
   ]
  },
  {
   "cell_type": "code",
   "execution_count": 34,
   "id": "f9e79a0a",
   "metadata": {},
   "outputs": [],
   "source": [
    "data['target'] = data.productsBought.apply(lambda x: x > 0).astype(int)"
   ]
  },
  {
   "cell_type": "code",
   "execution_count": 35,
   "id": "ba8a62f8",
   "metadata": {},
   "outputs": [
    {
     "data": {
      "text/html": [
       "<div>\n",
       "<style scoped>\n",
       "    .dataframe tbody tr th:only-of-type {\n",
       "        vertical-align: middle;\n",
       "    }\n",
       "\n",
       "    .dataframe tbody tr th {\n",
       "        vertical-align: top;\n",
       "    }\n",
       "\n",
       "    .dataframe thead th {\n",
       "        text-align: right;\n",
       "    }\n",
       "</style>\n",
       "<table border=\"1\" class=\"dataframe\">\n",
       "  <thead>\n",
       "    <tr style=\"text-align: right;\">\n",
       "      <th></th>\n",
       "      <th>productsBought</th>\n",
       "      <th>target</th>\n",
       "    </tr>\n",
       "  </thead>\n",
       "  <tbody>\n",
       "    <tr>\n",
       "      <th>0</th>\n",
       "      <td>1</td>\n",
       "      <td>1</td>\n",
       "    </tr>\n",
       "    <tr>\n",
       "      <th>1</th>\n",
       "      <td>0</td>\n",
       "      <td>0</td>\n",
       "    </tr>\n",
       "    <tr>\n",
       "      <th>2</th>\n",
       "      <td>3</td>\n",
       "      <td>1</td>\n",
       "    </tr>\n",
       "    <tr>\n",
       "      <th>3</th>\n",
       "      <td>0</td>\n",
       "      <td>0</td>\n",
       "    </tr>\n",
       "    <tr>\n",
       "      <th>4</th>\n",
       "      <td>0</td>\n",
       "      <td>0</td>\n",
       "    </tr>\n",
       "    <tr>\n",
       "      <th>5</th>\n",
       "      <td>0</td>\n",
       "      <td>0</td>\n",
       "    </tr>\n",
       "    <tr>\n",
       "      <th>6</th>\n",
       "      <td>105</td>\n",
       "      <td>1</td>\n",
       "    </tr>\n",
       "    <tr>\n",
       "      <th>7</th>\n",
       "      <td>0</td>\n",
       "      <td>0</td>\n",
       "    </tr>\n",
       "    <tr>\n",
       "      <th>8</th>\n",
       "      <td>0</td>\n",
       "      <td>0</td>\n",
       "    </tr>\n",
       "    <tr>\n",
       "      <th>9</th>\n",
       "      <td>2</td>\n",
       "      <td>1</td>\n",
       "    </tr>\n",
       "    <tr>\n",
       "      <th>10</th>\n",
       "      <td>0</td>\n",
       "      <td>0</td>\n",
       "    </tr>\n",
       "    <tr>\n",
       "      <th>11</th>\n",
       "      <td>0</td>\n",
       "      <td>0</td>\n",
       "    </tr>\n",
       "    <tr>\n",
       "      <th>12</th>\n",
       "      <td>36</td>\n",
       "      <td>1</td>\n",
       "    </tr>\n",
       "    <tr>\n",
       "      <th>13</th>\n",
       "      <td>0</td>\n",
       "      <td>0</td>\n",
       "    </tr>\n",
       "    <tr>\n",
       "      <th>14</th>\n",
       "      <td>0</td>\n",
       "      <td>0</td>\n",
       "    </tr>\n",
       "    <tr>\n",
       "      <th>15</th>\n",
       "      <td>0</td>\n",
       "      <td>0</td>\n",
       "    </tr>\n",
       "    <tr>\n",
       "      <th>16</th>\n",
       "      <td>32</td>\n",
       "      <td>1</td>\n",
       "    </tr>\n",
       "    <tr>\n",
       "      <th>17</th>\n",
       "      <td>0</td>\n",
       "      <td>0</td>\n",
       "    </tr>\n",
       "    <tr>\n",
       "      <th>18</th>\n",
       "      <td>0</td>\n",
       "      <td>0</td>\n",
       "    </tr>\n",
       "    <tr>\n",
       "      <th>19</th>\n",
       "      <td>0</td>\n",
       "      <td>0</td>\n",
       "    </tr>\n",
       "  </tbody>\n",
       "</table>\n",
       "</div>"
      ],
      "text/plain": [
       "    productsBought  target\n",
       "0                1       1\n",
       "1                0       0\n",
       "2                3       1\n",
       "3                0       0\n",
       "4                0       0\n",
       "5                0       0\n",
       "6              105       1\n",
       "7                0       0\n",
       "8                0       0\n",
       "9                2       1\n",
       "10               0       0\n",
       "11               0       0\n",
       "12              36       1\n",
       "13               0       0\n",
       "14               0       0\n",
       "15               0       0\n",
       "16              32       1\n",
       "17               0       0\n",
       "18               0       0\n",
       "19               0       0"
      ]
     },
     "execution_count": 35,
     "metadata": {},
     "output_type": "execute_result"
    }
   ],
   "source": [
    "data[['productsBought','target']].head(20)"
   ]
  },
  {
   "cell_type": "markdown",
   "id": "b7af893f",
   "metadata": {},
   "source": [
    "### Save one-hot-encoded dataset"
   ]
  },
  {
   "cell_type": "code",
   "execution_count": 37,
   "id": "0a5169c2",
   "metadata": {},
   "outputs": [
    {
     "data": {
      "text/plain": [
       "['language',\n",
       " 'socialNbFollowers',\n",
       " 'socialNbFollows',\n",
       " 'socialProductsLiked',\n",
       " 'productsListed',\n",
       " 'productsSold',\n",
       " 'productsPassRate',\n",
       " 'productsWished',\n",
       " 'productsBought',\n",
       " 'gender',\n",
       " 'civGen',\n",
       " 'hasAnyApp',\n",
       " 'hasAndroidApp',\n",
       " 'hasIosApp',\n",
       " 'hasProfilePicture',\n",
       " 'daysSinceLastLogin',\n",
       " 'seniorityAsMonths',\n",
       " 'countryCode',\n",
       " 'target']"
      ]
     },
     "execution_count": 37,
     "metadata": {},
     "output_type": "execute_result"
    }
   ],
   "source": [
    "data.columns.to_list()"
   ]
  },
  {
   "cell_type": "code",
   "execution_count": 38,
   "id": "276013bc",
   "metadata": {},
   "outputs": [],
   "source": [
    "df = pd.get_dummies(data, columns=['civGen','gender','countryCode','language'])"
   ]
  },
  {
   "cell_type": "code",
   "execution_count": 39,
   "id": "b7f0ccb5",
   "metadata": {},
   "outputs": [
    {
     "data": {
      "text/plain": [
       "['socialNbFollowers',\n",
       " 'socialNbFollows',\n",
       " 'socialProductsLiked',\n",
       " 'productsListed',\n",
       " 'productsSold',\n",
       " 'productsPassRate',\n",
       " 'productsWished',\n",
       " 'productsBought',\n",
       " 'hasAnyApp',\n",
       " 'hasAndroidApp',\n",
       " 'hasIosApp',\n",
       " 'hasProfilePicture',\n",
       " 'daysSinceLastLogin',\n",
       " 'seniorityAsMonths',\n",
       " 'target',\n",
       " 'civGen_1',\n",
       " 'civGen_2',\n",
       " 'civGen_3',\n",
       " 'gender_F',\n",
       " 'gender_M',\n",
       " 'countryCode_ad',\n",
       " 'countryCode_ae',\n",
       " 'countryCode_af',\n",
       " 'countryCode_ag',\n",
       " 'countryCode_ai',\n",
       " 'countryCode_al',\n",
       " 'countryCode_am',\n",
       " 'countryCode_an',\n",
       " 'countryCode_ao',\n",
       " 'countryCode_aq',\n",
       " 'countryCode_ar',\n",
       " 'countryCode_as',\n",
       " 'countryCode_at',\n",
       " 'countryCode_au',\n",
       " 'countryCode_aw',\n",
       " 'countryCode_az',\n",
       " 'countryCode_ba',\n",
       " 'countryCode_bb',\n",
       " 'countryCode_bd',\n",
       " 'countryCode_be',\n",
       " 'countryCode_bf',\n",
       " 'countryCode_bg',\n",
       " 'countryCode_bh',\n",
       " 'countryCode_bj',\n",
       " 'countryCode_bl',\n",
       " 'countryCode_bm',\n",
       " 'countryCode_bn',\n",
       " 'countryCode_bo',\n",
       " 'countryCode_br',\n",
       " 'countryCode_bs',\n",
       " 'countryCode_bv',\n",
       " 'countryCode_bw',\n",
       " 'countryCode_by',\n",
       " 'countryCode_bz',\n",
       " 'countryCode_ca',\n",
       " 'countryCode_cd',\n",
       " 'countryCode_cf',\n",
       " 'countryCode_cg',\n",
       " 'countryCode_ch',\n",
       " 'countryCode_ci',\n",
       " 'countryCode_cl',\n",
       " 'countryCode_cm',\n",
       " 'countryCode_cn',\n",
       " 'countryCode_co',\n",
       " 'countryCode_cr',\n",
       " 'countryCode_cu',\n",
       " 'countryCode_cy',\n",
       " 'countryCode_cz',\n",
       " 'countryCode_de',\n",
       " 'countryCode_dj',\n",
       " 'countryCode_dk',\n",
       " 'countryCode_dm',\n",
       " 'countryCode_do',\n",
       " 'countryCode_dz',\n",
       " 'countryCode_ec',\n",
       " 'countryCode_ee',\n",
       " 'countryCode_eg',\n",
       " 'countryCode_er',\n",
       " 'countryCode_es',\n",
       " 'countryCode_et',\n",
       " 'countryCode_fi',\n",
       " 'countryCode_fj',\n",
       " 'countryCode_fk',\n",
       " 'countryCode_fo',\n",
       " 'countryCode_fr',\n",
       " 'countryCode_ga',\n",
       " 'countryCode_gb',\n",
       " 'countryCode_gd',\n",
       " 'countryCode_ge',\n",
       " 'countryCode_gg',\n",
       " 'countryCode_gh',\n",
       " 'countryCode_gi',\n",
       " 'countryCode_gm',\n",
       " 'countryCode_gn',\n",
       " 'countryCode_gp',\n",
       " 'countryCode_gr',\n",
       " 'countryCode_gs',\n",
       " 'countryCode_gt',\n",
       " 'countryCode_gu',\n",
       " 'countryCode_gy',\n",
       " 'countryCode_hk',\n",
       " 'countryCode_hn',\n",
       " 'countryCode_hr',\n",
       " 'countryCode_ht',\n",
       " 'countryCode_hu',\n",
       " 'countryCode_ic',\n",
       " 'countryCode_id',\n",
       " 'countryCode_ie',\n",
       " 'countryCode_il',\n",
       " 'countryCode_im',\n",
       " 'countryCode_in',\n",
       " 'countryCode_iq',\n",
       " 'countryCode_ir',\n",
       " 'countryCode_is',\n",
       " 'countryCode_it',\n",
       " 'countryCode_je',\n",
       " 'countryCode_jm',\n",
       " 'countryCode_jo',\n",
       " 'countryCode_jp',\n",
       " 'countryCode_ke',\n",
       " 'countryCode_kg',\n",
       " 'countryCode_kh',\n",
       " 'countryCode_ki',\n",
       " 'countryCode_kn',\n",
       " 'countryCode_kp',\n",
       " 'countryCode_kr',\n",
       " 'countryCode_kw',\n",
       " 'countryCode_ky',\n",
       " 'countryCode_kz',\n",
       " 'countryCode_la',\n",
       " 'countryCode_lb',\n",
       " 'countryCode_lc',\n",
       " 'countryCode_li',\n",
       " 'countryCode_lk',\n",
       " 'countryCode_lt',\n",
       " 'countryCode_lu',\n",
       " 'countryCode_lv',\n",
       " 'countryCode_ly',\n",
       " 'countryCode_ma',\n",
       " 'countryCode_mc',\n",
       " 'countryCode_md',\n",
       " 'countryCode_mg',\n",
       " 'countryCode_mk',\n",
       " 'countryCode_ml',\n",
       " 'countryCode_mm',\n",
       " 'countryCode_mn',\n",
       " 'countryCode_mo',\n",
       " 'countryCode_mq',\n",
       " 'countryCode_mr',\n",
       " 'countryCode_mt',\n",
       " 'countryCode_mu',\n",
       " 'countryCode_mv',\n",
       " 'countryCode_mx',\n",
       " 'countryCode_my',\n",
       " 'countryCode_na',\n",
       " 'countryCode_nc',\n",
       " 'countryCode_ne',\n",
       " 'countryCode_nf',\n",
       " 'countryCode_ng',\n",
       " 'countryCode_ni',\n",
       " 'countryCode_nl',\n",
       " 'countryCode_no',\n",
       " 'countryCode_np',\n",
       " 'countryCode_nz',\n",
       " 'countryCode_om',\n",
       " 'countryCode_pa',\n",
       " 'countryCode_pe',\n",
       " 'countryCode_pf',\n",
       " 'countryCode_ph',\n",
       " 'countryCode_pk',\n",
       " 'countryCode_pl',\n",
       " 'countryCode_pr',\n",
       " 'countryCode_pt',\n",
       " 'countryCode_pw',\n",
       " 'countryCode_py',\n",
       " 'countryCode_qa',\n",
       " 'countryCode_re',\n",
       " 'countryCode_ro',\n",
       " 'countryCode_rs',\n",
       " 'countryCode_ru',\n",
       " 'countryCode_rw',\n",
       " 'countryCode_sa',\n",
       " 'countryCode_se',\n",
       " 'countryCode_sg',\n",
       " 'countryCode_si',\n",
       " 'countryCode_sj',\n",
       " 'countryCode_sk',\n",
       " 'countryCode_sn',\n",
       " 'countryCode_sr',\n",
       " 'countryCode_sv',\n",
       " 'countryCode_sy',\n",
       " 'countryCode_sz',\n",
       " 'countryCode_tc',\n",
       " 'countryCode_td',\n",
       " 'countryCode_tg',\n",
       " 'countryCode_th',\n",
       " 'countryCode_tj',\n",
       " 'countryCode_tn',\n",
       " 'countryCode_tr',\n",
       " 'countryCode_tt',\n",
       " 'countryCode_tw',\n",
       " 'countryCode_tz',\n",
       " 'countryCode_ua',\n",
       " 'countryCode_ug',\n",
       " 'countryCode_um',\n",
       " 'countryCode_us',\n",
       " 'countryCode_uy',\n",
       " 'countryCode_uz',\n",
       " 'countryCode_vc',\n",
       " 'countryCode_ve',\n",
       " 'countryCode_vg',\n",
       " 'countryCode_vi',\n",
       " 'countryCode_vn',\n",
       " 'countryCode_vu',\n",
       " 'countryCode_ws',\n",
       " 'countryCode_yt',\n",
       " 'countryCode_za',\n",
       " 'countryCode_zm',\n",
       " 'countryCode_zw',\n",
       " 'language_de',\n",
       " 'language_en',\n",
       " 'language_es',\n",
       " 'language_fr',\n",
       " 'language_it']"
      ]
     },
     "execution_count": 39,
     "metadata": {},
     "output_type": "execute_result"
    }
   ],
   "source": [
    "df.columns.to_list()"
   ]
  },
  {
   "cell_type": "code",
   "execution_count": null,
   "id": "ade4bb04",
   "metadata": {},
   "outputs": [],
   "source": [
    "name = \"french.parquet\"\n",
    "custom_save(name, df, 0)"
   ]
  }
 ],
 "metadata": {
  "kernelspec": {
   "display_name": "Python 3 (ipykernel)",
   "language": "python",
   "name": "python3"
  },
  "language_info": {
   "codemirror_mode": {
    "name": "ipython",
    "version": 3
   },
   "file_extension": ".py",
   "mimetype": "text/x-python",
   "name": "python",
   "nbconvert_exporter": "python",
   "pygments_lexer": "ipython3",
   "version": "3.8.10"
  }
 },
 "nbformat": 4,
 "nbformat_minor": 5
}
